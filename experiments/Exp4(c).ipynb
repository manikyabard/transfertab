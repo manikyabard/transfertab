{
 "cells": [
  {
   "cell_type": "code",
   "execution_count": 1,
   "metadata": {},
   "outputs": [],
   "source": [
    "from fastai.tabular.all import *\n",
    "from transfertab.utils import *\n",
    "from transfertab.transfer import *\n",
    "from transfertab.extract import *\n",
    "from fastcore.xtras import *\n",
    "from fastai.learner import *\n",
    "import torch\n",
    "import numpy as np\n",
    "from fastai.interpret import *"
   ]
  },
  {
   "cell_type": "code",
   "execution_count": 2,
   "metadata": {},
   "outputs": [],
   "source": [
    "import pandas as pd\n",
    "df = pd.read_csv(\"../data/bank-additional-full.csv\", delimiter=';')"
   ]
  },
  {
   "cell_type": "code",
   "execution_count": 3,
   "metadata": {},
   "outputs": [],
   "source": [
    "import wandb\n",
    "from fastai.callback.wandb import *"
   ]
  },
  {
   "cell_type": "code",
   "execution_count": 4,
   "metadata": {},
   "outputs": [
    {
     "data": {
      "text/plain": [
       "(41188, 21)"
      ]
     },
     "execution_count": 4,
     "metadata": {},
     "output_type": "execute_result"
    }
   ],
   "source": [
    "df.shape"
   ]
  },
  {
   "cell_type": "code",
   "execution_count": 5,
   "metadata": {},
   "outputs": [
    {
     "data": {
      "text/plain": [
       "28831.6"
      ]
     },
     "execution_count": 5,
     "metadata": {},
     "output_type": "execute_result"
    }
   ],
   "source": [
    "41188 * 0.7"
   ]
  },
  {
   "cell_type": "code",
   "execution_count": 6,
   "metadata": {},
   "outputs": [],
   "source": [
    "dfA = df.iloc[0:28831]\n",
    "dfB = df.iloc[28831:-1]"
   ]
  },
  {
   "cell_type": "code",
   "execution_count": 7,
   "metadata": {},
   "outputs": [
    {
     "data": {
      "text/plain": [
       "Index(['age', 'job', 'marital', 'education', 'default', 'housing', 'loan',\n",
       "       'contact', 'month', 'day_of_week', 'duration', 'campaign', 'pdays',\n",
       "       'previous', 'poutcome', 'emp.var.rate', 'cons.price.idx',\n",
       "       'cons.conf.idx', 'euribor3m', 'nr.employed', 'y'],\n",
       "      dtype='object')"
      ]
     },
     "execution_count": 7,
     "metadata": {},
     "output_type": "execute_result"
    }
   ],
   "source": [
    "dfA.columns"
   ]
  },
  {
   "cell_type": "code",
   "execution_count": 8,
   "metadata": {},
   "outputs": [],
   "source": [
    "contcols = ['age', 'duration', 'campaign', 'pdays',\n",
    "       'previous', 'emp.var.rate', 'cons.price.idx',\n",
    "       'cons.conf.idx', 'euribor3m', 'nr.employed']\n",
    "catcols = ['job', 'marital', 'education', 'default', 'housing', 'loan','contact', \n",
    "\t'month', 'day_of_week','poutcome']\n",
    "target = 'y'"
   ]
  },
  {
   "cell_type": "code",
   "execution_count": 10,
   "metadata": {},
   "outputs": [],
   "source": [
    "splitsA = RandomSplitter(valid_pct=0.2)(range_of(dfA))\n",
    "toA = TabularPandas(dfA, procs=[Categorify, FillMissing, Normalize],\n",
    "                   cat_names=catcols,\n",
    "                   cont_names=contcols,\n",
    "                   y_names=target,\n",
    "                   splits=splitsA)\n",
    "dlsA = toA.dataloaders(bs=512)\n",
    "rocaucbin = RocAucBinary()\n",
    "learnA = tabular_learner(dlsA, metrics=[rocaucbin, accuracy])"
   ]
  },
  {
   "cell_type": "code",
   "execution_count": 11,
   "metadata": {},
   "outputs": [
    {
     "name": "stderr",
     "output_type": "stream",
     "text": [
      "Failed to detect the name of this notebook, you can set it manually with the WANDB_NOTEBOOK_NAME environment variable to enable code saving.\n",
      "\u001b[34m\u001b[1mwandb\u001b[0m: Currently logged in as: \u001b[33mmanikya\u001b[0m (use `wandb login --relogin` to force relogin)\n",
      "\u001b[34m\u001b[1mwandb\u001b[0m: wandb version 0.12.6 is available!  To upgrade, please run:\n",
      "\u001b[34m\u001b[1mwandb\u001b[0m:  $ pip install wandb --upgrade\n"
     ]
    },
    {
     "data": {
      "text/html": [
       "\n",
       "                Tracking run with wandb version 0.10.32<br/>\n",
       "                Syncing run <strong style=\"color:#cdcd00\">modelA training</strong> to <a href=\"https://wandb.ai\" target=\"_blank\">Weights & Biases</a> <a href=\"https://docs.wandb.com/integrations/jupyter.html\" target=\"_blank\">(Documentation)</a>.<br/>\n",
       "                Project page: <a href=\"https://wandb.ai/transfertab/Experiments\" target=\"_blank\">https://wandb.ai/transfertab/Experiments</a><br/>\n",
       "                Run page: <a href=\"https://wandb.ai/transfertab/Experiments/runs/1siad487\" target=\"_blank\">https://wandb.ai/transfertab/Experiments/runs/1siad487</a><br/>\n",
       "                Run data is saved locally in <code>/Users/manikyabardhan/Documents/github/transfertab/results/exp4c-v2/wandb/run-20211101_083800-1siad487</code><br/><br/>\n",
       "            "
      ],
      "text/plain": [
       "<IPython.core.display.HTML object>"
      ]
     },
     "metadata": {},
     "output_type": "display_data"
    },
    {
     "data": {
      "text/html": [
       "<h1>Run(1siad487)</h1><iframe src=\"https://wandb.ai/transfertab/Experiments/runs/1siad487\" style=\"border:none;width:100%;height:400px\"></iframe>"
      ],
      "text/plain": [
       "<wandb.sdk.wandb_run.Run at 0x7ff9f7d7b700>"
      ]
     },
     "execution_count": 11,
     "metadata": {},
     "output_type": "execute_result"
    }
   ],
   "source": [
    "wandb.init(\n",
    "    project='Experiments', \n",
    "    save_code=True, \n",
    "    group='Exp4c v2', \n",
    "    job_type='pretrain', \n",
    "    tags=['base', 'bank', 'modelA'], \n",
    "    name='modelA training',\n",
    "    notes=\"Training modelA from which we'll take embeddings\",\n",
    "    reinit=True,\n",
    "    dir='/Users/manikyabardhan/Documents/github/transfertab/results/exp4c-v2',\n",
    "    entity='transfertab'\n",
    ")"
   ]
  },
  {
   "cell_type": "code",
   "execution_count": 12,
   "metadata": {},
   "outputs": [
    {
     "data": {
      "text/html": [
       "<table border=\"1\" class=\"dataframe\">\n",
       "  <thead>\n",
       "    <tr style=\"text-align: left;\">\n",
       "      <th>epoch</th>\n",
       "      <th>train_loss</th>\n",
       "      <th>valid_loss</th>\n",
       "      <th>roc_auc_score</th>\n",
       "      <th>accuracy</th>\n",
       "      <th>time</th>\n",
       "    </tr>\n",
       "  </thead>\n",
       "  <tbody>\n",
       "    <tr>\n",
       "      <td>0</td>\n",
       "      <td>0.742446</td>\n",
       "      <td>0.676085</td>\n",
       "      <td>0.901483</td>\n",
       "      <td>0.733611</td>\n",
       "      <td>00:02</td>\n",
       "    </tr>\n",
       "    <tr>\n",
       "      <td>1</td>\n",
       "      <td>0.721670</td>\n",
       "      <td>0.685274</td>\n",
       "      <td>0.940751</td>\n",
       "      <td>0.802116</td>\n",
       "      <td>00:06</td>\n",
       "    </tr>\n",
       "    <tr>\n",
       "      <td>2</td>\n",
       "      <td>0.700482</td>\n",
       "      <td>0.660726</td>\n",
       "      <td>0.936917</td>\n",
       "      <td>0.869754</td>\n",
       "      <td>00:06</td>\n",
       "    </tr>\n",
       "    <tr>\n",
       "      <td>3</td>\n",
       "      <td>0.671983</td>\n",
       "      <td>0.615222</td>\n",
       "      <td>0.950835</td>\n",
       "      <td>0.888831</td>\n",
       "      <td>00:06</td>\n",
       "    </tr>\n",
       "    <tr>\n",
       "      <td>4</td>\n",
       "      <td>0.625605</td>\n",
       "      <td>0.543329</td>\n",
       "      <td>0.952714</td>\n",
       "      <td>0.899063</td>\n",
       "      <td>00:06</td>\n",
       "    </tr>\n",
       "    <tr>\n",
       "      <td>5</td>\n",
       "      <td>0.546002</td>\n",
       "      <td>0.425536</td>\n",
       "      <td>0.925603</td>\n",
       "      <td>0.936178</td>\n",
       "      <td>00:06</td>\n",
       "    </tr>\n",
       "    <tr>\n",
       "      <td>6</td>\n",
       "      <td>0.422753</td>\n",
       "      <td>0.281234</td>\n",
       "      <td>0.918322</td>\n",
       "      <td>0.945023</td>\n",
       "      <td>00:10</td>\n",
       "    </tr>\n",
       "    <tr>\n",
       "      <td>7</td>\n",
       "      <td>0.302040</td>\n",
       "      <td>0.196519</td>\n",
       "      <td>0.888314</td>\n",
       "      <td>0.947451</td>\n",
       "      <td>00:06</td>\n",
       "    </tr>\n",
       "    <tr>\n",
       "      <td>8</td>\n",
       "      <td>0.214999</td>\n",
       "      <td>0.146657</td>\n",
       "      <td>0.934127</td>\n",
       "      <td>0.947797</td>\n",
       "      <td>00:06</td>\n",
       "    </tr>\n",
       "    <tr>\n",
       "      <td>9</td>\n",
       "      <td>0.166288</td>\n",
       "      <td>0.127942</td>\n",
       "      <td>0.949302</td>\n",
       "      <td>0.947971</td>\n",
       "      <td>00:06</td>\n",
       "    </tr>\n",
       "    <tr>\n",
       "      <td>10</td>\n",
       "      <td>0.139979</td>\n",
       "      <td>0.138055</td>\n",
       "      <td>0.914386</td>\n",
       "      <td>0.947971</td>\n",
       "      <td>00:06</td>\n",
       "    </tr>\n",
       "    <tr>\n",
       "      <td>11</td>\n",
       "      <td>0.127579</td>\n",
       "      <td>0.123222</td>\n",
       "      <td>0.948124</td>\n",
       "      <td>0.946410</td>\n",
       "      <td>00:01</td>\n",
       "    </tr>\n",
       "    <tr>\n",
       "      <td>12</td>\n",
       "      <td>0.118868</td>\n",
       "      <td>0.126295</td>\n",
       "      <td>0.946335</td>\n",
       "      <td>0.946583</td>\n",
       "      <td>00:06</td>\n",
       "    </tr>\n",
       "    <tr>\n",
       "      <td>13</td>\n",
       "      <td>0.115920</td>\n",
       "      <td>0.123844</td>\n",
       "      <td>0.952062</td>\n",
       "      <td>0.946410</td>\n",
       "      <td>00:06</td>\n",
       "    </tr>\n",
       "    <tr>\n",
       "      <td>14</td>\n",
       "      <td>0.112042</td>\n",
       "      <td>0.119435</td>\n",
       "      <td>0.950642</td>\n",
       "      <td>0.948144</td>\n",
       "      <td>00:06</td>\n",
       "    </tr>\n",
       "    <tr>\n",
       "      <td>15</td>\n",
       "      <td>0.109102</td>\n",
       "      <td>0.124263</td>\n",
       "      <td>0.950407</td>\n",
       "      <td>0.945023</td>\n",
       "      <td>00:07</td>\n",
       "    </tr>\n",
       "    <tr>\n",
       "      <td>16</td>\n",
       "      <td>0.107584</td>\n",
       "      <td>0.124478</td>\n",
       "      <td>0.934363</td>\n",
       "      <td>0.949879</td>\n",
       "      <td>00:02</td>\n",
       "    </tr>\n",
       "    <tr>\n",
       "      <td>17</td>\n",
       "      <td>0.106787</td>\n",
       "      <td>0.123867</td>\n",
       "      <td>0.948302</td>\n",
       "      <td>0.945890</td>\n",
       "      <td>00:01</td>\n",
       "    </tr>\n",
       "    <tr>\n",
       "      <td>18</td>\n",
       "      <td>0.104831</td>\n",
       "      <td>0.120430</td>\n",
       "      <td>0.951225</td>\n",
       "      <td>0.947104</td>\n",
       "      <td>00:06</td>\n",
       "    </tr>\n",
       "    <tr>\n",
       "      <td>19</td>\n",
       "      <td>0.103177</td>\n",
       "      <td>0.120644</td>\n",
       "      <td>0.950658</td>\n",
       "      <td>0.947104</td>\n",
       "      <td>00:06</td>\n",
       "    </tr>\n",
       "    <tr>\n",
       "      <td>20</td>\n",
       "      <td>0.100989</td>\n",
       "      <td>0.121526</td>\n",
       "      <td>0.952069</td>\n",
       "      <td>0.947797</td>\n",
       "      <td>00:06</td>\n",
       "    </tr>\n",
       "    <tr>\n",
       "      <td>21</td>\n",
       "      <td>0.101278</td>\n",
       "      <td>0.120946</td>\n",
       "      <td>0.952153</td>\n",
       "      <td>0.946410</td>\n",
       "      <td>00:02</td>\n",
       "    </tr>\n",
       "    <tr>\n",
       "      <td>22</td>\n",
       "      <td>0.100383</td>\n",
       "      <td>0.119791</td>\n",
       "      <td>0.952221</td>\n",
       "      <td>0.945023</td>\n",
       "      <td>00:01</td>\n",
       "    </tr>\n",
       "    <tr>\n",
       "      <td>23</td>\n",
       "      <td>0.098665</td>\n",
       "      <td>0.127096</td>\n",
       "      <td>0.948546</td>\n",
       "      <td>0.943115</td>\n",
       "      <td>00:05</td>\n",
       "    </tr>\n",
       "    <tr>\n",
       "      <td>24</td>\n",
       "      <td>0.097735</td>\n",
       "      <td>0.125222</td>\n",
       "      <td>0.946060</td>\n",
       "      <td>0.948838</td>\n",
       "      <td>00:02</td>\n",
       "    </tr>\n",
       "    <tr>\n",
       "      <td>25</td>\n",
       "      <td>0.096316</td>\n",
       "      <td>0.123181</td>\n",
       "      <td>0.951687</td>\n",
       "      <td>0.946237</td>\n",
       "      <td>00:06</td>\n",
       "    </tr>\n",
       "    <tr>\n",
       "      <td>26</td>\n",
       "      <td>0.094602</td>\n",
       "      <td>0.122731</td>\n",
       "      <td>0.949897</td>\n",
       "      <td>0.946757</td>\n",
       "      <td>00:07</td>\n",
       "    </tr>\n",
       "    <tr>\n",
       "      <td>27</td>\n",
       "      <td>0.092834</td>\n",
       "      <td>0.121625</td>\n",
       "      <td>0.952283</td>\n",
       "      <td>0.948318</td>\n",
       "      <td>00:06</td>\n",
       "    </tr>\n",
       "    <tr>\n",
       "      <td>28</td>\n",
       "      <td>0.091539</td>\n",
       "      <td>0.121895</td>\n",
       "      <td>0.952110</td>\n",
       "      <td>0.948318</td>\n",
       "      <td>00:01</td>\n",
       "    </tr>\n",
       "    <tr>\n",
       "      <td>29</td>\n",
       "      <td>0.090237</td>\n",
       "      <td>0.122350</td>\n",
       "      <td>0.951001</td>\n",
       "      <td>0.945196</td>\n",
       "      <td>00:01</td>\n",
       "    </tr>\n",
       "    <tr>\n",
       "      <td>30</td>\n",
       "      <td>0.089704</td>\n",
       "      <td>0.123925</td>\n",
       "      <td>0.951392</td>\n",
       "      <td>0.946757</td>\n",
       "      <td>00:02</td>\n",
       "    </tr>\n",
       "    <tr>\n",
       "      <td>31</td>\n",
       "      <td>0.088133</td>\n",
       "      <td>0.124658</td>\n",
       "      <td>0.949165</td>\n",
       "      <td>0.943115</td>\n",
       "      <td>00:06</td>\n",
       "    </tr>\n",
       "    <tr>\n",
       "      <td>32</td>\n",
       "      <td>0.087513</td>\n",
       "      <td>0.123645</td>\n",
       "      <td>0.950480</td>\n",
       "      <td>0.945369</td>\n",
       "      <td>00:06</td>\n",
       "    </tr>\n",
       "    <tr>\n",
       "      <td>33</td>\n",
       "      <td>0.086274</td>\n",
       "      <td>0.123924</td>\n",
       "      <td>0.950286</td>\n",
       "      <td>0.946237</td>\n",
       "      <td>00:06</td>\n",
       "    </tr>\n",
       "    <tr>\n",
       "      <td>34</td>\n",
       "      <td>0.085311</td>\n",
       "      <td>0.123360</td>\n",
       "      <td>0.950858</td>\n",
       "      <td>0.947797</td>\n",
       "      <td>00:06</td>\n",
       "    </tr>\n",
       "    <tr>\n",
       "      <td>35</td>\n",
       "      <td>0.084526</td>\n",
       "      <td>0.125127</td>\n",
       "      <td>0.949607</td>\n",
       "      <td>0.946930</td>\n",
       "      <td>00:06</td>\n",
       "    </tr>\n",
       "    <tr>\n",
       "      <td>36</td>\n",
       "      <td>0.084070</td>\n",
       "      <td>0.126798</td>\n",
       "      <td>0.948000</td>\n",
       "      <td>0.944676</td>\n",
       "      <td>00:06</td>\n",
       "    </tr>\n",
       "    <tr>\n",
       "      <td>37</td>\n",
       "      <td>0.082427</td>\n",
       "      <td>0.125071</td>\n",
       "      <td>0.948889</td>\n",
       "      <td>0.945890</td>\n",
       "      <td>00:07</td>\n",
       "    </tr>\n",
       "    <tr>\n",
       "      <td>38</td>\n",
       "      <td>0.080851</td>\n",
       "      <td>0.126445</td>\n",
       "      <td>0.948666</td>\n",
       "      <td>0.946583</td>\n",
       "      <td>00:06</td>\n",
       "    </tr>\n",
       "    <tr>\n",
       "      <td>39</td>\n",
       "      <td>0.080003</td>\n",
       "      <td>0.125524</td>\n",
       "      <td>0.950239</td>\n",
       "      <td>0.948491</td>\n",
       "      <td>00:06</td>\n",
       "    </tr>\n",
       "    <tr>\n",
       "      <td>40</td>\n",
       "      <td>0.079424</td>\n",
       "      <td>0.126035</td>\n",
       "      <td>0.949245</td>\n",
       "      <td>0.946237</td>\n",
       "      <td>00:08</td>\n",
       "    </tr>\n",
       "    <tr>\n",
       "      <td>41</td>\n",
       "      <td>0.078750</td>\n",
       "      <td>0.126719</td>\n",
       "      <td>0.949070</td>\n",
       "      <td>0.945196</td>\n",
       "      <td>00:06</td>\n",
       "    </tr>\n",
       "    <tr>\n",
       "      <td>42</td>\n",
       "      <td>0.077940</td>\n",
       "      <td>0.126753</td>\n",
       "      <td>0.948758</td>\n",
       "      <td>0.946237</td>\n",
       "      <td>00:06</td>\n",
       "    </tr>\n",
       "    <tr>\n",
       "      <td>43</td>\n",
       "      <td>0.077487</td>\n",
       "      <td>0.126400</td>\n",
       "      <td>0.949084</td>\n",
       "      <td>0.945716</td>\n",
       "      <td>00:01</td>\n",
       "    </tr>\n",
       "    <tr>\n",
       "      <td>44</td>\n",
       "      <td>0.077226</td>\n",
       "      <td>0.127044</td>\n",
       "      <td>0.949308</td>\n",
       "      <td>0.945196</td>\n",
       "      <td>00:06</td>\n",
       "    </tr>\n",
       "    <tr>\n",
       "      <td>45</td>\n",
       "      <td>0.077405</td>\n",
       "      <td>0.126853</td>\n",
       "      <td>0.949015</td>\n",
       "      <td>0.945196</td>\n",
       "      <td>00:06</td>\n",
       "    </tr>\n",
       "    <tr>\n",
       "      <td>46</td>\n",
       "      <td>0.076498</td>\n",
       "      <td>0.126920</td>\n",
       "      <td>0.949112</td>\n",
       "      <td>0.945716</td>\n",
       "      <td>00:06</td>\n",
       "    </tr>\n",
       "    <tr>\n",
       "      <td>47</td>\n",
       "      <td>0.076196</td>\n",
       "      <td>0.127092</td>\n",
       "      <td>0.948731</td>\n",
       "      <td>0.945369</td>\n",
       "      <td>00:01</td>\n",
       "    </tr>\n",
       "    <tr>\n",
       "      <td>48</td>\n",
       "      <td>0.075681</td>\n",
       "      <td>0.126865</td>\n",
       "      <td>0.948923</td>\n",
       "      <td>0.945890</td>\n",
       "      <td>00:02</td>\n",
       "    </tr>\n",
       "    <tr>\n",
       "      <td>49</td>\n",
       "      <td>0.075679</td>\n",
       "      <td>0.126972</td>\n",
       "      <td>0.948815</td>\n",
       "      <td>0.945369</td>\n",
       "      <td>00:04</td>\n",
       "    </tr>\n",
       "  </tbody>\n",
       "</table>"
      ],
      "text/plain": [
       "<IPython.core.display.HTML object>"
      ]
     },
     "metadata": {},
     "output_type": "display_data"
    },
    {
     "name": "stdout",
     "output_type": "stream",
     "text": [
      "Better model found at epoch 0 with valid_loss value: 0.6760854125022888.\n",
      "Better model found at epoch 2 with valid_loss value: 0.6607264280319214.\n",
      "Better model found at epoch 3 with valid_loss value: 0.6152218580245972.\n",
      "Better model found at epoch 4 with valid_loss value: 0.5433291792869568.\n",
      "Better model found at epoch 5 with valid_loss value: 0.42553603649139404.\n",
      "Better model found at epoch 6 with valid_loss value: 0.2812340259552002.\n",
      "Better model found at epoch 7 with valid_loss value: 0.19651906192302704.\n",
      "Better model found at epoch 8 with valid_loss value: 0.14665652811527252.\n",
      "Better model found at epoch 9 with valid_loss value: 0.1279415786266327.\n",
      "Better model found at epoch 11 with valid_loss value: 0.12322241067886353.\n",
      "Better model found at epoch 14 with valid_loss value: 0.1194349154829979.\n"
     ]
    }
   ],
   "source": [
    "cbs=[WandbCallback(log=\"all\", dataset_name=\"bank-additional-full (first .7)\", n_preds=128, seed=1), SaveModelCallback()]\n",
    "learnA.fit_one_cycle(50, cbs=cbs)"
   ]
  },
  {
   "cell_type": "code",
   "execution_count": 13,
   "metadata": {},
   "outputs": [
    {
     "data": {
      "image/png": "[encoded data removed]",
      "text/plain": [
       "<Figure size 432x288 with 1 Axes>"
      ]
     },
     "metadata": {
      "needs_background": "light"
     },
     "output_type": "display_data"
    }
   ],
   "source": [
    "learnA.recorder.plot_loss()"
   ]
  },
  {
   "cell_type": "code",
   "execution_count": 16,
   "metadata": {},
   "outputs": [],
   "source": [
    "torch.save(learnA.model.state_dict(),\"../results/exp4c-v2/modelA_state_dict\")"
   ]
  },
  {
   "cell_type": "code",
   "execution_count": 52,
   "metadata": {},
   "outputs": [],
   "source": [
    "catdictA = {col:list(learnA.dls.categorify.classes[col]) for col in catcols}"
   ]
  },
  {
   "cell_type": "code",
   "execution_count": 18,
   "metadata": {},
   "outputs": [],
   "source": [
    "embeds = extractembeds(learnA.model, catdictA, transfercats=catcols, allcats=catcols, path=\"learnA_extracts\", kind=\"json\")"
   ]
  },
  {
   "cell_type": "code",
   "execution_count": 19,
   "metadata": {},
   "outputs": [
    {
     "data": {
      "text/html": [
       "<br/>Waiting for W&B process to finish, PID 45710<br/>Program ended successfully."
      ],
      "text/plain": [
       "<IPython.core.display.HTML object>"
      ]
     },
     "metadata": {},
     "output_type": "display_data"
    },
    {
     "data": {
      "application/vnd.jupyter.widget-view+json": {
       "model_id": "adde801e102a4026934c81ea72c44134",
       "version_major": 2,
       "version_minor": 0
      },
      "text/plain": [
       "VBox(children=(Label(value=' 2.40MB of 2.40MB uploaded (0.00MB deduped)\\r'), FloatProgress(value=1.0, max=1.0)…"
      ]
     },
     "metadata": {},
     "output_type": "display_data"
    },
    {
     "data": {
      "text/html": [
       "Find user logs for this run at: <code>/Users/manikyabardhan/Documents/github/transfertab/results/exp4c-v2/wandb/run-20211101_083800-1siad487/logs/debug.log</code>"
      ],
      "text/plain": [
       "<IPython.core.display.HTML object>"
      ]
     },
     "metadata": {},
     "output_type": "display_data"
    },
    {
     "data": {
      "text/html": [
       "Find internal logs for this run at: <code>/Users/manikyabardhan/Documents/github/transfertab/results/exp4c-v2/wandb/run-20211101_083800-1siad487/logs/debug-internal.log</code>"
      ],
      "text/plain": [
       "<IPython.core.display.HTML object>"
      ]
     },
     "metadata": {},
     "output_type": "display_data"
    },
    {
     "data": {
      "text/html": [
       "<h3>Run summary:</h3><br/><style>\n",
       "    table.wandb td:nth-child(1) { padding: 0 10px; text-align: right }\n",
       "    </style><table class=\"wandb\">\n",
       "<tr><td>epoch</td><td>50</td></tr><tr><td>train_loss</td><td>0.07568</td></tr><tr><td>raw_loss</td><td>0.07273</td></tr><tr><td>wd_0</td><td>0.01</td></tr><tr><td>sqr_mom_0</td><td>0.99</td></tr><tr><td>lr_0</td><td>0.0</td></tr><tr><td>mom_0</td><td>0.95</td></tr><tr><td>eps_0</td><td>1e-05</td></tr><tr><td>_runtime</td><td>366</td></tr><tr><td>_timestamp</td><td>1635736447</td></tr><tr><td>_step</td><td>2249</td></tr><tr><td>valid_loss</td><td>0.12697</td></tr><tr><td>roc_auc_score</td><td>0.94882</td></tr><tr><td>accuracy</td><td>0.94537</td></tr></table>"
      ],
      "text/plain": [
       "<IPython.core.display.HTML object>"
      ]
     },
     "metadata": {},
     "output_type": "display_data"
    },
    {
     "data": {
      "text/html": [
       "<h3>Run history:</h3><br/><style>\n",
       "    table.wandb td:nth-child(1) { padding: 0 10px; text-align: right }\n",
       "    </style><table class=\"wandb\">\n",
       "<tr><td>epoch</td><td>▁▁▁▂▂▂▂▂▂▃▃▃▃▃▃▄▄▄▄▄▅▅▅▅▅▅▆▆▆▆▆▆▇▇▇▇▇███</td></tr><tr><td>train_loss</td><td>███▇▆▅▄▂▂▂▁▁▁▁▁▁▁▁▁▁▁▁▁▁▁▁▁▁▁▁▁▁▁▁▁▁▁▁▁▁</td></tr><tr><td>raw_loss</td><td>███▇▅▄▃▂▁▁▁▁▁▂▁▁▁▂▂▁▁▁▁▁▁▁▁▁▁▂▂▁▁▁▁▁▁▁▁▁</td></tr><tr><td>wd_0</td><td>▁▁▁▁▁▁▁▁▁▁▁▁▁▁▁▁▁▁▁▁▁▁▁▁▁▁▁▁▁▁▁▁▁▁▁▁▁▁▁▁</td></tr><tr><td>sqr_mom_0</td><td>▁▁▁▁▁▁▁▁▁▁▁▁▁▁▁▁▁▁▁▁▁▁▁▁▁▁▁▁▁▁▁▁▁▁▁▁▁▁▁▁</td></tr><tr><td>lr_0</td><td>▁▁▂▃▄▅▆▇███████▇▇▇▇▆▆▆▆▅▅▄▄▄▃▃▃▂▂▂▂▁▁▁▁▁</td></tr><tr><td>mom_0</td><td>██▇▆▅▄▃▂▁▁▁▁▁▁▁▂▂▂▂▃▃▃▃▄▄▅▅▅▆▆▆▇▇▇▇█████</td></tr><tr><td>eps_0</td><td>▁▁▁▁▁▁▁▁▁▁▁▁▁▁▁▁▁▁▁▁▁▁▁▁▁▁▁▁▁▁▁▁▁▁▁▁▁▁▁▁</td></tr><tr><td>_runtime</td><td>▁▁▁▂▂▂▂▃▃▃▃▃▄▄▄▄▄▄▄▄▅▅▅▅▅▅▆▆▆▆▇▇▇▇▇▇████</td></tr><tr><td>_timestamp</td><td>▁▁▁▂▂▂▂▃▃▃▃▃▄▄▄▄▄▄▄▄▅▅▅▅▅▅▆▆▆▆▇▇▇▇▇▇████</td></tr><tr><td>_step</td><td>▁▁▁▂▂▂▂▂▂▃▃▃▃▃▃▄▄▄▄▄▅▅▅▅▅▅▆▆▆▆▆▆▇▇▇▇▇███</td></tr><tr><td>valid_loss</td><td>███▇▅▃▂▁▁▁▁▁▁▁▁▁▁▁▁▁▁▁▁▁▁▁▁▁▁▁▁▁▁▁▁▁▁▁▁▁</td></tr><tr><td>roc_auc_score</td><td>▂▇▆█▅▄▁▆▄█▇██▆██████████████████████████</td></tr><tr><td>accuracy</td><td>▁▃▅▆████████████████████████████████████</td></tr></table><br/>"
      ],
      "text/plain": [
       "<IPython.core.display.HTML object>"
      ]
     },
     "metadata": {},
     "output_type": "display_data"
    },
    {
     "data": {
      "text/html": [
       "Synced 6 W&B file(s), 51 media file(s), 18 artifact file(s) and 1 other file(s)"
      ],
      "text/plain": [
       "<IPython.core.display.HTML object>"
      ]
     },
     "metadata": {},
     "output_type": "display_data"
    },
    {
     "data": {
      "text/html": [
       "\n",
       "                    <br/>Synced <strong style=\"color:#cdcd00\">modelA training</strong>: <a href=\"https://wandb.ai/transfertab/Experiments/runs/1siad487\" target=\"_blank\">https://wandb.ai/transfertab/Experiments/runs/1siad487</a><br/>\n",
       "                "
      ],
      "text/plain": [
       "<IPython.core.display.HTML object>"
      ]
     },
     "metadata": {},
     "output_type": "display_data"
    }
   ],
   "source": [
    "wandb.finish()"
   ]
  },
  {
   "cell_type": "code",
   "execution_count": 83,
   "metadata": {},
   "outputs": [],
   "source": [
    "splitsB = RandomSplitter(valid_pct=0.2)(range_of(dfB))\n",
    "toB = TabularPandas(dfB, procs=[Categorify, FillMissing, Normalize],\n",
    "                   cat_names = catcols,\n",
    "                   cont_names = contcols,\n",
    "                   y_names=target,\n",
    "                   splits=splitsB)\n",
    "dlsB = toB.dataloaders(bs=512)"
   ]
  },
  {
   "cell_type": "code",
   "execution_count": 84,
   "metadata": {},
   "outputs": [],
   "source": [
    "rocaucbinB = RocAucBinary()\n",
    "learnB = tabular_learner(dlsB, metrics=[rocaucbinB, accuracy], emb_szs={'month':6})"
   ]
  },
  {
   "cell_type": "code",
   "execution_count": 85,
   "metadata": {},
   "outputs": [],
   "source": [
    "# catdict = getcatdict(df, catcols)\n",
    "# metadict = {}\n",
    "# for (cat, classes) in catdict.items():\n",
    "# \tmetadict[cat] = {'mapped_cat': cat, 'classes_info': {clas: clas for clas in classes}}\n",
    "# with open('bank_meta.json', 'w') as fp:\n",
    "# \tjson.dump(metadict, fp)"
   ]
  },
  {
   "cell_type": "code",
   "execution_count": 86,
   "metadata": {},
   "outputs": [],
   "source": [
    "# metadict={\"job\": {\"mapped_cat\": \"job\", \"classes_info\": {\"#na#\": \"#na#\", \"admin.\": \"admin.\", \"blue-collar\": \"blue-collar\", \"entrepreneur\": \"entrepreneur\", \"housemaid\": \"housemaid\", \"management\": \"management\", \"retired\": \"retired\", \"self-employed\": \"self-employed\", \"services\": \"services\", \"student\": \"student\", \"technician\": \"technician\", \"unemployed\": \"unemployed\", \"unknown\": \"unknown\"}}, \"marital\": {\"mapped_cat\": \"marital\", \"classes_info\": {\"#na#\": \"#na#\", \"divorced\": \"divorced\", \"married\": \"married\", \"single\": \"single\", \"unknown\": \"unknown\"}}, \"education\": {\"mapped_cat\": \"education\", \"classes_info\": {\"#na#\": \"#na#\", \"basic.4y\": \"basic.4y\", \"basic.6y\": \"basic.6y\", \"basic.9y\": \"basic.9y\", \"high.school\": \"high.school\", \"illiterate\": \"illiterate\", \"professional.course\": \"professional.course\", \"university.degree\": \"university.degree\", \"unknown\": \"unknown\"}}, \"default\": {\"mapped_cat\": \"default\", \"classes_info\": {\"#na#\": \"#na#\", \"no\": \"no\", \"unknown\": \"unknown\"}}, \"housing\": {\"mapped_cat\": \"housing\", \"classes_info\": {\"#na#\": \"#na#\", \"no\": \"no\", \"unknown\": \"unknown\", \"yes\": \"yes\"}}, \"loan\": {\"mapped_cat\": \"loan\", \"classes_info\": {\"#na#\": \"#na#\", \"no\": \"no\", \"unknown\": \"unknown\", \"yes\": \"yes\"}}, \"contact\": {\"mapped_cat\": \"contact\", \"classes_info\": {\"#na#\": \"#na#\", \"cellular\": \"cellular\", \"telephone\": \"telephone\"}}, \"month\": {\"mapped_cat\": \"month\", \"classes_info\": {\"#na#\": \"#na#\", \"apr\": \"apr\", \"aug\": \"aug\", \"dec\": \"dec\", \"jul\": \"jul\", \"jun\": \"jun\", \"mar\": \"mar\", \"may\": \"may\", \"nov\": \"nov\", \"oct\": \"oct\", \"sep\":[]}}, \"day_of_week\": {\"mapped_cat\": \"day_of_week\", \"classes_info\": {\"#na#\": \"#na#\", \"fri\": \"fri\", \"mon\": \"mon\", \"thu\": \"thu\", \"tue\": \"tue\", \"wed\": \"wed\"}}, \"poutcome\": {\"mapped_cat\": \"poutcome\", \"classes_info\": {\"#na#\": \"#na#\", \"failure\": \"failure\", \"nonexistent\": \"nonexistent\", \"success\": \"success\"}}}"
   ]
  },
  {
   "cell_type": "code",
   "execution_count": 87,
   "metadata": {},
   "outputs": [],
   "source": [
    "with open('../data/jsons/bank_meta.json', 'r') as fp:\n",
    "    metadict = json.load(fp) "
   ]
  },
  {
   "cell_type": "code",
   "execution_count": 88,
   "metadata": {},
   "outputs": [
    {
     "data": {
      "text/plain": [
       "{'job': {'mapped_cat': 'job',\n",
       "  'classes_info': {'#na#': '#na#',\n",
       "   'admin.': 'admin.',\n",
       "   'blue-collar': 'blue-collar',\n",
       "   'entrepreneur': 'entrepreneur',\n",
       "   'housemaid': 'housemaid',\n",
       "   'management': 'management',\n",
       "   'retired': 'retired',\n",
       "   'self-employed': 'self-employed',\n",
       "   'services': 'services',\n",
       "   'student': 'student',\n",
       "   'technician': 'technician',\n",
       "   'unemployed': 'unemployed',\n",
       "   'unknown': 'unknown'}},\n",
       " 'marital': {'mapped_cat': 'marital',\n",
       "  'classes_info': {'#na#': '#na#',\n",
       "   'divorced': 'divorced',\n",
       "   'married': 'married',\n",
       "   'single': 'single',\n",
       "   'unknown': 'unknown'}},\n",
       " 'education': {'mapped_cat': 'education',\n",
       "  'classes_info': {'#na#': '#na#',\n",
       "   'basic.4y': 'basic.4y',\n",
       "   'basic.6y': 'basic.6y',\n",
       "   'basic.9y': 'basic.9y',\n",
       "   'high.school': 'high.school',\n",
       "   'illiterate': 'illiterate',\n",
       "   'professional.course': 'professional.course',\n",
       "   'university.degree': 'university.degree',\n",
       "   'unknown': 'unknown'}},\n",
       " 'default': {'mapped_cat': 'default',\n",
       "  'classes_info': {'#na#': '#na#', 'no': 'no', 'unknown': 'unknown'}},\n",
       " 'housing': {'mapped_cat': 'housing',\n",
       "  'classes_info': {'#na#': '#na#',\n",
       "   'no': 'no',\n",
       "   'unknown': 'unknown',\n",
       "   'yes': 'yes'}},\n",
       " 'loan': {'mapped_cat': 'loan',\n",
       "  'classes_info': {'#na#': '#na#',\n",
       "   'no': 'no',\n",
       "   'unknown': 'unknown',\n",
       "   'yes': 'yes'}},\n",
       " 'contact': {'mapped_cat': 'contact',\n",
       "  'classes_info': {'#na#': '#na#',\n",
       "   'cellular': 'cellular',\n",
       "   'telephone': 'telephone'}},\n",
       " 'month': {'mapped_cat': 'month',\n",
       "  'classes_info': {'#na#': '#na#',\n",
       "   'apr': 'apr',\n",
       "   'aug': 'aug',\n",
       "   'dec': 'dec',\n",
       "   'jul': 'jul',\n",
       "   'jun': 'jun',\n",
       "   'mar': 'mar',\n",
       "   'may': 'may',\n",
       "   'nov': 'nov',\n",
       "   'oct': 'oct',\n",
       "   'sep': []}},\n",
       " 'day_of_week': {'mapped_cat': 'day_of_week',\n",
       "  'classes_info': {'#na#': '#na#',\n",
       "   'fri': 'fri',\n",
       "   'mon': 'mon',\n",
       "   'thu': 'thu',\n",
       "   'tue': 'tue',\n",
       "   'wed': 'wed'}},\n",
       " 'poutcome': {'mapped_cat': 'poutcome',\n",
       "  'classes_info': {'#na#': '#na#',\n",
       "   'failure': 'failure',\n",
       "   'nonexistent': 'nonexistent',\n",
       "   'success': 'success'}}}"
      ]
     },
     "execution_count": 88,
     "metadata": {},
     "output_type": "execute_result"
    }
   ],
   "source": [
    "metadict"
   ]
  },
  {
   "cell_type": "code",
   "execution_count": 89,
   "metadata": {},
   "outputs": [
    {
     "data": {
      "text/plain": [
       "['#na#', 'no', 'unknown']"
      ]
     },
     "execution_count": 89,
     "metadata": {},
     "output_type": "execute_result"
    }
   ],
   "source": [
    "learnB.dls.categorify['default']"
   ]
  },
  {
   "cell_type": "code",
   "execution_count": 90,
   "metadata": {},
   "outputs": [
    {
     "data": {
      "text/plain": [
       "['#na#', 'no', 'unknown', 'yes']"
      ]
     },
     "execution_count": 90,
     "metadata": {},
     "output_type": "execute_result"
    }
   ],
   "source": [
    "learnA.dls.categorify['default']"
   ]
  },
  {
   "cell_type": "code",
   "execution_count": 91,
   "metadata": {},
   "outputs": [
    {
     "data": {
      "text/plain": [
       "ModuleList(\n",
       "  (0): Embedding(13, 7)\n",
       "  (1): Embedding(5, 4)\n",
       "  (2): Embedding(9, 5)\n",
       "  (3): Embedding(4, 3)\n",
       "  (4): Embedding(4, 3)\n",
       "  (5): Embedding(4, 3)\n",
       "  (6): Embedding(3, 3)\n",
       "  (7): Embedding(10, 6)\n",
       "  (8): Embedding(6, 4)\n",
       "  (9): Embedding(4, 3)\n",
       ")"
      ]
     },
     "execution_count": 91,
     "metadata": {},
     "output_type": "execute_result"
    }
   ],
   "source": [
    "learnA.model.embeds"
   ]
  },
  {
   "cell_type": "code",
   "execution_count": 92,
   "metadata": {},
   "outputs": [
    {
     "data": {
      "text/plain": [
       "ModuleList(\n",
       "  (0): Embedding(13, 7)\n",
       "  (1): Embedding(5, 4)\n",
       "  (2): Embedding(9, 5)\n",
       "  (3): Embedding(3, 3)\n",
       "  (4): Embedding(4, 3)\n",
       "  (5): Embedding(4, 3)\n",
       "  (6): Embedding(3, 3)\n",
       "  (7): Embedding(11, 6)\n",
       "  (8): Embedding(6, 4)\n",
       "  (9): Embedding(4, 3)\n",
       ")"
      ]
     },
     "execution_count": 92,
     "metadata": {},
     "output_type": "execute_result"
    }
   ],
   "source": [
    "learnB.model.embeds"
   ]
  },
  {
   "cell_type": "code",
   "execution_count": 93,
   "metadata": {},
   "outputs": [
    {
     "data": {
      "text/plain": [
       "(#10) ['job','marital','education','default','housing','loan','contact','month','day_of_week','poutcome']"
      ]
     },
     "execution_count": 93,
     "metadata": {},
     "output_type": "execute_result"
    }
   ],
   "source": [
    "learnB.dls.cat_names"
   ]
  },
  {
   "cell_type": "code",
   "execution_count": 94,
   "metadata": {},
   "outputs": [],
   "source": [
    "transfercats = ['job',\n",
    " 'marital',\n",
    " 'education',\n",
    " 'default',\n",
    " 'housing',\n",
    " 'loan',\n",
    " 'contact',\n",
    " 'month',\n",
    " 'day_of_week',\n",
    " 'poutcome']"
   ]
  },
  {
   "cell_type": "code",
   "execution_count": 95,
   "metadata": {},
   "outputs": [],
   "source": [
    "catdictB = {col:list(learnB.dls.categorify.classes[col]) for col in catcols}"
   ]
  },
  {
   "cell_type": "code",
   "execution_count": 96,
   "metadata": {},
   "outputs": [],
   "source": [
    "# transfer_cats = (\" workclass\", \" marital_status\", \" race\", \" relationship\", \" education\")\n",
    "# catcolsB = tuple(learnB.dls.cat_names)\n",
    "# catdictB = {col:list(learnB.dls.categorify.classes[col]) for col in catcolsB}\n",
    "transferembeds_(\n",
    "    learnB.model.embeds, \n",
    "    learnA.model.embeds, \n",
    "    metadict, \n",
    "    transfercats, \n",
    "    newcatcols=catcols, \n",
    "    oldcatcols=catcols, \n",
    "    oldcatdict=catdictA, \n",
    "    newcatdict=catdictB)"
   ]
  },
  {
   "cell_type": "code",
   "execution_count": 97,
   "metadata": {},
   "outputs": [
    {
     "data": {
      "text/plain": [
       "Parameter containing:\n",
       "tensor([[-0.0041,  0.0100,  0.0102, -0.0024],\n",
       "        [ 0.0009,  0.0190,  0.0418,  0.0202],\n",
       "        [-0.0319,  0.0140, -0.0415, -0.0403],\n",
       "        [ 0.0654, -0.0346, -0.0149,  0.0547],\n",
       "        [-0.0699, -0.0018, -0.0980,  0.0875]], requires_grad=True)"
      ]
     },
     "execution_count": 97,
     "metadata": {},
     "output_type": "execute_result"
    }
   ],
   "source": [
    "learnA.model.embeds[catcols.index('marital')].weight"
   ]
  },
  {
   "cell_type": "code",
   "execution_count": 98,
   "metadata": {},
   "outputs": [
    {
     "data": {
      "text/plain": [
       "Parameter containing:\n",
       "tensor([[-0.0041,  0.0100,  0.0102, -0.0024],\n",
       "        [ 0.0009,  0.0190,  0.0418,  0.0202],\n",
       "        [-0.0319,  0.0140, -0.0415, -0.0403],\n",
       "        [ 0.0654, -0.0346, -0.0149,  0.0547],\n",
       "        [-0.0699, -0.0018, -0.0980,  0.0875]], requires_grad=True)"
      ]
     },
     "execution_count": 98,
     "metadata": {},
     "output_type": "execute_result"
    }
   ],
   "source": [
    "learnB.model.embeds[catcols.index('marital')].weight"
   ]
  },
  {
   "cell_type": "code",
   "execution_count": 99,
   "metadata": {},
   "outputs": [],
   "source": [
    "dlsC = deepcopy(dlsB)\n",
    "rocaucbinC = RocAucBinary()\n",
    "learnC = tabular_learner(dlsC, metrics=[rocaucbinC, accuracy], emb_szs={'month':6})"
   ]
  },
  {
   "cell_type": "code",
   "execution_count": 100,
   "metadata": {},
   "outputs": [
    {
     "data": {
      "text/plain": [
       "<All keys matched successfully>"
      ]
     },
     "execution_count": 100,
     "metadata": {},
     "output_type": "execute_result"
    }
   ],
   "source": [
    "learnC.model.layers.load_state_dict(learnB.model.layers.state_dict())"
   ]
  },
  {
   "cell_type": "code",
   "execution_count": 82,
   "metadata": {},
   "outputs": [
    {
     "name": "stderr",
     "output_type": "stream",
     "text": [
      "\u001b[34m\u001b[1mwandb\u001b[0m: wandb version 0.12.6 is available!  To upgrade, please run:\n",
      "\u001b[34m\u001b[1mwandb\u001b[0m:  $ pip install wandb --upgrade\n"
     ]
    },
    {
     "data": {
      "text/html": [
       "\n",
       "                Tracking run with wandb version 0.10.32<br/>\n",
       "                Syncing run <strong style=\"color:#cdcd00\">modelB training</strong> to <a href=\"https://wandb.ai\" target=\"_blank\">Weights & Biases</a> <a href=\"https://docs.wandb.com/integrations/jupyter.html\" target=\"_blank\">(Documentation)</a>.<br/>\n",
       "                Project page: <a href=\"https://wandb.ai/transfertab/Experiments\" target=\"_blank\">https://wandb.ai/transfertab/Experiments</a><br/>\n",
       "                Run page: <a href=\"https://wandb.ai/transfertab/Experiments/runs/w8b916eb\" target=\"_blank\">https://wandb.ai/transfertab/Experiments/runs/w8b916eb</a><br/>\n",
       "                Run data is saved locally in <code>/Users/manikyabardhan/Documents/github/transfertab/results/exp4c-v2/wandb/run-20211101_091156-w8b916eb</code><br/><br/>\n",
       "            "
      ],
      "text/plain": [
       "<IPython.core.display.HTML object>"
      ]
     },
     "metadata": {},
     "output_type": "display_data"
    },
    {
     "data": {
      "text/html": [
       "<h1>Run(w8b916eb)</h1><iframe src=\"https://wandb.ai/transfertab/Experiments/runs/w8b916eb\" style=\"border:none;width:100%;height:400px\"></iframe>"
      ],
      "text/plain": [
       "<wandb.sdk.wandb_run.Run at 0x7ff9f9c2c910>"
      ]
     },
     "execution_count": 82,
     "metadata": {},
     "output_type": "execute_result"
    }
   ],
   "source": [
    "wandb.init(\n",
    "    project='Experiments',\n",
    "    entity='transfertab',\n",
    "    save_code=True, \n",
    "    group='Exp4c v2', \n",
    "    job_type='finetune', \n",
    "    tags=['transfer', 'bank', 'modelB'], \n",
    "    name='modelB training',\n",
    "    notes='Training modelB which contains transferred embeddings',\n",
    "    reinit=True,\n",
    "    dir='/Users/manikyabardhan/Documents/github/transfertab/results/exp4c-v2'\n",
    ")"
   ]
  },
  {
   "cell_type": "code",
   "execution_count": 101,
   "metadata": {},
   "outputs": [],
   "source": [
    "for i in range(len(catcols)):\n",
    "    learnB.model.embeds[i].weight.requires_grad = False\n",
    "learnB.create_opt()"
   ]
  },
  {
   "cell_type": "code",
   "execution_count": 102,
   "metadata": {},
   "outputs": [
    {
     "data": {
      "text/plain": [
       "Parameter containing:\n",
       "tensor([[ 0.0012, -0.0142, -0.0104],\n",
       "        [-0.0150,  0.0564, -0.0425],\n",
       "        [-0.0274,  0.0058, -0.0065],\n",
       "        [ 0.0386, -0.0425,  0.0627]])"
      ]
     },
     "execution_count": 102,
     "metadata": {},
     "output_type": "execute_result"
    }
   ],
   "source": [
    "learnB.embeds[5].weight"
   ]
  },
  {
   "cell_type": "code",
   "execution_count": 103,
   "metadata": {},
   "outputs": [
    {
     "name": "stdout",
     "output_type": "stream",
     "text": [
      "WandbCallback requires use of \"SaveModelCallback\" to log best model\n"
     ]
    },
    {
     "data": {
      "text/html": [
       "<table border=\"1\" class=\"dataframe\">\n",
       "  <thead>\n",
       "    <tr style=\"text-align: left;\">\n",
       "      <th>epoch</th>\n",
       "      <th>train_loss</th>\n",
       "      <th>valid_loss</th>\n",
       "      <th>roc_auc_score</th>\n",
       "      <th>accuracy</th>\n",
       "      <th>time</th>\n",
       "    </tr>\n",
       "  </thead>\n",
       "  <tbody>\n",
       "    <tr>\n",
       "      <td>0</td>\n",
       "      <td>0.583056</td>\n",
       "      <td>0.652738</td>\n",
       "      <td>0.870181</td>\n",
       "      <td>0.725212</td>\n",
       "      <td>00:00</td>\n",
       "    </tr>\n",
       "    <tr>\n",
       "      <td>1</td>\n",
       "      <td>0.531010</td>\n",
       "      <td>0.522188</td>\n",
       "      <td>0.885025</td>\n",
       "      <td>0.811817</td>\n",
       "      <td>00:06</td>\n",
       "    </tr>\n",
       "    <tr>\n",
       "      <td>2</td>\n",
       "      <td>0.501736</td>\n",
       "      <td>0.498829</td>\n",
       "      <td>0.885407</td>\n",
       "      <td>0.809389</td>\n",
       "      <td>00:07</td>\n",
       "    </tr>\n",
       "  </tbody>\n",
       "</table>"
      ],
      "text/plain": [
       "<IPython.core.display.HTML object>"
      ]
     },
     "metadata": {},
     "output_type": "display_data"
    }
   ],
   "source": [
    "cbsB=[WandbCallback(log=\"all\", dataset_name=\"bank 0.3%\", n_preds=128, seed=1)]\n",
    "learnB.fit_one_cycle(3, cbs=cbsB)"
   ]
  },
  {
   "cell_type": "code",
   "execution_count": 104,
   "metadata": {},
   "outputs": [],
   "source": [
    "for i in range(len(catcols)):\n",
    "    learnB.model.embeds[i].weight.requires_grad = True\n",
    "learnB.create_opt()"
   ]
  },
  {
   "cell_type": "code",
   "execution_count": 105,
   "metadata": {},
   "outputs": [
    {
     "data": {
      "text/html": [
       "<table border=\"1\" class=\"dataframe\">\n",
       "  <thead>\n",
       "    <tr style=\"text-align: left;\">\n",
       "      <th>epoch</th>\n",
       "      <th>train_loss</th>\n",
       "      <th>valid_loss</th>\n",
       "      <th>roc_auc_score</th>\n",
       "      <th>accuracy</th>\n",
       "      <th>time</th>\n",
       "    </tr>\n",
       "  </thead>\n",
       "  <tbody>\n",
       "    <tr>\n",
       "      <td>0</td>\n",
       "      <td>0.461604</td>\n",
       "      <td>0.481070</td>\n",
       "      <td>0.882981</td>\n",
       "      <td>0.804533</td>\n",
       "      <td>00:00</td>\n",
       "    </tr>\n",
       "    <tr>\n",
       "      <td>1</td>\n",
       "      <td>0.449091</td>\n",
       "      <td>0.459576</td>\n",
       "      <td>0.882086</td>\n",
       "      <td>0.808580</td>\n",
       "      <td>00:07</td>\n",
       "    </tr>\n",
       "    <tr>\n",
       "      <td>2</td>\n",
       "      <td>0.429367</td>\n",
       "      <td>0.434223</td>\n",
       "      <td>0.885819</td>\n",
       "      <td>0.820316</td>\n",
       "      <td>00:06</td>\n",
       "    </tr>\n",
       "    <tr>\n",
       "      <td>3</td>\n",
       "      <td>0.409259</td>\n",
       "      <td>0.421703</td>\n",
       "      <td>0.887061</td>\n",
       "      <td>0.815864</td>\n",
       "      <td>00:06</td>\n",
       "    </tr>\n",
       "    <tr>\n",
       "      <td>4</td>\n",
       "      <td>0.394413</td>\n",
       "      <td>0.422471</td>\n",
       "      <td>0.887898</td>\n",
       "      <td>0.817887</td>\n",
       "      <td>00:06</td>\n",
       "    </tr>\n",
       "  </tbody>\n",
       "</table>"
      ],
      "text/plain": [
       "<IPython.core.display.HTML object>"
      ]
     },
     "metadata": {},
     "output_type": "display_data"
    }
   ],
   "source": [
    "learnB.fit_one_cycle(5, cbs=cbsB)"
   ]
  },
  {
   "cell_type": "code",
   "execution_count": 106,
   "metadata": {},
   "outputs": [
    {
     "data": {
      "image/png": "[encoded data removed]",
      "text/plain": [
       "<Figure size 432x288 with 1 Axes>"
      ]
     },
     "metadata": {
      "needs_background": "light"
     },
     "output_type": "display_data"
    }
   ],
   "source": [
    "learnB.recorder.plot_loss()"
   ]
  },
  {
   "cell_type": "code",
   "execution_count": 107,
   "metadata": {},
   "outputs": [
    {
     "data": {
      "text/html": [
       "<br/>Waiting for W&B process to finish, PID 46451<br/>Program ended successfully."
      ],
      "text/plain": [
       "<IPython.core.display.HTML object>"
      ]
     },
     "metadata": {},
     "output_type": "display_data"
    },
    {
     "data": {
      "application/vnd.jupyter.widget-view+json": {
       "model_id": "c32e582a1619449882c365447d49361e",
       "version_major": 2,
       "version_minor": 0
      },
      "text/plain": [
       "VBox(children=(Label(value=' 0.63MB of 0.63MB uploaded (0.00MB deduped)\\r'), FloatProgress(value=1.0, max=1.0)…"
      ]
     },
     "metadata": {},
     "output_type": "display_data"
    },
    {
     "data": {
      "text/html": [
       "Find user logs for this run at: <code>/Users/manikyabardhan/Documents/github/transfertab/results/exp4c-v2/wandb/run-20211101_091156-w8b916eb/logs/debug.log</code>"
      ],
      "text/plain": [
       "<IPython.core.display.HTML object>"
      ]
     },
     "metadata": {},
     "output_type": "display_data"
    },
    {
     "data": {
      "text/html": [
       "Find internal logs for this run at: <code>/Users/manikyabardhan/Documents/github/transfertab/results/exp4c-v2/wandb/run-20211101_091156-w8b916eb/logs/debug-internal.log</code>"
      ],
      "text/plain": [
       "<IPython.core.display.HTML object>"
      ]
     },
     "metadata": {},
     "output_type": "display_data"
    },
    {
     "data": {
      "text/html": [
       "<h3>Run summary:</h3><br/><style>\n",
       "    table.wandb td:nth-child(1) { padding: 0 10px; text-align: right }\n",
       "    </style><table class=\"wandb\">\n",
       "<tr><td>epoch</td><td>8</td></tr><tr><td>train_loss</td><td>0.39441</td></tr><tr><td>raw_loss</td><td>0.34937</td></tr><tr><td>wd_0</td><td>0.01</td></tr><tr><td>sqr_mom_0</td><td>0.99</td></tr><tr><td>lr_0</td><td>0.0</td></tr><tr><td>mom_0</td><td>0.94995</td></tr><tr><td>eps_0</td><td>1e-05</td></tr><tr><td>_runtime</td><td>115</td></tr><tr><td>_timestamp</td><td>1635738231</td></tr><tr><td>_step</td><td>152</td></tr><tr><td>valid_loss</td><td>0.42247</td></tr><tr><td>roc_auc_score</td><td>0.8879</td></tr><tr><td>accuracy</td><td>0.81789</td></tr></table>"
      ],
      "text/plain": [
       "<IPython.core.display.HTML object>"
      ]
     },
     "metadata": {},
     "output_type": "display_data"
    },
    {
     "data": {
      "text/html": [
       "<h3>Run history:</h3><br/><style>\n",
       "    table.wandb td:nth-child(1) { padding: 0 10px; text-align: right }\n",
       "    </style><table class=\"wandb\">\n",
       "<tr><td>epoch</td><td>▁▁▁▁▂▂▂▂▂▃▃▃▃▃▃▄▄▄▄▄▅▅▅▅▅▅▆▆▆▆▆▇▇▇▇▇▇███</td></tr><tr><td>train_loss</td><td>██▇▇▆▆▅▅▅▅▄▄▄▄▄▂▂▃▃▃▃▃▃▃▂▂▂▂▂▂▂▂▂▂▁▁▁▁▁▁</td></tr><tr><td>raw_loss</td><td>██▆▅▅▅▅▅▄▄▄▄▄▄▃▃▃▄▃▃▂▄▄▃▃▂▂▂▂▃▂▂▁▁▁▂▂▁▂▁</td></tr><tr><td>wd_0</td><td>▁▁▁▁▁▁▁▁▁▁▁▁▁▁▁▁▁▁▁▁▁▁▁▁▁▁▁▁▁▁▁▁▁▁▁▁▁▁▁▁</td></tr><tr><td>sqr_mom_0</td><td>▁▁▁▁▁▁▁▁▁▁▁▁▁▁▁▁▁▁▁▁▁▁▁▁▁▁▁▁▁▁▁▁▁▁▁▁▁▁▁▁</td></tr><tr><td>lr_0</td><td>▁▂▅▇██▇▇▆▅▄▃▂▁▁▁▂▃▅▆█████▇▇▆▆▅▅▄▃▃▂▂▂▁▁▁</td></tr><tr><td>mom_0</td><td>█▇▅▂▁▁▂▂▃▄▅▆▇████▆▄▃▁▁▁▁▁▂▂▃▃▄▄▅▆▆▇▇▇███</td></tr><tr><td>eps_0</td><td>▁▁▁▁▁▁▁▁▁▁▁▁▁▁▁▁▁▁▁▁▁▁▁▁▁▁▁▁▁▁▁▁▁▁▁▁▁▁▁▁</td></tr><tr><td>_runtime</td><td>▁▁▁▁▁▂▂▂▂▂▃▃▃▃▃▅▅▅▅▅▆▆▆▆▆▆▇▇▇▇▇▇▇▇▇█████</td></tr><tr><td>_timestamp</td><td>▁▁▁▁▁▂▂▂▂▂▃▃▃▃▃▅▅▅▅▅▆▆▆▆▆▆▇▇▇▇▇▇▇▇▇█████</td></tr><tr><td>_step</td><td>▁▁▁▁▂▂▂▂▂▃▃▃▃▃▃▄▄▄▄▄▅▅▅▅▅▅▆▆▆▆▆▇▇▇▇▇▇███</td></tr><tr><td>valid_loss</td><td>█▄▃▃▂▁▁▁</td></tr><tr><td>roc_auc_score</td><td>▁▇▇▆▆▇██</td></tr><tr><td>accuracy</td><td>▁▇▇▇▇███</td></tr></table><br/>"
      ],
      "text/plain": [
       "<IPython.core.display.HTML object>"
      ]
     },
     "metadata": {},
     "output_type": "display_data"
    },
    {
     "data": {
      "text/html": [
       "Synced 7 W&B file(s), 8 media file(s), 8 artifact file(s) and 1 other file(s)"
      ],
      "text/plain": [
       "<IPython.core.display.HTML object>"
      ]
     },
     "metadata": {},
     "output_type": "display_data"
    },
    {
     "data": {
      "text/html": [
       "\n",
       "                    <br/>Synced <strong style=\"color:#cdcd00\">modelB training</strong>: <a href=\"https://wandb.ai/transfertab/Experiments/runs/w8b916eb\" target=\"_blank\">https://wandb.ai/transfertab/Experiments/runs/w8b916eb</a><br/>\n",
       "                "
      ],
      "text/plain": [
       "<IPython.core.display.HTML object>"
      ]
     },
     "metadata": {},
     "output_type": "display_data"
    }
   ],
   "source": [
    "wandb.finish()"
   ]
  },
  {
   "cell_type": "code",
   "execution_count": 108,
   "metadata": {},
   "outputs": [
    {
     "name": "stderr",
     "output_type": "stream",
     "text": [
      "\u001b[34m\u001b[1mwandb\u001b[0m: wandb version 0.12.6 is available!  To upgrade, please run:\n",
      "\u001b[34m\u001b[1mwandb\u001b[0m:  $ pip install wandb --upgrade\n"
     ]
    },
    {
     "data": {
      "text/html": [
       "\n",
       "                Tracking run with wandb version 0.10.32<br/>\n",
       "                Syncing run <strong style=\"color:#cdcd00\">modelC training</strong> to <a href=\"https://wandb.ai\" target=\"_blank\">Weights & Biases</a> <a href=\"https://docs.wandb.com/integrations/jupyter.html\" target=\"_blank\">(Documentation)</a>.<br/>\n",
       "                Project page: <a href=\"https://wandb.ai/transfertab/Experiments\" target=\"_blank\">https://wandb.ai/transfertab/Experiments</a><br/>\n",
       "                Run page: <a href=\"https://wandb.ai/transfertab/Experiments/runs/2b8zxwxb\" target=\"_blank\">https://wandb.ai/transfertab/Experiments/runs/2b8zxwxb</a><br/>\n",
       "                Run data is saved locally in <code>/Users/manikyabardhan/Documents/github/transfertab/results/exp4c-v2/wandb/run-20211101_091542-2b8zxwxb</code><br/><br/>\n",
       "            "
      ],
      "text/plain": [
       "<IPython.core.display.HTML object>"
      ]
     },
     "metadata": {},
     "output_type": "display_data"
    },
    {
     "data": {
      "text/html": [
       "<h1>Run(2b8zxwxb)</h1><iframe src=\"https://wandb.ai/transfertab/Experiments/runs/2b8zxwxb\" style=\"border:none;width:100%;height:400px\"></iframe>"
      ],
      "text/plain": [
       "<wandb.sdk.wandb_run.Run at 0x7ffa009f1730>"
      ]
     },
     "execution_count": 108,
     "metadata": {},
     "output_type": "execute_result"
    }
   ],
   "source": [
    "wandb.init(\n",
    "    project='Experiments',\n",
    "    entity='transfertab',\n",
    "    save_code=True, \n",
    "    group='Exp4c v2', \n",
    "    job_type='controlgrp',\n",
    "    tags=['base', 'bank', 'modelC'], \n",
    "    name='modelC training',\n",
    "    notes='Training modelC which contains randomly initialized weights and same classifier weights as modelB',\n",
    "    reinit=True,\n",
    "    dir='/Users/manikyabardhan/Documents/github/transfertab/results/exp4c-v2'\n",
    ")"
   ]
  },
  {
   "cell_type": "code",
   "execution_count": 109,
   "metadata": {},
   "outputs": [
    {
     "name": "stdout",
     "output_type": "stream",
     "text": [
      "WandbCallback requires use of \"SaveModelCallback\" to log best model\n"
     ]
    },
    {
     "data": {
      "text/html": [
       "<table border=\"1\" class=\"dataframe\">\n",
       "  <thead>\n",
       "    <tr style=\"text-align: left;\">\n",
       "      <th>epoch</th>\n",
       "      <th>train_loss</th>\n",
       "      <th>valid_loss</th>\n",
       "      <th>roc_auc_score</th>\n",
       "      <th>accuracy</th>\n",
       "      <th>time</th>\n",
       "    </tr>\n",
       "  </thead>\n",
       "  <tbody>\n",
       "    <tr>\n",
       "      <td>0</td>\n",
       "      <td>0.608667</td>\n",
       "      <td>0.660277</td>\n",
       "      <td>0.857243</td>\n",
       "      <td>0.683124</td>\n",
       "      <td>00:00</td>\n",
       "    </tr>\n",
       "    <tr>\n",
       "      <td>1</td>\n",
       "      <td>0.559486</td>\n",
       "      <td>0.533128</td>\n",
       "      <td>0.879744</td>\n",
       "      <td>0.800081</td>\n",
       "      <td>00:06</td>\n",
       "    </tr>\n",
       "    <tr>\n",
       "      <td>2</td>\n",
       "      <td>0.520422</td>\n",
       "      <td>0.478313</td>\n",
       "      <td>0.886226</td>\n",
       "      <td>0.808175</td>\n",
       "      <td>00:06</td>\n",
       "    </tr>\n",
       "    <tr>\n",
       "      <td>3</td>\n",
       "      <td>0.488429</td>\n",
       "      <td>0.467712</td>\n",
       "      <td>0.879713</td>\n",
       "      <td>0.820720</td>\n",
       "      <td>00:06</td>\n",
       "    </tr>\n",
       "    <tr>\n",
       "      <td>4</td>\n",
       "      <td>0.460895</td>\n",
       "      <td>0.446551</td>\n",
       "      <td>0.882524</td>\n",
       "      <td>0.814245</td>\n",
       "      <td>00:06</td>\n",
       "    </tr>\n",
       "    <tr>\n",
       "      <td>5</td>\n",
       "      <td>0.437998</td>\n",
       "      <td>0.426298</td>\n",
       "      <td>0.890396</td>\n",
       "      <td>0.826386</td>\n",
       "      <td>00:06</td>\n",
       "    </tr>\n",
       "    <tr>\n",
       "      <td>6</td>\n",
       "      <td>0.419734</td>\n",
       "      <td>0.429554</td>\n",
       "      <td>0.888822</td>\n",
       "      <td>0.821125</td>\n",
       "      <td>00:07</td>\n",
       "    </tr>\n",
       "    <tr>\n",
       "      <td>7</td>\n",
       "      <td>0.406062</td>\n",
       "      <td>0.427293</td>\n",
       "      <td>0.889090</td>\n",
       "      <td>0.821934</td>\n",
       "      <td>00:06</td>\n",
       "    </tr>\n",
       "  </tbody>\n",
       "</table>"
      ],
      "text/plain": [
       "<IPython.core.display.HTML object>"
      ]
     },
     "metadata": {},
     "output_type": "display_data"
    }
   ],
   "source": [
    "cbsC=[WandbCallback(log=\"all\", dataset_name=\"bank 0.3%\", n_preds=128, seed=1)]\n",
    "learnC.fit_one_cycle(8, cbs=cbsC)"
   ]
  },
  {
   "cell_type": "code",
   "execution_count": 110,
   "metadata": {},
   "outputs": [
    {
     "data": {
      "image/png": "[encoded data removed]",
      "text/plain": [
       "<Figure size 432x288 with 1 Axes>"
      ]
     },
     "metadata": {
      "needs_background": "light"
     },
     "output_type": "display_data"
    }
   ],
   "source": [
    "learnC.recorder.plot_loss()"
   ]
  },
  {
   "cell_type": "code",
   "execution_count": 111,
   "metadata": {},
   "outputs": [
    {
     "data": {
      "text/html": [
       "<br/>Waiting for W&B process to finish, PID 46593<br/>Program ended successfully."
      ],
      "text/plain": [
       "<IPython.core.display.HTML object>"
      ]
     },
     "metadata": {},
     "output_type": "display_data"
    },
    {
     "data": {
      "application/vnd.jupyter.widget-view+json": {
       "model_id": "018bd9b227294d9abd6fdd6a5fadfbc7",
       "version_major": 2,
       "version_minor": 0
      },
      "text/plain": [
       "VBox(children=(Label(value=' 0.63MB of 0.63MB uploaded (0.00MB deduped)\\r'), FloatProgress(value=1.0, max=1.0)…"
      ]
     },
     "metadata": {},
     "output_type": "display_data"
    },
    {
     "data": {
      "text/html": [
       "Find user logs for this run at: <code>/Users/manikyabardhan/Documents/github/transfertab/results/exp4c-v2/wandb/run-20211101_091542-2b8zxwxb/logs/debug.log</code>"
      ],
      "text/plain": [
       "<IPython.core.display.HTML object>"
      ]
     },
     "metadata": {},
     "output_type": "display_data"
    },
    {
     "data": {
      "text/html": [
       "Find internal logs for this run at: <code>/Users/manikyabardhan/Documents/github/transfertab/results/exp4c-v2/wandb/run-20211101_091542-2b8zxwxb/logs/debug-internal.log</code>"
      ],
      "text/plain": [
       "<IPython.core.display.HTML object>"
      ]
     },
     "metadata": {},
     "output_type": "display_data"
    },
    {
     "data": {
      "text/html": [
       "<h3>Run summary:</h3><br/><style>\n",
       "    table.wandb td:nth-child(1) { padding: 0 10px; text-align: right }\n",
       "    </style><table class=\"wandb\">\n",
       "<tr><td>epoch</td><td>8</td></tr><tr><td>train_loss</td><td>0.40606</td></tr><tr><td>raw_loss</td><td>0.35641</td></tr><tr><td>wd_0</td><td>0.01</td></tr><tr><td>sqr_mom_0</td><td>0.99</td></tr><tr><td>lr_0</td><td>0.0</td></tr><tr><td>mom_0</td><td>0.94998</td></tr><tr><td>eps_0</td><td>1e-05</td></tr><tr><td>_runtime</td><td>67</td></tr><tr><td>_timestamp</td><td>1635738409</td></tr><tr><td>_step</td><td>151</td></tr><tr><td>valid_loss</td><td>0.42729</td></tr><tr><td>roc_auc_score</td><td>0.88909</td></tr><tr><td>accuracy</td><td>0.82193</td></tr></table>"
      ],
      "text/plain": [
       "<IPython.core.display.HTML object>"
      ]
     },
     "metadata": {},
     "output_type": "display_data"
    },
    {
     "data": {
      "text/html": [
       "<h3>Run history:</h3><br/><style>\n",
       "    table.wandb td:nth-child(1) { padding: 0 10px; text-align: right }\n",
       "    </style><table class=\"wandb\">\n",
       "<tr><td>epoch</td><td>▁▁▁▁▂▂▂▂▂▃▃▃▃▃▃▄▄▄▄▄▅▅▅▅▅▅▆▆▆▆▆▇▇▇▇▇▇███</td></tr><tr><td>train_loss</td><td>███▇▇▆▆▆▅▅▅▅▄▄▄▄▄▄▃▃▃▃▃▃▂▂▂▂▂▂▂▂▂▁▁▁▁▁▁▁</td></tr><tr><td>raw_loss</td><td>██▇▆▆▆▆▅▄▄▅▄▄▄▃▄▂▃▃▃▂▃▂▄▂▂▂▃▂▂▂▂▁▂▂▁▂▂▂▁</td></tr><tr><td>wd_0</td><td>▁▁▁▁▁▁▁▁▁▁▁▁▁▁▁▁▁▁▁▁▁▁▁▁▁▁▁▁▁▁▁▁▁▁▁▁▁▁▁▁</td></tr><tr><td>sqr_mom_0</td><td>▁▁▁▁▁▁▁▁▁▁▁▁▁▁▁▁▁▁▁▁▁▁▁▁▁▁▁▁▁▁▁▁▁▁▁▁▁▁▁▁</td></tr><tr><td>lr_0</td><td>▁▁▂▃▄▅▆▇▇███████▇▇▇▆▆▆▅▅▅▄▄▄▃▃▃▂▂▂▂▁▁▁▁▁</td></tr><tr><td>mom_0</td><td>██▇▇▆▄▃▂▂▁▁▁▁▁▁▁▂▂▂▃▃▃▄▄▄▅▅▅▆▆▆▇▇▇▇█████</td></tr><tr><td>eps_0</td><td>▁▁▁▁▁▁▁▁▁▁▁▁▁▁▁▁▁▁▁▁▁▁▁▁▁▁▁▁▁▁▁▁▁▁▁▁▁▁▁▁</td></tr><tr><td>_runtime</td><td>▁▁▁▁▁▂▂▂▂▂▃▃▃▃▃▄▄▄▄▄▅▅▅▅▅▆▆▆▆▆▇▇▇▇▇█████</td></tr><tr><td>_timestamp</td><td>▁▁▁▁▁▂▂▂▂▂▃▃▃▃▃▄▄▄▄▄▅▅▅▅▅▆▆▆▆▆▇▇▇▇▇█████</td></tr><tr><td>_step</td><td>▁▁▁▁▂▂▂▂▂▃▃▃▃▃▃▄▄▄▄▄▅▅▅▅▅▅▆▆▆▆▆▇▇▇▇▇▇███</td></tr><tr><td>valid_loss</td><td>█▄▃▂▂▁▁▁</td></tr><tr><td>roc_auc_score</td><td>▁▆▇▆▆███</td></tr><tr><td>accuracy</td><td>▁▇▇█▇███</td></tr></table><br/>"
      ],
      "text/plain": [
       "<IPython.core.display.HTML object>"
      ]
     },
     "metadata": {},
     "output_type": "display_data"
    },
    {
     "data": {
      "text/html": [
       "Synced 7 W&B file(s), 8 media file(s), 8 artifact file(s) and 1 other file(s)"
      ],
      "text/plain": [
       "<IPython.core.display.HTML object>"
      ]
     },
     "metadata": {},
     "output_type": "display_data"
    },
    {
     "data": {
      "text/html": [
       "\n",
       "                    <br/>Synced <strong style=\"color:#cdcd00\">modelC training</strong>: <a href=\"https://wandb.ai/transfertab/Experiments/runs/2b8zxwxb\" target=\"_blank\">https://wandb.ai/transfertab/Experiments/runs/2b8zxwxb</a><br/>\n",
       "                "
      ],
      "text/plain": [
       "<IPython.core.display.HTML object>"
      ]
     },
     "metadata": {},
     "output_type": "display_data"
    }
   ],
   "source": [
    "wandb.finish()"
   ]
  },
  {
   "cell_type": "code",
   "execution_count": 112,
   "metadata": {},
   "outputs": [],
   "source": [
    "torch.save(learnB.model.state_dict(),\"../results/exp4c-v2/modelB_state_dict\")\n",
    "torch.save(learnC.model.state_dict(),\"../results/exp4c-v2/modelC_state_dict\")"
   ]
  },
  {
   "cell_type": "code",
   "execution_count": 113,
   "metadata": {},
   "outputs": [
    {
     "data": {
      "text/plain": [
       "OrderedDict([('embeds.0.weight',\n",
       "              tensor([[ 0.0028, -0.0037,  0.0106, -0.0079,  0.0066, -0.0125, -0.0009],\n",
       "                      [-0.0748, -0.0353, -0.0279, -0.0419,  0.0048,  0.1019,  0.0367],\n",
       "                      [ 0.0337,  0.0332, -0.0002,  0.0111,  0.0184,  0.0006,  0.0317],\n",
       "                      [ 0.0064,  0.0925,  0.0245,  0.0144, -0.0080, -0.0071, -0.0284],\n",
       "                      [ 0.0931, -0.0545,  0.1390, -0.0037, -0.0719, -0.0115, -0.0150],\n",
       "                      [-0.0386,  0.0412, -0.0634,  0.0064,  0.0619,  0.0253, -0.0042],\n",
       "                      [-0.0381, -0.0761, -0.0039, -0.0610,  0.0093, -0.0381,  0.0322],\n",
       "                      [ 0.0848, -0.0294,  0.0395,  0.0607, -0.0904, -0.0394,  0.1236],\n",
       "                      [ 0.0060,  0.0425, -0.0086,  0.0106,  0.0148,  0.0493, -0.0118],\n",
       "                      [-0.0169, -0.0866,  0.0317, -0.0122,  0.0251, -0.1155,  0.0106],\n",
       "                      [ 0.0598, -0.0023,  0.0174,  0.0342, -0.0088, -0.0320, -0.0730],\n",
       "                      [-0.0054,  0.0597, -0.0490,  0.0619, -0.0388, -0.0010, -0.0446],\n",
       "                      [-0.0346,  0.0329, -0.0559, -0.0779,  0.0905, -0.0121, -0.0039]])),\n",
       "             ('embeds.1.weight',\n",
       "              tensor([[-0.0041,  0.0100,  0.0102, -0.0024],\n",
       "                      [-0.0086,  0.0186,  0.0399,  0.0125],\n",
       "                      [-0.0404,  0.0170, -0.0541, -0.0395],\n",
       "                      [ 0.0666, -0.0388, -0.0164,  0.0740],\n",
       "                      [-0.0845,  0.0031, -0.1106,  0.0931]])),\n",
       "             ('embeds.2.weight',\n",
       "              tensor([[ 0.0059, -0.0020,  0.0019,  0.0061, -0.0048],\n",
       "                      [ 0.0597,  0.1177,  0.1186, -0.0544, -0.0423],\n",
       "                      [-0.0306, -0.0652, -0.0153,  0.0896,  0.0872],\n",
       "                      [ 0.0333, -0.0498,  0.0701,  0.0541,  0.0840],\n",
       "                      [ 0.0498, -0.0252,  0.0268, -0.0145,  0.0326],\n",
       "                      [ 0.0408,  0.0829,  0.0542, -0.0585, -0.0488],\n",
       "                      [-0.0106,  0.0246,  0.0162,  0.0361, -0.0629],\n",
       "                      [-0.0772, -0.0080, -0.0866, -0.0726, -0.0897],\n",
       "                      [-0.0504,  0.0272, -0.0656, -0.0539, -0.0377]])),\n",
       "             ('embeds.3.weight',\n",
       "              tensor([[-0.0060,  0.0189,  0.0150],\n",
       "                      [-0.0266,  0.0080, -0.0342],\n",
       "                      [ 0.0375, -0.0340,  0.0262]])),\n",
       "             ('embeds.4.weight',\n",
       "              tensor([[-0.0045, -0.0051, -0.0016],\n",
       "                      [-0.0336,  0.0686,  0.0328],\n",
       "                      [-0.0370,  0.0153, -0.0350],\n",
       "                      [ 0.0313, -0.0419,  0.0021]])),\n",
       "             ('embeds.5.weight',\n",
       "              tensor([[ 0.0012, -0.0142, -0.0104],\n",
       "                      [-0.0122,  0.0625, -0.0629],\n",
       "                      [-0.0230,  0.0030,  0.0085],\n",
       "                      [ 0.0296, -0.0451,  0.0757]])),\n",
       "             ('embeds.6.weight',\n",
       "              tensor([[-0.0063, -0.0112,  0.0176],\n",
       "                      [-0.1092,  0.0545,  0.0515],\n",
       "                      [ 0.0557, -0.0688, -0.0290]])),\n",
       "             ('embeds.7.weight',\n",
       "              tensor([[-0.0155, -0.0009,  0.0004,  0.0151, -0.0058, -0.0025],\n",
       "                      [ 0.0223,  0.0633,  0.0229, -0.0307,  0.0026,  0.0299],\n",
       "                      [-0.0039,  0.0270, -0.0022,  0.0147, -0.0322, -0.0180],\n",
       "                      [-0.0354,  0.0149, -0.0376,  0.0172, -0.0280, -0.0460],\n",
       "                      [ 0.0261, -0.0048, -0.0129, -0.0211,  0.0229,  0.0132],\n",
       "                      [ 0.0090, -0.0120,  0.0153,  0.0174, -0.0104,  0.0020],\n",
       "                      [-0.0413, -0.0589, -0.0229,  0.0614, -0.0211, -0.0338],\n",
       "                      [-0.0009, -0.0382,  0.0063,  0.0026,  0.0322,  0.0037],\n",
       "                      [ 0.0299,  0.0026,  0.0288, -0.0096,  0.0356,  0.0148],\n",
       "                      [-0.0495, -0.0637, -0.0111, -0.0077, -0.0158, -0.0494],\n",
       "                      [-0.0055, -0.0106, -0.0160,  0.0018, -0.0078, -0.0080]])),\n",
       "             ('embeds.8.weight',\n",
       "              tensor([[-0.0149,  0.0151,  0.0047, -0.0171],\n",
       "                      [ 0.0037, -0.0548,  0.0571,  0.0278],\n",
       "                      [ 0.0803, -0.0372, -0.0220, -0.0762],\n",
       "                      [-0.0623, -0.0635, -0.0729, -0.0186],\n",
       "                      [-0.0769,  0.0746, -0.0176, -0.0139],\n",
       "                      [ 0.0144,  0.0724,  0.0227,  0.0758]])),\n",
       "             ('embeds.9.weight',\n",
       "              tensor([[-0.0127,  0.0069,  0.0047],\n",
       "                      [-0.0297, -0.0343, -0.0328],\n",
       "                      [-0.0096,  0.0156,  0.0177],\n",
       "                      [ 0.0031,  0.0092,  0.0236]])),\n",
       "             ('bn_cont.weight',\n",
       "              tensor([0.9825, 1.0318, 0.9832, 0.9860, 0.9877, 0.9994, 1.0083, 0.9999, 1.0001,\n",
       "                      0.9885])),\n",
       "             ('bn_cont.bias',\n",
       "              tensor([ 0.0054, -0.0048,  0.0012,  0.0008, -0.0045, -0.0068,  0.0039, -0.0015,\n",
       "                       0.0104,  0.0004])),\n",
       "             ('bn_cont.running_mean',\n",
       "              tensor([-0.0049,  0.0029, -0.0003,  0.0116, -0.0047, -0.0034, -0.0041,  0.0005,\n",
       "                       0.0023,  0.0030])),\n",
       "             ('bn_cont.running_var',\n",
       "              tensor([0.9835, 1.0166, 0.9810, 0.9719, 0.9768, 1.0038, 0.9986, 0.9993, 0.9949,\n",
       "                      0.9965])),\n",
       "             ('bn_cont.num_batches_tracked', tensor(152)),\n",
       "             ('layers.0.0.weight',\n",
       "              tensor([[-0.1068, -0.1141, -0.0483,  ...,  0.0728, -0.1294, -0.0924],\n",
       "                      [ 0.1252,  0.1197,  0.0975,  ...,  0.0357,  0.1131, -0.0743],\n",
       "                      [-0.0123, -0.1159,  0.1176,  ..., -0.0701, -0.0165,  0.1237],\n",
       "                      ...,\n",
       "                      [-0.0033, -0.0789, -0.0378,  ...,  0.1134, -0.0643,  0.0293],\n",
       "                      [-0.0988, -0.0980,  0.0149,  ..., -0.1279,  0.0207,  0.0789],\n",
       "                      [-0.0916,  0.1009,  0.0628,  ..., -0.0855,  0.0501,  0.0959]])),\n",
       "             ('layers.0.2.weight',\n",
       "              tensor([1.0041, 1.0069, 1.0044, 1.0133, 1.0033, 0.9990, 1.0101, 1.0076, 0.9947,\n",
       "                      1.0084, 1.0060, 0.9933, 1.0021, 1.0031, 0.9957, 0.9971, 0.9916, 1.0002,\n",
       "                      1.0016, 1.0178, 0.9993, 0.9948, 0.9976, 1.0059, 0.9995, 1.0033, 0.9890,\n",
       "                      1.0157, 0.9867, 0.9982, 1.0019, 0.9944, 0.9880, 0.9985, 1.0033, 1.0016,\n",
       "                      0.9942, 1.0031, 0.9916, 1.0067, 0.9998, 1.0013, 0.9974, 1.0069, 0.9968,\n",
       "                      1.0025, 0.9988, 1.0047, 1.0053, 1.0057, 0.9950, 1.0076, 1.0025, 1.0186,\n",
       "                      1.0075, 0.9973, 0.9908, 0.9896, 0.9916, 1.0070, 0.9884, 0.9901, 1.0057,\n",
       "                      0.9953, 1.0101, 1.0009, 0.9998, 0.9909, 1.0087, 1.0011, 0.9935, 0.9973,\n",
       "                      0.9855, 1.0040, 1.0029, 0.9910, 1.0062, 0.9955, 0.9970, 1.0071, 0.9987,\n",
       "                      1.0001, 1.0007, 0.9908, 0.9948, 1.0048, 0.9955, 1.0159, 1.0006, 0.9940,\n",
       "                      1.0100, 1.0043, 1.0025, 0.9983, 1.0060, 0.9943, 0.9937, 1.0076, 1.0072,\n",
       "                      1.0032, 1.0037, 0.9946, 0.9885, 0.9959, 0.9931, 0.9972, 0.9984, 0.9993,\n",
       "                      0.9915, 0.9948, 0.9931, 1.0060, 0.9969, 1.0078, 1.0011, 0.9861, 0.9980,\n",
       "                      0.9978, 0.9923, 0.9868, 0.9878, 0.9900, 0.9961, 0.9966, 0.9991, 0.9967,\n",
       "                      1.0169, 1.0018, 0.9948, 0.9967, 1.0024, 1.0017, 1.0006, 0.9962, 1.0027,\n",
       "                      1.0120, 0.9994, 1.0154, 1.0052, 0.9979, 1.0045, 0.9952, 1.0038, 0.9967,\n",
       "                      1.0019, 1.0012, 1.0011, 1.0027, 0.9935, 0.9941, 0.9965, 0.9971, 0.9842,\n",
       "                      0.9979, 1.0040, 0.9964, 0.9985, 1.0072, 0.9996, 0.9939, 1.0042, 0.9989,\n",
       "                      1.0082, 1.0023, 1.0003, 1.0049, 0.9921, 1.0155, 0.9988, 0.9945, 0.9978,\n",
       "                      0.9994, 0.9979, 1.0029, 1.0128, 1.0086, 0.9929, 0.9904, 1.0059, 1.0062,\n",
       "                      0.9987, 0.9966, 0.9923, 0.9998, 1.0052, 1.0124, 0.9898, 0.9922, 0.9952,\n",
       "                      0.9919, 1.0166, 0.9937, 1.0073, 1.0022, 1.0105, 0.9991, 0.9926, 1.0043,\n",
       "                      0.9939, 0.9947])),\n",
       "             ('layers.0.2.bias',\n",
       "              tensor([ 1.0107e-02, -3.1756e-03,  5.0215e-03,  4.4318e-03, -3.4793e-03,\n",
       "                       1.4166e-02,  1.0424e-03,  6.5719e-04,  2.7506e-03,  7.9356e-03,\n",
       "                      -4.7556e-03,  1.1052e-02,  1.9234e-02, -6.2897e-03, -4.4675e-03,\n",
       "                       5.5105e-04,  1.3113e-02, -7.2500e-03,  9.2535e-03, -2.3095e-03,\n",
       "                       2.8025e-04,  9.5354e-03,  1.0862e-02,  6.0084e-03,  1.4006e-02,\n",
       "                       8.0452e-03,  4.0632e-03,  1.2438e-02, -3.8951e-03, -5.4387e-03,\n",
       "                      -6.6988e-03, -3.3343e-03,  8.5718e-04,  5.5667e-03,  1.6143e-03,\n",
       "                      -7.2255e-03,  3.7375e-03, -1.0232e-02,  6.4483e-03,  1.9977e-02,\n",
       "                       4.3182e-03, -5.7727e-03,  5.7899e-03, -1.0046e-02, -1.6110e-03,\n",
       "                      -3.8976e-03, -5.4606e-03, -2.7455e-03,  2.8077e-04,  6.2933e-03,\n",
       "                       3.6880e-03,  7.7149e-03,  9.1033e-03, -3.6931e-03, -5.3755e-03,\n",
       "                       9.5726e-03, -4.7684e-03,  8.7281e-03,  2.3368e-04,  5.6976e-03,\n",
       "                      -4.0385e-03,  5.7798e-03, -1.4119e-02,  9.6782e-03,  1.7753e-02,\n",
       "                      -5.0801e-03,  1.8610e-03, -1.1667e-02,  1.4153e-02,  5.9633e-03,\n",
       "                      -2.5407e-04, -3.9710e-03, -6.6521e-03,  6.6116e-03, -1.2207e-03,\n",
       "                       6.4035e-03, -1.1834e-02,  4.9320e-03,  1.0667e-02, -7.9134e-03,\n",
       "                      -4.6795e-03,  1.7348e-02,  1.1180e-03, -6.9486e-03,  5.5644e-03,\n",
       "                      -3.0038e-03, -3.7223e-03,  4.2797e-03,  4.6786e-03,  8.1853e-05,\n",
       "                       8.6254e-04, -5.5325e-03, -2.0785e-03,  4.0780e-03,  3.2447e-03,\n",
       "                      -4.8562e-03,  3.0159e-03, -4.4173e-03, -1.2544e-02, -6.0057e-03,\n",
       "                       3.1692e-03, -1.6961e-03, -5.0753e-03,  1.7347e-02,  5.4745e-03,\n",
       "                       8.5651e-03, -5.2650e-03, -8.3833e-03, -3.9509e-03, -5.1219e-03,\n",
       "                       1.8126e-03,  5.1422e-03, -5.5563e-03, -2.6653e-03,  3.8553e-03,\n",
       "                      -3.8194e-03,  1.9185e-03,  6.3589e-03, -2.3004e-03, -3.9305e-03,\n",
       "                       2.6487e-03, -1.5613e-03,  9.4370e-03, -2.6605e-03,  1.2526e-02,\n",
       "                       3.3447e-03, -2.8314e-03, -6.6922e-04,  4.7671e-03,  5.5726e-03,\n",
       "                       1.9369e-03, -1.4252e-02,  3.8053e-03,  8.1464e-03, -3.6768e-03,\n",
       "                       3.7360e-03,  6.2527e-03,  1.5486e-02, -1.1784e-02, -1.1715e-03,\n",
       "                      -4.0050e-03,  1.1454e-02, -2.7428e-03, -1.3782e-02,  6.6167e-03,\n",
       "                      -3.3025e-03,  3.9145e-03, -3.1851e-03, -5.9731e-03, -3.5068e-03,\n",
       "                       1.7276e-02, -5.8268e-03,  4.6648e-03,  4.8964e-03, -3.3834e-03,\n",
       "                      -1.7177e-02, -1.9484e-03,  2.3149e-03,  1.4932e-03, -2.2702e-03,\n",
       "                      -4.1657e-03,  1.2004e-02,  7.6631e-03,  4.4562e-03,  6.2241e-03,\n",
       "                       5.1040e-03, -5.3343e-03, -9.9993e-03, -1.6402e-03, -4.0909e-03,\n",
       "                      -5.2113e-03,  2.9176e-03,  1.1543e-02,  1.8469e-02,  3.0159e-03,\n",
       "                      -4.5405e-03, -1.7107e-03,  2.0308e-03,  1.5917e-02,  1.1113e-02,\n",
       "                       8.5368e-03, -3.6411e-03,  1.1119e-02,  2.2984e-03, -3.7161e-03,\n",
       "                      -3.1591e-03,  1.4740e-03,  8.4891e-04, -1.3174e-03,  1.6302e-04,\n",
       "                       9.9916e-03,  4.5332e-03, -9.7836e-03, -5.3799e-03, -1.1909e-02,\n",
       "                       7.8084e-03, -3.5872e-03,  3.4225e-03,  7.7373e-03,  1.3306e-02])),\n",
       "             ('layers.0.2.running_mean',\n",
       "              tensor([0.1510, 0.0685, 0.1384, 0.0627, 0.1362, 0.1032, 0.0985, 0.0996, 0.0785,\n",
       "                      0.0782, 0.0823, 0.1286, 0.0859, 0.0562, 0.0772, 0.0762, 0.1289, 0.0997,\n",
       "                      0.0935, 0.0933, 0.1426, 0.0367, 0.0718, 0.0479, 0.0718, 0.1461, 0.0915,\n",
       "                      0.0981, 0.0824, 0.1540, 0.0520, 0.1138, 0.1004, 0.0752, 0.0954, 0.0883,\n",
       "                      0.0836, 0.0919, 0.1042, 0.0650, 0.0774, 0.1405, 0.0797, 0.0654, 0.0759,\n",
       "                      0.1003, 0.1129, 0.1073, 0.0981, 0.0874, 0.0954, 0.1406, 0.0672, 0.0905,\n",
       "                      0.1093, 0.1601, 0.0928, 0.1066, 0.0727, 0.0989, 0.0804, 0.1288, 0.0683,\n",
       "                      0.0882, 0.0965, 0.0722, 0.1626, 0.1237, 0.0958, 0.1072, 0.1007, 0.0902,\n",
       "                      0.1284, 0.1619, 0.0853, 0.0828, 0.0408, 0.1266, 0.1270, 0.0691, 0.1030,\n",
       "                      0.1153, 0.0915, 0.0567, 0.1019, 0.0926, 0.0911, 0.0912, 0.1028, 0.0979,\n",
       "                      0.0563, 0.0822, 0.1010, 0.0855, 0.0532, 0.0969, 0.1002, 0.1009, 0.0693,\n",
       "                      0.0875, 0.0748, 0.1117, 0.1248, 0.1003, 0.1003, 0.0723, 0.0777, 0.1075,\n",
       "                      0.0807, 0.0952, 0.0828, 0.0772, 0.0648, 0.0962, 0.0708, 0.1678, 0.1004,\n",
       "                      0.1681, 0.0792, 0.1146, 0.1515, 0.1495, 0.1254, 0.0571, 0.0498, 0.1304,\n",
       "                      0.0734, 0.0764, 0.0953, 0.0969, 0.0729, 0.0869, 0.0699, 0.0611, 0.0668,\n",
       "                      0.1106, 0.0360, 0.0924, 0.1214, 0.1016, 0.0732, 0.0783, 0.0886, 0.0808,\n",
       "                      0.0615, 0.0753, 0.1023, 0.1180, 0.0317, 0.0948, 0.0792, 0.0871, 0.0869,\n",
       "                      0.1162, 0.1023, 0.0878, 0.0869, 0.0807, 0.0665, 0.1123, 0.0758, 0.1240,\n",
       "                      0.0760, 0.1065, 0.0957, 0.0892, 0.0771, 0.0721, 0.1187, 0.0773, 0.1250,\n",
       "                      0.0581, 0.0748, 0.0708, 0.0681, 0.0400, 0.0855, 0.0671, 0.0737, 0.0961,\n",
       "                      0.1051, 0.1354, 0.0895, 0.1167, 0.0847, 0.0713, 0.1440, 0.1020, 0.0985,\n",
       "                      0.1160, 0.0743, 0.0875, 0.0995, 0.0763, 0.1063, 0.1215, 0.1062, 0.1028,\n",
       "                      0.0953, 0.1422])),\n",
       "             ('layers.0.2.running_var',\n",
       "              tensor([0.0652, 0.0173, 0.0201, 0.0049, 0.0474, 0.0301, 0.0272, 0.0147, 0.0076,\n",
       "                      0.0164, 0.0197, 0.0516, 0.0257, 0.0106, 0.0214, 0.0202, 0.0204, 0.0312,\n",
       "                      0.0226, 0.0188, 0.0194, 0.0040, 0.0177, 0.0038, 0.0091, 0.0360, 0.0143,\n",
       "                      0.0161, 0.0131, 0.0599, 0.0095, 0.0348, 0.0268, 0.0203, 0.0146, 0.0295,\n",
       "                      0.0143, 0.0213, 0.0197, 0.0116, 0.0153, 0.0617, 0.0142, 0.0117, 0.0265,\n",
       "                      0.0249, 0.0503, 0.0245, 0.0267, 0.0248, 0.0167, 0.0234, 0.0095, 0.0242,\n",
       "                      0.0173, 0.0597, 0.0198, 0.0332, 0.0159, 0.0285, 0.0139, 0.0621, 0.0124,\n",
       "                      0.0204, 0.0108, 0.0148, 0.0299, 0.0401, 0.0259, 0.0254, 0.0242, 0.0266,\n",
       "                      0.0176, 0.0526, 0.0206, 0.0114, 0.0034, 0.0527, 0.0227, 0.0099, 0.0314,\n",
       "                      0.0448, 0.0196, 0.0140, 0.0157, 0.0320, 0.0140, 0.0208, 0.0326, 0.0372,\n",
       "                      0.0084, 0.0307, 0.0303, 0.0299, 0.0109, 0.0295, 0.0226, 0.0209, 0.0087,\n",
       "                      0.0273, 0.0138, 0.0517, 0.0625, 0.0256, 0.0259, 0.0179, 0.0186, 0.0315,\n",
       "                      0.0158, 0.0247, 0.0201, 0.0198, 0.0097, 0.0116, 0.0179, 0.0896, 0.0361,\n",
       "                      0.0289, 0.0169, 0.0149, 0.0243, 0.0283, 0.0551, 0.0074, 0.0047, 0.0195,\n",
       "                      0.0123, 0.0191, 0.0234, 0.0089, 0.0182, 0.0289, 0.0124, 0.0077, 0.0083,\n",
       "                      0.0516, 0.0031, 0.0121, 0.0298, 0.0227, 0.0197, 0.0120, 0.0282, 0.0210,\n",
       "                      0.0148, 0.0144, 0.0116, 0.0374, 0.0021, 0.0198, 0.0114, 0.0238, 0.0186,\n",
       "                      0.0344, 0.0104, 0.0266, 0.0323, 0.0180, 0.0135, 0.0240, 0.0047, 0.0149,\n",
       "                      0.0152, 0.0187, 0.0224, 0.0233, 0.0192, 0.0164, 0.0227, 0.0080, 0.0447,\n",
       "                      0.0126, 0.0094, 0.0063, 0.0140, 0.0026, 0.0212, 0.0116, 0.0160, 0.0116,\n",
       "                      0.0194, 0.0181, 0.0220, 0.0427, 0.0202, 0.0112, 0.0216, 0.0278, 0.0096,\n",
       "                      0.0600, 0.0115, 0.0250, 0.0259, 0.0079, 0.0327, 0.0397, 0.0184, 0.0298,\n",
       "                      0.0113, 0.0229])),\n",
       "             ('layers.0.2.num_batches_tracked', tensor(152)),\n",
       "             ('layers.1.0.weight',\n",
       "              tensor([[ 0.0504,  0.0461,  0.0567,  ..., -0.0267,  0.0372, -0.0263],\n",
       "                      [-0.0264, -0.0224, -0.0453,  ..., -0.0671, -0.0003, -0.0649],\n",
       "                      [-0.0216,  0.0476,  0.0057,  ...,  0.0529, -0.0612,  0.0502],\n",
       "                      ...,\n",
       "                      [-0.0277,  0.0432, -0.0510,  ...,  0.0249,  0.0413,  0.0266],\n",
       "                      [-0.0248,  0.0389,  0.0396,  ...,  0.0440, -0.0465, -0.0213],\n",
       "                      [ 0.0563,  0.0705,  0.0210,  ...,  0.0083,  0.0516, -0.0198]])),\n",
       "             ('layers.1.2.weight',\n",
       "              tensor([0.9946, 1.0045, 0.9975, 0.9958, 1.0015, 0.9945, 0.9912, 1.0022, 0.9904,\n",
       "                      0.9892, 0.9955, 1.0031, 0.9980, 0.9965, 0.9962, 0.9915, 0.9969, 0.9959,\n",
       "                      1.0031, 0.9962, 1.0074, 0.9941, 0.9953, 1.0023, 1.0072, 0.9964, 0.9971,\n",
       "                      0.9920, 0.9968, 1.0022, 0.9854, 0.9904, 0.9966, 0.9978, 0.9945, 0.9973,\n",
       "                      1.0011, 0.9951, 0.9922, 1.0005, 0.9886, 0.9972, 0.9984, 0.9936, 0.9944,\n",
       "                      1.0057, 0.9974, 1.0025, 0.9911, 0.9938, 0.9933, 1.0024, 0.9878, 1.0057,\n",
       "                      0.9972, 1.0048, 0.9930, 0.9956, 1.0002, 0.9843, 0.9890, 0.9973, 1.0086,\n",
       "                      0.9928, 0.9941, 0.9884, 0.9939, 0.9989, 0.9974, 1.0035, 1.0032, 0.9919,\n",
       "                      0.9901, 0.9962, 0.9982, 0.9972, 0.9918, 1.0023, 0.9989, 0.9816, 1.0056,\n",
       "                      0.9988, 1.0074, 0.9979, 0.9951, 1.0075, 0.9955, 0.9919, 0.9954, 0.9866,\n",
       "                      0.9985, 1.0010, 0.9972, 0.9932, 1.0001, 0.9946, 0.9935, 1.0038, 0.9902,\n",
       "                      0.9990])),\n",
       "             ('layers.1.2.bias',\n",
       "              tensor([-0.0641,  0.0691, -0.0703,  0.0714, -0.0664, -0.0667,  0.0701,  0.0696,\n",
       "                       0.0706, -0.0659,  0.0763, -0.0670,  0.0686, -0.0674,  0.0682, -0.0656,\n",
       "                       0.0699,  0.0683,  0.0822,  0.0684, -0.0677, -0.0673,  0.0699, -0.0662,\n",
       "                      -0.0670,  0.0745,  0.0695, -0.0660,  0.0753, -0.0675,  0.0486, -0.0665,\n",
       "                       0.0700, -0.0755,  0.0680, -0.0669,  0.0711, -0.0784, -0.0659,  0.0687,\n",
       "                       0.0685,  0.0699,  0.0690,  0.0700,  0.0800, -0.0701,  0.0686,  0.0805,\n",
       "                       0.0686,  0.0679, -0.0665,  0.0698,  0.0676, -0.0707,  0.0681, -0.0689,\n",
       "                       0.0681,  0.0847,  0.0697, -0.0649,  0.0690,  0.0700,  0.0714,  0.0683,\n",
       "                      -0.0675,  0.0678, -0.0663,  0.0698, -0.0673,  0.0685, -0.0779,  0.0746,\n",
       "                       0.0676, -0.0660,  0.0685,  0.0705,  0.0716, -0.0732,  0.0699,  0.0570,\n",
       "                      -0.0679, -0.0685, -0.0709,  0.0698,  0.0764, -0.0698,  0.0760,  0.0757,\n",
       "                      -0.0663,  0.0672,  0.0804, -0.0680, -0.0663, -0.0656,  0.0694, -0.0698,\n",
       "                       0.0765,  0.0769, -0.0767, -0.0661])),\n",
       "             ('layers.1.2.running_mean',\n",
       "              tensor([0.2148, 0.1575, 0.3132, 0.4007, 0.2144, 0.2968, 0.2248, 0.2158, 0.2904,\n",
       "                      0.2812, 0.2567, 0.1724, 0.4242, 0.2426, 0.2749, 0.2009, 0.2408, 0.2985,\n",
       "                      0.1735, 0.2336, 0.2418, 0.3184, 0.2573, 0.1775, 0.3150, 0.4750, 0.3141,\n",
       "                      0.3198, 0.3417, 0.2196, 0.2018, 0.2133, 0.2374, 0.2640, 0.2908, 0.2780,\n",
       "                      0.2440, 0.3778, 0.3584, 0.4452, 0.2800, 0.2947, 0.2640, 0.3608, 0.2043,\n",
       "                      0.2028, 0.3793, 0.2892, 0.3242, 0.2406, 0.2536, 0.4031, 0.3704, 0.2049,\n",
       "                      0.3310, 0.2888, 0.2850, 0.3909, 0.2279, 0.2141, 0.1916, 0.2951, 0.2027,\n",
       "                      0.1470, 0.3593, 0.2913, 0.2232, 0.2094, 0.3018, 0.2311, 0.1933, 0.2850,\n",
       "                      0.2861, 0.2394, 0.1808, 0.2487, 0.2089, 0.2573, 0.2223, 0.2278, 0.1937,\n",
       "                      0.1779, 0.1280, 0.4897, 0.2536, 0.2003, 0.4828, 0.2110, 0.2102, 0.3378,\n",
       "                      0.3214, 0.2415, 0.2353, 0.3319, 0.2790, 0.2819, 0.3080, 0.2929, 0.3945,\n",
       "                      0.1841])),\n",
       "             ('layers.1.2.running_var',\n",
       "              tensor([0.1020, 0.0409, 0.3939, 0.1734, 0.1575, 0.2864, 0.0782, 0.0930, 0.1223,\n",
       "                      0.1961, 0.1386, 0.0947, 0.1453, 0.1281, 0.2684, 0.1006, 0.2381, 0.2949,\n",
       "                      0.0876, 0.1078, 0.1508, 0.3060, 0.1460, 0.0967, 0.3012, 0.2431, 0.3341,\n",
       "                      0.3293, 0.1453, 0.1423, 0.1187, 0.1483, 0.1868, 0.1090, 0.1098, 0.1833,\n",
       "                      0.1521, 0.4357, 0.3294, 0.4571, 0.1128, 0.2273, 0.1817, 0.3454, 0.0642,\n",
       "                      0.1037, 0.3539, 0.2448, 0.2573, 0.1837, 0.1685, 0.1458, 0.1301, 0.0713,\n",
       "                      0.1219, 0.1966, 0.1929, 0.4350, 0.0970, 0.1439, 0.1192, 0.1210, 0.0615,\n",
       "                      0.0939, 0.2205, 0.1154, 0.1232, 0.0991, 0.2504, 0.1825, 0.1235, 0.1306,\n",
       "                      0.1541, 0.1726, 0.0707, 0.1762, 0.0666, 0.1683, 0.1464, 0.1914, 0.1318,\n",
       "                      0.0976, 0.0353, 0.2067, 0.2032, 0.0895, 0.2695, 0.0873, 0.1392, 0.3640,\n",
       "                      0.1392, 0.2092, 0.1470, 0.4660, 0.1231, 0.1644, 0.1758, 0.1649, 0.4325,\n",
       "                      0.1154])),\n",
       "             ('layers.1.2.num_batches_tracked', tensor(152)),\n",
       "             ('layers.2.0.weight',\n",
       "              tensor([[-0.0518,  0.0969, -0.0016,  0.0790, -0.1086, -0.0853, -0.0472, -0.0026,\n",
       "                        0.0373, -0.0878,  0.0355, -0.1042,  0.0418, -0.0006,  0.1049, -0.0888,\n",
       "                        0.1115,  0.0404,  0.0809,  0.1046, -0.1073,  0.0138,  0.0090, -0.0996,\n",
       "                       -0.1050,  0.1116,  0.0978, -0.0220,  0.0559, -0.0782, -0.0508,  0.0178,\n",
       "                        0.0473, -0.0939,  0.0974, -0.0220,  0.0520, -0.0756, -0.0273,  0.0686,\n",
       "                        0.0387, -0.0110,  0.0366,  0.1021,  0.0158, -0.1009,  0.0409,  0.0527,\n",
       "                        0.0962,  0.0645, -0.0038,  0.1132,  0.0868, -0.0582,  0.1073,  0.0213,\n",
       "                        0.0314, -0.0580,  0.0098, -0.0708, -0.0358,  0.0750, -0.0073,  0.0757,\n",
       "                       -0.0939,  0.1078, -0.1020,  0.0884, -0.0505,  0.1077,  0.0285,  0.0045,\n",
       "                        0.0785, -0.0706,  0.1117,  0.0565,  0.1083,  0.0592,  0.0704, -0.0831,\n",
       "                       -0.1021, -0.0277, -0.0057,  0.0781,  0.0793, -0.0197, -0.0019, -0.0372,\n",
       "                       -0.0820,  0.0974,  0.0593, -0.0149, -0.0942, -0.0782,  0.0212, -0.0254,\n",
       "                        0.0409,  0.0408,  0.0642, -0.0909],\n",
       "                      [-0.0158, -0.0611,  0.0473,  0.0407,  0.0331,  0.0197, -0.1018, -0.1128,\n",
       "                       -0.0073, -0.0135, -0.0079,  0.0365, -0.0994,  0.0766, -0.0381,  0.0903,\n",
       "                        0.0263, -0.1053,  0.0333,  0.0288,  0.0349,  0.0828, -0.0818,  0.0897,\n",
       "                        0.0652,  0.0670,  0.0207,  0.0730,  0.0103,  0.0333, -0.0627,  0.0676,\n",
       "                       -0.0174, -0.0577, -0.1027,  0.0985, -0.0137, -0.0435,  0.0689, -0.0650,\n",
       "                       -0.0746, -0.0789, -0.0684,  0.0629, -0.0260, -0.0254, -0.0722,  0.0037,\n",
       "                        0.0297, -0.0874,  0.0935,  0.0052, -0.0887,  0.0090, -0.0585,  0.1083,\n",
       "                       -0.1030, -0.0965, -0.0929,  0.0819, -0.0670, -0.0102, -0.1122, -0.0391,\n",
       "                       -0.0160, -0.0101, -0.0150, -0.0194,  0.0469, -0.0985,  0.0782, -0.0343,\n",
       "                       -0.0777,  0.0905, -0.0487, -0.0133,  0.0518,  0.1089, -0.0214, -0.0899,\n",
       "                        0.0168,  0.0453,  0.0701, -0.0015,  0.0488,  0.0705, -0.0394, -0.0726,\n",
       "                        0.0656, -0.0806,  0.0149,  0.0814,  0.0501,  0.1023, -0.0900,  0.0190,\n",
       "                        0.0101, -0.0116,  0.0891,  0.1113]])),\n",
       "             ('layers.2.0.bias', tensor([ 0.1311, -0.0081]))])"
      ]
     },
     "execution_count": 113,
     "metadata": {},
     "output_type": "execute_result"
    }
   ],
   "source": [
    "learnB.model.state_dict()"
   ]
  },
  {
   "cell_type": "code",
   "execution_count": 114,
   "metadata": {},
   "outputs": [
    {
     "data": {
      "text/plain": [
       "OrderedDict([('embeds.0.weight',\n",
       "              tensor([[-0.0020, -0.0050, -0.0009,  0.0097, -0.0045, -0.0065,  0.0064],\n",
       "                      [-0.0126, -0.0143,  0.0184, -0.0268,  0.0166,  0.0199, -0.0203],\n",
       "                      [ 0.0253,  0.0199, -0.0130,  0.0154, -0.0054,  0.0262,  0.0028],\n",
       "                      [-0.0205, -0.0126, -0.0010, -0.0073, -0.0068, -0.0157,  0.0137],\n",
       "                      [-0.0293, -0.0056,  0.0032, -0.0134,  0.0119, -0.0157, -0.0048],\n",
       "                      [ 0.0328,  0.0149, -0.0210, -0.0082, -0.0009,  0.0093,  0.0015],\n",
       "                      [-0.0201,  0.0226, -0.0007, -0.0049, -0.0081,  0.0021, -0.0120],\n",
       "                      [ 0.0216,  0.0103, -0.0190,  0.0204,  0.0037, -0.0207, -0.0171],\n",
       "                      [ 0.0220, -0.0270, -0.0241, -0.0035, -0.0119,  0.0320, -0.0027],\n",
       "                      [-0.0072,  0.0082,  0.0130, -0.0012, -0.0106, -0.0186,  0.0101],\n",
       "                      [ 0.0078,  0.0171,  0.0352,  0.0367,  0.0096, -0.0509,  0.0156],\n",
       "                      [ 0.0005, -0.0016,  0.0049,  0.0025,  0.0120,  0.0121,  0.0057],\n",
       "                      [ 0.0105,  0.0302, -0.0091,  0.0061, -0.0196,  0.0255,  0.0150]])),\n",
       "             ('embeds.1.weight',\n",
       "              tensor([[-0.0016, -0.0077, -0.0051, -0.0082],\n",
       "                      [-0.0094, -0.0074, -0.0200, -0.0050],\n",
       "                      [ 0.0118, -0.0014, -0.0125,  0.0106],\n",
       "                      [-0.0134, -0.0027, -0.0145,  0.0080],\n",
       "                      [-0.0090, -0.0150, -0.0210,  0.0264]])),\n",
       "             ('embeds.2.weight',\n",
       "              tensor([[-0.0119, -0.0062,  0.0083, -0.0134,  0.0114],\n",
       "                      [ 0.0271, -0.0078,  0.0144,  0.0294, -0.0181],\n",
       "                      [-0.0026,  0.0028, -0.0071, -0.0033,  0.0030],\n",
       "                      [ 0.0420,  0.0050, -0.0434,  0.0240, -0.0160],\n",
       "                      [ 0.0261,  0.0096, -0.0132,  0.0217, -0.0135],\n",
       "                      [ 0.0123,  0.0196,  0.0079,  0.0141, -0.0013],\n",
       "                      [-0.0235,  0.0072,  0.0126,  0.0037, -0.0202],\n",
       "                      [-0.0361, -0.0191,  0.0087, -0.0305,  0.0202],\n",
       "                      [-0.0095, -0.0003,  0.0109, -0.0026, -0.0127]])),\n",
       "             ('embeds.3.weight',\n",
       "              tensor([[ 0.0053,  0.0064,  0.0034],\n",
       "                      [ 0.0168,  0.0166, -0.0185],\n",
       "                      [ 0.0549, -0.0693,  0.0366]])),\n",
       "             ('embeds.4.weight',\n",
       "              tensor([[-0.0123,  0.0065,  0.0055],\n",
       "                      [ 0.0309, -0.0171, -0.0107],\n",
       "                      [-0.0024,  0.0335,  0.0341],\n",
       "                      [ 0.0089,  0.0002,  0.0161]])),\n",
       "             ('embeds.5.weight',\n",
       "              tensor([[-0.0014, -0.0033, -0.0053],\n",
       "                      [ 0.0217, -0.0042, -0.0260],\n",
       "                      [-0.0088,  0.0002,  0.0115],\n",
       "                      [-0.0561, -0.0276,  0.0099]])),\n",
       "             ('embeds.6.weight',\n",
       "              tensor([[ 0.0068,  0.0064,  0.0110],\n",
       "                      [-0.0088,  0.0128, -0.0180],\n",
       "                      [-0.0105, -0.0265,  0.0347]])),\n",
       "             ('embeds.7.weight',\n",
       "              tensor([[-0.0115,  0.0015,  0.0105, -0.0078,  0.0122,  0.0044],\n",
       "                      [ 0.0186,  0.0045, -0.0326, -0.0406,  0.0066,  0.0291],\n",
       "                      [ 0.0069,  0.0050,  0.0210,  0.0011, -0.0177,  0.0027],\n",
       "                      [-0.0066, -0.0060,  0.0064, -0.0162,  0.0135, -0.0043],\n",
       "                      [ 0.0143, -0.0158, -0.0155, -0.0078,  0.0102,  0.0322],\n",
       "                      [-0.0166,  0.0006,  0.0054,  0.0311, -0.0113, -0.0160],\n",
       "                      [ 0.0110, -0.0079,  0.0050,  0.0146,  0.0185, -0.0158],\n",
       "                      [ 0.0053,  0.0024,  0.0030,  0.0165, -0.0128, -0.0310],\n",
       "                      [-0.0038, -0.0126, -0.0060,  0.0026,  0.0458,  0.0075],\n",
       "                      [-0.0277,  0.0109,  0.0220,  0.0009, -0.0045, -0.0046],\n",
       "                      [-0.0045,  0.0122, -0.0205,  0.0004, -0.0311,  0.0110]])),\n",
       "             ('embeds.8.weight',\n",
       "              tensor([[-0.0003,  0.0077, -0.0186,  0.0048],\n",
       "                      [-0.0387,  0.0062, -0.0063,  0.0212],\n",
       "                      [-0.0502, -0.0310,  0.0525,  0.0237],\n",
       "                      [ 0.0522,  0.0250, -0.0130, -0.0052],\n",
       "                      [ 0.0258,  0.0264, -0.0304, -0.0059],\n",
       "                      [ 0.0296,  0.0376, -0.0234, -0.0346]])),\n",
       "             ('embeds.9.weight',\n",
       "              tensor([[ 0.0055,  0.0014, -0.0067],\n",
       "                      [-0.0409,  0.0161,  0.0067],\n",
       "                      [-0.0195,  0.0090, -0.0170],\n",
       "                      [ 0.0067,  0.0052, -0.0075]])),\n",
       "             ('bn_cont.weight',\n",
       "              tensor([0.9896, 1.0323, 0.9905, 0.9865, 0.9928, 0.9934, 1.0065, 0.9968, 0.9982,\n",
       "                      0.9854])),\n",
       "             ('bn_cont.bias',\n",
       "              tensor([ 0.0078, -0.0088, -0.0053,  0.0007, -0.0030, -0.0017, -0.0003,  0.0028,\n",
       "                       0.0061, -0.0049])),\n",
       "             ('bn_cont.running_mean',\n",
       "              tensor([ 0.0037,  0.0036,  0.0034,  0.0037,  0.0038, -0.0014,  0.0002,  0.0017,\n",
       "                      -0.0044, -0.0016])),\n",
       "             ('bn_cont.running_var',\n",
       "              tensor([1.0025, 1.0112, 1.0255, 0.9914, 1.0111, 0.9977, 1.0045, 0.9999, 1.0040,\n",
       "                      0.9991])),\n",
       "             ('bn_cont.num_batches_tracked', tensor(152)),\n",
       "             ('layers.0.0.weight',\n",
       "              tensor([[-0.1073, -0.1244, -0.0460,  ...,  0.0701, -0.1311, -0.0935],\n",
       "                      [ 0.0939,  0.1367,  0.1178,  ...,  0.0373,  0.1115, -0.0702],\n",
       "                      [-0.0257, -0.0878,  0.1400,  ..., -0.0672, -0.0216,  0.1248],\n",
       "                      ...,\n",
       "                      [ 0.0077, -0.0785, -0.0315,  ...,  0.1141, -0.0662,  0.0287],\n",
       "                      [-0.1093, -0.0892,  0.0054,  ..., -0.1289,  0.0235,  0.0792],\n",
       "                      [-0.0845,  0.1203,  0.0696,  ..., -0.0819,  0.0525,  0.1061]])),\n",
       "             ('layers.0.2.weight',\n",
       "              tensor([1.0013, 1.0078, 1.0016, 1.0043, 1.0024, 0.9937, 1.0023, 1.0010, 0.9988,\n",
       "                      1.0094, 1.0027, 0.9960, 1.0006, 1.0049, 0.9940, 1.0014, 0.9960, 0.9999,\n",
       "                      1.0060, 1.0151, 1.0016, 0.9976, 0.9955, 1.0005, 0.9986, 1.0018, 0.9901,\n",
       "                      1.0171, 0.9896, 0.9972, 1.0096, 0.9969, 0.9906, 0.9971, 1.0046, 1.0013,\n",
       "                      0.9915, 0.9980, 0.9918, 1.0105, 1.0021, 1.0003, 1.0000, 1.0068, 0.9945,\n",
       "                      1.0019, 0.9963, 1.0035, 1.0021, 1.0114, 0.9916, 1.0046, 1.0019, 1.0209,\n",
       "                      1.0103, 0.9995, 0.9955, 0.9878, 0.9963, 1.0070, 0.9929, 0.9910, 1.0021,\n",
       "                      0.9994, 1.0168, 1.0049, 0.9973, 0.9922, 1.0092, 1.0015, 0.9930, 0.9992,\n",
       "                      0.9863, 1.0096, 0.9990, 0.9979, 1.0057, 0.9993, 0.9961, 1.0127, 0.9994,\n",
       "                      0.9964, 0.9986, 0.9966, 0.9919, 1.0050, 0.9972, 1.0160, 0.9992, 0.9898,\n",
       "                      1.0082, 1.0038, 1.0068, 0.9983, 1.0064, 0.9947, 0.9957, 1.0077, 1.0030,\n",
       "                      1.0017, 1.0064, 0.9991, 0.9889, 1.0033, 0.9943, 0.9941, 0.9988, 1.0009,\n",
       "                      0.9909, 0.9955, 0.9953, 1.0026, 0.9982, 1.0114, 1.0015, 0.9839, 0.9999,\n",
       "                      1.0020, 0.9963, 0.9944, 0.9895, 0.9952, 1.0039, 0.9968, 1.0005, 0.9973,\n",
       "                      1.0124, 1.0054, 0.9918, 0.9932, 1.0027, 1.0030, 1.0002, 0.9946, 1.0062,\n",
       "                      1.0023, 0.9989, 1.0100, 0.9977, 1.0019, 1.0020, 1.0017, 1.0020, 0.9984,\n",
       "                      0.9989, 1.0064, 1.0017, 0.9972, 0.9963, 0.9943, 0.9862, 0.9974, 0.9879,\n",
       "                      1.0026, 1.0099, 0.9982, 0.9961, 1.0047, 0.9948, 0.9967, 0.9995, 0.9969,\n",
       "                      1.0112, 0.9959, 0.9982, 1.0027, 0.9866, 1.0149, 0.9991, 0.9914, 0.9957,\n",
       "                      0.9999, 1.0021, 1.0013, 1.0126, 1.0083, 0.9970, 0.9890, 1.0090, 1.0089,\n",
       "                      1.0007, 0.9979, 0.9939, 0.9961, 0.9945, 1.0043, 0.9897, 0.9941, 0.9963,\n",
       "                      0.9896, 1.0175, 0.9957, 1.0065, 0.9978, 1.0097, 1.0007, 0.9964, 1.0066,\n",
       "                      0.9869, 0.9961])),\n",
       "             ('layers.0.2.bias',\n",
       "              tensor([ 2.3367e-03, -8.1496e-04,  5.8449e-04,  8.7268e-03, -5.2683e-03,\n",
       "                       9.9949e-03,  5.8450e-03, -3.2215e-03, -3.9156e-03, -8.9285e-04,\n",
       "                      -1.3553e-03,  7.7123e-03,  4.6386e-03, -4.0358e-03, -2.4853e-03,\n",
       "                       4.4981e-03,  1.2103e-02, -3.8246e-03, -3.2299e-04, -5.3549e-03,\n",
       "                      -6.6777e-03, -1.1965e-03,  1.1763e-02, -1.3354e-04,  3.6870e-03,\n",
       "                      -1.9015e-03,  6.4266e-03,  1.5832e-02, -6.0074e-03, -3.6771e-03,\n",
       "                      -5.7463e-03,  2.9210e-03, -7.1926e-03, -1.4148e-03,  1.2773e-03,\n",
       "                      -4.9858e-03,  1.5642e-02, -5.8242e-03, -1.5728e-03,  1.1478e-02,\n",
       "                      -8.8529e-04, -3.2425e-03,  3.9882e-03, -1.2283e-02,  3.7710e-03,\n",
       "                      -7.3904e-03, -7.2793e-03, -1.2316e-03, -2.5346e-03, -2.0363e-03,\n",
       "                      -4.2794e-04,  1.6657e-02,  1.0297e-02, -3.0537e-03, -1.3076e-02,\n",
       "                       8.5215e-03, -1.1129e-02,  8.5366e-03, -1.4401e-03,  6.2920e-05,\n",
       "                      -1.1835e-03, -8.4784e-03, -6.4215e-03,  4.9652e-03,  1.0266e-02,\n",
       "                      -5.1010e-03, -3.4078e-05, -1.6223e-02,  1.0566e-03,  7.1367e-03,\n",
       "                      -5.9524e-03, -8.0185e-03, -2.2579e-03,  2.8962e-03, -5.4580e-03,\n",
       "                       5.7816e-03, -1.2710e-02,  7.8627e-03,  1.0463e-02, -6.2025e-03,\n",
       "                      -1.4154e-03,  7.7323e-03,  2.5723e-04,  6.1000e-03,  1.9955e-02,\n",
       "                       4.5979e-03, -3.3691e-03,  5.6730e-03,  3.1825e-04,  2.4555e-03,\n",
       "                       1.1588e-02, -1.2884e-02,  4.8481e-03,  1.9790e-03, -4.1376e-03,\n",
       "                      -1.3280e-02,  2.7958e-03, -9.3410e-03, -1.0478e-02, -2.0004e-03,\n",
       "                       8.1328e-03,  2.5202e-03, -6.0809e-03,  2.3338e-03,  2.4866e-03,\n",
       "                       1.4950e-02, -8.8177e-03, -1.3920e-04, -6.7750e-03, -3.8181e-03,\n",
       "                       5.6872e-04, -6.2650e-03,  4.2588e-03,  4.0093e-03,  9.6639e-03,\n",
       "                      -6.7420e-03,  3.8890e-03,  5.4768e-03, -1.4168e-03, -2.3101e-03,\n",
       "                       1.2451e-02, -1.7500e-03,  1.0759e-02, -1.3778e-03,  8.2098e-03,\n",
       "                      -2.6695e-03, -9.9950e-04, -1.7866e-03,  9.2349e-03,  1.0918e-02,\n",
       "                       6.0780e-04, -3.7738e-03,  1.0555e-02,  2.0820e-02, -2.8251e-03,\n",
       "                       1.8083e-03,  8.6258e-03,  1.4525e-02, -9.6017e-03,  6.3622e-03,\n",
       "                      -6.1275e-03, -8.9220e-05, -6.0011e-03, -1.3586e-02, -2.1125e-03,\n",
       "                      -2.5662e-03,  4.4581e-03, -1.5094e-02,  2.2598e-03, -5.7697e-04,\n",
       "                       1.2087e-02, -1.2465e-02, -4.6390e-03,  6.4217e-04,  5.5080e-03,\n",
       "                      -4.8929e-03,  2.7145e-04,  6.4302e-03, -1.2889e-03,  1.0568e-02,\n",
       "                      -3.1746e-03,  9.5868e-03,  1.0494e-02,  6.2071e-03,  6.4618e-03,\n",
       "                       7.3081e-03, -3.8990e-03, -1.9727e-03, -3.0504e-03, -9.7984e-03,\n",
       "                      -4.9126e-03, -6.2061e-03,  6.7333e-03,  1.8074e-02,  7.3734e-03,\n",
       "                      -2.1277e-03, -1.2803e-02, -6.3277e-03,  2.3953e-03,  1.1733e-02,\n",
       "                       1.2309e-02, -7.5656e-03,  8.3770e-03, -4.7919e-03, -6.0934e-03,\n",
       "                       1.0018e-04, -3.2726e-03,  3.6031e-03,  3.1793e-03,  2.6062e-03,\n",
       "                       7.7479e-04, -5.6874e-04, -3.2859e-03,  4.5177e-03, -4.4795e-03,\n",
       "                       1.1079e-02,  7.9161e-03,  6.2632e-03,  6.9728e-03,  1.8383e-02])),\n",
       "             ('layers.0.2.running_mean',\n",
       "              tensor([0.1451, 0.0749, 0.1296, 0.0715, 0.1325, 0.1024, 0.0982, 0.1070, 0.0740,\n",
       "                      0.0800, 0.0797, 0.1249, 0.0805, 0.0475, 0.0787, 0.0737, 0.1293, 0.1080,\n",
       "                      0.0917, 0.0853, 0.1299, 0.0520, 0.0815, 0.0454, 0.0723, 0.1591, 0.0915,\n",
       "                      0.0990, 0.0887, 0.1607, 0.0441, 0.1101, 0.1056, 0.0718, 0.0939, 0.0890,\n",
       "                      0.0953, 0.0855, 0.0931, 0.0731, 0.0760, 0.1435, 0.0758, 0.0623, 0.0807,\n",
       "                      0.1010, 0.1189, 0.1141, 0.1068, 0.0845, 0.0947, 0.1322, 0.0632, 0.0975,\n",
       "                      0.1115, 0.1525, 0.0869, 0.1040, 0.0774, 0.1091, 0.0886, 0.1263, 0.0662,\n",
       "                      0.0932, 0.0926, 0.0733, 0.1713, 0.1262, 0.0855, 0.1066, 0.0957, 0.0851,\n",
       "                      0.1247, 0.1433, 0.0801, 0.0741, 0.0405, 0.1339, 0.1141, 0.0761, 0.0978,\n",
       "                      0.1159, 0.1003, 0.0549, 0.1010, 0.0938, 0.0881, 0.0935, 0.1045, 0.0906,\n",
       "                      0.0579, 0.0734, 0.0980, 0.0834, 0.0621, 0.0993, 0.0910, 0.1066, 0.0716,\n",
       "                      0.1013, 0.0754, 0.1117, 0.1245, 0.0989, 0.0974, 0.0743, 0.0785, 0.1030,\n",
       "                      0.0869, 0.0946, 0.0816, 0.0801, 0.0552, 0.0899, 0.0671, 0.1558, 0.0950,\n",
       "                      0.1641, 0.0826, 0.1109, 0.1401, 0.1267, 0.1302, 0.0764, 0.0524, 0.1250,\n",
       "                      0.0769, 0.0768, 0.0958, 0.0772, 0.0880, 0.0917, 0.0695, 0.0509, 0.0620,\n",
       "                      0.1102, 0.0559, 0.0904, 0.1121, 0.0980, 0.0745, 0.0842, 0.0929, 0.0741,\n",
       "                      0.0573, 0.0590, 0.0936, 0.1173, 0.0370, 0.0810, 0.0749, 0.0888, 0.0831,\n",
       "                      0.1139, 0.0829, 0.0781, 0.0859, 0.0872, 0.0816, 0.1165, 0.0788, 0.1293,\n",
       "                      0.0755, 0.0951, 0.0937, 0.0900, 0.0852, 0.0677, 0.1257, 0.0834, 0.1173,\n",
       "                      0.0555, 0.0684, 0.0645, 0.0699, 0.0382, 0.0891, 0.0709, 0.0790, 0.1032,\n",
       "                      0.0940, 0.1180, 0.0876, 0.1137, 0.0874, 0.0663, 0.1483, 0.1050, 0.0915,\n",
       "                      0.1236, 0.0773, 0.0923, 0.0930, 0.0654, 0.1011, 0.1212, 0.1182, 0.1057,\n",
       "                      0.0901, 0.1442])),\n",
       "             ('layers.0.2.running_var',\n",
       "              tensor([0.0618, 0.0185, 0.0186, 0.0059, 0.0458, 0.0315, 0.0280, 0.0156, 0.0068,\n",
       "                      0.0148, 0.0182, 0.0499, 0.0237, 0.0092, 0.0221, 0.0195, 0.0194, 0.0347,\n",
       "                      0.0223, 0.0183, 0.0170, 0.0046, 0.0203, 0.0038, 0.0094, 0.0374, 0.0122,\n",
       "                      0.0163, 0.0139, 0.0625, 0.0076, 0.0319, 0.0269, 0.0184, 0.0148, 0.0289,\n",
       "                      0.0167, 0.0195, 0.0175, 0.0125, 0.0151, 0.0618, 0.0137, 0.0120, 0.0286,\n",
       "                      0.0248, 0.0537, 0.0259, 0.0297, 0.0240, 0.0175, 0.0219, 0.0094, 0.0257,\n",
       "                      0.0179, 0.0550, 0.0189, 0.0311, 0.0169, 0.0314, 0.0161, 0.0602, 0.0114,\n",
       "                      0.0215, 0.0103, 0.0150, 0.0300, 0.0413, 0.0248, 0.0240, 0.0237, 0.0249,\n",
       "                      0.0169, 0.0484, 0.0204, 0.0099, 0.0032, 0.0549, 0.0214, 0.0108, 0.0310,\n",
       "                      0.0430, 0.0217, 0.0133, 0.0152, 0.0331, 0.0136, 0.0220, 0.0340, 0.0342,\n",
       "                      0.0089, 0.0269, 0.0288, 0.0275, 0.0119, 0.0301, 0.0218, 0.0219, 0.0085,\n",
       "                      0.0313, 0.0133, 0.0499, 0.0634, 0.0244, 0.0282, 0.0184, 0.0198, 0.0285,\n",
       "                      0.0170, 0.0236, 0.0215, 0.0208, 0.0078, 0.0108, 0.0171, 0.0784, 0.0317,\n",
       "                      0.0279, 0.0181, 0.0139, 0.0221, 0.0246, 0.0577, 0.0090, 0.0048, 0.0183,\n",
       "                      0.0114, 0.0189, 0.0227, 0.0074, 0.0228, 0.0316, 0.0117, 0.0069, 0.0072,\n",
       "                      0.0541, 0.0047, 0.0121, 0.0275, 0.0214, 0.0197, 0.0120, 0.0299, 0.0189,\n",
       "                      0.0136, 0.0119, 0.0099, 0.0398, 0.0025, 0.0177, 0.0113, 0.0241, 0.0180,\n",
       "                      0.0346, 0.0083, 0.0241, 0.0333, 0.0195, 0.0140, 0.0255, 0.0050, 0.0159,\n",
       "                      0.0143, 0.0161, 0.0229, 0.0235, 0.0235, 0.0167, 0.0232, 0.0087, 0.0397,\n",
       "                      0.0122, 0.0085, 0.0055, 0.0144, 0.0023, 0.0225, 0.0108, 0.0167, 0.0122,\n",
       "                      0.0178, 0.0153, 0.0217, 0.0415, 0.0211, 0.0104, 0.0220, 0.0295, 0.0085,\n",
       "                      0.0648, 0.0116, 0.0233, 0.0242, 0.0077, 0.0318, 0.0398, 0.0189, 0.0316,\n",
       "                      0.0107, 0.0232])),\n",
       "             ('layers.0.2.num_batches_tracked', tensor(152)),\n",
       "             ('layers.1.0.weight',\n",
       "              tensor([[ 0.0479,  0.0528,  0.0530,  ..., -0.0239,  0.0373, -0.0261],\n",
       "                      [-0.0264, -0.0222, -0.0476,  ..., -0.0676, -0.0032, -0.0681],\n",
       "                      [-0.0235,  0.0509,  0.0074,  ...,  0.0496, -0.0623,  0.0512],\n",
       "                      ...,\n",
       "                      [-0.0285,  0.0459, -0.0496,  ...,  0.0234,  0.0460,  0.0307],\n",
       "                      [-0.0275,  0.0416,  0.0436,  ...,  0.0500, -0.0468, -0.0193],\n",
       "                      [ 0.0555,  0.0706,  0.0205,  ...,  0.0074,  0.0473, -0.0204]])),\n",
       "             ('layers.1.2.weight',\n",
       "              tensor([0.9945, 1.0069, 0.9980, 0.9957, 1.0046, 0.9938, 0.9930, 1.0006, 0.9908,\n",
       "                      0.9904, 0.9922, 1.0033, 1.0019, 0.9957, 0.9954, 0.9897, 0.9983, 0.9953,\n",
       "                      1.0010, 0.9924, 1.0067, 0.9923, 0.9936, 1.0055, 1.0063, 0.9992, 0.9973,\n",
       "                      0.9928, 0.9976, 1.0024, 0.9857, 0.9924, 0.9959, 0.9943, 0.9973, 0.9980,\n",
       "                      0.9999, 0.9931, 0.9923, 1.0001, 0.9909, 0.9959, 0.9986, 0.9946, 0.9997,\n",
       "                      1.0043, 0.9966, 0.9974, 0.9926, 0.9923, 0.9933, 1.0033, 0.9920, 1.0037,\n",
       "                      0.9954, 1.0072, 0.9882, 0.9912, 0.9975, 0.9892, 0.9928, 0.9973, 1.0077,\n",
       "                      0.9942, 0.9931, 0.9911, 0.9920, 0.9997, 0.9983, 1.0042, 1.0013, 0.9947,\n",
       "                      0.9927, 0.9997, 0.9961, 0.9963, 0.9944, 0.9994, 0.9965, 0.9921, 1.0047,\n",
       "                      0.9970, 1.0059, 1.0000, 0.9909, 1.0053, 0.9967, 0.9875, 0.9958, 0.9898,\n",
       "                      1.0003, 1.0031, 0.9985, 0.9948, 0.9999, 0.9971, 0.9929, 1.0002, 0.9842,\n",
       "                      1.0002])),\n",
       "             ('layers.1.2.bias',\n",
       "              tensor([-0.0784,  0.0674, -0.0629,  0.0680, -0.0631, -0.0595,  0.0638,  0.0667,\n",
       "                       0.0662, -0.0561,  0.0766, -0.0633,  0.0644, -0.0652,  0.0629, -0.0597,\n",
       "                       0.0668,  0.0629,  0.0974,  0.0629, -0.0650, -0.0588,  0.0642, -0.0635,\n",
       "                      -0.0634,  0.0729,  0.0659, -0.0591,  0.0718, -0.0666, -0.0250, -0.0576,\n",
       "                       0.0677, -0.0694,  0.0644, -0.0635,  0.0736, -0.0833, -0.0600,  0.0653,\n",
       "                       0.0615,  0.0637,  0.0653,  0.0641,  0.0959, -0.0710,  0.0635,  0.0897,\n",
       "                       0.0609,  0.0630, -0.0597,  0.0662,  0.0624, -0.0743,  0.0629, -0.0682,\n",
       "                       0.0615,  0.0946,  0.0648, -0.0591,  0.0594,  0.0673,  0.0711,  0.0626,\n",
       "                      -0.0617,  0.0612, -0.0612,  0.0659, -0.0638,  0.0645, -0.0862,  0.0785,\n",
       "                       0.0621, -0.0621,  0.0633,  0.0664,  0.0617, -0.0723,  0.0642, -0.0225,\n",
       "                      -0.0648, -0.0655, -0.0716,  0.0672,  0.0740, -0.0679,  0.0736,  0.0657,\n",
       "                      -0.0613,  0.0615,  0.0907, -0.0647, -0.0620, -0.0605,  0.0641, -0.0745,\n",
       "                       0.0796,  0.0839, -0.0769, -0.0623])),\n",
       "             ('layers.1.2.running_mean',\n",
       "              tensor([0.2125, 0.1330, 0.3431, 0.3389, 0.2102, 0.2748, 0.2268, 0.2120, 0.2760,\n",
       "                      0.2654, 0.2503, 0.1753, 0.3549, 0.2475, 0.2393, 0.2028, 0.2362, 0.2901,\n",
       "                      0.1972, 0.2708, 0.2432, 0.3518, 0.2747, 0.1846, 0.3089, 0.4631, 0.2618,\n",
       "                      0.3233, 0.3582, 0.2308, 0.1524, 0.1978, 0.2388, 0.2291, 0.2504, 0.2578,\n",
       "                      0.2118, 0.3783, 0.3737, 0.4198, 0.2646, 0.2809, 0.2449, 0.3261, 0.2920,\n",
       "                      0.1914, 0.3132, 0.2944, 0.3110, 0.2409, 0.2493, 0.3962, 0.3266, 0.2095,\n",
       "                      0.3642, 0.2351, 0.2826, 0.4059, 0.2425, 0.1919, 0.1838, 0.2768, 0.2221,\n",
       "                      0.1627, 0.3985, 0.2648, 0.2197, 0.2036, 0.2991, 0.2499, 0.1739, 0.2724,\n",
       "                      0.2574, 0.2239, 0.1841, 0.2707, 0.2188, 0.2789, 0.1953, 0.2638, 0.2325,\n",
       "                      0.2129, 0.1456, 0.3902, 0.2472, 0.2124, 0.4947, 0.2443, 0.1881, 0.3062,\n",
       "                      0.3050, 0.2256, 0.2245, 0.3083, 0.2345, 0.2387, 0.2780, 0.3014, 0.3691,\n",
       "                      0.1943])),\n",
       "             ('layers.1.2.running_var',\n",
       "              tensor([0.1068, 0.0331, 0.4347, 0.1326, 0.1355, 0.2908, 0.0827, 0.1082, 0.1109,\n",
       "                      0.1639, 0.1477, 0.1022, 0.1202, 0.1277, 0.2040, 0.1120, 0.1982, 0.3170,\n",
       "                      0.1243, 0.1216, 0.1529, 0.3671, 0.1498, 0.0870, 0.2758, 0.2423, 0.2427,\n",
       "                      0.3346, 0.1542, 0.1383, 0.0897, 0.1476, 0.1999, 0.0839, 0.0894, 0.1632,\n",
       "                      0.1458, 0.4445, 0.3727, 0.4251, 0.1015, 0.2214, 0.1587, 0.2933, 0.0838,\n",
       "                      0.0966, 0.2753, 0.2695, 0.2121, 0.1953, 0.1612, 0.1440, 0.1111, 0.0778,\n",
       "                      0.1350, 0.1963, 0.1882, 0.4927, 0.1212, 0.1358, 0.1075, 0.1046, 0.0986,\n",
       "                      0.0906, 0.2724, 0.0862, 0.1331, 0.1032, 0.2327, 0.1911, 0.1017, 0.1136,\n",
       "                      0.1116, 0.1417, 0.0857, 0.2084, 0.0723, 0.1925, 0.1045, 0.0984, 0.1841,\n",
       "                      0.1454, 0.0459, 0.1348, 0.2301, 0.0910, 0.2992, 0.1634, 0.1157, 0.3093,\n",
       "                      0.1122, 0.1404, 0.1416, 0.3784, 0.1210, 0.1244, 0.1557, 0.2010, 0.3999,\n",
       "                      0.1192])),\n",
       "             ('layers.1.2.num_batches_tracked', tensor(152)),\n",
       "             ('layers.2.0.weight',\n",
       "              tensor([[-0.0532,  0.0976,  0.0043,  0.0771, -0.1068, -0.0823, -0.0495, -0.0036,\n",
       "                        0.0339, -0.0846,  0.0302, -0.1035,  0.0388,  0.0004,  0.0994, -0.0818,\n",
       "                        0.1122,  0.0350,  0.0829,  0.0999, -0.1010,  0.0192,  0.0031, -0.1018,\n",
       "                       -0.0968,  0.1085,  0.0955, -0.0195,  0.0518, -0.0769, -0.0602,  0.0187,\n",
       "                        0.0478, -0.0905,  0.0986, -0.0213,  0.0540, -0.0730, -0.0249,  0.0668,\n",
       "                        0.0312, -0.0157,  0.0325,  0.0992,  0.0153, -0.0971,  0.0364,  0.0485,\n",
       "                        0.0913,  0.0632, -0.0006,  0.1090,  0.0865, -0.0574,  0.1032,  0.0236,\n",
       "                        0.0265, -0.0597,  0.0044, -0.0735, -0.0371,  0.0734, -0.0098,  0.0706,\n",
       "                       -0.0918,  0.1023, -0.1015,  0.0869, -0.0507,  0.1073,  0.0305,  0.0054,\n",
       "                        0.0771, -0.0725,  0.1041,  0.0551,  0.1042,  0.0630,  0.0664, -0.0902,\n",
       "                       -0.0950, -0.0255, -0.0017,  0.0792,  0.0732, -0.0120, -0.0044, -0.0448,\n",
       "                       -0.0806,  0.0964,  0.0583, -0.0110, -0.0937, -0.0766,  0.0175, -0.0289,\n",
       "                        0.0405,  0.0375,  0.0664, -0.0910],\n",
       "                      [-0.0144, -0.0618,  0.0414,  0.0426,  0.0313,  0.0167, -0.0995, -0.1119,\n",
       "                       -0.0039, -0.0167, -0.0026,  0.0357, -0.0964,  0.0757, -0.0326,  0.0833,\n",
       "                        0.0256, -0.0998,  0.0313,  0.0335,  0.0286,  0.0774, -0.0759,  0.0919,\n",
       "                        0.0570,  0.0700,  0.0230,  0.0705,  0.0144,  0.0320, -0.0532,  0.0666,\n",
       "                       -0.0179, -0.0611, -0.1040,  0.0979, -0.0157, -0.0461,  0.0665, -0.0633,\n",
       "                       -0.0671, -0.0742, -0.0643,  0.0657, -0.0254, -0.0292, -0.0677,  0.0079,\n",
       "                        0.0346, -0.0861,  0.0903,  0.0094, -0.0884,  0.0082, -0.0545,  0.1059,\n",
       "                       -0.0981, -0.0948, -0.0874,  0.0847, -0.0656, -0.0087, -0.1097, -0.0340,\n",
       "                       -0.0182, -0.0047, -0.0154, -0.0180,  0.0471, -0.0980,  0.0763, -0.0351,\n",
       "                       -0.0762,  0.0924, -0.0411, -0.0119,  0.0559,  0.1051, -0.0174, -0.0828,\n",
       "                        0.0098,  0.0431,  0.0660, -0.0026,  0.0549,  0.0627, -0.0368, -0.0650,\n",
       "                        0.0642, -0.0796,  0.0158,  0.0774,  0.0497,  0.1007, -0.0864,  0.0225,\n",
       "                        0.0104, -0.0083,  0.0870,  0.1114]])),\n",
       "             ('layers.2.0.bias', tensor([ 0.1266, -0.0036]))])"
      ]
     },
     "execution_count": 114,
     "metadata": {},
     "output_type": "execute_result"
    }
   ],
   "source": [
    "learnC.model.state_dict()"
   ]
  },
  {
   "cell_type": "code",
   "execution_count": null,
   "metadata": {},
   "outputs": [],
   "source": []
  }
 ],
 "metadata": {
  "interpreter": {
   "hash": "f5eb95d6a783051f7e4f7c764ada467adc5d084fb79225f5dbfbb6f693fbec43"
  },
  "kernelspec": {
   "display_name": "Python 3.9.4 64-bit ('fastenv': conda)",
   "name": "python3"
  },
  "language_info": {
   "codemirror_mode": {
    "name": "ipython",
    "version": 3
   },
   "file_extension": ".py",
   "mimetype": "text/x-python",
   "name": "python",
   "nbconvert_exporter": "python",
   "pygments_lexer": "ipython3",
   "version": "3.9.4"
  },
  "orig_nbformat": 4
 },
 "nbformat": 4,
 "nbformat_minor": 2
}
