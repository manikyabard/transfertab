{
 "cells": [
  {
   "cell_type": "markdown",
   "metadata": {},
   "source": [
    "# Experiment 1c\n",
    ">Tests how well transferring embedding works on a particular domain, without freezing embeddings.\n",
    "\n",
    "This includes \n",
    "1. Get two datasets, `datasetA` and `datasetB`.\n",
    "\n",
    "#### Getting Embeddings\n",
    "2. Train `modelA` on `datasetA` as well as we can.\n",
    "3. Extract embeddings from `modelA`.\n",
    "\n",
    "#### Using Embeddings\n",
    "4. Perform `transfer` from `modelA` to `modelB`.\n",
    "5. Split `datasetB` into `datasetBtrain` and `datasetBval`.\n",
    "6. Initialize `modelC` and make the sure it uses same classifier weights as `modelB`.\n",
    "6. Do a validation pass for `modelB` and `modelC` on `datasetBval` and log stuff.\n",
    "7. **Finetune `modelB` using `datasetBtrain`. Log stuff.**\n",
    "8. **Train `modelC` on `datasetBtrain`. Log stuff.**\n",
    "\n",
    "#### Interpretation\n",
    "9. Compare obtained metrics.\n",
    "10. Plot embeddings for the three models and compare. [sklearn tsne](https://scikit-learn.org/stable/modules/generated/sklearn.manifold.TSNE.html) \n",
    "\n",
    "\n",
    "Notes:\n",
    "Save `model.state_dict()`, and transferembeds json for `modelA`, `modelB`, `modelC`.\n",
    "`datasetA`: `census_income`\n",
    "`datasetB`: `adult` (full)"
   ]
  },
  {
   "cell_type": "code",
   "execution_count": null,
   "metadata": {},
   "outputs": [],
   "source": [
    "#skip\n",
    "from fastai.tabular.all import *\n",
    "from transfertab.utils import *\n",
    "from transfertab.transfer import *\n",
    "from transfertab.extract import *\n",
    "from fastcore.xtras import *\n",
    "from fastai.learner import *\n",
    "import numpy as np\n",
    "from fastai.interpret import *\n",
    "import sklearn.metrics as skm"
   ]
  },
  {
   "cell_type": "code",
   "execution_count": null,
   "metadata": {},
   "outputs": [],
   "source": [
    "#skip\n",
    "import wandb\n",
    "from fastai.callback.wandb import *"
   ]
  },
  {
   "cell_type": "code",
   "execution_count": null,
   "metadata": {},
   "outputs": [
    {
     "name": "stderr",
     "output_type": "stream",
     "text": [
      "\u001b[34m\u001b[1mwandb\u001b[0m: You can find your API key in your browser here: https://wandb.ai/authorize\n"
     ]
    },
    {
     "name": "stdout",
     "output_type": "stream",
     "text": [
      "\u001b[34m\u001b[1mwandb\u001b[0m: Paste an API key from your profile and hit enter:  ········································\n"
     ]
    },
    {
     "name": "stderr",
     "output_type": "stream",
     "text": [
      "\u001b[34m\u001b[1mwandb\u001b[0m: Appending key for api.wandb.ai to your netrc file: /Users/manikyabardhan/.netrc\n"
     ]
    },
    {
     "data": {
      "text/plain": [
       "True"
      ]
     },
     "execution_count": null,
     "metadata": {},
     "output_type": "execute_result"
    }
   ],
   "source": [
    "# wandb.login()"
   ]
  },
  {
   "cell_type": "markdown",
   "metadata": {},
   "source": [
    "## Step 1\n",
    "Getting datasets A & B."
   ]
  },
  {
   "cell_type": "code",
   "execution_count": null,
   "metadata": {},
   "outputs": [],
   "source": [
    "#skip\n",
    "dfA = pd.read_csv(\"../data/census-income.csv\")\n",
    "dfB = pd.read_csv('../data/adult.csv')"
   ]
  },
  {
   "cell_type": "markdown",
   "metadata": {},
   "source": [
    "## Steps 2-3\n",
    "\n",
    "Training `modelA` on `census-income` dataset and then extracting embeddings."
   ]
  },
  {
   "cell_type": "code",
   "execution_count": null,
   "metadata": {},
   "outputs": [
    {
     "name": "stderr",
     "output_type": "stream",
     "text": [
      "\u001b[34m\u001b[1mwandb\u001b[0m: Currently logged in as: \u001b[33mmanikya\u001b[0m (use `wandb login --relogin` to force relogin)\n",
      "\u001b[34m\u001b[1mwandb\u001b[0m: wandb version 0.12.2 is available!  To upgrade, please run:\n",
      "\u001b[34m\u001b[1mwandb\u001b[0m:  $ pip install wandb --upgrade\n"
     ]
    },
    {
     "data": {
      "text/html": [
       "\n",
       "                Tracking run with wandb version 0.10.32<br/>\n",
       "                Syncing run <strong style=\"color:#cdcd00\">modelA training</strong> to <a href=\"https://wandb.ai\" target=\"_blank\">Weights & Biases</a> <a href=\"https://docs.wandb.com/integrations/jupyter.html\" target=\"_blank\">(Documentation)</a>.<br/>\n",
       "                Project page: <a href=\"https://wandb.ai/manikya/transfertab\" target=\"_blank\">https://wandb.ai/manikya/transfertab</a><br/>\n",
       "                Run page: <a href=\"https://wandb.ai/manikya/transfertab/runs/2z2ig7zv\" target=\"_blank\">https://wandb.ai/manikya/transfertab/runs/2z2ig7zv</a><br/>\n",
       "                Run data is saved locally in <code>/Users/manikyabardhan/Documents/github/transfertab/nbs/wandb/run-20210917_000323-2z2ig7zv</code><br/><br/>\n",
       "            "
      ],
      "text/plain": [
       "<IPython.core.display.HTML object>"
      ]
     },
     "metadata": {},
     "output_type": "display_data"
    },
    {
     "data": {
      "text/html": [
       "<h1>Run(2z2ig7zv)</h1><iframe src=\"https://wandb.ai/manikya/transfertab/runs/2z2ig7zv\" style=\"border:none;width:100%;height:400px\"></iframe>"
      ],
      "text/plain": [
       "<wandb.sdk.wandb_run.Run at 0x7fe82dd61190>"
      ]
     },
     "execution_count": null,
     "metadata": {},
     "output_type": "execute_result"
    }
   ],
   "source": [
    "#skip\n",
    "wandb.init(\n",
    "    project='transfertab', \n",
    "    save_code=True, \n",
    "    group='Exp1c', \n",
    "    job_type='basetrain', \n",
    "    tags=['base', 'census'], \n",
    "    name='modelA training',\n",
    "    notes=\"Training modelA from which we'll take embeddings\",\n",
    "    reinit=True\n",
    ")"
   ]
  },
  {
   "cell_type": "code",
   "execution_count": null,
   "metadata": {},
   "outputs": [],
   "source": [
    "#skip\n",
    "splitsA = RandomSplitter(valid_pct=0.2)(range_of(dfA))\n",
    "toA = TabularPandas(dfA, procs=[Categorify, FillMissing,Normalize],\n",
    "                   cat_names = [\"class of worker\", \"education\", \"enroll in edu inst last wk\", \"marital stat\", \"major industry code\", \"major occupation code\", \"race\", \"hispanic origin\", \"sex\", \"member of a labor union\", \"reason for unemployment\", \"full or part time employment stat\", \"tax filer stat\", \"region of previous residence\", \"state of previous residence\", \"detailed household and family stat\", \"detailed household summary in household\", \"migration code-change in msa\", \"migration code-change in reg\", \"migration code-move within reg\", \"live in this house 1 year ago\", \"migration prev res in sunbelt\", \"family members under 18\", \"country of birth father\", \"country of birth mother\", \"country of birth self\", \"citizenship\", \"fill inc questionnaire for veteran's admin\"],\n",
    "                   y_names='salary',\n",
    "                   splits=splitsA)\n",
    "dlsA = toA.dataloaders(bs=128)\n",
    "learnA = tabular_learner(dlsA, metrics=accuracy)"
   ]
  },
  {
   "cell_type": "code",
   "execution_count": null,
   "metadata": {},
   "outputs": [
    {
     "data": {
      "text/html": [],
      "text/plain": [
       "<IPython.core.display.HTML object>"
      ]
     },
     "metadata": {},
     "output_type": "display_data"
    },
    {
     "data": {
      "text/plain": [
       "SuggestedLRs(lr_min=0.05248074531555176, lr_steep=0.03981071710586548)"
      ]
     },
     "execution_count": null,
     "metadata": {},
     "output_type": "execute_result"
    },
    {
     "data": {
      "image/png": "[encoded data removed]",
      "text/plain": [
       "<Figure size 432x288 with 1 Axes>"
      ]
     },
     "metadata": {
      "needs_background": "light"
     },
     "output_type": "display_data"
    }
   ],
   "source": [
    "#skip\n",
    "learnA.lr_find()"
   ]
  },
  {
   "cell_type": "code",
   "execution_count": null,
   "metadata": {},
   "outputs": [
    {
     "data": {
      "text/html": [
       "<table border=\"1\" class=\"dataframe\">\n",
       "  <thead>\n",
       "    <tr style=\"text-align: left;\">\n",
       "      <th>epoch</th>\n",
       "      <th>train_loss</th>\n",
       "      <th>valid_loss</th>\n",
       "      <th>accuracy</th>\n",
       "      <th>time</th>\n",
       "    </tr>\n",
       "  </thead>\n",
       "  <tbody>\n",
       "    <tr>\n",
       "      <td>0</td>\n",
       "      <td>0.158948</td>\n",
       "      <td>0.146342</td>\n",
       "      <td>0.944216</td>\n",
       "      <td>00:23</td>\n",
       "    </tr>\n",
       "    <tr>\n",
       "      <td>1</td>\n",
       "      <td>0.146026</td>\n",
       "      <td>0.146362</td>\n",
       "      <td>0.941911</td>\n",
       "      <td>00:32</td>\n",
       "    </tr>\n",
       "    <tr>\n",
       "      <td>2</td>\n",
       "      <td>0.144553</td>\n",
       "      <td>0.154745</td>\n",
       "      <td>0.941911</td>\n",
       "      <td>00:31</td>\n",
       "    </tr>\n",
       "    <tr>\n",
       "      <td>3</td>\n",
       "      <td>0.140128</td>\n",
       "      <td>0.148060</td>\n",
       "      <td>0.944692</td>\n",
       "      <td>00:41</td>\n",
       "    </tr>\n",
       "    <tr>\n",
       "      <td>4</td>\n",
       "      <td>0.140294</td>\n",
       "      <td>0.140350</td>\n",
       "      <td>0.945544</td>\n",
       "      <td>00:35</td>\n",
       "    </tr>\n",
       "    <tr>\n",
       "      <td>5</td>\n",
       "      <td>0.148386</td>\n",
       "      <td>0.143227</td>\n",
       "      <td>0.943113</td>\n",
       "      <td>00:33</td>\n",
       "    </tr>\n",
       "    <tr>\n",
       "      <td>6</td>\n",
       "      <td>0.135902</td>\n",
       "      <td>0.140409</td>\n",
       "      <td>0.945469</td>\n",
       "      <td>00:36</td>\n",
       "    </tr>\n",
       "    <tr>\n",
       "      <td>7</td>\n",
       "      <td>0.140423</td>\n",
       "      <td>0.139696</td>\n",
       "      <td>0.946371</td>\n",
       "      <td>00:35</td>\n",
       "    </tr>\n",
       "    <tr>\n",
       "      <td>8</td>\n",
       "      <td>0.145470</td>\n",
       "      <td>0.139170</td>\n",
       "      <td>0.946246</td>\n",
       "      <td>00:34</td>\n",
       "    </tr>\n",
       "    <tr>\n",
       "      <td>9</td>\n",
       "      <td>0.128673</td>\n",
       "      <td>0.139143</td>\n",
       "      <td>0.946396</td>\n",
       "      <td>00:32</td>\n",
       "    </tr>\n",
       "  </tbody>\n",
       "</table>"
      ],
      "text/plain": [
       "<IPython.core.display.HTML object>"
      ]
     },
     "metadata": {},
     "output_type": "display_data"
    },
    {
     "name": "stdout",
     "output_type": "stream",
     "text": [
      "Better model found at epoch 0 with valid_loss value: 0.1463421881198883.\n",
      "Better model found at epoch 4 with valid_loss value: 0.14034968614578247.\n",
      "Better model found at epoch 7 with valid_loss value: 0.13969573378562927.\n",
      "Better model found at epoch 8 with valid_loss value: 0.13916952908039093.\n",
      "Better model found at epoch 9 with valid_loss value: 0.13914284110069275.\n"
     ]
    }
   ],
   "source": [
    "#skip\n",
    "cbs=[WandbCallback(log=\"all\", dataset_name=\"census-income\", n_preds=128, seed=1), SaveModelCallback()]\n",
    "learnA.fit_one_cycle(10, cbs=cbs, lr_max=0.03)"
   ]
  },
  {
   "cell_type": "code",
   "execution_count": null,
   "metadata": {},
   "outputs": [
    {
     "data": {
      "image/png": "[encoded data removed]",
      "text/plain": [
       "<Figure size 432x288 with 1 Axes>"
      ]
     },
     "metadata": {
      "needs_background": "light"
     },
     "output_type": "display_data"
    }
   ],
   "source": [
    "#skip\n",
    "learnA.recorder.plot_loss()"
   ]
  },
  {
   "cell_type": "code",
   "execution_count": null,
   "metadata": {},
   "outputs": [],
   "source": [
    "#skip\n",
    "torch.save(learnA.model.state_dict(),\"../results/exp1c/modelA_state_dict\")"
   ]
  },
  {
   "cell_type": "code",
   "execution_count": null,
   "metadata": {},
   "outputs": [
    {
     "data": {
      "text/plain": [
       "ModuleList(\n",
       "  (0): Embedding(10, 6)\n",
       "  (1): Embedding(18, 8)\n",
       "  (2): Embedding(4, 3)\n",
       "  (3): Embedding(8, 5)\n",
       "  (4): Embedding(25, 10)\n",
       "  (5): Embedding(16, 8)\n",
       "  (6): Embedding(6, 4)\n",
       "  (7): Embedding(11, 6)\n",
       "  (8): Embedding(3, 3)\n",
       "  (9): Embedding(4, 3)\n",
       "  (10): Embedding(7, 5)\n",
       "  (11): Embedding(9, 5)\n",
       "  (12): Embedding(7, 5)\n",
       "  (13): Embedding(7, 5)\n",
       "  (14): Embedding(52, 15)\n",
       "  (15): Embedding(39, 12)\n",
       "  (16): Embedding(9, 5)\n",
       "  (17): Embedding(11, 6)\n",
       "  (18): Embedding(10, 6)\n",
       "  (19): Embedding(11, 6)\n",
       "  (20): Embedding(4, 3)\n",
       "  (21): Embedding(5, 4)\n",
       "  (22): Embedding(6, 4)\n",
       "  (23): Embedding(44, 13)\n",
       "  (24): Embedding(44, 13)\n",
       "  (25): Embedding(44, 13)\n",
       "  (26): Embedding(6, 4)\n",
       "  (27): Embedding(4, 3)\n",
       ")"
      ]
     },
     "execution_count": null,
     "metadata": {},
     "output_type": "execute_result"
    }
   ],
   "source": [
    "#skip\n",
    "learnA.model.embeds"
   ]
  },
  {
   "cell_type": "code",
   "execution_count": null,
   "metadata": {},
   "outputs": [
    {
     "data": {
      "text/plain": [
       "TabularModel(\n",
       "  (embeds): ModuleList(\n",
       "    (0): Embedding(10, 6)\n",
       "    (1): Embedding(18, 8)\n",
       "    (2): Embedding(4, 3)\n",
       "    (3): Embedding(8, 5)\n",
       "    (4): Embedding(25, 10)\n",
       "    (5): Embedding(16, 8)\n",
       "    (6): Embedding(6, 4)\n",
       "    (7): Embedding(11, 6)\n",
       "    (8): Embedding(3, 3)\n",
       "    (9): Embedding(4, 3)\n",
       "    (10): Embedding(7, 5)\n",
       "    (11): Embedding(9, 5)\n",
       "    (12): Embedding(7, 5)\n",
       "    (13): Embedding(7, 5)\n",
       "    (14): Embedding(52, 15)\n",
       "    (15): Embedding(39, 12)\n",
       "    (16): Embedding(9, 5)\n",
       "    (17): Embedding(11, 6)\n",
       "    (18): Embedding(10, 6)\n",
       "    (19): Embedding(11, 6)\n",
       "    (20): Embedding(4, 3)\n",
       "    (21): Embedding(5, 4)\n",
       "    (22): Embedding(6, 4)\n",
       "    (23): Embedding(44, 13)\n",
       "    (24): Embedding(44, 13)\n",
       "    (25): Embedding(44, 13)\n",
       "    (26): Embedding(6, 4)\n",
       "    (27): Embedding(4, 3)\n",
       "  )\n",
       "  (emb_drop): Dropout(p=0.0, inplace=False)\n",
       "  (bn_cont): BatchNorm1d(0, eps=1e-05, momentum=0.1, affine=True, track_running_stats=True)\n",
       "  (layers): Sequential(\n",
       "    (0): LinBnDrop(\n",
       "      (0): Linear(in_features=183, out_features=200, bias=False)\n",
       "      (1): ReLU(inplace=True)\n",
       "      (2): BatchNorm1d(200, eps=1e-05, momentum=0.1, affine=True, track_running_stats=True)\n",
       "    )\n",
       "    (1): LinBnDrop(\n",
       "      (0): Linear(in_features=200, out_features=100, bias=False)\n",
       "      (1): ReLU(inplace=True)\n",
       "      (2): BatchNorm1d(100, eps=1e-05, momentum=0.1, affine=True, track_running_stats=True)\n",
       "    )\n",
       "    (2): LinBnDrop(\n",
       "      (0): Linear(in_features=100, out_features=2, bias=True)\n",
       "    )\n",
       "  )\n",
       ")"
      ]
     },
     "execution_count": null,
     "metadata": {},
     "output_type": "execute_result"
    }
   ],
   "source": [
    "#skip\n",
    "learnA.model"
   ]
  },
  {
   "cell_type": "code",
   "execution_count": null,
   "metadata": {},
   "outputs": [
    {
     "data": {
      "text/plain": [
       "Parameter containing:\n",
       "tensor([[-1.9202e-04, -7.4663e-04,  2.1195e-03],\n",
       "        [-1.9953e+00, -2.3478e+00, -1.8593e+00],\n",
       "        [-8.4477e-03, -2.3337e-01,  4.4425e-03],\n",
       "        [ 1.5410e+00,  1.3829e+00,  1.4453e+00]], requires_grad=True)"
      ]
     },
     "execution_count": null,
     "metadata": {},
     "output_type": "execute_result"
    }
   ],
   "source": [
    "#skip\n",
    "learnA.embeds[-1].weight"
   ]
  },
  {
   "cell_type": "code",
   "execution_count": null,
   "metadata": {},
   "outputs": [],
   "source": [
    "#skip\n",
    "catcolsA = [\"class of worker\", \"education\", \"enroll in edu inst last wk\", \"marital stat\", \"major industry code\", \"major occupation code\", \"race\", \"hispanic origin\", \"sex\", \"member of a labor union\", \"reason for unemployment\", \"full or part time employment stat\", \"tax filer stat\", \"region of previous residence\", \"state of previous residence\", \"detailed household and family stat\", \"detailed household summary in household\", \"migration code-change in msa\", \"migration code-change in reg\", \"migration code-move within reg\", \"live in this house 1 year ago\", \"migration prev res in sunbelt\", \"family members under 18\", \"country of birth father\", \"country of birth mother\", \"country of birth self\", \"citizenship\", \"fill inc questionnaire for veteran's admin\"]\n",
    "catdictA = {col:list(learnA.dls.categorify.classes[col]) for col in catcolsA}\n",
    "extractembeds(learnA.model, catdictA, transfercats=catcolsA, allcats=catcolsA, path=\"../results/exp1c/learnA_extracts\", kind=\"bson\");"
   ]
  },
  {
   "cell_type": "code",
   "execution_count": null,
   "metadata": {},
   "outputs": [
    {
     "data": {
      "text/html": [
       "<br/>Waiting for W&B process to finish, PID 133<br/>Program ended successfully."
      ],
      "text/plain": [
       "<IPython.core.display.HTML object>"
      ]
     },
     "metadata": {},
     "output_type": "display_data"
    },
    {
     "data": {
      "application/vnd.jupyter.widget-view+json": {
       "model_id": "",
       "version_major": 2,
       "version_minor": 0
      },
      "text/plain": [
       "VBox(children=(Label(value=' 0.44MB of 0.44MB uploaded (0.00MB deduped)\\r'), FloatProgress(value=1.0, max=1.0)…"
      ]
     },
     "metadata": {},
     "output_type": "display_data"
    },
    {
     "data": {
      "text/html": [
       "Find user logs for this run at: <code>/Users/manikyabardhan/Documents/github/transfertab/nbs/wandb/run-20210917_000323-2z2ig7zv/logs/debug.log</code>"
      ],
      "text/plain": [
       "<IPython.core.display.HTML object>"
      ]
     },
     "metadata": {},
     "output_type": "display_data"
    },
    {
     "data": {
      "text/html": [
       "Find internal logs for this run at: <code>/Users/manikyabardhan/Documents/github/transfertab/nbs/wandb/run-20210917_000323-2z2ig7zv/logs/debug-internal.log</code>"
      ],
      "text/plain": [
       "<IPython.core.display.HTML object>"
      ]
     },
     "metadata": {},
     "output_type": "display_data"
    },
    {
     "data": {
      "text/html": [
       "<h3>Run summary:</h3><br/><style>\n",
       "    table.wandb td:nth-child(1) { padding: 0 10px; text-align: right }\n",
       "    </style><table class=\"wandb\">\n",
       "<tr><td>epoch</td><td>10</td></tr><tr><td>train_loss</td><td>0.12867</td></tr><tr><td>raw_loss</td><td>0.14277</td></tr><tr><td>wd_0</td><td>0.01</td></tr><tr><td>sqr_mom_0</td><td>0.99</td></tr><tr><td>lr_0</td><td>0.0</td></tr><tr><td>mom_0</td><td>0.95</td></tr><tr><td>eps_0</td><td>1e-05</td></tr><tr><td>_runtime</td><td>1355</td></tr><tr><td>_timestamp</td><td>1631818558</td></tr><tr><td>_step</td><td>12469</td></tr><tr><td>valid_loss</td><td>0.13914</td></tr><tr><td>accuracy</td><td>0.9464</td></tr></table>"
      ],
      "text/plain": [
       "<IPython.core.display.HTML object>"
      ]
     },
     "metadata": {},
     "output_type": "display_data"
    },
    {
     "data": {
      "text/html": [
       "<h3>Run history:</h3><br/><style>\n",
       "    table.wandb td:nth-child(1) { padding: 0 10px; text-align: right }\n",
       "    </style><table class=\"wandb\">\n",
       "<tr><td>epoch</td><td>▁▁▁▂▂▂▂▂▂▃▃▃▃▃▃▄▄▄▄▄▅▅▅▅▅▅▆▆▆▆▆▇▇▇▇▇▇███</td></tr><tr><td>train_loss</td><td>█▂▂▂▂▂▂▂▁▂▂▂▂▂▂▂▂▁▁▁▁▁▂▂▂▁▁▁▁▁▂▁▁▁▁▁▁▁▁▁</td></tr><tr><td>raw_loss</td><td>▄▄▄▄▆▄▂▃▃█▅▂▄▁▆▅▄▁▇▄▅▃▂▅▅▄▆▄▅▄▇▃▄▅▃▄▄▄▆▅</td></tr><tr><td>wd_0</td><td>▁▁▁▁▁▁▁▁▁▁▁▁▁▁▁▁▁▁▁▁▁▁▁▁▁▁▁▁▁▁▁▁▁▁▁▁▁▁▁▁</td></tr><tr><td>sqr_mom_0</td><td>▁▁▁▁▁▁▁▁▁▁▁▁▁▁▁▁▁▁▁▁▁▁▁▁▁▁▁▁▁▁▁▁▁▁▁▁▁▁▁▁</td></tr><tr><td>lr_0</td><td>▁▂▂▃▄▅▆▇▇██████▇▇▇▇▆▆▆▅▅▅▄▄▄▃▃▃▂▂▂▂▁▁▁▁▁</td></tr><tr><td>mom_0</td><td>██▇▆▅▄▃▂▂▁▁▁▁▁▁▂▂▂▂▃▃▃▄▄▄▅▅▅▆▆▆▇▇▇▇█████</td></tr><tr><td>eps_0</td><td>▁▁▁▁▁▁▁▁▁▁▁▁▁▁▁▁▁▁▁▁▁▁▁▁▁▁▁▁▁▁▁▁▁▁▁▁▁▁▁▁</td></tr><tr><td>_runtime</td><td>▁▁▁▁▂▂▂▂▂▂▃▃▃▃▃▄▄▄▄▄▅▅▅▅▅▅▆▆▆▆▆▇▇▇▇▇████</td></tr><tr><td>_timestamp</td><td>▁▁▁▁▂▂▂▂▂▂▃▃▃▃▃▄▄▄▄▄▅▅▅▅▅▅▆▆▆▆▆▇▇▇▇▇████</td></tr><tr><td>_step</td><td>▁▁▁▂▂▂▂▂▂▃▃▃▃▃▃▄▄▄▄▄▅▅▅▅▅▅▆▆▆▆▆▇▇▇▇▇▇███</td></tr><tr><td>valid_loss</td><td>▄▄█▅▂▃▂▁▁▁</td></tr><tr><td>accuracy</td><td>▅▁▁▅▇▃▇███</td></tr></table><br/>"
      ],
      "text/plain": [
       "<IPython.core.display.HTML object>"
      ]
     },
     "metadata": {},
     "output_type": "display_data"
    },
    {
     "data": {
      "text/html": [
       "Synced 6 W&B file(s), 10 media file(s), 5 artifact file(s) and 1 other file(s)"
      ],
      "text/plain": [
       "<IPython.core.display.HTML object>"
      ]
     },
     "metadata": {},
     "output_type": "display_data"
    },
    {
     "data": {
      "text/html": [
       "\n",
       "                    <br/>Synced <strong style=\"color:#cdcd00\">modelA training</strong>: <a href=\"https://wandb.ai/manikya/transfertab/runs/2z2ig7zv\" target=\"_blank\">https://wandb.ai/manikya/transfertab/runs/2z2ig7zv</a><br/>\n",
       "                "
      ],
      "text/plain": [
       "<IPython.core.display.HTML object>"
      ]
     },
     "metadata": {},
     "output_type": "display_data"
    }
   ],
   "source": [
    "#skip\n",
    "wandb.finish()"
   ]
  },
  {
   "cell_type": "markdown",
   "metadata": {},
   "source": [
    "## Step 4 & 5\n",
    "Transferring embeddings from `modelA` to randomly initialized `modelB` consistent with `adult` dataset. \n",
    "Split `adult` into training and validation subsets."
   ]
  },
  {
   "cell_type": "code",
   "execution_count": null,
   "metadata": {},
   "outputs": [],
   "source": [
    "# \\([0-9]*\\): Embedding"
   ]
  },
  {
   "cell_type": "code",
   "execution_count": null,
   "metadata": {},
   "outputs": [
    {
     "data": {
      "text/plain": [
       "<All keys matched successfully>"
      ]
     },
     "execution_count": null,
     "metadata": {},
     "output_type": "execute_result"
    }
   ],
   "source": [
    "#skip\n",
    "emb_szs = (\n",
    "  (10, 6),\n",
    "  (18, 8),\n",
    "  (4, 3),\n",
    "  (8, 5),\n",
    "  (25, 10),\n",
    "  (16, 8),\n",
    "  (6, 4),\n",
    "  (11, 6),\n",
    "  (3, 3),\n",
    "  (4, 3),\n",
    "  (7, 5),\n",
    "  (9, 5),\n",
    "  (7, 5),\n",
    "  (7, 5),\n",
    "  (52, 15),\n",
    "  (39, 12),\n",
    "  (9, 5),\n",
    "  (11, 6),\n",
    "  (10, 6),\n",
    "  (11, 6),\n",
    "  (4, 3),\n",
    "  (5, 4),\n",
    "  (6, 4),\n",
    "  (44, 13),\n",
    "  (44, 13),\n",
    "  (44, 13),\n",
    "  (6, 4),\n",
    "  (4, 3),\n",
    ")\n",
    "\n",
    "new_modelA = TabularModel(emb_szs, 0, 2, [200, 100])\n",
    "# load_model('./models/model.pth', new_modelA, \"test\", with_opt=False)\n",
    "new_modelA.load_state_dict(torch.load(\"../results/exp1c/modelA_state_dict\"))"
   ]
  },
  {
   "cell_type": "code",
   "execution_count": null,
   "metadata": {},
   "outputs": [
    {
     "data": {
      "text/plain": [
       "Parameter containing:\n",
       "tensor([[-1.9202e-04, -7.4663e-04,  2.1195e-03],\n",
       "        [-1.9953e+00, -2.3478e+00, -1.8593e+00],\n",
       "        [-8.4477e-03, -2.3337e-01,  4.4425e-03],\n",
       "        [ 1.5410e+00,  1.3829e+00,  1.4453e+00]], requires_grad=True)"
      ]
     },
     "execution_count": null,
     "metadata": {},
     "output_type": "execute_result"
    }
   ],
   "source": [
    "#skip\n",
    "new_modelA.embeds[-1].weight"
   ]
  },
  {
   "cell_type": "code",
   "execution_count": null,
   "metadata": {},
   "outputs": [],
   "source": [
    "#skip\n",
    "splitsB = RandomSplitter(valid_pct=0.2)(range_of(dfB))\n",
    "toB = TabularPandas(dfB, procs=[Categorify, FillMissing, Normalize],\n",
    "                   cat_names = [' workclass', ' education', ' marital_status', ' occupation', ' relationship', ' race'],\n",
    "                   cont_names = ['age', ' fnlwgt', ' education_num'],\n",
    "                   y_names=' salary',\n",
    "                   splits=splitsB)\n",
    "dlsB = toB.dataloaders(bs=256)"
   ]
  },
  {
   "cell_type": "code",
   "execution_count": null,
   "metadata": {},
   "outputs": [],
   "source": [
    "#skip\n",
    "learnB = tabular_learner(dlsB, metrics=accuracy, emb_szs={' relationship':12})"
   ]
  },
  {
   "cell_type": "code",
   "execution_count": null,
   "metadata": {},
   "outputs": [],
   "source": [
    "#skip\n",
    "metadict_path = Path(\"../data/jsons/metadict_adult2census.json\")\n",
    "with open(metadict_path, 'r') as j:\n",
    "     metadict = json.loads(j.read())\n",
    "metadict;"
   ]
  },
  {
   "cell_type": "code",
   "execution_count": null,
   "metadata": {},
   "outputs": [
    {
     "data": {
      "text/plain": [
       "Parameter containing:\n",
       "tensor([[ 0.0142,  0.0100, -0.0143,  0.0073],\n",
       "        [ 0.0105, -0.0045,  0.0026,  0.0020],\n",
       "        [-0.0028,  0.0115,  0.0002,  0.0129],\n",
       "        [ 0.0120, -0.0116,  0.0012, -0.0033],\n",
       "        [-0.0150, -0.0100, -0.0086,  0.0017],\n",
       "        [-0.0008, -0.0050,  0.0059,  0.0041]], requires_grad=True)"
      ]
     },
     "execution_count": null,
     "metadata": {},
     "output_type": "execute_result"
    }
   ],
   "source": [
    "#skip\n",
    "learnB.model.embeds[-1].weight"
   ]
  },
  {
   "cell_type": "code",
   "execution_count": null,
   "metadata": {},
   "outputs": [],
   "source": [
    "#skip\n",
    "transfer_cats = (\" workclass\", \" marital_status\", \" race\", \" relationship\", \" education\")\n",
    "catcolsB = tuple(learnB.dls.cat_names)\n",
    "catdictB = {col:list(learnB.dls.categorify.classes[col]) for col in catcolsB}\n",
    "transferembeds_(\n",
    "    learnB.model.embeds, \n",
    "    learnA.model.embeds, \n",
    "    metadict, \n",
    "    transfer_cats, \n",
    "    newcatcols=catcolsB, \n",
    "    oldcatcols=catcolsA, \n",
    "    oldcatdict=catdictA, \n",
    "    newcatdict=catdictB)"
   ]
  },
  {
   "cell_type": "code",
   "execution_count": null,
   "metadata": {},
   "outputs": [
    {
     "data": {
      "text/plain": [
       "Parameter containing:\n",
       "tensor([[ 1.4507e-03, -1.7816e-03, -4.5182e-04, -1.8841e-03,  1.6511e-04,\n",
       "         -1.6063e-03,  1.3733e-03, -5.6074e-04],\n",
       "        [ 1.7646e+00,  1.7548e+00,  1.6959e+00, -2.1733e+00, -2.5880e+00,\n",
       "         -1.7598e+00,  1.7281e+00,  1.7162e+00],\n",
       "        [ 1.5070e+00,  1.4987e+00,  1.4411e+00, -2.1786e+00, -1.8106e+00,\n",
       "         -1.5247e+00,  1.4846e+00,  1.4793e+00],\n",
       "        [ 1.6657e+00,  1.6711e+00,  1.6818e+00, -1.7459e-01, -7.3531e-01,\n",
       "         -1.5861e+00,  1.6702e+00,  1.6637e+00],\n",
       "        [ 1.5446e+00,  1.5431e+00,  1.5408e+00, -1.1856e+00, -1.1008e+00,\n",
       "         -1.4705e+00,  1.5405e+00,  1.5294e+00],\n",
       "        [ 2.0376e+00,  2.0200e+00,  2.0244e+00, -1.8346e+00, -1.9308e+00,\n",
       "         -1.9511e+00,  2.0175e+00,  2.0018e+00],\n",
       "        [ 1.8135e+00,  1.8132e+00,  1.7658e+00, -1.0531e+00, -1.2896e+00,\n",
       "         -1.7748e+00,  1.7824e+00,  1.7780e+00],\n",
       "        [ 1.7921e+00,  1.7714e+00,  1.7686e+00, -2.0866e+00, -2.0459e+00,\n",
       "         -1.7134e+00,  1.7691e+00,  1.7557e+00],\n",
       "        [ 5.7792e-01,  5.7349e-01,  6.4101e-01, -4.8291e-01, -6.6229e-01,\n",
       "         -4.8175e-01,  5.8941e-01,  5.7818e-01],\n",
       "        [ 8.3841e-01,  8.3617e-01,  8.2111e-01, -4.8738e-01, -4.4933e-01,\n",
       "         -8.4469e-01,  8.3192e-01,  8.3004e-01],\n",
       "        [-1.4857e-01, -1.4127e-01, -1.6540e-01,  6.1071e-01,  9.4395e-01,\n",
       "          1.0336e-01, -1.4904e-01, -1.3986e-01],\n",
       "        [-1.2488e+00, -1.2382e+00, -1.1761e+00,  1.1044e+00,  1.5350e+00,\n",
       "          1.2459e+00, -1.2166e+00, -1.2133e+00],\n",
       "        [-2.0214e+00, -2.0314e+00, -2.1239e+00, -8.7967e-01, -1.1954e+00,\n",
       "          1.7983e+00, -2.0411e+00, -2.0389e+00],\n",
       "        [ 1.1675e+00,  1.1634e+00,  1.1546e+00, -4.9235e-01, -9.5482e-01,\n",
       "         -1.1159e+00,  1.1496e+00,  1.1410e+00],\n",
       "        [ 2.5075e+00,  2.4804e+00,  2.4845e+00, -1.1441e+00, -1.2035e+00,\n",
       "         -2.2411e+00,  2.4546e+00,  2.4197e+00],\n",
       "        [-8.1961e-01, -8.2351e-01, -9.0740e-01, -6.8226e-01, -5.0283e-01,\n",
       "          6.9425e-01, -8.3912e-01, -8.3068e-01],\n",
       "        [-2.0046e+00, -2.0025e+00, -1.8711e+00,  1.0682e+00,  1.3255e+00,\n",
       "          2.1316e+00, -1.9592e+00, -1.9625e+00],\n",
       "        [ 8.0704e-01,  8.2100e-01,  8.0768e-01,  5.4203e-01,  3.4136e-01,\n",
       "         -7.6730e-01,  8.1052e-01,  8.0949e-01]], requires_grad=True)"
      ]
     },
     "execution_count": null,
     "metadata": {},
     "output_type": "execute_result"
    }
   ],
   "source": [
    "#skip\n",
    "learnA.model.embeds[catcolsA.index('education')].weight"
   ]
  },
  {
   "cell_type": "code",
   "execution_count": null,
   "metadata": {},
   "outputs": [
    {
     "data": {
      "text/plain": [
       "Parameter containing:\n",
       "tensor([[ 1.4507e-03, -1.7816e-03, -4.5182e-04, -1.8841e-03,  1.6511e-04,\n",
       "         -1.6063e-03,  1.3733e-03, -5.6074e-04],\n",
       "        [ 1.7646e+00,  1.7548e+00,  1.6959e+00, -2.1733e+00, -2.5880e+00,\n",
       "         -1.7598e+00,  1.7281e+00,  1.7162e+00],\n",
       "        [ 1.5070e+00,  1.4987e+00,  1.4411e+00, -2.1786e+00, -1.8106e+00,\n",
       "         -1.5247e+00,  1.4846e+00,  1.4793e+00],\n",
       "        [ 1.6657e+00,  1.6711e+00,  1.6818e+00, -1.7459e-01, -7.3531e-01,\n",
       "         -1.5861e+00,  1.6702e+00,  1.6637e+00],\n",
       "        [ 1.4789e-01,  1.5248e-01,  1.8233e-01, -4.0595e-02,  2.1710e-01,\n",
       "         -1.1232e-01,  1.6193e-01,  1.5807e-01],\n",
       "        [ 3.9440e-01,  3.9093e-01,  4.2413e-01, -3.6511e-01, -1.9788e-01,\n",
       "         -3.5262e-01,  4.0046e-01,  3.9422e-01],\n",
       "        [ 1.8135e+00,  1.8132e+00,  1.7658e+00, -1.0531e+00, -1.2896e+00,\n",
       "         -1.7748e+00,  1.7824e+00,  1.7780e+00],\n",
       "        [ 1.7921e+00,  1.7714e+00,  1.7686e+00, -2.0866e+00, -2.0459e+00,\n",
       "         -1.7134e+00,  1.7691e+00,  1.7557e+00],\n",
       "        [ 7.0816e-01,  7.0483e-01,  7.3106e-01, -4.8515e-01, -5.5581e-01,\n",
       "         -6.6322e-01,  7.1066e-01,  7.0411e-01],\n",
       "        [ 8.3841e-01,  8.3617e-01,  8.2111e-01, -4.8738e-01, -4.4933e-01,\n",
       "         -8.4469e-01,  8.3192e-01,  8.3004e-01],\n",
       "        [-1.4857e-01, -1.4127e-01, -1.6540e-01,  6.1071e-01,  9.4395e-01,\n",
       "          1.0336e-01, -1.4904e-01, -1.3986e-01],\n",
       "        [-2.0214e+00, -2.0314e+00, -2.1239e+00, -8.7967e-01, -1.1954e+00,\n",
       "          1.7983e+00, -2.0411e+00, -2.0389e+00],\n",
       "        [ 1.1675e+00,  1.1634e+00,  1.1546e+00, -4.9235e-01, -9.5482e-01,\n",
       "         -1.1159e+00,  1.1496e+00,  1.1410e+00],\n",
       "        [-8.1961e-01, -8.2351e-01, -9.0740e-01, -6.8226e-01, -5.0283e-01,\n",
       "          6.9425e-01, -8.3912e-01, -8.3068e-01],\n",
       "        [ 6.2934e-01,  6.2110e-01,  6.5418e-01, -1.9839e-02,  1.6578e-01,\n",
       "         -4.9760e-01,  6.1900e-01,  6.0319e-01],\n",
       "        [-2.0046e+00, -2.0025e+00, -1.8711e+00,  1.0682e+00,  1.3255e+00,\n",
       "          2.1316e+00, -1.9592e+00, -1.9625e+00],\n",
       "        [ 8.0704e-01,  8.2100e-01,  8.0768e-01,  5.4203e-01,  3.4136e-01,\n",
       "         -7.6730e-01,  8.1052e-01,  8.0949e-01]], requires_grad=True)"
      ]
     },
     "execution_count": null,
     "metadata": {},
     "output_type": "execute_result"
    }
   ],
   "source": [
    "#skip\n",
    "learnB.model.embeds[catcolsB.index(' education')].weight"
   ]
  },
  {
   "cell_type": "markdown",
   "metadata": {},
   "source": [
    "## Step 6\n",
    "Initialize `modelC` with same classifier weights as `modelB`."
   ]
  },
  {
   "cell_type": "code",
   "execution_count": null,
   "metadata": {},
   "outputs": [],
   "source": [
    "#skip\n",
    "dlsC = deepcopy(dlsB)\n",
    "learnC = tabular_learner(dlsC, metrics=accuracy, emb_szs={' relationship':12})"
   ]
  },
  {
   "cell_type": "code",
   "execution_count": null,
   "metadata": {},
   "outputs": [
    {
     "data": {
      "text/plain": [
       "Parameter containing:\n",
       "tensor([[ 0.0798,  0.1092,  0.1147,  ..., -0.1457, -0.1431, -0.0635],\n",
       "        [ 0.0111,  0.0763, -0.1410,  ..., -0.0793, -0.1313,  0.0582],\n",
       "        [-0.1117, -0.0091, -0.0304,  ...,  0.0183, -0.1071, -0.0097],\n",
       "        ...,\n",
       "        [ 0.1164,  0.0079,  0.1130,  ..., -0.1389, -0.0168,  0.0638],\n",
       "        [-0.1048, -0.1406, -0.1218,  ...,  0.1319, -0.0497, -0.1214],\n",
       "        [ 0.0215, -0.0821, -0.0383,  ...,  0.0348,  0.1008,  0.0184]],\n",
       "       requires_grad=True)"
      ]
     },
     "execution_count": null,
     "metadata": {},
     "output_type": "execute_result"
    }
   ],
   "source": [
    "#skip\n",
    "learnC.model.layers[0][0].weight"
   ]
  },
  {
   "cell_type": "code",
   "execution_count": null,
   "metadata": {},
   "outputs": [
    {
     "data": {
      "text/plain": [
       "<All keys matched successfully>"
      ]
     },
     "execution_count": null,
     "metadata": {},
     "output_type": "execute_result"
    }
   ],
   "source": [
    "#skip\n",
    "learnC.model.layers.load_state_dict(learnB.model.layers.state_dict())"
   ]
  },
  {
   "cell_type": "code",
   "execution_count": null,
   "metadata": {},
   "outputs": [
    {
     "data": {
      "text/plain": [
       "Parameter containing:\n",
       "tensor([[-0.1073, -0.0332, -0.0962,  ...,  0.1260,  0.0125, -0.0106],\n",
       "        [ 0.1438,  0.1016,  0.0015,  ..., -0.0944,  0.0115, -0.0234],\n",
       "        [-0.0704,  0.0832, -0.0904,  ...,  0.1074, -0.0750, -0.0512],\n",
       "        ...,\n",
       "        [ 0.0042,  0.1228,  0.0002,  ...,  0.0861, -0.0895, -0.1421],\n",
       "        [-0.0238,  0.0789, -0.0702,  ..., -0.0716, -0.0874, -0.0290],\n",
       "        [-0.0146, -0.0887,  0.0006,  ...,  0.0554, -0.0540, -0.0881]],\n",
       "       requires_grad=True)"
      ]
     },
     "execution_count": null,
     "metadata": {},
     "output_type": "execute_result"
    }
   ],
   "source": [
    "#skip\n",
    "learnC.model.layers[0][0].weight"
   ]
  },
  {
   "cell_type": "code",
   "execution_count": null,
   "metadata": {},
   "outputs": [
    {
     "data": {
      "text/plain": [
       "Parameter containing:\n",
       "tensor([[-0.1073, -0.0332, -0.0962,  ...,  0.1260,  0.0125, -0.0106],\n",
       "        [ 0.1438,  0.1016,  0.0015,  ..., -0.0944,  0.0115, -0.0234],\n",
       "        [-0.0704,  0.0832, -0.0904,  ...,  0.1074, -0.0750, -0.0512],\n",
       "        ...,\n",
       "        [ 0.0042,  0.1228,  0.0002,  ...,  0.0861, -0.0895, -0.1421],\n",
       "        [-0.0238,  0.0789, -0.0702,  ..., -0.0716, -0.0874, -0.0290],\n",
       "        [-0.0146, -0.0887,  0.0006,  ...,  0.0554, -0.0540, -0.0881]],\n",
       "       requires_grad=True)"
      ]
     },
     "execution_count": null,
     "metadata": {},
     "output_type": "execute_result"
    }
   ],
   "source": [
    "#skip\n",
    "learnB.model.layers[0][0].weight"
   ]
  },
  {
   "cell_type": "markdown",
   "metadata": {},
   "source": [
    "## Step 7\n",
    "Validation pass for modelB"
   ]
  },
  {
   "cell_type": "code",
   "execution_count": null,
   "metadata": {},
   "outputs": [
    {
     "data": {
      "text/html": [],
      "text/plain": [
       "<IPython.core.display.HTML object>"
      ]
     },
     "metadata": {},
     "output_type": "display_data"
    }
   ],
   "source": [
    "#skip\n",
    "intepret_learnB=ClassificationInterpretation.from_learner(learnB)"
   ]
  },
  {
   "cell_type": "code",
   "execution_count": null,
   "metadata": {},
   "outputs": [
    {
     "name": "stdout",
     "output_type": "stream",
     "text": [
      "              precision    recall  f1-score   support\n",
      "\n",
      "       <=50K       0.76      1.00      0.86      4953\n",
      "        >50K       0.00      0.00      0.00      1559\n",
      "\n",
      "    accuracy                           0.76      6512\n",
      "   macro avg       0.38      0.50      0.43      6512\n",
      "weighted avg       0.58      0.76      0.66      6512\n",
      "\n"
     ]
    },
    {
     "name": "stderr",
     "output_type": "stream",
     "text": [
      "/Users/manikyabardhan/anaconda3/envs/fastenv/lib/python3.9/site-packages/sklearn/metrics/_classification.py:1248: UndefinedMetricWarning: Precision and F-score are ill-defined and being set to 0.0 in labels with no predicted samples. Use `zero_division` parameter to control this behavior.\n",
      "  _warn_prf(average, modifier, msg_start, len(result))\n",
      "/Users/manikyabardhan/anaconda3/envs/fastenv/lib/python3.9/site-packages/sklearn/metrics/_classification.py:1248: UndefinedMetricWarning: Precision and F-score are ill-defined and being set to 0.0 in labels with no predicted samples. Use `zero_division` parameter to control this behavior.\n",
      "  _warn_prf(average, modifier, msg_start, len(result))\n",
      "/Users/manikyabardhan/anaconda3/envs/fastenv/lib/python3.9/site-packages/sklearn/metrics/_classification.py:1248: UndefinedMetricWarning: Precision and F-score are ill-defined and being set to 0.0 in labels with no predicted samples. Use `zero_division` parameter to control this behavior.\n",
      "  _warn_prf(average, modifier, msg_start, len(result))\n"
     ]
    }
   ],
   "source": [
    "#skip\n",
    "intepret_learnB.print_classification_report()"
   ]
  },
  {
   "cell_type": "code",
   "execution_count": null,
   "metadata": {},
   "outputs": [
    {
     "name": "stderr",
     "output_type": "stream",
     "text": [
      "/Users/manikyabardhan/anaconda3/envs/fastenv/lib/python3.9/site-packages/sklearn/metrics/_classification.py:1248: UndefinedMetricWarning: Precision and F-score are ill-defined and being set to 0.0 in labels with no predicted samples. Use `zero_division` parameter to control this behavior.\n",
      "  _warn_prf(average, modifier, msg_start, len(result))\n",
      "/Users/manikyabardhan/anaconda3/envs/fastenv/lib/python3.9/site-packages/sklearn/metrics/_classification.py:1248: UndefinedMetricWarning: Precision and F-score are ill-defined and being set to 0.0 in labels with no predicted samples. Use `zero_division` parameter to control this behavior.\n",
      "  _warn_prf(average, modifier, msg_start, len(result))\n",
      "/Users/manikyabardhan/anaconda3/envs/fastenv/lib/python3.9/site-packages/sklearn/metrics/_classification.py:1248: UndefinedMetricWarning: Precision and F-score are ill-defined and being set to 0.0 in labels with no predicted samples. Use `zero_division` parameter to control this behavior.\n",
      "  _warn_prf(average, modifier, msg_start, len(result))\n"
     ]
    }
   ],
   "source": [
    "#skip\n",
    "dB,tB = flatten_check(intepret_learnB.decoded, intepret_learnB.targs)\n",
    "reportB=skm.classification_report(tB, dB, labels=list(intepret_learnB.vocab.o2i.values()), target_names=[str(v) for v in intepret_learnB.vocab],output_dict=True)"
   ]
  },
  {
   "cell_type": "code",
   "execution_count": null,
   "metadata": {},
   "outputs": [],
   "source": [
    "#skip\n",
    "intepret_learnB_report = pd.DataFrame(reportB).transpose()"
   ]
  },
  {
   "cell_type": "code",
   "execution_count": null,
   "metadata": {},
   "outputs": [],
   "source": [
    "#skip\n",
    "intepret_learnB_report.to_csv(\"../results/exp1c/Step6-Validation-ModelB\")"
   ]
  },
  {
   "cell_type": "code",
   "execution_count": null,
   "metadata": {},
   "outputs": [
    {
     "data": {
      "text/html": [],
      "text/plain": [
       "<IPython.core.display.HTML object>"
      ]
     },
     "metadata": {},
     "output_type": "display_data"
    },
    {
     "name": "stderr",
     "output_type": "stream",
     "text": [
      "/Users/manikyabardhan/anaconda3/envs/fastenv/lib/python3.9/site-packages/sklearn/metrics/_classification.py:1248: UndefinedMetricWarning: Precision and F-score are ill-defined and being set to 0.0 in labels with no predicted samples. Use `zero_division` parameter to control this behavior.\n",
      "  _warn_prf(average, modifier, msg_start, len(result))\n",
      "/Users/manikyabardhan/anaconda3/envs/fastenv/lib/python3.9/site-packages/sklearn/metrics/_classification.py:1248: UndefinedMetricWarning: Precision and F-score are ill-defined and being set to 0.0 in labels with no predicted samples. Use `zero_division` parameter to control this behavior.\n",
      "  _warn_prf(average, modifier, msg_start, len(result))\n",
      "/Users/manikyabardhan/anaconda3/envs/fastenv/lib/python3.9/site-packages/sklearn/metrics/_classification.py:1248: UndefinedMetricWarning: Precision and F-score are ill-defined and being set to 0.0 in labels with no predicted samples. Use `zero_division` parameter to control this behavior.\n",
      "  _warn_prf(average, modifier, msg_start, len(result))\n"
     ]
    }
   ],
   "source": [
    "#skip\n",
    "intepret_learnC = ClassificationInterpretation.from_learner(learnC)\n",
    "dC,tC = flatten_check(intepret_learnC.decoded, intepret_learnC.targs)\n",
    "reportC=skm.classification_report(tC, dC, labels=list(intepret_learnC.vocab.o2i.values()), target_names=[str(v) for v in intepret_learnC.vocab],output_dict=True)\n",
    "intepret_learnC_report = pd.DataFrame(reportC).transpose()\n",
    "intepret_learnC_report.to_csv(\"../results/exp1c/Step6-Validation-ModelC\")"
   ]
  },
  {
   "cell_type": "code",
   "execution_count": null,
   "metadata": {},
   "outputs": [
    {
     "name": "stdout",
     "output_type": "stream",
     "text": [
      "              precision    recall  f1-score   support\n",
      "\n",
      "       <=50K       0.76      1.00      0.86      4953\n",
      "        >50K       0.00      0.00      0.00      1559\n",
      "\n",
      "    accuracy                           0.76      6512\n",
      "   macro avg       0.38      0.50      0.43      6512\n",
      "weighted avg       0.58      0.76      0.66      6512\n",
      "\n"
     ]
    },
    {
     "name": "stderr",
     "output_type": "stream",
     "text": [
      "/Users/manikyabardhan/anaconda3/envs/fastenv/lib/python3.9/site-packages/sklearn/metrics/_classification.py:1248: UndefinedMetricWarning: Precision and F-score are ill-defined and being set to 0.0 in labels with no predicted samples. Use `zero_division` parameter to control this behavior.\n",
      "  _warn_prf(average, modifier, msg_start, len(result))\n",
      "/Users/manikyabardhan/anaconda3/envs/fastenv/lib/python3.9/site-packages/sklearn/metrics/_classification.py:1248: UndefinedMetricWarning: Precision and F-score are ill-defined and being set to 0.0 in labels with no predicted samples. Use `zero_division` parameter to control this behavior.\n",
      "  _warn_prf(average, modifier, msg_start, len(result))\n",
      "/Users/manikyabardhan/anaconda3/envs/fastenv/lib/python3.9/site-packages/sklearn/metrics/_classification.py:1248: UndefinedMetricWarning: Precision and F-score are ill-defined and being set to 0.0 in labels with no predicted samples. Use `zero_division` parameter to control this behavior.\n",
      "  _warn_prf(average, modifier, msg_start, len(result))\n"
     ]
    }
   ],
   "source": [
    "#skip\n",
    "intepret_learnC.print_classification_report()"
   ]
  },
  {
   "cell_type": "markdown",
   "metadata": {},
   "source": [
    "## Step 7\n",
    "Finetune modelB."
   ]
  },
  {
   "cell_type": "code",
   "execution_count": null,
   "metadata": {},
   "outputs": [
    {
     "name": "stderr",
     "output_type": "stream",
     "text": [
      "\u001b[34m\u001b[1mwandb\u001b[0m: wandb version 0.12.2 is available!  To upgrade, please run:\n",
      "\u001b[34m\u001b[1mwandb\u001b[0m:  $ pip install wandb --upgrade\n"
     ]
    },
    {
     "data": {
      "text/html": [
       "\n",
       "                Tracking run with wandb version 0.10.32<br/>\n",
       "                Syncing run <strong style=\"color:#cdcd00\">modelB training</strong> to <a href=\"https://wandb.ai\" target=\"_blank\">Weights & Biases</a> <a href=\"https://docs.wandb.com/integrations/jupyter.html\" target=\"_blank\">(Documentation)</a>.<br/>\n",
       "                Project page: <a href=\"https://wandb.ai/manikya/transfertab\" target=\"_blank\">https://wandb.ai/manikya/transfertab</a><br/>\n",
       "                Run page: <a href=\"https://wandb.ai/manikya/transfertab/runs/3ruoxpym\" target=\"_blank\">https://wandb.ai/manikya/transfertab/runs/3ruoxpym</a><br/>\n",
       "                Run data is saved locally in <code>/Users/manikyabardhan/Documents/github/transfertab/nbs/wandb/run-20210917_005156-3ruoxpym</code><br/><br/>\n",
       "            "
      ],
      "text/plain": [
       "<IPython.core.display.HTML object>"
      ]
     },
     "metadata": {},
     "output_type": "display_data"
    },
    {
     "data": {
      "text/html": [
       "<h1>Run(3ruoxpym)</h1><iframe src=\"https://wandb.ai/manikya/transfertab/runs/3ruoxpym\" style=\"border:none;width:100%;height:400px\"></iframe>"
      ],
      "text/plain": [
       "<wandb.sdk.wandb_run.Run at 0x7fe83d1db040>"
      ]
     },
     "execution_count": null,
     "metadata": {},
     "output_type": "execute_result"
    }
   ],
   "source": [
    "#skip\n",
    "wandb.init(\n",
    "    project='transfertab', \n",
    "    save_code=True, \n",
    "    group='Exp1c', \n",
    "    job_type='finetune', \n",
    "    tags=['transfer', 'adult'], \n",
    "    name='modelB training',\n",
    "    notes='Training modelB which contains transferred embeddings for \" workclass\", \" marital_status\", \" race\", \" relationship\", \" education\"',\n",
    "    reinit=True\n",
    ")"
   ]
  },
  {
   "cell_type": "code",
   "execution_count": null,
   "metadata": {},
   "outputs": [
    {
     "data": {
      "text/plain": [
       "TabularModel(\n",
       "  (embeds): ModuleList(\n",
       "    (0): Embedding(10, 6)\n",
       "    (1): Embedding(17, 8)\n",
       "    (2): Embedding(8, 5)\n",
       "    (3): Embedding(16, 8)\n",
       "    (4): Embedding(7, 12)\n",
       "    (5): Embedding(6, 4)\n",
       "  )\n",
       "  (emb_drop): Dropout(p=0.0, inplace=False)\n",
       "  (bn_cont): BatchNorm1d(3, eps=1e-05, momentum=0.1, affine=True, track_running_stats=True)\n",
       "  (layers): Sequential(\n",
       "    (0): LinBnDrop(\n",
       "      (0): Linear(in_features=46, out_features=200, bias=False)\n",
       "      (1): ReLU(inplace=True)\n",
       "      (2): BatchNorm1d(200, eps=1e-05, momentum=0.1, affine=True, track_running_stats=True)\n",
       "    )\n",
       "    (1): LinBnDrop(\n",
       "      (0): Linear(in_features=200, out_features=100, bias=False)\n",
       "      (1): ReLU(inplace=True)\n",
       "      (2): BatchNorm1d(100, eps=1e-05, momentum=0.1, affine=True, track_running_stats=True)\n",
       "    )\n",
       "    (2): LinBnDrop(\n",
       "      (0): Linear(in_features=100, out_features=2, bias=True)\n",
       "    )\n",
       "  )\n",
       ")"
      ]
     },
     "execution_count": null,
     "metadata": {},
     "output_type": "execute_result"
    }
   ],
   "source": [
    "#skip\n",
    "learnB.model"
   ]
  },
  {
   "cell_type": "code",
   "execution_count": null,
   "metadata": {},
   "outputs": [],
   "source": [
    "#skip\n",
    "for i in range(len(catcolsB)):\n",
    "    learnB.model.embeds[i].weight.requires_grad = False\n",
    "learnB.create_opt()"
   ]
  },
  {
   "cell_type": "code",
   "execution_count": null,
   "metadata": {},
   "outputs": [
    {
     "data": {
      "text/plain": [
       "Parameter containing:\n",
       "tensor([[ 1.3111e-03, -9.3459e-04,  8.4980e-04, -1.5825e-03],\n",
       "        [-7.1275e-01,  1.1130e+00, -2.1454e+00,  2.2315e+00],\n",
       "        [ 2.6314e-01, -7.9928e-02,  5.1556e-01, -4.6700e-01],\n",
       "        [-1.4039e+00, -6.0671e-01, -1.3691e+00,  1.1184e+00],\n",
       "        [ 7.3182e-01,  7.3646e-01,  7.2689e-01, -5.0618e-01],\n",
       "        [ 1.7532e-01, -1.0889e-01,  6.3369e-01, -5.4034e-01]])"
      ]
     },
     "execution_count": null,
     "metadata": {},
     "output_type": "execute_result"
    }
   ],
   "source": [
    "#skip\n",
    "learnB.embeds[5].weight"
   ]
  },
  {
   "cell_type": "code",
   "execution_count": null,
   "metadata": {},
   "outputs": [
    {
     "data": {
      "text/plain": [
       "Parameter containing:\n",
       "tensor([[-0.1073, -0.0332, -0.0962,  ...,  0.1260,  0.0125, -0.0106],\n",
       "        [ 0.1438,  0.1016,  0.0015,  ..., -0.0944,  0.0115, -0.0234],\n",
       "        [-0.0704,  0.0832, -0.0904,  ...,  0.1074, -0.0750, -0.0512],\n",
       "        ...,\n",
       "        [ 0.0042,  0.1228,  0.0002,  ...,  0.0861, -0.0895, -0.1421],\n",
       "        [-0.0238,  0.0789, -0.0702,  ..., -0.0716, -0.0874, -0.0290],\n",
       "        [-0.0146, -0.0887,  0.0006,  ...,  0.0554, -0.0540, -0.0881]],\n",
       "       requires_grad=True)"
      ]
     },
     "execution_count": null,
     "metadata": {},
     "output_type": "execute_result"
    }
   ],
   "source": [
    "#skip\n",
    "learnB.layers[0][0].weight"
   ]
  },
  {
   "cell_type": "code",
   "execution_count": null,
   "metadata": {},
   "outputs": [
    {
     "data": {
      "text/html": [
       "<table border=\"1\" class=\"dataframe\">\n",
       "  <thead>\n",
       "    <tr style=\"text-align: left;\">\n",
       "      <th>epoch</th>\n",
       "      <th>train_loss</th>\n",
       "      <th>valid_loss</th>\n",
       "      <th>accuracy</th>\n",
       "      <th>time</th>\n",
       "    </tr>\n",
       "  </thead>\n",
       "  <tbody>\n",
       "    <tr>\n",
       "      <td>0</td>\n",
       "      <td>0.492397</td>\n",
       "      <td>0.471082</td>\n",
       "      <td>0.805129</td>\n",
       "      <td>00:01</td>\n",
       "    </tr>\n",
       "  </tbody>\n",
       "</table>"
      ],
      "text/plain": [
       "<IPython.core.display.HTML object>"
      ]
     },
     "metadata": {},
     "output_type": "display_data"
    },
    {
     "name": "stdout",
     "output_type": "stream",
     "text": [
      "Better model found at epoch 0 with valid_loss value: 0.47108179330825806.\n"
     ]
    }
   ],
   "source": [
    "#skip\n",
    "cbsB=[WandbCallback(log=\"all\", dataset_name=\"adult\", n_preds=128, seed=1), SaveModelCallback()]\n",
    "learnB.fit_one_cycle(1, cbs=cbsB)"
   ]
  },
  {
   "cell_type": "code",
   "execution_count": null,
   "metadata": {},
   "outputs": [],
   "source": [
    "#skip\n",
    "for i in range(len(catcolsB)):\n",
    "    learnB.model.embeds[i].weight.requires_grad = True\n",
    "learnB.create_opt()"
   ]
  },
  {
   "cell_type": "code",
   "execution_count": null,
   "metadata": {},
   "outputs": [
    {
     "data": {
      "text/plain": [
       "Parameter containing:\n",
       "tensor([[ 1.3111e-03, -9.3459e-04,  8.4980e-04, -1.5825e-03],\n",
       "        [-7.1275e-01,  1.1130e+00, -2.1454e+00,  2.2315e+00],\n",
       "        [ 2.6314e-01, -7.9928e-02,  5.1556e-01, -4.6700e-01],\n",
       "        [-1.4039e+00, -6.0671e-01, -1.3691e+00,  1.1184e+00],\n",
       "        [ 7.3182e-01,  7.3646e-01,  7.2689e-01, -5.0618e-01],\n",
       "        [ 1.7532e-01, -1.0889e-01,  6.3369e-01, -5.4034e-01]],\n",
       "       requires_grad=True)"
      ]
     },
     "execution_count": null,
     "metadata": {},
     "output_type": "execute_result"
    }
   ],
   "source": [
    "#skip\n",
    "learnB.embeds[-1].weight"
   ]
  },
  {
   "cell_type": "code",
   "execution_count": null,
   "metadata": {},
   "outputs": [
    {
     "data": {
      "text/html": [
       "<table border=\"1\" class=\"dataframe\">\n",
       "  <thead>\n",
       "    <tr style=\"text-align: left;\">\n",
       "      <th>epoch</th>\n",
       "      <th>train_loss</th>\n",
       "      <th>valid_loss</th>\n",
       "      <th>accuracy</th>\n",
       "      <th>time</th>\n",
       "    </tr>\n",
       "  </thead>\n",
       "  <tbody>\n",
       "    <tr>\n",
       "      <td>0</td>\n",
       "      <td>0.412158</td>\n",
       "      <td>0.376959</td>\n",
       "      <td>0.833538</td>\n",
       "      <td>00:01</td>\n",
       "    </tr>\n",
       "    <tr>\n",
       "      <td>1</td>\n",
       "      <td>0.361092</td>\n",
       "      <td>0.363597</td>\n",
       "      <td>0.835381</td>\n",
       "      <td>00:09</td>\n",
       "    </tr>\n",
       "  </tbody>\n",
       "</table>"
      ],
      "text/plain": [
       "<IPython.core.display.HTML object>"
      ]
     },
     "metadata": {},
     "output_type": "display_data"
    },
    {
     "name": "stdout",
     "output_type": "stream",
     "text": [
      "Better model found at epoch 0 with valid_loss value: 0.37695854902267456.\n",
      "Better model found at epoch 1 with valid_loss value: 0.3635970652103424.\n"
     ]
    }
   ],
   "source": [
    "#skip\n",
    "learnB.fit_one_cycle(2, cbs=cbsB)"
   ]
  },
  {
   "cell_type": "code",
   "execution_count": null,
   "metadata": {},
   "outputs": [
    {
     "data": {
      "text/html": [
       "<table border=\"1\" class=\"dataframe\">\n",
       "  <thead>\n",
       "    <tr style=\"text-align: left;\">\n",
       "      <th>epoch</th>\n",
       "      <th>train_loss</th>\n",
       "      <th>valid_loss</th>\n",
       "      <th>accuracy</th>\n",
       "      <th>time</th>\n",
       "    </tr>\n",
       "  </thead>\n",
       "  <tbody>\n",
       "    <tr>\n",
       "      <td>0</td>\n",
       "      <td>0.353168</td>\n",
       "      <td>0.357309</td>\n",
       "      <td>0.836149</td>\n",
       "      <td>00:01</td>\n",
       "    </tr>\n",
       "  </tbody>\n",
       "</table>"
      ],
      "text/plain": [
       "<IPython.core.display.HTML object>"
      ]
     },
     "metadata": {},
     "output_type": "display_data"
    },
    {
     "name": "stdout",
     "output_type": "stream",
     "text": [
      "Better model found at epoch 0 with valid_loss value: 0.35730892419815063.\n"
     ]
    }
   ],
   "source": [
    "#skip\n",
    "learnB.fit_one_cycle(1, cbs=cbsB)"
   ]
  },
  {
   "cell_type": "code",
   "execution_count": null,
   "metadata": {},
   "outputs": [
    {
     "data": {
      "text/plain": [
       "Parameter containing:\n",
       "tensor([[ 1.3091e-03, -9.3316e-04,  8.4850e-04, -1.5801e-03],\n",
       "        [-7.2138e-01,  1.1078e+00, -2.1380e+00,  2.2279e+00],\n",
       "        [ 2.9455e-01, -5.7048e-02,  5.1236e-01, -4.7272e-01],\n",
       "        [-1.3826e+00, -5.9556e-01, -1.3616e+00,  1.1046e+00],\n",
       "        [ 7.4840e-01,  7.7091e-01,  7.2122e-01, -5.0608e-01],\n",
       "        [ 1.6296e-01, -1.1749e-01,  6.3543e-01, -5.2904e-01]],\n",
       "       requires_grad=True)"
      ]
     },
     "execution_count": null,
     "metadata": {},
     "output_type": "execute_result"
    }
   ],
   "source": [
    "#skip\n",
    "learnB.embeds[-1].weight"
   ]
  },
  {
   "cell_type": "code",
   "execution_count": null,
   "metadata": {},
   "outputs": [
    {
     "data": {
      "image/png": "[encoded data removed]",
      "text/plain": [
       "<Figure size 432x288 with 1 Axes>"
      ]
     },
     "metadata": {
      "needs_background": "light"
     },
     "output_type": "display_data"
    }
   ],
   "source": [
    "#skip\n",
    "learnB.recorder.plot_loss()"
   ]
  },
  {
   "cell_type": "code",
   "execution_count": null,
   "metadata": {},
   "outputs": [
    {
     "data": {
      "text/html": [
       "<br/>Waiting for W&B process to finish, PID 1136<br/>Program ended successfully."
      ],
      "text/plain": [
       "<IPython.core.display.HTML object>"
      ]
     },
     "metadata": {},
     "output_type": "display_data"
    },
    {
     "data": {
      "application/vnd.jupyter.widget-view+json": {
       "model_id": "",
       "version_major": 2,
       "version_minor": 0
      },
      "text/plain": [
       "VBox(children=(Label(value=' 0.49MB of 0.49MB uploaded (0.00MB deduped)\\r'), FloatProgress(value=1.0, max=1.0)…"
      ]
     },
     "metadata": {},
     "output_type": "display_data"
    },
    {
     "data": {
      "text/html": [
       "Find user logs for this run at: <code>/Users/manikyabardhan/Documents/github/transfertab/nbs/wandb/run-20210917_005156-3ruoxpym/logs/debug.log</code>"
      ],
      "text/plain": [
       "<IPython.core.display.HTML object>"
      ]
     },
     "metadata": {},
     "output_type": "display_data"
    },
    {
     "data": {
      "text/html": [
       "Find internal logs for this run at: <code>/Users/manikyabardhan/Documents/github/transfertab/nbs/wandb/run-20210917_005156-3ruoxpym/logs/debug-internal.log</code>"
      ],
      "text/plain": [
       "<IPython.core.display.HTML object>"
      ]
     },
     "metadata": {},
     "output_type": "display_data"
    },
    {
     "data": {
      "text/html": [
       "<h3>Run summary:</h3><br/><style>\n",
       "    table.wandb td:nth-child(1) { padding: 0 10px; text-align: right }\n",
       "    </style><table class=\"wandb\">\n",
       "<tr><td>epoch</td><td>4</td></tr><tr><td>train_loss</td><td>0.35317</td></tr><tr><td>raw_loss</td><td>0.37842</td></tr><tr><td>wd_0</td><td>0.01</td></tr><tr><td>sqr_mom_0</td><td>0.99</td></tr><tr><td>lr_0</td><td>0.0</td></tr><tr><td>mom_0</td><td>0.94996</td></tr><tr><td>eps_0</td><td>1e-05</td></tr><tr><td>_runtime</td><td>226</td></tr><tr><td>_timestamp</td><td>1631820342</td></tr><tr><td>_step</td><td>405</td></tr><tr><td>valid_loss</td><td>0.35731</td></tr><tr><td>accuracy</td><td>0.83615</td></tr></table>"
      ],
      "text/plain": [
       "<IPython.core.display.HTML object>"
      ]
     },
     "metadata": {},
     "output_type": "display_data"
    },
    {
     "data": {
      "text/html": [
       "<h3>Run history:</h3><br/><style>\n",
       "    table.wandb td:nth-child(1) { padding: 0 10px; text-align: right }\n",
       "    </style><table class=\"wandb\">\n",
       "<tr><td>epoch</td><td>▁▁▁▁▂▂▂▂▂▃▃▃▃▃▃▄▄▄▄▄▅▅▅▅▅▅▆▆▆▆▆▇▇▇▇▇▇███</td></tr><tr><td>train_loss</td><td>█▇▆▅▅▅▄▄▄▄▃▃▃▃▃▃▃▃▃▃▂▂▂▂▂▂▂▂▂▂▁▁▁▂▂▂▂▂▂▁</td></tr><tr><td>raw_loss</td><td>█▆▅▄▅▄▄▄▄▄▃▄▃▃▃▂▂▃▃▃▂▂▁▂▂▂▃▂▂▂▁▂▁▃▂▃▂▁▁▂</td></tr><tr><td>wd_0</td><td>▁▁▁▁▁▁▁▁▁▁▁▁▁▁▁▁▁▁▁▁▁▁▁▁▁▁▁▁▁▁▁▁▁▁▁▁▁▁▁▁</td></tr><tr><td>sqr_mom_0</td><td>▁▁▁▁▁▁▁▁▁▁▁▁▁▁▁▁▁▁▁▁▁▁▁▁▁▁▁▁▁▁▁▁▁▁▁▁▁▁▁▁</td></tr><tr><td>lr_0</td><td>▂▄██▇▆▅▃▂▁▁▂▄▆████▇▇▆▅▅▄▃▂▂▁▁▁▂▆██▇▆▄▃▁▁</td></tr><tr><td>mom_0</td><td>█▅▁▁▂▃▄▆▇██▇▅▃▁▁▁▁▂▂▃▄▄▅▆▇▇████▃▁▁▂▃▅▆██</td></tr><tr><td>eps_0</td><td>▁▁▁▁▁▁▁▁▁▁▁▁▁▁▁▁▁▁▁▁▁▁▁▁▁▁▁▁▁▁▁▁▁▁▁▁▁▁▁▁</td></tr><tr><td>_runtime</td><td>▁▁▁▁▁▁▁▁▁▁▃▃▃▃▃▃▃▃▃▃▃▃▃▃▃▃▃▃▃▃██████████</td></tr><tr><td>_timestamp</td><td>▁▁▁▁▁▁▁▁▁▁▃▃▃▃▃▃▃▃▃▃▃▃▃▃▃▃▃▃▃▃██████████</td></tr><tr><td>_step</td><td>▁▁▁▁▂▂▂▂▂▃▃▃▃▃▃▄▄▄▄▄▅▅▅▅▅▅▆▆▆▆▆▇▇▇▇▇▇███</td></tr><tr><td>valid_loss</td><td>█▂▁▁</td></tr><tr><td>accuracy</td><td>▁▇██</td></tr></table><br/>"
      ],
      "text/plain": [
       "<IPython.core.display.HTML object>"
      ]
     },
     "metadata": {},
     "output_type": "display_data"
    },
    {
     "data": {
      "text/html": [
       "Synced 7 W&B file(s), 4 media file(s), 7 artifact file(s) and 1 other file(s)"
      ],
      "text/plain": [
       "<IPython.core.display.HTML object>"
      ]
     },
     "metadata": {},
     "output_type": "display_data"
    },
    {
     "data": {
      "text/html": [
       "\n",
       "                    <br/>Synced <strong style=\"color:#cdcd00\">modelB training</strong>: <a href=\"https://wandb.ai/manikya/transfertab/runs/3ruoxpym\" target=\"_blank\">https://wandb.ai/manikya/transfertab/runs/3ruoxpym</a><br/>\n",
       "                "
      ],
      "text/plain": [
       "<IPython.core.display.HTML object>"
      ]
     },
     "metadata": {},
     "output_type": "display_data"
    }
   ],
   "source": [
    "#skip\n",
    "wandb.finish()"
   ]
  },
  {
   "cell_type": "markdown",
   "metadata": {},
   "source": [
    "## Step 8"
   ]
  },
  {
   "cell_type": "code",
   "execution_count": null,
   "metadata": {},
   "outputs": [
    {
     "name": "stderr",
     "output_type": "stream",
     "text": [
      "\u001b[34m\u001b[1mwandb\u001b[0m: wandb version 0.12.2 is available!  To upgrade, please run:\n",
      "\u001b[34m\u001b[1mwandb\u001b[0m:  $ pip install wandb --upgrade\n"
     ]
    },
    {
     "data": {
      "text/html": [
       "\n",
       "                Tracking run with wandb version 0.10.32<br/>\n",
       "                Syncing run <strong style=\"color:#cdcd00\">modelC training</strong> to <a href=\"https://wandb.ai\" target=\"_blank\">Weights & Biases</a> <a href=\"https://docs.wandb.com/integrations/jupyter.html\" target=\"_blank\">(Documentation)</a>.<br/>\n",
       "                Project page: <a href=\"https://wandb.ai/manikya/transfertab\" target=\"_blank\">https://wandb.ai/manikya/transfertab</a><br/>\n",
       "                Run page: <a href=\"https://wandb.ai/manikya/transfertab/runs/6566qfds\" target=\"_blank\">https://wandb.ai/manikya/transfertab/runs/6566qfds</a><br/>\n",
       "                Run data is saved locally in <code>/Users/manikyabardhan/Documents/github/transfertab/nbs/wandb/run-20210917_010020-6566qfds</code><br/><br/>\n",
       "            "
      ],
      "text/plain": [
       "<IPython.core.display.HTML object>"
      ]
     },
     "metadata": {},
     "output_type": "display_data"
    },
    {
     "data": {
      "text/html": [
       "<h1>Run(6566qfds)</h1><iframe src=\"https://wandb.ai/manikya/transfertab/runs/6566qfds\" style=\"border:none;width:100%;height:400px\"></iframe>"
      ],
      "text/plain": [
       "<wandb.sdk.wandb_run.Run at 0x7fe8313a9940>"
      ]
     },
     "execution_count": null,
     "metadata": {},
     "output_type": "execute_result"
    }
   ],
   "source": [
    "#skip\n",
    "wandb.init(\n",
    "    project='transfertab', \n",
    "    save_code=True, \n",
    "    group='Exp1c', \n",
    "    job_type='controlgrp', \n",
    "    tags=['base', 'adult'], \n",
    "    name='modelC training',\n",
    "    notes='Training modelC which contains randomly initialized weights and same classifier weights as modelB',\n",
    "    reinit=True\n",
    ")"
   ]
  },
  {
   "cell_type": "code",
   "execution_count": null,
   "metadata": {},
   "outputs": [
    {
     "data": {
      "text/html": [
       "<table border=\"1\" class=\"dataframe\">\n",
       "  <thead>\n",
       "    <tr style=\"text-align: left;\">\n",
       "      <th>epoch</th>\n",
       "      <th>train_loss</th>\n",
       "      <th>valid_loss</th>\n",
       "      <th>accuracy</th>\n",
       "      <th>time</th>\n",
       "    </tr>\n",
       "  </thead>\n",
       "  <tbody>\n",
       "    <tr>\n",
       "      <td>0</td>\n",
       "      <td>0.524250</td>\n",
       "      <td>0.467839</td>\n",
       "      <td>0.796990</td>\n",
       "      <td>00:04</td>\n",
       "    </tr>\n",
       "    <tr>\n",
       "      <td>1</td>\n",
       "      <td>0.403883</td>\n",
       "      <td>0.372212</td>\n",
       "      <td>0.830467</td>\n",
       "      <td>00:09</td>\n",
       "    </tr>\n",
       "    <tr>\n",
       "      <td>2</td>\n",
       "      <td>0.361470</td>\n",
       "      <td>0.357796</td>\n",
       "      <td>0.832617</td>\n",
       "      <td>00:08</td>\n",
       "    </tr>\n",
       "    <tr>\n",
       "      <td>3</td>\n",
       "      <td>0.347912</td>\n",
       "      <td>0.355953</td>\n",
       "      <td>0.833538</td>\n",
       "      <td>00:07</td>\n",
       "    </tr>\n",
       "  </tbody>\n",
       "</table>"
      ],
      "text/plain": [
       "<IPython.core.display.HTML object>"
      ]
     },
     "metadata": {},
     "output_type": "display_data"
    },
    {
     "name": "stdout",
     "output_type": "stream",
     "text": [
      "Better model found at epoch 0 with valid_loss value: 0.46783900260925293.\n",
      "Better model found at epoch 1 with valid_loss value: 0.37221238017082214.\n",
      "Better model found at epoch 2 with valid_loss value: 0.35779625177383423.\n",
      "Better model found at epoch 3 with valid_loss value: 0.35595300793647766.\n"
     ]
    }
   ],
   "source": [
    "#skip\n",
    "cbsC=[WandbCallback(log=\"all\", dataset_name=\"adult\", n_preds=128, seed=1), SaveModelCallback()]\n",
    "learnC.fit_one_cycle(4, cbs=cbsC)"
   ]
  },
  {
   "cell_type": "code",
   "execution_count": null,
   "metadata": {},
   "outputs": [
    {
     "data": {
      "image/png": "[encoded data removed]",
      "text/plain": [
       "<Figure size 432x288 with 1 Axes>"
      ]
     },
     "metadata": {
      "needs_background": "light"
     },
     "output_type": "display_data"
    }
   ],
   "source": [
    "#skip\n",
    "learnC.recorder.plot_loss()"
   ]
  },
  {
   "cell_type": "code",
   "execution_count": null,
   "metadata": {},
   "outputs": [
    {
     "data": {
      "text/html": [
       "<br/>Waiting for W&B process to finish, PID 1285<br/>Program ended successfully."
      ],
      "text/plain": [
       "<IPython.core.display.HTML object>"
      ]
     },
     "metadata": {},
     "output_type": "display_data"
    },
    {
     "data": {
      "application/vnd.jupyter.widget-view+json": {
       "model_id": "",
       "version_major": 2,
       "version_minor": 0
      },
      "text/plain": [
       "VBox(children=(Label(value=' 0.24MB of 0.24MB uploaded (0.00MB deduped)\\r'), FloatProgress(value=1.0, max=1.0)…"
      ]
     },
     "metadata": {},
     "output_type": "display_data"
    },
    {
     "data": {
      "text/html": [
       "Find user logs for this run at: <code>/Users/manikyabardhan/Documents/github/transfertab/nbs/wandb/run-20210917_010020-6566qfds/logs/debug.log</code>"
      ],
      "text/plain": [
       "<IPython.core.display.HTML object>"
      ]
     },
     "metadata": {},
     "output_type": "display_data"
    },
    {
     "data": {
      "text/html": [
       "Find internal logs for this run at: <code>/Users/manikyabardhan/Documents/github/transfertab/nbs/wandb/run-20210917_010020-6566qfds/logs/debug-internal.log</code>"
      ],
      "text/plain": [
       "<IPython.core.display.HTML object>"
      ]
     },
     "metadata": {},
     "output_type": "display_data"
    },
    {
     "data": {
      "text/html": [
       "<h3>Run summary:</h3><br/><style>\n",
       "    table.wandb td:nth-child(1) { padding: 0 10px; text-align: right }\n",
       "    </style><table class=\"wandb\">\n",
       "<tr><td>epoch</td><td>4</td></tr><tr><td>train_loss</td><td>0.34791</td></tr><tr><td>raw_loss</td><td>0.32487</td></tr><tr><td>wd_0</td><td>0.01</td></tr><tr><td>sqr_mom_0</td><td>0.99</td></tr><tr><td>lr_0</td><td>0.0</td></tr><tr><td>mom_0</td><td>0.95</td></tr><tr><td>eps_0</td><td>1e-05</td></tr><tr><td>_runtime</td><td>54</td></tr><tr><td>_timestamp</td><td>1631820674</td></tr><tr><td>_step</td><td>403</td></tr><tr><td>valid_loss</td><td>0.35595</td></tr><tr><td>accuracy</td><td>0.83354</td></tr></table>"
      ],
      "text/plain": [
       "<IPython.core.display.HTML object>"
      ]
     },
     "metadata": {},
     "output_type": "display_data"
    },
    {
     "data": {
      "text/html": [
       "<h3>Run history:</h3><br/><style>\n",
       "    table.wandb td:nth-child(1) { padding: 0 10px; text-align: right }\n",
       "    </style><table class=\"wandb\">\n",
       "<tr><td>epoch</td><td>▁▁▁▁▂▂▂▂▂▃▃▃▃▃▃▄▄▄▄▄▅▅▅▅▅▅▆▆▆▆▆▇▇▇▇▇▇███</td></tr><tr><td>train_loss</td><td>██▇▇▇▆▆▆▅▅▅▄▄▄▃▃▃▃▃▂▂▂▂▂▂▂▁▁▁▁▁▁▁▁▁▁▁▁▁▁</td></tr><tr><td>raw_loss</td><td>█▆▆▆▆▄▄▄▃▄▃▄▂▃▂▃▃▂▂▁▃▁▂▂▂▂▂▂▂▁▂▁▂▁▂▂▁▂▂▁</td></tr><tr><td>wd_0</td><td>▁▁▁▁▁▁▁▁▁▁▁▁▁▁▁▁▁▁▁▁▁▁▁▁▁▁▁▁▁▁▁▁▁▁▁▁▁▁▁▁</td></tr><tr><td>sqr_mom_0</td><td>▁▁▁▁▁▁▁▁▁▁▁▁▁▁▁▁▁▁▁▁▁▁▁▁▁▁▁▁▁▁▁▁▁▁▁▁▁▁▁▁</td></tr><tr><td>lr_0</td><td>▁▁▂▃▄▅▆▇▇██████▇▇▇▇▆▆▆▅▅▅▄▄▄▃▃▃▂▂▂▂▁▁▁▁▁</td></tr><tr><td>mom_0</td><td>██▇▆▅▄▃▂▂▁▁▁▁▁▁▂▂▂▂▃▃▃▄▄▄▅▅▅▆▆▆▇▇▇▇█████</td></tr><tr><td>eps_0</td><td>▁▁▁▁▁▁▁▁▁▁▁▁▁▁▁▁▁▁▁▁▁▁▁▁▁▁▁▁▁▁▁▁▁▁▁▁▁▁▁▁</td></tr><tr><td>_runtime</td><td>▁▁▁▁▁▁▁▁▁▁▃▃▄▄▄▄▄▄▄▄▆▆▆▆▆▆▆▆▆▆▇▇▇███████</td></tr><tr><td>_timestamp</td><td>▁▁▁▁▁▁▁▁▁▁▃▃▄▄▄▄▄▄▄▄▆▆▆▆▆▆▆▆▆▆▇▇▇███████</td></tr><tr><td>_step</td><td>▁▁▁▁▂▂▂▂▂▃▃▃▃▃▃▄▄▄▄▄▅▅▅▅▅▅▆▆▆▆▆▇▇▇▇▇▇███</td></tr><tr><td>valid_loss</td><td>█▂▁▁</td></tr><tr><td>accuracy</td><td>▁▇██</td></tr></table><br/>"
      ],
      "text/plain": [
       "<IPython.core.display.HTML object>"
      ]
     },
     "metadata": {},
     "output_type": "display_data"
    },
    {
     "data": {
      "text/html": [
       "Synced 7 W&B file(s), 4 media file(s), 5 artifact file(s) and 1 other file(s)"
      ],
      "text/plain": [
       "<IPython.core.display.HTML object>"
      ]
     },
     "metadata": {},
     "output_type": "display_data"
    },
    {
     "data": {
      "text/html": [
       "\n",
       "                    <br/>Synced <strong style=\"color:#cdcd00\">modelC training</strong>: <a href=\"https://wandb.ai/manikya/transfertab/runs/6566qfds\" target=\"_blank\">https://wandb.ai/manikya/transfertab/runs/6566qfds</a><br/>\n",
       "                "
      ],
      "text/plain": [
       "<IPython.core.display.HTML object>"
      ]
     },
     "metadata": {},
     "output_type": "display_data"
    }
   ],
   "source": [
    "#skip\n",
    "wandb.finish()"
   ]
  },
  {
   "cell_type": "code",
   "execution_count": null,
   "metadata": {},
   "outputs": [
    {
     "data": {
      "text/plain": [
       "tensor([[ 2.9931e-05,  2.8169e-03, -1.0854e-03, -6.5014e-04, -7.1729e-04,\n",
       "         -2.2243e-04],\n",
       "        [-3.7331e-01,  7.2444e-01, -9.6488e-01, -3.1515e-01,  7.2192e-01,\n",
       "         -2.9967e-01],\n",
       "        [ 4.6477e-01, -1.0390e+00, -7.4647e-01, -7.8644e-01, -1.0744e+00,\n",
       "         -5.5194e-02],\n",
       "        [-4.0834e-01,  4.1289e-01,  2.8852e-01,  9.4725e-01,  4.4041e-01,\n",
       "         -3.5451e-01],\n",
       "        [ 1.1802e-01, -2.0689e-01,  1.1025e-01,  2.5589e-01, -2.1081e-01,\n",
       "          1.2100e-01],\n",
       "        [ 5.2560e-02, -2.7222e-01, -6.8828e-01, -6.4219e-01, -3.0519e-01,\n",
       "         -1.0339e-01],\n",
       "        [-8.6160e-02, -2.4890e+00,  1.3428e+00,  2.0030e-01, -2.4939e+00,\n",
       "          5.1231e-01],\n",
       "        [ 4.9094e-01,  2.9757e-01,  2.2930e+00,  1.8825e+00,  3.6363e-01,\n",
       "          9.5631e-01],\n",
       "        [ 1.1688e+00,  1.1186e+00,  3.6269e-01,  1.1210e+00,  1.1486e+00,\n",
       "          6.7697e-01],\n",
       "        [-8.3682e-01,  3.8593e+00, -2.1245e+00, -6.7106e-01,  3.9410e+00,\n",
       "         -1.1594e+00]])"
      ]
     },
     "execution_count": null,
     "metadata": {},
     "output_type": "execute_result"
    }
   ],
   "source": [
    "#skip\n",
    "learnB.model.embeds.state_dict()['0.weight']"
   ]
  },
  {
   "cell_type": "code",
   "execution_count": null,
   "metadata": {},
   "outputs": [
    {
     "data": {
      "text/plain": [
       "tensor([[-0.0016, -0.0061, -0.0029,  0.0069, -0.0095,  0.0029],\n",
       "        [-0.0046,  0.0249,  0.0138,  0.0042,  0.0004, -0.0141],\n",
       "        [-0.0182, -0.0353, -0.0419, -0.0122, -0.0436,  0.0486],\n",
       "        [-0.0176,  0.0131,  0.0235,  0.0016,  0.0024, -0.0007],\n",
       "        [ 0.0134,  0.0144,  0.0017,  0.0036, -0.0117,  0.0026],\n",
       "        [-0.0122, -0.0194, -0.0102, -0.0321, -0.0221, -0.0118],\n",
       "        [ 0.0077, -0.0225, -0.0540, -0.0010, -0.0246,  0.0730],\n",
       "        [ 0.0611,  0.0309,  0.0349,  0.0424,  0.0240, -0.0347],\n",
       "        [-0.0099,  0.0529,  0.0344,  0.0065,  0.0173,  0.0165],\n",
       "        [ 0.0342,  0.0383,  0.0611,  0.0276,  0.0585, -0.0494]])"
      ]
     },
     "execution_count": null,
     "metadata": {},
     "output_type": "execute_result"
    }
   ],
   "source": [
    "#skip\n",
    "learnC.model.embeds.state_dict()['0.weight']"
   ]
  },
  {
   "cell_type": "code",
   "execution_count": null,
   "metadata": {},
   "outputs": [],
   "source": [
    "#skip\n",
    "torch.save(learnB.model.state_dict(),\"../results/exp1c/modelB_state_dict\")\n",
    "torch.save(learnC.model.state_dict(),\"../results/exp1c/modelC_state_dict\")"
   ]
  },
  {
   "cell_type": "markdown",
   "metadata": {},
   "source": [
    "# Step 9"
   ]
  },
  {
   "cell_type": "code",
   "execution_count": null,
   "metadata": {},
   "outputs": [],
   "source": []
  }
 ],
 "metadata": {
  "kernelspec": {
   "display_name": "Python 3",
   "language": "python",
   "name": "python3"
  }
 },
 "nbformat": 4,
 "nbformat_minor": 5
}
