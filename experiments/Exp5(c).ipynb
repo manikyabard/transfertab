{
 "cells": [
  {
   "cell_type": "code",
   "execution_count": 31,
   "metadata": {},
   "outputs": [],
   "source": [
    "from fastai.tabular.all import *\n",
    "from transfertab.utils import *\n",
    "from transfertab.transfer import *\n",
    "from transfertab.extract import *\n",
    "from fastcore.xtras import *\n",
    "from fastai.learner import *\n",
    "import torch\n",
    "import numpy as np\n",
    "from fastai.interpret import *\n",
    "import wandb\n",
    "from fastai.callback.wandb import *"
   ]
  },
  {
   "cell_type": "code",
   "execution_count": 32,
   "metadata": {},
   "outputs": [],
   "source": [
    "df = pd.read_csv(\"../data/datasets/online_shoppers_intention.csv\")"
   ]
  },
  {
   "cell_type": "code",
   "execution_count": 33,
   "metadata": {},
   "outputs": [
    {
     "data": {
      "text/plain": [
       "7398.0"
      ]
     },
     "execution_count": 33,
     "metadata": {},
     "output_type": "execute_result"
    }
   ],
   "source": [
    "df.shape[0]*0.6"
   ]
  },
  {
   "cell_type": "code",
   "execution_count": 34,
   "metadata": {},
   "outputs": [],
   "source": [
    "dfA = df.iloc[0:7398]\n",
    "dfB = df.iloc[7398:-1]"
   ]
  },
  {
   "cell_type": "code",
   "execution_count": 35,
   "metadata": {},
   "outputs": [
    {
     "data": {
      "text/plain": [
       "Index(['Administrative', 'Administrative_Duration', 'Informational',\n",
       "       'Informational_Duration', 'ProductRelated', 'ProductRelated_Duration',\n",
       "       'BounceRates', 'ExitRates', 'PageValues', 'SpecialDay', 'Month',\n",
       "       'OperatingSystems', 'Browser', 'Region', 'TrafficType', 'VisitorType',\n",
       "       'Weekend', 'Revenue'],\n",
       "      dtype='object')"
      ]
     },
     "execution_count": 35,
     "metadata": {},
     "output_type": "execute_result"
    }
   ],
   "source": [
    "dfA.columns"
   ]
  },
  {
   "cell_type": "code",
   "execution_count": 36,
   "metadata": {},
   "outputs": [
    {
     "data": {
      "text/html": [
       "<div>\n",
       "<style scoped>\n",
       "    .dataframe tbody tr th:only-of-type {\n",
       "        vertical-align: middle;\n",
       "    }\n",
       "\n",
       "    .dataframe tbody tr th {\n",
       "        vertical-align: top;\n",
       "    }\n",
       "\n",
       "    .dataframe thead th {\n",
       "        text-align: right;\n",
       "    }\n",
       "</style>\n",
       "<table border=\"1\" class=\"dataframe\">\n",
       "  <thead>\n",
       "    <tr style=\"text-align: right;\">\n",
       "      <th></th>\n",
       "      <th>Administrative</th>\n",
       "      <th>Administrative_Duration</th>\n",
       "      <th>Informational</th>\n",
       "      <th>Informational_Duration</th>\n",
       "      <th>ProductRelated</th>\n",
       "      <th>ProductRelated_Duration</th>\n",
       "      <th>BounceRates</th>\n",
       "      <th>ExitRates</th>\n",
       "      <th>PageValues</th>\n",
       "      <th>SpecialDay</th>\n",
       "      <th>Month</th>\n",
       "      <th>OperatingSystems</th>\n",
       "      <th>Browser</th>\n",
       "      <th>Region</th>\n",
       "      <th>TrafficType</th>\n",
       "      <th>VisitorType</th>\n",
       "      <th>Weekend</th>\n",
       "      <th>Revenue</th>\n",
       "    </tr>\n",
       "  </thead>\n",
       "  <tbody>\n",
       "    <tr>\n",
       "      <th>0</th>\n",
       "      <td>0</td>\n",
       "      <td>0.0</td>\n",
       "      <td>0</td>\n",
       "      <td>0.0</td>\n",
       "      <td>1</td>\n",
       "      <td>0.000000</td>\n",
       "      <td>0.20</td>\n",
       "      <td>0.20</td>\n",
       "      <td>0.0</td>\n",
       "      <td>0.0</td>\n",
       "      <td>Feb</td>\n",
       "      <td>1</td>\n",
       "      <td>1</td>\n",
       "      <td>1</td>\n",
       "      <td>1</td>\n",
       "      <td>Returning_Visitor</td>\n",
       "      <td>False</td>\n",
       "      <td>False</td>\n",
       "    </tr>\n",
       "    <tr>\n",
       "      <th>1</th>\n",
       "      <td>0</td>\n",
       "      <td>0.0</td>\n",
       "      <td>0</td>\n",
       "      <td>0.0</td>\n",
       "      <td>2</td>\n",
       "      <td>64.000000</td>\n",
       "      <td>0.00</td>\n",
       "      <td>0.10</td>\n",
       "      <td>0.0</td>\n",
       "      <td>0.0</td>\n",
       "      <td>Feb</td>\n",
       "      <td>2</td>\n",
       "      <td>2</td>\n",
       "      <td>1</td>\n",
       "      <td>2</td>\n",
       "      <td>Returning_Visitor</td>\n",
       "      <td>False</td>\n",
       "      <td>False</td>\n",
       "    </tr>\n",
       "    <tr>\n",
       "      <th>2</th>\n",
       "      <td>0</td>\n",
       "      <td>0.0</td>\n",
       "      <td>0</td>\n",
       "      <td>0.0</td>\n",
       "      <td>1</td>\n",
       "      <td>0.000000</td>\n",
       "      <td>0.20</td>\n",
       "      <td>0.20</td>\n",
       "      <td>0.0</td>\n",
       "      <td>0.0</td>\n",
       "      <td>Feb</td>\n",
       "      <td>4</td>\n",
       "      <td>1</td>\n",
       "      <td>9</td>\n",
       "      <td>3</td>\n",
       "      <td>Returning_Visitor</td>\n",
       "      <td>False</td>\n",
       "      <td>False</td>\n",
       "    </tr>\n",
       "    <tr>\n",
       "      <th>3</th>\n",
       "      <td>0</td>\n",
       "      <td>0.0</td>\n",
       "      <td>0</td>\n",
       "      <td>0.0</td>\n",
       "      <td>2</td>\n",
       "      <td>2.666667</td>\n",
       "      <td>0.05</td>\n",
       "      <td>0.14</td>\n",
       "      <td>0.0</td>\n",
       "      <td>0.0</td>\n",
       "      <td>Feb</td>\n",
       "      <td>3</td>\n",
       "      <td>2</td>\n",
       "      <td>2</td>\n",
       "      <td>4</td>\n",
       "      <td>Returning_Visitor</td>\n",
       "      <td>False</td>\n",
       "      <td>False</td>\n",
       "    </tr>\n",
       "    <tr>\n",
       "      <th>4</th>\n",
       "      <td>0</td>\n",
       "      <td>0.0</td>\n",
       "      <td>0</td>\n",
       "      <td>0.0</td>\n",
       "      <td>10</td>\n",
       "      <td>627.500000</td>\n",
       "      <td>0.02</td>\n",
       "      <td>0.05</td>\n",
       "      <td>0.0</td>\n",
       "      <td>0.0</td>\n",
       "      <td>Feb</td>\n",
       "      <td>3</td>\n",
       "      <td>3</td>\n",
       "      <td>1</td>\n",
       "      <td>4</td>\n",
       "      <td>Returning_Visitor</td>\n",
       "      <td>True</td>\n",
       "      <td>False</td>\n",
       "    </tr>\n",
       "  </tbody>\n",
       "</table>\n",
       "</div>"
      ],
      "text/plain": [
       "   Administrative  Administrative_Duration  Informational  \\\n",
       "0               0                      0.0              0   \n",
       "1               0                      0.0              0   \n",
       "2               0                      0.0              0   \n",
       "3               0                      0.0              0   \n",
       "4               0                      0.0              0   \n",
       "\n",
       "   Informational_Duration  ProductRelated  ProductRelated_Duration  \\\n",
       "0                     0.0               1                 0.000000   \n",
       "1                     0.0               2                64.000000   \n",
       "2                     0.0               1                 0.000000   \n",
       "3                     0.0               2                 2.666667   \n",
       "4                     0.0              10               627.500000   \n",
       "\n",
       "   BounceRates  ExitRates  PageValues  SpecialDay Month  OperatingSystems  \\\n",
       "0         0.20       0.20         0.0         0.0   Feb                 1   \n",
       "1         0.00       0.10         0.0         0.0   Feb                 2   \n",
       "2         0.20       0.20         0.0         0.0   Feb                 4   \n",
       "3         0.05       0.14         0.0         0.0   Feb                 3   \n",
       "4         0.02       0.05         0.0         0.0   Feb                 3   \n",
       "\n",
       "   Browser  Region  TrafficType        VisitorType  Weekend  Revenue  \n",
       "0        1       1            1  Returning_Visitor    False    False  \n",
       "1        2       1            2  Returning_Visitor    False    False  \n",
       "2        1       9            3  Returning_Visitor    False    False  \n",
       "3        2       2            4  Returning_Visitor    False    False  \n",
       "4        3       1            4  Returning_Visitor     True    False  "
      ]
     },
     "execution_count": 36,
     "metadata": {},
     "output_type": "execute_result"
    }
   ],
   "source": [
    "dfA.head()"
   ]
  },
  {
   "cell_type": "code",
   "execution_count": 37,
   "metadata": {},
   "outputs": [
    {
     "data": {
      "text/plain": [
       "221"
      ]
     },
     "execution_count": 37,
     "metadata": {},
     "output_type": "execute_result"
    }
   ],
   "source": [
    "len(dfA.ProductRelated.unique())"
   ]
  },
  {
   "cell_type": "code",
   "execution_count": 38,
   "metadata": {},
   "outputs": [],
   "source": [
    "catcolsA = ['Administrative', 'Informational',\n",
    "       'ProductRelated',\n",
    "       'SpecialDay', 'Month',\n",
    "       'OperatingSystems', 'Browser', 'Region', 'TrafficType', 'VisitorType',\n",
    "       'Weekend']\n",
    "contcolsA = ['Administrative_Duration', 'Informational_Duration', 'ProductRelated_Duration',\n",
    "       'BounceRates', 'ExitRates', 'PageValues']\n",
    "target='Revenue'"
   ]
  },
  {
   "cell_type": "code",
   "execution_count": 39,
   "metadata": {},
   "outputs": [
    {
     "data": {
      "text/plain": [
       "((#7325) [5295,3011,3944,4591,613,378,1347,6118,5232,3122...],\n",
       " (#73) [6626,2765,4524,4360,6964,6374,7275,1478,628,5787...])"
      ]
     },
     "execution_count": 39,
     "metadata": {},
     "output_type": "execute_result"
    }
   ],
   "source": [
    "splitsA = RandomSplitter(valid_pct=0.01)(range_of(dfA))\n",
    "splitsA"
   ]
  },
  {
   "cell_type": "code",
   "execution_count": 40,
   "metadata": {},
   "outputs": [],
   "source": [
    "toA = TabularPandas(dfA, procs=[Categorify, FillMissing, Normalize],\n",
    "                   cat_names=catcolsA,\n",
    "                   cont_names=contcolsA,\n",
    "                   y_names=target,\n",
    "                   splits=splitsA)\n",
    "dlsA = toA.dataloaders(bs=512)\n",
    "rocaucbinA = RocAucBinary()\n",
    "learnA = tabular_learner(dlsA, metrics=[rocaucbinA, accuracy])"
   ]
  },
  {
   "cell_type": "code",
   "execution_count": 80,
   "metadata": {},
   "outputs": [],
   "source": [
    "splitsB = RandomSplitter(valid_pct=0.2)(range_of(dfB))\n",
    "toB = TabularPandas(dfB, procs=[Categorify, FillMissing, Normalize],\n",
    "                   cat_names = catcolsA,\n",
    "                   cont_names = contcolsA,\n",
    "                   y_names=target,\n",
    "                   splits=splitsB)\n",
    "dlsB = toB.dataloaders(bs=512)"
   ]
  },
  {
   "cell_type": "code",
   "execution_count": 81,
   "metadata": {},
   "outputs": [
    {
     "data": {
      "text/plain": [
       "((#3945) [3241,2131,3131,715,2367,3075,2512,3649,1067,1579...],\n",
       " (#986) [3459,424,2542,4375,3654,959,4726,2884,29,699...])"
      ]
     },
     "execution_count": 81,
     "metadata": {},
     "output_type": "execute_result"
    }
   ],
   "source": [
    "splitsB"
   ]
  },
  {
   "cell_type": "code",
   "execution_count": 42,
   "metadata": {},
   "outputs": [
    {
     "data": {
      "text/html": [
       "Finishing last run (ID:16vo0983) before initializing another..."
      ],
      "text/plain": [
       "<IPython.core.display.HTML object>"
      ]
     },
     "metadata": {},
     "output_type": "display_data"
    },
    {
     "data": {
      "text/html": [
       "<br/>Waiting for W&B process to finish, PID 50172<br/>Program ended successfully."
      ],
      "text/plain": [
       "<IPython.core.display.HTML object>"
      ]
     },
     "metadata": {},
     "output_type": "display_data"
    },
    {
     "name": "stderr",
     "output_type": "stream",
     "text": [
      "\u001b[34m\u001b[1mwandb\u001b[0m: \u001b[32m\u001b[41mERROR\u001b[0m Control-C detected -- Run data was not synced\n"
     ]
    },
    {
     "data": {
      "text/html": [
       "...Successfully finished last run (ID:16vo0983). Initializing new run:<br/><br/>"
      ],
      "text/plain": [
       "<IPython.core.display.HTML object>"
      ]
     },
     "metadata": {},
     "output_type": "display_data"
    },
    {
     "name": "stderr",
     "output_type": "stream",
     "text": [
      "\u001b[34m\u001b[1mwandb\u001b[0m: wandb version 0.12.6 is available!  To upgrade, please run:\n",
      "\u001b[34m\u001b[1mwandb\u001b[0m:  $ pip install wandb --upgrade\n"
     ]
    },
    {
     "data": {
      "text/html": [
       "\n",
       "                Tracking run with wandb version 0.10.32<br/>\n",
       "                Syncing run <strong style=\"color:#cdcd00\">modelA training</strong> to <a href=\"https://wandb.ai\" target=\"_blank\">Weights & Biases</a> <a href=\"https://docs.wandb.com/integrations/jupyter.html\" target=\"_blank\">(Documentation)</a>.<br/>\n",
       "                Project page: <a href=\"https://wandb.ai/transfertab/Experiments\" target=\"_blank\">https://wandb.ai/transfertab/Experiments</a><br/>\n",
       "                Run page: <a href=\"https://wandb.ai/transfertab/Experiments/runs/wxju8tp5\" target=\"_blank\">https://wandb.ai/transfertab/Experiments/runs/wxju8tp5</a><br/>\n",
       "                Run data is saved locally in <code>/Users/manikyabardhan/Documents/github/transfertab/experiments/results/exp5c/wandb/run-20211101_175926-wxju8tp5</code><br/><br/>\n",
       "            "
      ],
      "text/plain": [
       "<IPython.core.display.HTML object>"
      ]
     },
     "metadata": {},
     "output_type": "display_data"
    },
    {
     "data": {
      "text/html": [
       "<h1>Run(wxju8tp5)</h1><iframe src=\"https://wandb.ai/transfertab/Experiments/runs/wxju8tp5\" style=\"border:none;width:100%;height:400px\"></iframe>"
      ],
      "text/plain": [
       "<wandb.sdk.wandb_run.Run at 0x7fead4bf5040>"
      ]
     },
     "execution_count": 42,
     "metadata": {},
     "output_type": "execute_result"
    }
   ],
   "source": [
    "wandb.init(\n",
    "    project='Experiments', \n",
    "    save_code=True, \n",
    "    group='Exp5c', \n",
    "    job_type='pretrain', \n",
    "    tags=['base', 'shopping', 'revenue', 'modelA'], \n",
    "    name='modelA training',\n",
    "    notes=\"Training modelA from which we'll take embeddings\",\n",
    "    reinit=True,\n",
    "    dir='/Users/manikyabardhan/Documents/github/transfertab/experiments/results/exp5c',\n",
    "    entity='transfertab'\n",
    ")"
   ]
  },
  {
   "cell_type": "code",
   "execution_count": 43,
   "metadata": {},
   "outputs": [
    {
     "data": {
      "text/plain": [
       "<fastai.tabular.core.TabDataLoader at 0x7fead3d92eb0>"
      ]
     },
     "execution_count": 43,
     "metadata": {},
     "output_type": "execute_result"
    }
   ],
   "source": [
    "dlsB.train"
   ]
  },
  {
   "cell_type": "code",
   "execution_count": 44,
   "metadata": {},
   "outputs": [
    {
     "data": {
      "text/html": [
       "<table border=\"1\" class=\"dataframe\">\n",
       "  <thead>\n",
       "    <tr style=\"text-align: left;\">\n",
       "      <th>epoch</th>\n",
       "      <th>train_loss</th>\n",
       "      <th>valid_loss</th>\n",
       "      <th>roc_auc_score</th>\n",
       "      <th>accuracy</th>\n",
       "      <th>time</th>\n",
       "    </tr>\n",
       "  </thead>\n",
       "  <tbody>\n",
       "    <tr>\n",
       "      <td>0</td>\n",
       "      <td>0.971079</td>\n",
       "      <td>0.767588</td>\n",
       "      <td>0.299180</td>\n",
       "      <td>0.273973</td>\n",
       "      <td>00:00</td>\n",
       "    </tr>\n",
       "    <tr>\n",
       "      <td>1</td>\n",
       "      <td>0.836445</td>\n",
       "      <td>0.749948</td>\n",
       "      <td>0.887978</td>\n",
       "      <td>0.191781</td>\n",
       "      <td>00:00</td>\n",
       "    </tr>\n",
       "    <tr>\n",
       "      <td>2</td>\n",
       "      <td>0.731603</td>\n",
       "      <td>0.613882</td>\n",
       "      <td>0.953552</td>\n",
       "      <td>0.863014</td>\n",
       "      <td>00:00</td>\n",
       "    </tr>\n",
       "    <tr>\n",
       "      <td>3</td>\n",
       "      <td>0.659418</td>\n",
       "      <td>0.494095</td>\n",
       "      <td>0.963115</td>\n",
       "      <td>0.945205</td>\n",
       "      <td>00:00</td>\n",
       "    </tr>\n",
       "    <tr>\n",
       "      <td>4</td>\n",
       "      <td>0.607370</td>\n",
       "      <td>0.419885</td>\n",
       "      <td>0.969945</td>\n",
       "      <td>0.917808</td>\n",
       "      <td>00:00</td>\n",
       "    </tr>\n",
       "    <tr>\n",
       "      <td>5</td>\n",
       "      <td>0.562197</td>\n",
       "      <td>0.390636</td>\n",
       "      <td>0.976776</td>\n",
       "      <td>0.904110</td>\n",
       "      <td>00:00</td>\n",
       "    </tr>\n",
       "    <tr>\n",
       "      <td>6</td>\n",
       "      <td>0.521472</td>\n",
       "      <td>0.362562</td>\n",
       "      <td>0.959016</td>\n",
       "      <td>0.890411</td>\n",
       "      <td>00:00</td>\n",
       "    </tr>\n",
       "    <tr>\n",
       "      <td>7</td>\n",
       "      <td>0.483065</td>\n",
       "      <td>0.319190</td>\n",
       "      <td>0.954918</td>\n",
       "      <td>0.904110</td>\n",
       "      <td>00:00</td>\n",
       "    </tr>\n",
       "    <tr>\n",
       "      <td>8</td>\n",
       "      <td>0.443694</td>\n",
       "      <td>0.318054</td>\n",
       "      <td>0.964481</td>\n",
       "      <td>0.904110</td>\n",
       "      <td>00:00</td>\n",
       "    </tr>\n",
       "    <tr>\n",
       "      <td>9</td>\n",
       "      <td>0.404357</td>\n",
       "      <td>0.299453</td>\n",
       "      <td>0.968579</td>\n",
       "      <td>0.890411</td>\n",
       "      <td>00:00</td>\n",
       "    </tr>\n",
       "    <tr>\n",
       "      <td>10</td>\n",
       "      <td>0.366557</td>\n",
       "      <td>0.316495</td>\n",
       "      <td>0.964481</td>\n",
       "      <td>0.876712</td>\n",
       "      <td>00:00</td>\n",
       "    </tr>\n",
       "    <tr>\n",
       "      <td>11</td>\n",
       "      <td>0.329614</td>\n",
       "      <td>0.279337</td>\n",
       "      <td>0.961749</td>\n",
       "      <td>0.863014</td>\n",
       "      <td>00:00</td>\n",
       "    </tr>\n",
       "    <tr>\n",
       "      <td>12</td>\n",
       "      <td>0.294955</td>\n",
       "      <td>0.276827</td>\n",
       "      <td>0.959016</td>\n",
       "      <td>0.890411</td>\n",
       "      <td>00:00</td>\n",
       "    </tr>\n",
       "    <tr>\n",
       "      <td>13</td>\n",
       "      <td>0.263153</td>\n",
       "      <td>0.272875</td>\n",
       "      <td>0.949454</td>\n",
       "      <td>0.876712</td>\n",
       "      <td>00:00</td>\n",
       "    </tr>\n",
       "    <tr>\n",
       "      <td>14</td>\n",
       "      <td>0.234905</td>\n",
       "      <td>0.272009</td>\n",
       "      <td>0.927596</td>\n",
       "      <td>0.890411</td>\n",
       "      <td>00:02</td>\n",
       "    </tr>\n",
       "    <tr>\n",
       "      <td>15</td>\n",
       "      <td>0.210661</td>\n",
       "      <td>0.262029</td>\n",
       "      <td>0.945355</td>\n",
       "      <td>0.890411</td>\n",
       "      <td>00:01</td>\n",
       "    </tr>\n",
       "    <tr>\n",
       "      <td>16</td>\n",
       "      <td>0.188017</td>\n",
       "      <td>0.258502</td>\n",
       "      <td>0.942623</td>\n",
       "      <td>0.904110</td>\n",
       "      <td>00:00</td>\n",
       "    </tr>\n",
       "    <tr>\n",
       "      <td>17</td>\n",
       "      <td>0.168304</td>\n",
       "      <td>0.278701</td>\n",
       "      <td>0.920765</td>\n",
       "      <td>0.904110</td>\n",
       "      <td>00:00</td>\n",
       "    </tr>\n",
       "    <tr>\n",
       "      <td>18</td>\n",
       "      <td>0.151057</td>\n",
       "      <td>0.268111</td>\n",
       "      <td>0.930328</td>\n",
       "      <td>0.890411</td>\n",
       "      <td>00:00</td>\n",
       "    </tr>\n",
       "    <tr>\n",
       "      <td>19</td>\n",
       "      <td>0.136525</td>\n",
       "      <td>0.322809</td>\n",
       "      <td>0.852459</td>\n",
       "      <td>0.904110</td>\n",
       "      <td>00:00</td>\n",
       "    </tr>\n",
       "    <tr>\n",
       "      <td>20</td>\n",
       "      <td>0.124562</td>\n",
       "      <td>0.273436</td>\n",
       "      <td>0.912568</td>\n",
       "      <td>0.863014</td>\n",
       "      <td>00:00</td>\n",
       "    </tr>\n",
       "    <tr>\n",
       "      <td>21</td>\n",
       "      <td>0.112986</td>\n",
       "      <td>0.288310</td>\n",
       "      <td>0.909836</td>\n",
       "      <td>0.876712</td>\n",
       "      <td>00:00</td>\n",
       "    </tr>\n",
       "    <tr>\n",
       "      <td>22</td>\n",
       "      <td>0.102957</td>\n",
       "      <td>0.299209</td>\n",
       "      <td>0.901639</td>\n",
       "      <td>0.890411</td>\n",
       "      <td>00:00</td>\n",
       "    </tr>\n",
       "    <tr>\n",
       "      <td>23</td>\n",
       "      <td>0.094229</td>\n",
       "      <td>0.288650</td>\n",
       "      <td>0.916667</td>\n",
       "      <td>0.890411</td>\n",
       "      <td>00:00</td>\n",
       "    </tr>\n",
       "    <tr>\n",
       "      <td>24</td>\n",
       "      <td>0.087467</td>\n",
       "      <td>0.292297</td>\n",
       "      <td>0.908470</td>\n",
       "      <td>0.890411</td>\n",
       "      <td>00:00</td>\n",
       "    </tr>\n",
       "    <tr>\n",
       "      <td>25</td>\n",
       "      <td>0.081785</td>\n",
       "      <td>0.303205</td>\n",
       "      <td>0.896175</td>\n",
       "      <td>0.890411</td>\n",
       "      <td>00:00</td>\n",
       "    </tr>\n",
       "    <tr>\n",
       "      <td>26</td>\n",
       "      <td>0.077042</td>\n",
       "      <td>0.301195</td>\n",
       "      <td>0.907104</td>\n",
       "      <td>0.876712</td>\n",
       "      <td>00:00</td>\n",
       "    </tr>\n",
       "    <tr>\n",
       "      <td>27</td>\n",
       "      <td>0.073579</td>\n",
       "      <td>0.303910</td>\n",
       "      <td>0.904372</td>\n",
       "      <td>0.890411</td>\n",
       "      <td>00:00</td>\n",
       "    </tr>\n",
       "    <tr>\n",
       "      <td>28</td>\n",
       "      <td>0.070232</td>\n",
       "      <td>0.305513</td>\n",
       "      <td>0.897541</td>\n",
       "      <td>0.890411</td>\n",
       "      <td>00:00</td>\n",
       "    </tr>\n",
       "    <tr>\n",
       "      <td>29</td>\n",
       "      <td>0.068248</td>\n",
       "      <td>0.306602</td>\n",
       "      <td>0.901639</td>\n",
       "      <td>0.890411</td>\n",
       "      <td>00:00</td>\n",
       "    </tr>\n",
       "  </tbody>\n",
       "</table>"
      ],
      "text/plain": [
       "<IPython.core.display.HTML object>"
      ]
     },
     "metadata": {},
     "output_type": "display_data"
    },
    {
     "name": "stdout",
     "output_type": "stream",
     "text": [
      "Better model found at epoch 0 with valid_loss value: 0.7675877213478088.\n",
      "Better model found at epoch 1 with valid_loss value: 0.7499479651451111.\n",
      "Better model found at epoch 2 with valid_loss value: 0.6138821244239807.\n",
      "Better model found at epoch 3 with valid_loss value: 0.4940950572490692.\n",
      "Better model found at epoch 4 with valid_loss value: 0.41988468170166016.\n",
      "Better model found at epoch 5 with valid_loss value: 0.39063602685928345.\n",
      "Better model found at epoch 6 with valid_loss value: 0.3625620901584625.\n",
      "Better model found at epoch 7 with valid_loss value: 0.31919002532958984.\n",
      "Better model found at epoch 8 with valid_loss value: 0.3180544972419739.\n",
      "Better model found at epoch 9 with valid_loss value: 0.29945266246795654.\n",
      "Better model found at epoch 11 with valid_loss value: 0.2793370485305786.\n",
      "Better model found at epoch 12 with valid_loss value: 0.2768273949623108.\n",
      "Better model found at epoch 13 with valid_loss value: 0.2728751599788666.\n",
      "Better model found at epoch 14 with valid_loss value: 0.2720094919204712.\n",
      "Better model found at epoch 15 with valid_loss value: 0.26202917098999023.\n",
      "Better model found at epoch 16 with valid_loss value: 0.2585024833679199.\n"
     ]
    }
   ],
   "source": [
    "cbs=[WandbCallback(valid_dl = dlsB.train,log_preds=False, log=\"all\", dataset_name=\"online_shoppers_intention (first .6)\", n_preds=0, seed=1), SaveModelCallback()]\n",
    "learnA.fit_one_cycle(30, cbs=cbs)"
   ]
  },
  {
   "cell_type": "code",
   "execution_count": 45,
   "metadata": {},
   "outputs": [
    {
     "data": {
      "image/png": "[encoded data removed]",
      "text/plain": [
       "<Figure size 432x288 with 1 Axes>"
      ]
     },
     "metadata": {
      "needs_background": "light"
     },
     "output_type": "display_data"
    }
   ],
   "source": [
    "learnA.recorder.plot_loss()"
   ]
  },
  {
   "cell_type": "code",
   "execution_count": 47,
   "metadata": {},
   "outputs": [],
   "source": [
    "torch.save(learnA.model.state_dict(),\"../experiments/results/exp5c/modelA_state_dict\")"
   ]
  },
  {
   "cell_type": "code",
   "execution_count": 49,
   "metadata": {},
   "outputs": [],
   "source": [
    "catdictA = {col:list(learnA.dls.categorify.classes[col]) for col in catcolsA}"
   ]
  },
  {
   "cell_type": "code",
   "execution_count": 76,
   "metadata": {},
   "outputs": [
    {
     "data": {
      "text/plain": [
       "numpy.int8"
      ]
     },
     "execution_count": 76,
     "metadata": {},
     "output_type": "execute_result"
    }
   ],
   "source": [
    "type(learnA.dls.categorify.classes['Administrative'][1])"
   ]
  },
  {
   "cell_type": "code",
   "execution_count": 77,
   "metadata": {},
   "outputs": [],
   "source": [
    "embeds = extractembeds(learnA.model, catdictA, transfercats=catcolsA, allcats=catcolsA)"
   ]
  },
  {
   "cell_type": "code",
   "execution_count": 78,
   "metadata": {},
   "outputs": [
    {
     "data": {
      "text/html": [
       "<br/>Waiting for W&B process to finish, PID 52108<br/>Program ended successfully."
      ],
      "text/plain": [
       "<IPython.core.display.HTML object>"
      ]
     },
     "metadata": {},
     "output_type": "display_data"
    },
    {
     "data": {
      "application/vnd.jupyter.widget-view+json": {
       "model_id": "47c5935c00ae408baffee2b98669e6d5",
       "version_major": 2,
       "version_minor": 0
      },
      "text/plain": [
       "VBox(children=(Label(value=' 0.20MB of 0.20MB uploaded (0.00MB deduped)\\r'), FloatProgress(value=1.0, max=1.0)…"
      ]
     },
     "metadata": {},
     "output_type": "display_data"
    },
    {
     "data": {
      "text/html": [
       "Find user logs for this run at: <code>/Users/manikyabardhan/Documents/github/transfertab/experiments/results/exp5c/wandb/run-20211101_175926-wxju8tp5/logs/debug.log</code>"
      ],
      "text/plain": [
       "<IPython.core.display.HTML object>"
      ]
     },
     "metadata": {},
     "output_type": "display_data"
    },
    {
     "data": {
      "text/html": [
       "Find internal logs for this run at: <code>/Users/manikyabardhan/Documents/github/transfertab/experiments/results/exp5c/wandb/run-20211101_175926-wxju8tp5/logs/debug-internal.log</code>"
      ],
      "text/plain": [
       "<IPython.core.display.HTML object>"
      ]
     },
     "metadata": {},
     "output_type": "display_data"
    },
    {
     "data": {
      "text/html": [
       "<h3>Run summary:</h3><br/><style>\n",
       "    table.wandb td:nth-child(1) { padding: 0 10px; text-align: right }\n",
       "    </style><table class=\"wandb\">\n",
       "<tr><td>epoch</td><td>30</td></tr><tr><td>train_loss</td><td>0.06825</td></tr><tr><td>raw_loss</td><td>0.06484</td></tr><tr><td>wd_0</td><td>0.01</td></tr><tr><td>sqr_mom_0</td><td>0.99</td></tr><tr><td>lr_0</td><td>0.0</td></tr><tr><td>mom_0</td><td>0.95</td></tr><tr><td>eps_0</td><td>1e-05</td></tr><tr><td>_runtime</td><td>101</td></tr><tr><td>_timestamp</td><td>1635769929</td></tr><tr><td>_step</td><td>419</td></tr><tr><td>valid_loss</td><td>0.3066</td></tr><tr><td>roc_auc_score</td><td>0.90164</td></tr><tr><td>accuracy</td><td>0.89041</td></tr></table>"
      ],
      "text/plain": [
       "<IPython.core.display.HTML object>"
      ]
     },
     "metadata": {},
     "output_type": "display_data"
    },
    {
     "data": {
      "text/html": [
       "<h3>Run history:</h3><br/><style>\n",
       "    table.wandb td:nth-child(1) { padding: 0 10px; text-align: right }\n",
       "    </style><table class=\"wandb\">\n",
       "<tr><td>epoch</td><td>▁▁▁▂▂▂▂▂▂▃▃▃▃▃▃▄▄▄▄▄▅▅▅▅▅▅▆▆▆▆▆▇▇▇▇▇▇███</td></tr><tr><td>train_loss</td><td>██▇▆▆▅▅▅▄▄▄▄▄▃▃▃▃▃▂▂▂▂▂▂▂▂▁▁▁▁▁▁▁▁▁▁▁▁▁▁</td></tr><tr><td>raw_loss</td><td>█▇▅▅▅▄▄▄▄▄▄▃▃▂▂▂▂▂▂▂▂▁▁▁▁▁▁▁▁▁▁▁▁▁▁▁▁▁▁▁</td></tr><tr><td>wd_0</td><td>▁▁▁▁▁▁▁▁▁▁▁▁▁▁▁▁▁▁▁▁▁▁▁▁▁▁▁▁▁▁▁▁▁▁▁▁▁▁▁▁</td></tr><tr><td>sqr_mom_0</td><td>▁▁▁▁▁▁▁▁▁▁▁▁▁▁▁▁▁▁▁▁▁▁▁▁▁▁▁▁▁▁▁▁▁▁▁▁▁▁▁▁</td></tr><tr><td>lr_0</td><td>▁▁▂▃▄▅▆▇███████▇▇▇▇▆▆▆▅▅▅▄▄▄▃▃▃▂▂▂▂▁▁▁▁▁</td></tr><tr><td>mom_0</td><td>██▇▆▅▄▃▂▁▁▁▁▁▁▁▂▂▂▂▃▃▃▄▄▄▅▅▅▆▆▆▇▇▇▇█████</td></tr><tr><td>eps_0</td><td>▁▁▁▁▁▁▁▁▁▁▁▁▁▁▁▁▁▁▁▁▁▁▁▁▁▁▁▁▁▁▁▁▁▁▁▁▁▁▁▁</td></tr><tr><td>_runtime</td><td>▁▁▁▁▁▂▂▂▃▃▃▃▃▃▃▃▃▃▄▄▅▅▅▆▆▆▆▆▆▇▇▇▇▇▇▇▇▇▇█</td></tr><tr><td>_timestamp</td><td>▁▁▁▁▁▂▂▂▃▃▃▃▃▃▃▃▃▃▄▄▅▅▅▆▆▆▆▆▆▇▇▇▇▇▇▇▇▇▇█</td></tr><tr><td>_step</td><td>▁▁▁▂▂▂▂▂▂▃▃▃▃▃▃▄▄▄▄▄▅▅▅▅▅▅▆▆▆▆▆▇▇▇▇▇▇███</td></tr><tr><td>valid_loss</td><td>██▆▄▃▃▂▂▂▂▂▁▁▁▁▁▁▁▁▂▁▁▂▁▁▂▂▂▂▂</td></tr><tr><td>roc_auc_score</td><td>▁▇████████████▇██▇█▇▇▇▇▇▇▇▇▇▇▇</td></tr><tr><td>accuracy</td><td>▂▁▇███▇██▇▇▇▇▇▇▇██▇█▇▇▇▇▇▇▇▇▇▇</td></tr></table><br/>"
      ],
      "text/plain": [
       "<IPython.core.display.HTML object>"
      ]
     },
     "metadata": {},
     "output_type": "display_data"
    },
    {
     "data": {
      "text/html": [
       "Synced 6 W&B file(s), 0 media file(s), 1 artifact file(s) and 0 other file(s)"
      ],
      "text/plain": [
       "<IPython.core.display.HTML object>"
      ]
     },
     "metadata": {},
     "output_type": "display_data"
    },
    {
     "data": {
      "text/html": [
       "\n",
       "                    <br/>Synced <strong style=\"color:#cdcd00\">modelA training</strong>: <a href=\"https://wandb.ai/transfertab/Experiments/runs/wxju8tp5\" target=\"_blank\">https://wandb.ai/transfertab/Experiments/runs/wxju8tp5</a><br/>\n",
       "                "
      ],
      "text/plain": [
       "<IPython.core.display.HTML object>"
      ]
     },
     "metadata": {},
     "output_type": "display_data"
    }
   ],
   "source": [
    "wandb.finish()"
   ]
  },
  {
   "cell_type": "code",
   "execution_count": 82,
   "metadata": {},
   "outputs": [
    {
     "data": {
      "text/plain": [
       "<fastai.tabular.data.TabularDataLoaders at 0x7feab5466310>"
      ]
     },
     "execution_count": 82,
     "metadata": {},
     "output_type": "execute_result"
    }
   ],
   "source": [
    "dlsB"
   ]
  },
  {
   "cell_type": "code",
   "execution_count": 83,
   "metadata": {},
   "outputs": [],
   "source": [
    "rocaucbinB = RocAucBinary()\n",
    "learnB = tabular_learner(dlsB, metrics=[rocaucbinB, accuracy])"
   ]
  },
  {
   "cell_type": "code",
   "execution_count": 89,
   "metadata": {},
   "outputs": [],
   "source": [
    "# catdict = getcatdict(df, catcolsA)\n",
    "# metadict = {}\n",
    "# for (cat, classes) in catdict.items():\n",
    "# \tmetadict[cat] = {'mapped_cat': cat, 'classes_info': {str(clas): str(clas) for clas in classes}}\n",
    "# with open('../data/jsons/shoppers-intention.json', 'w') as fp:\n",
    "# \tjson.dump(metadict, fp)"
   ]
  },
  {
   "cell_type": "code",
   "execution_count": 103,
   "metadata": {},
   "outputs": [],
   "source": [
    "with open('../data/jsons/shoppers-intention.json', 'r') as fp:\n",
    "    metadict = json.load(fp) "
   ]
  },
  {
   "cell_type": "code",
   "execution_count": 104,
   "metadata": {},
   "outputs": [
    {
     "data": {
      "text/plain": [
       "{'Administrative': {'mapped_cat': 'Administrative',\n",
       "  'classes_info': {'0': '0',\n",
       "   '1': '1',\n",
       "   '2': '2',\n",
       "   '4': '4',\n",
       "   '12': '12',\n",
       "   '3': '3',\n",
       "   '10': '10',\n",
       "   '6': '6',\n",
       "   '5': '5',\n",
       "   '9': '9',\n",
       "   '8': '8',\n",
       "   '16': '16',\n",
       "   '13': '13',\n",
       "   '11': '11',\n",
       "   '7': '7',\n",
       "   '18': '18',\n",
       "   '14': '14',\n",
       "   '17': '17',\n",
       "   '19': '19',\n",
       "   '15': '15',\n",
       "   '24': '24',\n",
       "   '22': '22',\n",
       "   '21': '21',\n",
       "   '20': '20',\n",
       "   '23': '23',\n",
       "   '27': '27',\n",
       "   '26': '26'}},\n",
       " 'Informational': {'mapped_cat': 'Informational',\n",
       "  'classes_info': {'0': '0',\n",
       "   '1': '1',\n",
       "   '2': '2',\n",
       "   '4': '4',\n",
       "   '16': [],\n",
       "   '5': '5',\n",
       "   '3': '3',\n",
       "   '14': [],\n",
       "   '6': '6',\n",
       "   '12': '12',\n",
       "   '7': '7',\n",
       "   '9': '9',\n",
       "   '10': '10',\n",
       "   '8': '8',\n",
       "   '11': '11',\n",
       "   '24': []}},\n",
       " 'ProductRelated': {'mapped_cat': 'ProductRelated',\n",
       "  'classes_info': {'1': '1',\n",
       "   '2': '2',\n",
       "   '10': '10',\n",
       "   '19': '19',\n",
       "   '0': '0',\n",
       "   '3': '3',\n",
       "   '16': '16',\n",
       "   '7': '7',\n",
       "   '6': '6',\n",
       "   '23': '23',\n",
       "   '13': '13',\n",
       "   '20': '20',\n",
       "   '8': '8',\n",
       "   '5': '5',\n",
       "   '32': '32',\n",
       "   '4': '4',\n",
       "   '45': '45',\n",
       "   '14': '14',\n",
       "   '52': '52',\n",
       "   '9': '9',\n",
       "   '46': '46',\n",
       "   '15': '15',\n",
       "   '22': '22',\n",
       "   '11': '11',\n",
       "   '12': '12',\n",
       "   '36': '36',\n",
       "   '42': '42',\n",
       "   '27': '27',\n",
       "   '90': '90',\n",
       "   '18': '18',\n",
       "   '38': '38',\n",
       "   '17': '17',\n",
       "   '128': '128',\n",
       "   '25': '25',\n",
       "   '30': '30',\n",
       "   '21': '21',\n",
       "   '51': '51',\n",
       "   '26': '26',\n",
       "   '28': '28',\n",
       "   '31': '31',\n",
       "   '24': '24',\n",
       "   '50': '50',\n",
       "   '96': '96',\n",
       "   '49': '49',\n",
       "   '68': '68',\n",
       "   '98': '98',\n",
       "   '67': '67',\n",
       "   '55': '55',\n",
       "   '35': '35',\n",
       "   '37': '37',\n",
       "   '29': '29',\n",
       "   '34': '34',\n",
       "   '71': '71',\n",
       "   '63': '63',\n",
       "   '87': '87',\n",
       "   '40': '40',\n",
       "   '33': '33',\n",
       "   '54': '54',\n",
       "   '64': '64',\n",
       "   '75': '75',\n",
       "   '39': '39',\n",
       "   '111': '111',\n",
       "   '81': '81',\n",
       "   '61': '61',\n",
       "   '47': '47',\n",
       "   '44': '44',\n",
       "   '88': '88',\n",
       "   '149': '149',\n",
       "   '41': '41',\n",
       "   '79': '79',\n",
       "   '66': '66',\n",
       "   '43': '43',\n",
       "   '258': '258',\n",
       "   '80': '80',\n",
       "   '62': '62',\n",
       "   '83': '83',\n",
       "   '173': '173',\n",
       "   '48': '48',\n",
       "   '58': '58',\n",
       "   '57': '57',\n",
       "   '56': '56',\n",
       "   '69': '69',\n",
       "   '82': '82',\n",
       "   '59': '59',\n",
       "   '109': '109',\n",
       "   '287': '287',\n",
       "   '53': '53',\n",
       "   '84': '84',\n",
       "   '78': '78',\n",
       "   '137': '137',\n",
       "   '113': '113',\n",
       "   '89': '89',\n",
       "   '65': '65',\n",
       "   '60': '60',\n",
       "   '104': '104',\n",
       "   '129': '129',\n",
       "   '77': '77',\n",
       "   '74': '74',\n",
       "   '93': '93',\n",
       "   '76': '76',\n",
       "   '72': '72',\n",
       "   '194': '194',\n",
       "   '140': '140',\n",
       "   '110': '110',\n",
       "   '132': '132',\n",
       "   '115': '115',\n",
       "   '73': '73',\n",
       "   '328': '328',\n",
       "   '160': '160',\n",
       "   '86': '86',\n",
       "   '150': '150',\n",
       "   '95': '95',\n",
       "   '130': '130',\n",
       "   '151': '151',\n",
       "   '117': '117',\n",
       "   '124': '124',\n",
       "   '127': '127',\n",
       "   '125': '125',\n",
       "   '116': '116',\n",
       "   '105': '105',\n",
       "   '92': '92',\n",
       "   '157': '157',\n",
       "   '154': '154',\n",
       "   '220': '220',\n",
       "   '187': '187',\n",
       "   '112': '112',\n",
       "   '131': '131',\n",
       "   '159': '159',\n",
       "   '94': '94',\n",
       "   '204': '204',\n",
       "   '142': '142',\n",
       "   '206': '206',\n",
       "   '102': '102',\n",
       "   '313': '313',\n",
       "   '145': '145',\n",
       "   '85': '85',\n",
       "   '97': '97',\n",
       "   '198': '198',\n",
       "   '181': '181',\n",
       "   '126': '126',\n",
       "   '106': '106',\n",
       "   '101': '101',\n",
       "   '108': '108',\n",
       "   '119': '119',\n",
       "   '70': '70',\n",
       "   '122': '122',\n",
       "   '91': '91',\n",
       "   '276': '276',\n",
       "   '100': '100',\n",
       "   '291': '291',\n",
       "   '114': '114',\n",
       "   '172': '172',\n",
       "   '217': '217',\n",
       "   '141': '141',\n",
       "   '133': '133',\n",
       "   '156': '156',\n",
       "   '136': '136',\n",
       "   '180': '180',\n",
       "   '135': '135',\n",
       "   '195': '195',\n",
       "   '99': '99',\n",
       "   '362': '362',\n",
       "   '179': '179',\n",
       "   '118': '118',\n",
       "   '175': '175',\n",
       "   '148': '148',\n",
       "   '440': '440',\n",
       "   '103': '103',\n",
       "   '178': '178',\n",
       "   '184': '184',\n",
       "   '705': '705',\n",
       "   '134': '134',\n",
       "   '176': '176',\n",
       "   '146': '146',\n",
       "   '189': '189',\n",
       "   '120': '120',\n",
       "   '193': '193',\n",
       "   '222': '222',\n",
       "   '121': '121',\n",
       "   '107': '107',\n",
       "   '305': '305',\n",
       "   '199': '199',\n",
       "   '439': '439',\n",
       "   '223': '223',\n",
       "   '230': '230',\n",
       "   '280': '280',\n",
       "   '377': '377',\n",
       "   '310': '310',\n",
       "   '158': '158',\n",
       "   '486': '486',\n",
       "   '153': '153',\n",
       "   '139': '139',\n",
       "   '182': '182',\n",
       "   '221': '221',\n",
       "   '229': '229',\n",
       "   '216': '216',\n",
       "   '170': '170',\n",
       "   '202': '202',\n",
       "   '346': '346',\n",
       "   '274': '274',\n",
       "   '240': '240',\n",
       "   '162': '162',\n",
       "   '123': '123',\n",
       "   '211': '211',\n",
       "   '227': '227',\n",
       "   '168': '168',\n",
       "   '161': '161',\n",
       "   '429': '429',\n",
       "   '686': '686',\n",
       "   '167': '167',\n",
       "   '518': '518',\n",
       "   '256': '256',\n",
       "   '255': '255',\n",
       "   '358': '358',\n",
       "   '213': '213',\n",
       "   '191': '191',\n",
       "   '282': '282',\n",
       "   '155': '155',\n",
       "   '138': '138',\n",
       "   '246': '246',\n",
       "   '237': '237',\n",
       "   '271': '271',\n",
       "   '171': '171',\n",
       "   '414': '414',\n",
       "   '219': '219',\n",
       "   '262': '262',\n",
       "   '409': '409',\n",
       "   '243': '243',\n",
       "   '241': '241',\n",
       "   '197': '197',\n",
       "   '449': '449',\n",
       "   '143': '143',\n",
       "   '188': '188',\n",
       "   '391': '391',\n",
       "   '238': '238',\n",
       "   '152': '152',\n",
       "   '165': '165',\n",
       "   '293': '293',\n",
       "   '174': '174',\n",
       "   '584': '584',\n",
       "   '164': '164',\n",
       "   '311': '311',\n",
       "   '340': '340',\n",
       "   '250': '250',\n",
       "   '200': '200',\n",
       "   '385': '385',\n",
       "   '292': '292',\n",
       "   '232': '232',\n",
       "   '251': '251',\n",
       "   '517': '517',\n",
       "   '225': '225',\n",
       "   '169': '169',\n",
       "   '309': '309',\n",
       "   '235': '235',\n",
       "   '501': '501',\n",
       "   '224': '224',\n",
       "   '275': '275',\n",
       "   '318': '318',\n",
       "   '144': '144',\n",
       "   '397': '397',\n",
       "   '343': '343',\n",
       "   '245': '245',\n",
       "   '186': '186',\n",
       "   '337': '337',\n",
       "   '351': '351',\n",
       "   '166': '166',\n",
       "   '349': '349',\n",
       "   '423': '423',\n",
       "   '359': '359',\n",
       "   '163': '163',\n",
       "   '147': '147',\n",
       "   '264': '264',\n",
       "   '312': '312',\n",
       "   '226': '226',\n",
       "   '324': '324',\n",
       "   '266': '266',\n",
       "   '260': '260',\n",
       "   '338': '338',\n",
       "   '272': '272',\n",
       "   '534': '534',\n",
       "   '470': '470',\n",
       "   '207': '207',\n",
       "   '218': '218',\n",
       "   '326': '326',\n",
       "   '190': '190',\n",
       "   '304': '304',\n",
       "   '205': '205',\n",
       "   '233': '233',\n",
       "   '401': '401',\n",
       "   '177': '177',\n",
       "   '330': '330',\n",
       "   '286': '286',\n",
       "   '247': '247',\n",
       "   '357': '357',\n",
       "   '315': '315',\n",
       "   '231': '231',\n",
       "   '339': '339',\n",
       "   '283': '283',\n",
       "   '374': '374',\n",
       "   '248': '248',\n",
       "   '279': '279',\n",
       "   '281': '281',\n",
       "   '234': '234',\n",
       "   '261': '261',\n",
       "   '290': '290',\n",
       "   '336': '336',\n",
       "   '378': '378',\n",
       "   '254': '254',\n",
       "   '183': '183',\n",
       "   '210': '210',\n",
       "   '192': '192'}},\n",
       " 'SpecialDay': {'mapped_cat': 'SpecialDay',\n",
       "  'classes_info': {'0.0': '0.0',\n",
       "   '0.4': '0.4',\n",
       "   '0.8': '0.8',\n",
       "   '1.0': '1.0',\n",
       "   '0.2': '0.2',\n",
       "   '0.6': '0.6'}},\n",
       " 'Month': {'mapped_cat': 'Month',\n",
       "  'classes_info': {'Feb': 'Feb',\n",
       "   'Mar': 'Mar',\n",
       "   'May': 'May',\n",
       "   'Oct': 'Oct',\n",
       "   'June': 'June',\n",
       "   'Jul': 'Jul',\n",
       "   'Aug': 'Aug',\n",
       "   'Nov': 'Nov',\n",
       "   'Sep': 'Sep',\n",
       "   'Dec': 'Dec'}},\n",
       " 'OperatingSystems': {'mapped_cat': 'OperatingSystems',\n",
       "  'classes_info': {'1': '1',\n",
       "   '2': '2',\n",
       "   '4': '4',\n",
       "   '3': '3',\n",
       "   '7': '7',\n",
       "   '6': '6',\n",
       "   '8': '8',\n",
       "   '5': '5'}},\n",
       " 'Browser': {'mapped_cat': 'Browser',\n",
       "  'classes_info': {'1': '1',\n",
       "   '2': '2',\n",
       "   '3': '3',\n",
       "   '4': '4',\n",
       "   '5': '5',\n",
       "   '6': '6',\n",
       "   '7': '7',\n",
       "   '10': '10',\n",
       "   '8': '8',\n",
       "   '9': '9',\n",
       "   '12': '12',\n",
       "   '13': '13',\n",
       "   '11': '11'}},\n",
       " 'Region': {'mapped_cat': 'Region',\n",
       "  'classes_info': {'1': '1',\n",
       "   '9': '9',\n",
       "   '2': '2',\n",
       "   '3': '3',\n",
       "   '4': '4',\n",
       "   '5': '5',\n",
       "   '6': '6',\n",
       "   '7': '7',\n",
       "   '8': '8'}},\n",
       " 'TrafficType': {'mapped_cat': 'TrafficType',\n",
       "  'classes_info': {'1': '1',\n",
       "   '2': '2',\n",
       "   '3': '3',\n",
       "   '4': '4',\n",
       "   '5': '5',\n",
       "   '6': '6',\n",
       "   '7': '7',\n",
       "   '8': '8',\n",
       "   '9': '9',\n",
       "   '10': '10',\n",
       "   '11': '11',\n",
       "   '12': '12',\n",
       "   '13': '13',\n",
       "   '14': '14',\n",
       "   '15': '15',\n",
       "   '18': '18',\n",
       "   '19': '19',\n",
       "   '16': '16',\n",
       "   '17': '17',\n",
       "   '20': '20'}},\n",
       " 'VisitorType': {'mapped_cat': 'VisitorType',\n",
       "  'classes_info': {'Returning_Visitor': 'Returning_Visitor',\n",
       "   'New_Visitor': 'New_Visitor',\n",
       "   'Other': 'Other'}},\n",
       " 'Weekend': {'mapped_cat': 'Weekend',\n",
       "  'classes_info': {'False': 'False', 'True': 'True'}}}"
      ]
     },
     "execution_count": 104,
     "metadata": {},
     "output_type": "execute_result"
    }
   ],
   "source": [
    "metadict"
   ]
  },
  {
   "cell_type": "code",
   "execution_count": 91,
   "metadata": {},
   "outputs": [
    {
     "data": {
      "text/plain": [
       "ModuleList(\n",
       "  (0): Embedding(25, 10)\n",
       "  (1): Embedding(17, 8)\n",
       "  (2): Embedding(219, 33)\n",
       "  (3): Embedding(7, 5)\n",
       "  (4): Embedding(10, 6)\n",
       "  (5): Embedding(9, 5)\n",
       "  (6): Embedding(13, 7)\n",
       "  (7): Embedding(10, 6)\n",
       "  (8): Embedding(21, 9)\n",
       "  (9): Embedding(4, 3)\n",
       "  (10): Embedding(3, 3)\n",
       ")"
      ]
     },
     "execution_count": 91,
     "metadata": {},
     "output_type": "execute_result"
    }
   ],
   "source": [
    "learnA.model.embeds"
   ]
  },
  {
   "cell_type": "code",
   "execution_count": 106,
   "metadata": {},
   "outputs": [
    {
     "data": {
      "text/plain": [
       "'SpecialDay'"
      ]
     },
     "execution_count": 106,
     "metadata": {},
     "output_type": "execute_result"
    }
   ],
   "source": [
    "learnB.dls.cat_names[3]"
   ]
  },
  {
   "cell_type": "code",
   "execution_count": null,
   "metadata": {},
   "outputs": [],
   "source": [
    "learnB.dls.categorify['']"
   ]
  },
  {
   "cell_type": "code",
   "execution_count": 100,
   "metadata": {},
   "outputs": [
    {
     "data": {
      "text/plain": [
       "77"
      ]
     },
     "execution_count": 100,
     "metadata": {},
     "output_type": "execute_result"
    }
   ],
   "source": [
    "len(set(learnB.dls.categorify['ProductRelated']) - set(learnA.dls.categorify['ProductRelated']))"
   ]
  },
  {
   "cell_type": "code",
   "execution_count": 105,
   "metadata": {},
   "outputs": [],
   "source": [
    "for clas in set(learnB.dls.categorify['ProductRelated']) - set(learnA.dls.categorify['ProductRelated']):\n",
    "    metadict['ProductRelated']['classes_info'][clas] = []"
   ]
  },
  {
   "cell_type": "code",
   "execution_count": null,
   "metadata": {},
   "outputs": [],
   "source": [
    "learnA.dls.categorify['ProductRelated']"
   ]
  },
  {
   "cell_type": "code",
   "execution_count": 92,
   "metadata": {},
   "outputs": [
    {
     "data": {
      "text/plain": [
       "ModuleList(\n",
       "  (0): Embedding(25, 10)\n",
       "  (1): Embedding(14, 7)\n",
       "  (2): Embedding(260, 36)\n",
       "  (3): Embedding(2, 2)\n",
       "  (4): Embedding(8, 5)\n",
       "  (5): Embedding(9, 5)\n",
       "  (6): Embedding(13, 7)\n",
       "  (7): Embedding(10, 6)\n",
       "  (8): Embedding(14, 7)\n",
       "  (9): Embedding(4, 3)\n",
       "  (10): Embedding(3, 3)\n",
       ")"
      ]
     },
     "execution_count": 92,
     "metadata": {},
     "output_type": "execute_result"
    }
   ],
   "source": [
    "learnB.model.embeds"
   ]
  },
  {
   "cell_type": "code",
   "execution_count": null,
   "metadata": {},
   "outputs": [],
   "source": []
  }
 ],
 "metadata": {
  "interpreter": {
   "hash": "f5eb95d6a783051f7e4f7c764ada467adc5d084fb79225f5dbfbb6f693fbec43"
  },
  "kernelspec": {
   "display_name": "Python 3.9.4 64-bit ('fastenv': conda)",
   "language": "python",
   "name": "python3"
  },
  "language_info": {
   "codemirror_mode": {
    "name": "ipython",
    "version": 3
   },
   "file_extension": ".py",
   "mimetype": "text/x-python",
   "name": "python",
   "nbconvert_exporter": "python",
   "pygments_lexer": "ipython3",
   "version": "3.9.4"
  },
  "orig_nbformat": 4
 },
 "nbformat": 4,
 "nbformat_minor": 2
}
