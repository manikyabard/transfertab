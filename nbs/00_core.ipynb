{
 "cells": [
  {
   "cell_type": "code",
   "execution_count": null,
   "metadata": {},
   "outputs": [],
   "source": [
    "# default_exp core"
   ]
  },
  {
   "cell_type": "markdown",
   "metadata": {},
   "source": [
    "# Core\n",
    "\n",
    "> Conatains methods for transferring."
   ]
  },
  {
   "cell_type": "code",
   "execution_count": null,
   "metadata": {},
   "outputs": [],
   "source": [
    "#hide\n",
    "from nbdev.showdoc import *\n",
    "from fastai.tabular.all import *"
   ]
  },
  {
   "cell_type": "code",
   "execution_count": null,
   "metadata": {},
   "outputs": [],
   "source": [
    "# This will contain the functions for transferring embeddings"
   ]
  },
  {
   "cell_type": "code",
   "execution_count": null,
   "metadata": {},
   "outputs": [],
   "source": [
    "path = untar_data(URLs.ADULT_SAMPLE)\n",
    "df1 = pd.read_csv(path/'adult.csv')\n",
    "splits1 = RandomSplitter(valid_pct=0.2)(range_of(df1))\n",
    "to1 = TabularPandas(df1, procs=[Categorify, FillMissing,Normalize],\n",
    "                   cat_names = ['workclass', 'education', 'marital-status', 'occupation', 'relationship', 'race'],\n",
    "                   cont_names = ['age', 'fnlwgt', 'education-num'],\n",
    "                   y_names='salary',\n",
    "                   splits=splits1)\n",
    "dls1 = to1.dataloaders(bs=64)\n",
    "learn1 = tabular_learner(dls1, metrics=accuracy)"
   ]
  },
  {
   "cell_type": "code",
   "execution_count": null,
   "metadata": {},
   "outputs": [
    {
     "data": {
      "text/plain": [
       "ModuleList(\n",
       "  (0): Embedding(10, 6)\n",
       "  (1): Embedding(17, 8)\n",
       "  (2): Embedding(8, 5)\n",
       "  (3): Embedding(16, 8)\n",
       "  (4): Embedding(7, 5)\n",
       "  (5): Embedding(6, 4)\n",
       "  (6): Embedding(3, 3)\n",
       ")"
      ]
     },
     "execution_count": null,
     "metadata": {},
     "output_type": "execute_result"
    }
   ],
   "source": [
    "learn1.model.embeds"
   ]
  },
  {
   "cell_type": "markdown",
   "metadata": {},
   "source": [
    "Aim is to take these embeddings and transfer them to other models"
   ]
  },
  {
   "cell_type": "code",
   "execution_count": null,
   "metadata": {},
   "outputs": [
    {
     "data": {
      "text/plain": [
       "(Parameter containing:\n",
       " tensor([[ 8.6823e-03, -5.9003e-04, -9.9109e-03, -5.9177e-03,  1.5016e-02,\n",
       "           5.3239e-03],\n",
       "         [ 6.9098e-03, -9.9316e-03,  3.0800e-03,  2.6611e-03,  3.5328e-03,\n",
       "           1.4779e-02],\n",
       "         [-1.3377e-02, -4.5740e-03, -7.3343e-03,  1.7469e-04,  1.6012e-02,\n",
       "           5.0647e-03],\n",
       "         [ 1.3192e-02,  1.8187e-02,  2.7549e-03,  1.0228e-03,  2.0640e-03,\n",
       "           4.4759e-05],\n",
       "         [-1.5011e-02,  1.8566e-02,  9.2129e-04, -1.0403e-02, -1.0669e-02,\n",
       "          -1.5862e-03],\n",
       "         [-3.1854e-03,  6.8827e-03,  5.7019e-03,  7.7152e-06,  1.7651e-02,\n",
       "          -8.7786e-04],\n",
       "         [-2.6262e-03, -2.3546e-03, -1.4675e-02,  1.4537e-02,  8.8957e-03,\n",
       "           3.7119e-03],\n",
       "         [ 1.6608e-03, -6.1384e-03, -1.8192e-03,  5.2454e-03, -3.9614e-03,\n",
       "          -1.4462e-02],\n",
       "         [ 1.7626e-03,  1.0131e-02,  1.9187e-03,  3.7003e-03,  3.8059e-03,\n",
       "          -2.2213e-03],\n",
       "         [-1.6983e-04, -1.2205e-02, -1.7088e-02,  1.5608e-02, -7.3543e-03,\n",
       "          -1.1390e-02]], requires_grad=True),\n",
       " torch.Size([10, 6]))"
      ]
     },
     "execution_count": null,
     "metadata": {},
     "output_type": "execute_result"
    }
   ],
   "source": [
    "learn1.model.embeds[0].weight, learn1.model.embeds[0].weight.shape"
   ]
  },
  {
   "cell_type": "code",
   "execution_count": null,
   "metadata": {},
   "outputs": [
    {
     "data": {
      "text/html": [
       "<div>\n",
       "<style scoped>\n",
       "    .dataframe tbody tr th:only-of-type {\n",
       "        vertical-align: middle;\n",
       "    }\n",
       "\n",
       "    .dataframe tbody tr th {\n",
       "        vertical-align: top;\n",
       "    }\n",
       "\n",
       "    .dataframe thead th {\n",
       "        text-align: right;\n",
       "    }\n",
       "</style>\n",
       "<table border=\"1\" class=\"dataframe\">\n",
       "  <thead>\n",
       "    <tr style=\"text-align: right;\">\n",
       "      <th></th>\n",
       "      <th>age</th>\n",
       "      <th>workclass</th>\n",
       "      <th>fnlwgt</th>\n",
       "      <th>education</th>\n",
       "      <th>education-num</th>\n",
       "      <th>marital-status</th>\n",
       "      <th>occupation</th>\n",
       "      <th>relationship</th>\n",
       "      <th>race</th>\n",
       "      <th>sex</th>\n",
       "      <th>capital-gain</th>\n",
       "      <th>capital-loss</th>\n",
       "      <th>hours-per-week</th>\n",
       "      <th>native-country</th>\n",
       "      <th>salary</th>\n",
       "    </tr>\n",
       "  </thead>\n",
       "  <tbody>\n",
       "    <tr>\n",
       "      <th>32558</th>\n",
       "      <td>53</td>\n",
       "      <td>Private</td>\n",
       "      <td>157069</td>\n",
       "      <td>Assoc-acdm</td>\n",
       "      <td>12.0</td>\n",
       "      <td>Married-civ-spouse</td>\n",
       "      <td>Machine-op-inspct</td>\n",
       "      <td>Husband</td>\n",
       "      <td>White</td>\n",
       "      <td>Male</td>\n",
       "      <td>0</td>\n",
       "      <td>0</td>\n",
       "      <td>40</td>\n",
       "      <td>United-States</td>\n",
       "      <td>&gt;=50k</td>\n",
       "    </tr>\n",
       "    <tr>\n",
       "      <th>32559</th>\n",
       "      <td>32</td>\n",
       "      <td>Local-gov</td>\n",
       "      <td>217296</td>\n",
       "      <td>HS-grad</td>\n",
       "      <td>9.0</td>\n",
       "      <td>Married-civ-spouse</td>\n",
       "      <td>Transport-moving</td>\n",
       "      <td>Wife</td>\n",
       "      <td>White</td>\n",
       "      <td>Female</td>\n",
       "      <td>4064</td>\n",
       "      <td>0</td>\n",
       "      <td>22</td>\n",
       "      <td>United-States</td>\n",
       "      <td>&lt;50k</td>\n",
       "    </tr>\n",
       "    <tr>\n",
       "      <th>32560</th>\n",
       "      <td>26</td>\n",
       "      <td>Private</td>\n",
       "      <td>182308</td>\n",
       "      <td>Some-college</td>\n",
       "      <td>10.0</td>\n",
       "      <td>Married-civ-spouse</td>\n",
       "      <td>Prof-specialty</td>\n",
       "      <td>Husband</td>\n",
       "      <td>White</td>\n",
       "      <td>Male</td>\n",
       "      <td>0</td>\n",
       "      <td>0</td>\n",
       "      <td>40</td>\n",
       "      <td>United-States</td>\n",
       "      <td>&lt;50k</td>\n",
       "    </tr>\n",
       "    <tr>\n",
       "      <th>32561</th>\n",
       "      <td>49</td>\n",
       "      <td>Private</td>\n",
       "      <td>101320</td>\n",
       "      <td>Assoc-acdm</td>\n",
       "      <td>12.0</td>\n",
       "      <td>Married-civ-spouse</td>\n",
       "      <td>Exec-managerial</td>\n",
       "      <td>Wife</td>\n",
       "      <td>Robot</td>\n",
       "      <td>Female</td>\n",
       "      <td>0</td>\n",
       "      <td>1902</td>\n",
       "      <td>40</td>\n",
       "      <td>United-States</td>\n",
       "      <td>&gt;=50k</td>\n",
       "    </tr>\n",
       "    <tr>\n",
       "      <th>32562</th>\n",
       "      <td>18</td>\n",
       "      <td>Private</td>\n",
       "      <td>182308</td>\n",
       "      <td>Bachelors</td>\n",
       "      <td>10.0</td>\n",
       "      <td>Never-married</td>\n",
       "      <td>?</td>\n",
       "      <td>Own-child</td>\n",
       "      <td>Other</td>\n",
       "      <td>Male</td>\n",
       "      <td>0</td>\n",
       "      <td>0</td>\n",
       "      <td>23</td>\n",
       "      <td>United-States</td>\n",
       "      <td>&lt;50k</td>\n",
       "    </tr>\n",
       "  </tbody>\n",
       "</table>\n",
       "</div>"
      ],
      "text/plain": [
       "       age   workclass  fnlwgt      education  education-num  \\\n",
       "32558   53     Private  157069     Assoc-acdm           12.0   \n",
       "32559   32   Local-gov  217296        HS-grad            9.0   \n",
       "32560   26     Private  182308   Some-college           10.0   \n",
       "32561   49     Private  101320     Assoc-acdm           12.0   \n",
       "32562   18     Private  182308      Bachelors           10.0   \n",
       "\n",
       "            marital-status          occupation relationship    race      sex  \\\n",
       "32558   Married-civ-spouse   Machine-op-inspct      Husband   White     Male   \n",
       "32559   Married-civ-spouse    Transport-moving         Wife   White   Female   \n",
       "32560   Married-civ-spouse      Prof-specialty      Husband   White     Male   \n",
       "32561   Married-civ-spouse     Exec-managerial         Wife   Robot   Female   \n",
       "32562        Never-married                   ?    Own-child   Other     Male   \n",
       "\n",
       "       capital-gain  capital-loss  hours-per-week  native-country salary  \n",
       "32558             0             0              40   United-States  >=50k  \n",
       "32559          4064             0              22   United-States   <50k  \n",
       "32560             0             0              40   United-States   <50k  \n",
       "32561             0          1902              40   United-States  >=50k  \n",
       "32562             0             0              23   United-States   <50k  "
      ]
     },
     "execution_count": null,
     "metadata": {},
     "output_type": "execute_result"
    }
   ],
   "source": [
    "#We add robot to our \"race\" column\n",
    "new_rows = pd.DataFrame([[49,'Private',101320,'Assoc-acdm',12.0,'Married-civ-spouse','Exec-managerial','Wife','Robot','Female',0,1902,40,'United-States','>=50k'],\n",
    "                        [18,'Private',182308,'Bachelors',10.0,'Never-married','?','Own-child','Other','Male',0,0,23,'United-States','<50k']],\n",
    "                        columns=df1.columns)\n",
    "df2 = df1.copy()\n",
    "df2 = df2.append(new_rows, ignore_index=True)\n",
    "df2.tail()"
   ]
  },
  {
   "cell_type": "code",
   "execution_count": null,
   "metadata": {},
   "outputs": [],
   "source": [
    "splits2 = RandomSplitter(valid_pct=0.2)(range_of(df2))\n",
    "to2 = TabularPandas(df2, procs=[Categorify, FillMissing,Normalize],\n",
    "                   cat_names = ['workclass', 'education', 'marital-status', 'occupation', 'relationship', 'race'],\n",
    "                   cont_names = ['age', 'fnlwgt', 'education-num'],\n",
    "                   y_names='salary',\n",
    "                   splits=splits2)\n",
    "dls2 = to2.dataloaders(bs=64)\n",
    "learn2 = tabular_learner(dls2, metrics=accuracy)"
   ]
  },
  {
   "cell_type": "code",
   "execution_count": null,
   "metadata": {},
   "outputs": [
    {
     "data": {
      "text/plain": [
       "ModuleList(\n",
       "  (0): Embedding(11, 6)\n",
       "  (1): Embedding(19, 8)\n",
       "  (2): Embedding(10, 6)\n",
       "  (3): Embedding(18, 8)\n",
       "  (4): Embedding(9, 5)\n",
       "  (5): Embedding(8, 5)\n",
       "  (6): Embedding(3, 3)\n",
       ")"
      ]
     },
     "execution_count": null,
     "metadata": {},
     "output_type": "execute_result"
    }
   ],
   "source": [
    "learn2.model.embeds"
   ]
  },
  {
   "cell_type": "code",
   "execution_count": null,
   "metadata": {},
   "outputs": [
    {
     "data": {
      "text/plain": [
       "(#7) ['workclass','education','marital-status','occupation','relationship','race','education-num_na']"
      ]
     },
     "execution_count": null,
     "metadata": {},
     "output_type": "execute_result"
    }
   ],
   "source": [
    "learn1.dls.cat_names"
   ]
  },
  {
   "cell_type": "code",
   "execution_count": null,
   "metadata": {},
   "outputs": [
    {
     "data": {
      "text/plain": [
       "{'workclass': ['#na#', ' ?', ' Federal-gov', ' Local-gov', ' Never-worked', ' Private', ' Self-emp-inc', ' Self-emp-not-inc', ' State-gov', ' Without-pay'],\n",
       " 'education': ['#na#', ' 10th', ' 11th', ' 12th', ' 1st-4th', ' 5th-6th', ' 7th-8th', ' 9th', ' Assoc-acdm', ' Assoc-voc', ' Bachelors', ' Doctorate', ' HS-grad', ' Masters', ' Preschool', ' Prof-school', ' Some-college'],\n",
       " 'marital-status': ['#na#', ' Divorced', ' Married-AF-spouse', ' Married-civ-spouse', ' Married-spouse-absent', ' Never-married', ' Separated', ' Widowed'],\n",
       " 'occupation': ['#na#', ' ?', ' Adm-clerical', ' Armed-Forces', ' Craft-repair', ' Exec-managerial', ' Farming-fishing', ' Handlers-cleaners', ' Machine-op-inspct', ' Other-service', ' Priv-house-serv', ' Prof-specialty', ' Protective-serv', ' Sales', ' Tech-support', ' Transport-moving'],\n",
       " 'relationship': ['#na#', ' Husband', ' Not-in-family', ' Other-relative', ' Own-child', ' Unmarried', ' Wife'],\n",
       " 'race': ['#na#', ' Amer-Indian-Eskimo', ' Asian-Pac-Islander', ' Black', ' Other', ' White'],\n",
       " 'education-num_na': ['#na#', False, True]}"
      ]
     },
     "execution_count": null,
     "metadata": {},
     "output_type": "execute_result"
    }
   ],
   "source": [
    "learn1.dls.classes"
   ]
  },
  {
   "cell_type": "code",
   "execution_count": null,
   "metadata": {},
   "outputs": [
    {
     "name": "stdout",
     "output_type": "stream",
     "text": [
      "epoch     train_loss  valid_loss  accuracy  time    \n",
      "0         0.373516    0.354076    0.833999  00:04     \n"
     ]
    }
   ],
   "source": [
    "learn1.fit(1)"
   ]
  },
  {
   "cell_type": "code",
   "execution_count": null,
   "metadata": {},
   "outputs": [],
   "source": [
    "temp = 1"
   ]
  },
  {
   "cell_type": "code",
   "execution_count": null,
   "metadata": {},
   "outputs": [],
   "source": [
    "#export\n",
    "class TabTransfer:\n",
    "    def __init__(self, old_learner, new_learner, cat_names_to_transfer):\n",
    "        self.old_cat_names = old_learner.dls.cat_names\n",
    "        self.old_all_classes = old_learner.dls.classes\n",
    "        self.old_learner = old_learner\n",
    "        \n",
    "        self.new_cat_names = new_learner.dls.cat_names\n",
    "        self.new_all_classes = new_learner.dls.classes\n",
    "        self.new_learner = new_learner\n",
    "        \n",
    "        self.transfer_list = cat_names_to_transfer\n",
    "        \n",
    "        \n",
    "    def transfer(self):\n",
    "        for curr_cat in self.transfer_list:\n",
    "            if not (curr_cat in self.old_cat_names and curr_cat in self.new_cat_names):\n",
    "                continue\n",
    "            old_cat_idx = self.old_cat_names.index(curr_cat)\n",
    "            new_cat_idx = self.new_cat_names.index(curr_cat)\n",
    "            \n",
    "            \n",
    "            \n",
    "            # TODO: Make it so that this isn't required by taking care of this.\n",
    "            try: assert (self.old_learner.model.embeds[old_cat_idx].embedding_dim == self.new_learner.model.embeds[new_cat_idx].embedding_dim)\n",
    "            except: \n",
    "                print(f\"Encountered an error for variable {curr_cat}: Make sure embeddings dimensions are same for {self.old_learner.model.embeds[old_cat_idx]} and {self.new_learner.model.embeds[new_cat_idx]}\")\n",
    "                print(\"Moving on to other cat vars\")\n",
    "                continue\n",
    "            \n",
    "            old_curr_classes = self.old_all_classes[curr_cat]\n",
    "            new_curr_classes = self.new_all_classes[curr_cat]\n",
    "            global temp\n",
    "            temp = new_curr_classes\n",
    "#             if old_curr_classes<new_curr_classes:\n",
    "#                 sitch = 1\n",
    "#             else if old_curr_classes=new_curr_classes:\n",
    "#                 sitch = 2\n",
    "#             else if old_curr_classes<new_curr_classes:\n",
    "#                 sitch = 3\n",
    "            \n",
    "            weights_mean = self.old_learner.model.embeds[old_cat_idx].weight.mean(0)\n",
    "            print(f'mean is {weights_mean} for {self.old_learner.model.embeds[old_cat_idx].weight}')\n",
    "                \n",
    "#             switch(sitch):\n",
    "#                 case 1: \n",
    "\n",
    "            # Case where some category in old, but not in new isn't being handled rn.\n",
    "\n",
    "            for new_curr_class in new_curr_classes:\n",
    "                new_curr_class_idx = new_curr_classes.o2i[new_curr_class]\n",
    "                print(f\"{new_curr_class_idx}, {type(new_curr_class_idx)}\")\n",
    "                \n",
    "                if new_curr_class in old_curr_classes:\n",
    "                    old_curr_class_idx = old_curr_classes.o2i[new_curr_class]\n",
    "                    print(f'Transferring weights for class {new_curr_class}, cat {curr_cat} from previous weights')\n",
    "                    print(f\"old weight for class is {self.new_learner.model.embeds[new_cat_idx].weight[new_curr_class_idx, :]}\")\n",
    "                    tempwgt1 = self.new_learner.model.embeds[new_cat_idx].weight[new_curr_class_idx, :]\n",
    "                    tempwgt2 = self.old_learner.model.embeds[old_cat_idx].weight[old_curr_class_idx, :]\n",
    "                    self.new_learner.model.embeds[new_cat_idx].weight.data[new_curr_class_idx, :] = self.old_learner.model.embeds[old_cat_idx].weight[old_curr_class_idx, :].detach().clone()\n",
    "                    self.new_learner.model.embeds[new_cat_idx].weight[new_curr_class_idx, :].required_grad = True\n",
    "                    print(f\"new weight for class is {self.new_learner.model.embeds[new_cat_idx].weight[new_curr_class_idx, :]}\")\n",
    "                else:\n",
    "                    print(f'Transferring weights for class {new_curr_class}, cat {curr_cat} using mean')\n",
    "                    print(f\"old weight for class is {self.new_learner.model.embeds[new_cat_idx].weight[new_curr_class_idx, :]}\")\n",
    "                    self.new_learner.model.embeds[new_cat_idx].weight.data[new_curr_class_idx, :] = weights_mean\n",
    "                    self.new_learner.model.embeds[new_cat_idx].weight[new_curr_class_idx, :].required_grad = True\n",
    "                    print(f\"new weight for class is {self.new_learner.model.embeds[new_cat_idx].weight[new_curr_class_idx, :]}\")"
   ]
  },
  {
   "cell_type": "code",
   "execution_count": null,
   "metadata": {},
   "outputs": [
    {
     "data": {
      "text/plain": [
       "6"
      ]
     },
     "execution_count": null,
     "metadata": {},
     "output_type": "execute_result"
    }
   ],
   "source": [
    "learn1.model.embeds[0].embedding_dim"
   ]
  },
  {
   "cell_type": "code",
   "execution_count": null,
   "metadata": {},
   "outputs": [],
   "source": [
    "tabobj = TabTransfer(learn1, learn2, [\"race\", \"workclass\"])"
   ]
  },
  {
   "cell_type": "code",
   "execution_count": null,
   "metadata": {},
   "outputs": [
    {
     "name": "stdout",
     "output_type": "stream",
     "text": [
      "Encountered an error for variable race: Make sure embeddings dimensions are same for Embedding(6, 4) and Embedding(8, 5)\n",
      "Moving on to other cat vars\n",
      "mean is tensor([-0.0003,  0.0005, -0.0002,  0.0090,  0.0007, -0.0046],\n",
      "       grad_fn=<MeanBackward1>) for Parameter containing:\n",
      "tensor([[ 0.0086, -0.0006, -0.0099, -0.0059,  0.0150,  0.0053],\n",
      "        [ 0.0305, -0.0044, -0.0034,  0.0234,  0.0180,  0.0237],\n",
      "        [-0.0570, -0.0361,  0.0253, -0.0568,  0.0298, -0.0370],\n",
      "        [ 0.0185,  0.0249, -0.0102,  0.0268, -0.0218, -0.0109],\n",
      "        [-0.0308,  0.0017,  0.0057, -0.0073, -0.0129, -0.0024],\n",
      "        [-0.0190, -0.0027,  0.0249, -0.0041,  0.0343,  0.0041],\n",
      "        [-0.0700, -0.0561,  0.0320, -0.0512,  0.0422, -0.0471],\n",
      "        [ 0.0491,  0.0339, -0.0586,  0.0735, -0.0454,  0.0039],\n",
      "        [ 0.0387,  0.0261,  0.0005,  0.0382, -0.0259,  0.0210],\n",
      "        [ 0.0281,  0.0185, -0.0081,  0.0533, -0.0263, -0.0061]],\n",
      "       requires_grad=True)\n",
      "0, <class 'int'>\n",
      "Transferring weights for class #na#, cat workclass from previous weights\n",
      "old weight for class is tensor([ 0.0087, -0.0006, -0.0099, -0.0059,  0.0150,  0.0053],\n",
      "       grad_fn=<SliceBackward>)\n",
      "new weight for class is tensor([ 0.0086, -0.0006, -0.0099, -0.0059,  0.0150,  0.0053],\n",
      "       grad_fn=<SliceBackward>)\n",
      "1, <class 'int'>\n",
      "Transferring weights for class  ?, cat workclass from previous weights\n",
      "old weight for class is tensor([ 0.0069, -0.0099,  0.0031,  0.0027,  0.0035,  0.0148],\n",
      "       grad_fn=<SliceBackward>)\n",
      "new weight for class is tensor([ 0.0305, -0.0044, -0.0034,  0.0234,  0.0180,  0.0237],\n",
      "       grad_fn=<SliceBackward>)\n",
      "2, <class 'int'>\n",
      "Transferring weights for class  Federal-gov, cat workclass from previous weights\n",
      "old weight for class is tensor([-0.0134, -0.0046, -0.0073,  0.0002,  0.0160,  0.0051],\n",
      "       grad_fn=<SliceBackward>)\n",
      "new weight for class is tensor([-0.0570, -0.0361,  0.0253, -0.0568,  0.0298, -0.0370],\n",
      "       grad_fn=<SliceBackward>)\n",
      "3, <class 'int'>\n",
      "Transferring weights for class  Local-gov, cat workclass from previous weights\n",
      "old weight for class is tensor([1.3192e-02, 1.8187e-02, 2.7549e-03, 1.0228e-03, 2.0640e-03, 4.4759e-05],\n",
      "       grad_fn=<SliceBackward>)\n",
      "new weight for class is tensor([ 0.0185,  0.0249, -0.0102,  0.0268, -0.0218, -0.0109],\n",
      "       grad_fn=<SliceBackward>)\n",
      "4, <class 'int'>\n",
      "Transferring weights for class  Never-worked, cat workclass from previous weights\n",
      "old weight for class is tensor([-0.0150,  0.0186,  0.0009, -0.0104, -0.0107, -0.0016],\n",
      "       grad_fn=<SliceBackward>)\n",
      "new weight for class is tensor([-0.0308,  0.0017,  0.0057, -0.0073, -0.0129, -0.0024],\n",
      "       grad_fn=<SliceBackward>)\n",
      "5, <class 'int'>\n",
      "Transferring weights for class  Private, cat workclass from previous weights\n",
      "old weight for class is tensor([-3.1854e-03,  6.8827e-03,  5.7019e-03,  7.7152e-06,  1.7651e-02,\n",
      "        -8.7786e-04], grad_fn=<SliceBackward>)\n",
      "new weight for class is tensor([-0.0190, -0.0027,  0.0249, -0.0041,  0.0343,  0.0041],\n",
      "       grad_fn=<SliceBackward>)\n",
      "6, <class 'int'>\n",
      "Transferring weights for class  Self-emp-inc, cat workclass from previous weights\n",
      "old weight for class is tensor([-0.0026, -0.0024, -0.0147,  0.0145,  0.0089,  0.0037],\n",
      "       grad_fn=<SliceBackward>)\n",
      "new weight for class is tensor([-0.0700, -0.0561,  0.0320, -0.0512,  0.0422, -0.0471],\n",
      "       grad_fn=<SliceBackward>)\n",
      "7, <class 'int'>\n",
      "Transferring weights for class  Self-emp-not-inc, cat workclass from previous weights\n",
      "old weight for class is tensor([ 0.0017, -0.0061, -0.0018,  0.0052, -0.0040, -0.0145],\n",
      "       grad_fn=<SliceBackward>)\n",
      "new weight for class is tensor([ 0.0491,  0.0339, -0.0586,  0.0735, -0.0454,  0.0039],\n",
      "       grad_fn=<SliceBackward>)\n",
      "8, <class 'int'>\n",
      "Transferring weights for class  State-gov, cat workclass from previous weights\n",
      "old weight for class is tensor([ 0.0018,  0.0101,  0.0019,  0.0037,  0.0038, -0.0022],\n",
      "       grad_fn=<SliceBackward>)\n",
      "new weight for class is tensor([ 0.0387,  0.0261,  0.0005,  0.0382, -0.0259,  0.0210],\n",
      "       grad_fn=<SliceBackward>)\n",
      "9, <class 'int'>\n",
      "Transferring weights for class  Without-pay, cat workclass from previous weights\n",
      "old weight for class is tensor([-0.0002, -0.0122, -0.0171,  0.0156, -0.0074, -0.0114],\n",
      "       grad_fn=<SliceBackward>)\n",
      "new weight for class is tensor([ 0.0281,  0.0185, -0.0081,  0.0533, -0.0263, -0.0061],\n",
      "       grad_fn=<SliceBackward>)\n",
      "10, <class 'int'>\n",
      "Transferring weights for class Private, cat workclass using mean\n",
      "old weight for class is tensor([-0.0002,  0.0018, -0.0036,  0.0027,  0.0045, -0.0002],\n",
      "       grad_fn=<SliceBackward>)\n",
      "new weight for class is tensor([-0.0003,  0.0005, -0.0002,  0.0090,  0.0007, -0.0046],\n",
      "       grad_fn=<SliceBackward>)\n"
     ]
    }
   ],
   "source": [
    "tabobj.transfer()"
   ]
  },
  {
   "cell_type": "code",
   "execution_count": null,
   "metadata": {},
   "outputs": [],
   "source": []
  }
 ],
 "metadata": {
  "kernelspec": {
   "display_name": "Python 3.9 (XPython)",
   "language": "python",
   "name": "xpython"
  }
 },
 "nbformat": 4,
 "nbformat_minor": 4
}
