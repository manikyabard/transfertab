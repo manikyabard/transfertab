{
 "cells": [
  {
   "cell_type": "markdown",
   "metadata": {},
   "source": [
    "# transfertab\n",
    "\n",
    "> Allow transfer learning using structured data."
   ]
  },
  {
   "cell_type": "code",
   "execution_count": null,
   "metadata": {},
   "outputs": [],
   "source": [
    "#hide\n",
    "from transfertab.core import *\n",
    "from nbdev.showdoc import *\n",
    "from fastai.tabular.all import *\n",
    "from transfertab.utils import *"
   ]
  },
  {
   "cell_type": "markdown",
   "metadata": {},
   "source": [
    "## Install"
   ]
  },
  {
   "cell_type": "markdown",
   "metadata": {},
   "source": [
    "```bash\n",
    "git clone www.github.com/manikyabard/transfertab\n",
    "cd transfertab\n",
    "pip install -e .\n",
    "```"
   ]
  },
  {
   "cell_type": "markdown",
   "metadata": {},
   "source": [
    "## How to use"
   ]
  },
  {
   "cell_type": "markdown",
   "metadata": {},
   "source": [
    "TransferTab enables effective transfer learning from models trained on tabular data."
   ]
  },
  {
   "cell_type": "markdown",
   "metadata": {},
   "source": [
    "To make use of `transfertab`, you'll need  \n",
    "\t* A pytorch model which contains some embeddings in a layer group.  \n",
    "\t* Another model to transfer these embeddings to, along with the metadata about the dataset on which this model will be trained."
   ]
  },
  {
   "cell_type": "markdown",
   "metadata": {},
   "source": [
    "Here we'll quickly construct a `ModuleList` with a bunch of `Embedding` layers, and see how to transfer it's embeddings."
   ]
  },
  {
   "cell_type": "code",
   "execution_count": null,
   "metadata": {},
   "outputs": [],
   "source": [
    "# #hide\n",
    "# path = untar_data(URLs.ADULT_SAMPLE)\n",
    "# df1 = pd.read_csv(path/'adult.csv')\n",
    "# splits1 = RandomSplitter(valid_pct=0.2)(range_of(df1))\n",
    "# to1 = TabularPandas(df1, procs=[Categorify, FillMissing,Normalize],\n",
    "#                    cat_names = ['workclass', 'education', 'marital-status', 'occupation', 'relationship', 'race'],\n",
    "#                    cont_names = ['age', 'fnlwgt', 'education-num'],\n",
    "#                    y_names='salary',\n",
    "#                    splits=splits1)\n",
    "# dls1 = to1.dataloaders(bs=64)\n",
    "# learn1 = tabular_learner(dls1, metrics=accuracy)\n",
    "\n",
    "# #We add robot to our \"race\" column\n",
    "# new_rows = pd.DataFrame([[49,'Private',101320,'Assoc-acdm',12.0,'Married-civ-spouse','Exec-managerial','Wife','Robot','Female',0,1902,40,'United-States','>=50k'],\n",
    "#                         [18,'Private',182308,'Bachelors',10.0,'Never-married','?','Own-child','Other','Male',0,0,23,'United-States','<50k']],\n",
    "#                         columns=df1.columns)\n",
    "# df2 = df1.copy()\n",
    "# df2 = df2.append(new_rows, ignore_index=True)\n",
    "# df2.tail()\n",
    "\n",
    "# splits2 = RandomSplitter(valid_pct=0.2)(range_of(df2))\n",
    "# to2 = TabularPandas(df2, procs=[Categorify, FillMissing,Normalize],\n",
    "#                    cat_names = ['workclass', 'education', 'marital-status', 'occupation', 'relationship', 'race'],\n",
    "#                    cont_names = ['age', 'fnlwgt', 'education-num'],\n",
    "#                    y_names='salary',\n",
    "#                    splits=splits2)\n",
    "# dls2 = to2.dataloaders(bs=64)\n",
    "# learn2 = tabular_learner(dls2, metrics=accuracy)\n",
    "\n"
   ]
  },
  {
   "cell_type": "markdown",
   "metadata": {},
   "source": [
    "The model from which we want to extract embeddings is trained on a dataset with 7 categorical variables, and 3 continuous ones. It contains embeddings for each of these categorical variables."
   ]
  },
  {
   "cell_type": "code",
   "execution_count": null,
   "metadata": {},
   "outputs": [
    {
     "data": {
      "text/plain": [
       "TabularModel(\n",
       "  (embeds): ModuleList(\n",
       "    (0): Embedding(10, 6)\n",
       "    (1): Embedding(17, 8)\n",
       "    (2): Embedding(8, 5)\n",
       "    (3): Embedding(16, 8)\n",
       "    (4): Embedding(7, 5)\n",
       "    (5): Embedding(6, 4)\n",
       "    (6): Embedding(3, 3)\n",
       "  )\n",
       "  (emb_drop): Dropout(p=0.0, inplace=False)\n",
       "  (bn_cont): BatchNorm1d(3, eps=1e-05, momentum=0.1, affine=True, track_running_stats=True)\n",
       "  (layers): Sequential(\n",
       "    (0): LinBnDrop(\n",
       "      (0): Linear(in_features=42, out_features=200, bias=False)\n",
       "      (1): ReLU(inplace=True)\n",
       "      (2): BatchNorm1d(200, eps=1e-05, momentum=0.1, affine=True, track_running_stats=True)\n",
       "    )\n",
       "    (1): LinBnDrop(\n",
       "      (0): Linear(in_features=200, out_features=100, bias=False)\n",
       "      (1): ReLU(inplace=True)\n",
       "      (2): BatchNorm1d(100, eps=1e-05, momentum=0.1, affine=True, track_running_stats=True)\n",
       "    )\n",
       "    (2): LinBnDrop(\n",
       "      (0): Linear(in_features=100, out_features=2, bias=True)\n",
       "    )\n",
       "  )\n",
       ")"
      ]
     },
     "execution_count": null,
     "metadata": {},
     "output_type": "execute_result"
    }
   ],
   "source": [
    "#hide_input\n",
    "# learn1.model"
   ]
  },
  {
   "cell_type": "markdown",
   "metadata": {},
   "source": [
    "The whole process takes place in two main steps-  \n",
    "\t1. Extraction  \n",
    "\t2. Transfer\n"
   ]
  },
  {
   "cell_type": "markdown",
   "metadata": {},
   "source": [
    "### Extraction\n",
    "This involves storing the embeddings present in the model to a `json` structure. This `json` would contain the embeddings related to the categorical variables, and can be later transfered to another model which can also benefit from these categories. It will also be possible to have multiple `json` files constructed from various models with different categorical variables and then use them together."
   ]
  },
  {
   "cell_type": "markdown",
   "metadata": {},
   "source": [
    "To start with the Extraction process, first we need a `metadict` containing information about the dataset on which the initial model was trained on.  \n",
    "For this, we can either contruct it manually, or use one of the helper functions provided in the library."
   ]
  },
  {
   "cell_type": "code",
   "execution_count": null,
   "metadata": {},
   "outputs": [
    {
     "data": {
      "text/html": [
       "<div>\n",
       "<style scoped>\n",
       "    .dataframe tbody tr th:only-of-type {\n",
       "        vertical-align: middle;\n",
       "    }\n",
       "\n",
       "    .dataframe tbody tr th {\n",
       "        vertical-align: top;\n",
       "    }\n",
       "\n",
       "    .dataframe thead th {\n",
       "        text-align: right;\n",
       "    }\n",
       "</style>\n",
       "<table border=\"1\" class=\"dataframe\">\n",
       "  <thead>\n",
       "    <tr style=\"text-align: right;\">\n",
       "      <th></th>\n",
       "      <th>age</th>\n",
       "      <th>workclass</th>\n",
       "      <th>fnlwgt</th>\n",
       "      <th>education</th>\n",
       "      <th>education-num</th>\n",
       "      <th>marital-status</th>\n",
       "      <th>occupation</th>\n",
       "      <th>relationship</th>\n",
       "      <th>race</th>\n",
       "      <th>sex</th>\n",
       "      <th>capital-gain</th>\n",
       "      <th>capital-loss</th>\n",
       "      <th>hours-per-week</th>\n",
       "      <th>native-country</th>\n",
       "      <th>salary</th>\n",
       "    </tr>\n",
       "  </thead>\n",
       "  <tbody>\n",
       "    <tr>\n",
       "      <th>0</th>\n",
       "      <td>49</td>\n",
       "      <td>Private</td>\n",
       "      <td>101320</td>\n",
       "      <td>Assoc-acdm</td>\n",
       "      <td>12.0</td>\n",
       "      <td>Married-civ-spouse</td>\n",
       "      <td>NaN</td>\n",
       "      <td>Wife</td>\n",
       "      <td>White</td>\n",
       "      <td>Female</td>\n",
       "      <td>0</td>\n",
       "      <td>1902</td>\n",
       "      <td>40</td>\n",
       "      <td>United-States</td>\n",
       "      <td>&gt;=50k</td>\n",
       "    </tr>\n",
       "    <tr>\n",
       "      <th>1</th>\n",
       "      <td>44</td>\n",
       "      <td>Private</td>\n",
       "      <td>236746</td>\n",
       "      <td>Masters</td>\n",
       "      <td>14.0</td>\n",
       "      <td>Divorced</td>\n",
       "      <td>Exec-managerial</td>\n",
       "      <td>Not-in-family</td>\n",
       "      <td>White</td>\n",
       "      <td>Male</td>\n",
       "      <td>10520</td>\n",
       "      <td>0</td>\n",
       "      <td>45</td>\n",
       "      <td>United-States</td>\n",
       "      <td>&gt;=50k</td>\n",
       "    </tr>\n",
       "    <tr>\n",
       "      <th>2</th>\n",
       "      <td>38</td>\n",
       "      <td>Private</td>\n",
       "      <td>96185</td>\n",
       "      <td>HS-grad</td>\n",
       "      <td>NaN</td>\n",
       "      <td>Divorced</td>\n",
       "      <td>NaN</td>\n",
       "      <td>Unmarried</td>\n",
       "      <td>Black</td>\n",
       "      <td>Female</td>\n",
       "      <td>0</td>\n",
       "      <td>0</td>\n",
       "      <td>32</td>\n",
       "      <td>United-States</td>\n",
       "      <td>&lt;50k</td>\n",
       "    </tr>\n",
       "    <tr>\n",
       "      <th>3</th>\n",
       "      <td>38</td>\n",
       "      <td>Self-emp-inc</td>\n",
       "      <td>112847</td>\n",
       "      <td>Prof-school</td>\n",
       "      <td>15.0</td>\n",
       "      <td>Married-civ-spouse</td>\n",
       "      <td>Prof-specialty</td>\n",
       "      <td>Husband</td>\n",
       "      <td>Asian-Pac-Islander</td>\n",
       "      <td>Male</td>\n",
       "      <td>0</td>\n",
       "      <td>0</td>\n",
       "      <td>40</td>\n",
       "      <td>United-States</td>\n",
       "      <td>&gt;=50k</td>\n",
       "    </tr>\n",
       "    <tr>\n",
       "      <th>4</th>\n",
       "      <td>42</td>\n",
       "      <td>Self-emp-not-inc</td>\n",
       "      <td>82297</td>\n",
       "      <td>7th-8th</td>\n",
       "      <td>NaN</td>\n",
       "      <td>Married-civ-spouse</td>\n",
       "      <td>Other-service</td>\n",
       "      <td>Wife</td>\n",
       "      <td>Black</td>\n",
       "      <td>Female</td>\n",
       "      <td>0</td>\n",
       "      <td>0</td>\n",
       "      <td>50</td>\n",
       "      <td>United-States</td>\n",
       "      <td>&lt;50k</td>\n",
       "    </tr>\n",
       "  </tbody>\n",
       "</table>\n",
       "</div>"
      ],
      "text/plain": [
       "   age          workclass  fnlwgt     education  education-num  \\\n",
       "0   49            Private  101320    Assoc-acdm           12.0   \n",
       "1   44            Private  236746       Masters           14.0   \n",
       "2   38            Private   96185       HS-grad            NaN   \n",
       "3   38       Self-emp-inc  112847   Prof-school           15.0   \n",
       "4   42   Self-emp-not-inc   82297       7th-8th            NaN   \n",
       "\n",
       "        marital-status        occupation    relationship                 race  \\\n",
       "0   Married-civ-spouse               NaN            Wife                White   \n",
       "1             Divorced   Exec-managerial   Not-in-family                White   \n",
       "2             Divorced               NaN       Unmarried                Black   \n",
       "3   Married-civ-spouse    Prof-specialty         Husband   Asian-Pac-Islander   \n",
       "4   Married-civ-spouse     Other-service            Wife                Black   \n",
       "\n",
       "       sex  capital-gain  capital-loss  hours-per-week  native-country salary  \n",
       "0   Female             0          1902              40   United-States  >=50k  \n",
       "1     Male         10520             0              45   United-States  >=50k  \n",
       "2   Female             0             0              32   United-States   <50k  \n",
       "3     Male             0             0              40   United-States  >=50k  \n",
       "4   Female             0             0              50   United-States   <50k  "
      ]
     },
     "execution_count": null,
     "metadata": {},
     "output_type": "execute_result"
    }
   ],
   "source": [
    "# df1.head()"
   ]
  },
  {
   "cell_type": "code",
   "execution_count": null,
   "metadata": {},
   "outputs": [
    {
     "data": {
      "text/plain": [
       "(dict_keys(['categories', 'workclass', 'education', 'marital-status', 'occupation', 'relationship', 'race', 'sex', 'native-country', 'salary']),\n",
       " {'classes': ['nan',\n",
       "   ' Wife',\n",
       "   ' Not-in-family',\n",
       "   ' Unmarried',\n",
       "   ' Husband',\n",
       "   ' Own-child',\n",
       "   ' Other-relative']})"
      ]
     },
     "execution_count": null,
     "metadata": {},
     "output_type": "execute_result"
    }
   ],
   "source": [
    "# meta = extract_meta_from_df(df1)\n",
    "# meta.keys(), meta['relationship']"
   ]
  },
  {
   "cell_type": "markdown",
   "metadata": {},
   "source": [
    "If we want to manually define which categories we want to extract, we can do so by defining a meta dict as shown here -"
   ]
  },
  {
   "cell_type": "code",
   "execution_count": null,
   "metadata": {},
   "outputs": [],
   "source": [
    "\n",
    "# meta = {\n",
    "#     \"categories\":['workclass', 'education', 'marital-status', 'occupation', 'relationship', 'race'],\n",
    "#     \"workclass\": {\n",
    "#         \"classes\": ['nan', ' Private', ' Self-emp-inc', ' Self-emp-not-inc', ' State-gov',\n",
    "#            ' Federal-gov', ' Local-gov', ' ?', ' Without-pay',\n",
    "#            ' Never-worked'],\n",
    "#     },\n",
    "#     'education': {\n",
    "#         \"classes\": ['nan', ' Assoc-acdm', ' Masters', ' HS-grad', ' Prof-school', ' 7th-8th',\n",
    "#        ' Some-college', ' 11th', ' Bachelors', ' Assoc-voc', ' 10th',\n",
    "#        ' 9th', ' Doctorate', ' 12th', ' 1st-4th', ' 5th-6th',\n",
    "#        ' Preschool']\n",
    "#     },\n",
    "#     \"marital-status\": {\n",
    "#         \"classes\": ['nan', ' Married-civ-spouse', ' Divorced', ' Never-married', ' Widowed',\n",
    "#        ' Married-spouse-absent', ' Separated', ' Married-AF-spouse']\n",
    "#     },\n",
    "#     \"occupation\": {\n",
    "#         \"classes\": [\"nan\", ' Exec-managerial', ' Prof-specialty', ' Other-service',\n",
    "#        ' Handlers-cleaners', ' Craft-repair', ' Adm-clerical', ' Sales',\n",
    "#        ' Machine-op-inspct', ' Transport-moving', ' ?',\n",
    "#        ' Farming-fishing', ' Tech-support', ' Protective-serv',\n",
    "#        ' Priv-house-serv', ' Armed-Forces']\n",
    "#     },\n",
    "#     \"relationship\": {\n",
    "#         \"classes\": ['nan', ' Wife', ' Not-in-family', ' Unmarried', ' Husband', ' Own-child',\n",
    "#        ' Other-relative']\n",
    "#     },\n",
    "#     \"race\": {\n",
    "#         \"classes\": ['nan', ' White', ' Black', ' Asian-Pac-Islander', ' Amer-Indian-Eskimo',\n",
    "#        ' Other']\n",
    "#     }\n",
    "# }"
   ]
  },
  {
   "cell_type": "markdown",
   "metadata": {},
   "source": [
    "More information about the metadict format can be found in the docs."
   ]
  },
  {
   "cell_type": "markdown",
   "metadata": {},
   "source": [
    "Now that we have out meta dictionary, we can start extracting the embeddings, using `extractembeds`."
   ]
  },
  {
   "cell_type": "code",
   "execution_count": null,
   "metadata": {},
   "outputs": [
    {
     "data": {
      "text/markdown": [
       "<h4 id=\"extractembeds\" class=\"doc_header\"><code>extractembeds</code><a href=\"https://github.com/manikyabard/transfertab/tree/master/transfertab/utils.py#L38\" class=\"source_link\" style=\"float:right\">[source]</a></h4>\n",
       "\n",
       "> <code>extractembeds</code>(**`model`**, **`embeddinglg`**:`str`, **`metadict`**, **`path`**)\n",
       "\n",
       "```\n",
       "model: Any pytorch model, containing a layergroup with all the embedding layers.\n",
       "embeddinglg: Name of the layer group containing the embedding layers.\n",
       "metadict: A dictionary containing relevant metadata. Check the format given in docs for further details.\n",
       "path: Path of the json\n",
       "```"
      ],
      "text/plain": [
       "<IPython.core.display.Markdown object>"
      ]
     },
     "metadata": {},
     "output_type": "display_data"
    }
   ],
   "source": [
    "#hide_input\n",
    "#skip\n",
    "# show_doc(extractembeds)"
   ]
  },
  {
   "cell_type": "code",
   "execution_count": null,
   "metadata": {},
   "outputs": [
    {
     "data": {
      "text/plain": [
       "{'classes': ['nan',\n",
       "  ' White',\n",
       "  ' Black',\n",
       "  ' Asian-Pac-Islander',\n",
       "  ' Amer-Indian-Eskimo',\n",
       "  ' Other'],\n",
       " 'embeddings': [[-0.0019180621020495892,\n",
       "   -0.019080253317952156,\n",
       "   0.0008181656594388187,\n",
       "   0.01788151264190674],\n",
       "  [-0.0052517615258693695,\n",
       "   0.011697527952492237,\n",
       "   -0.008258289657533169,\n",
       "   0.00018684648966882378],\n",
       "  [0.0018448735354468226,\n",
       "   0.009865843690931797,\n",
       "   -0.009563969448208809,\n",
       "   -0.012679846957325935],\n",
       "  [-0.0023717426229268312,\n",
       "   0.002071694005280733,\n",
       "   -0.0027660217601805925,\n",
       "   0.006506396923214197],\n",
       "  [0.005800426006317139,\n",
       "   0.01546463929116726,\n",
       "   0.004760770592838526,\n",
       "   -0.00994172878563404],\n",
       "  [-0.0028843125328421593,\n",
       "   -0.009254083968698978,\n",
       "   0.005498375277966261,\n",
       "   -0.0025885116774588823]]}"
      ]
     },
     "execution_count": null,
     "metadata": {},
     "output_type": "execute_result"
    }
   ],
   "source": [
    "# emb_details = extractembeds(learn1.model, 'embeds', meta, '../data/adult.json')\n",
    "# emb_details['race']"
   ]
  },
  {
   "cell_type": "markdown",
   "metadata": {},
   "source": [
    "The embeddings will be stored in a `json` file in the given `path`. Now this file can be used to transfer these embeddings to another model."
   ]
  },
  {
   "cell_type": "code",
   "execution_count": null,
   "metadata": {},
   "outputs": [],
   "source": [
    "# tabobj = TabTransfer(learn1)"
   ]
  },
  {
   "cell_type": "markdown",
   "metadata": {},
   "source": [
    "Now after creating a `TabTransfer` object, we need to initialize this with either-  \n",
    "1. The path of the `json` which we just constructed.\n",
    "2. The directory which contains multiple `json` files constructed using the same method, but containing various embeddings for different categorical variables needed to be transferred."
   ]
  },
  {
   "cell_type": "code",
   "execution_count": null,
   "metadata": {},
   "outputs": [],
   "source": [
    "# #skip\n",
    "# tabobj.init_from_json(\"../data/adults.json\")"
   ]
  },
  {
   "cell_type": "markdown",
   "metadata": {},
   "source": [
    "There might be a case where the name of the categorical variables present in the `json` might differ from the ones present in the new model's learner. For this we can use a `mapping_dict` which maps old variable names to new ones. This can be created using the `mapping` function of the object and pass it the categorical values to transfer."
   ]
  },
  {
   "cell_type": "code",
   "execution_count": null,
   "metadata": {},
   "outputs": [
    {
     "name": "stdout",
     "output_type": "stream",
     "text": [
      "['workclass', 'education', 'marital-status', 'occupation', 'relationship', 'race', 'education-num_na']\n"
     ]
    },
    {
     "data": {
      "text/plain": [
       "{'race': 'race', 'workclass': 'workclass', 'gender': 'sex'}"
      ]
     },
     "execution_count": null,
     "metadata": {},
     "output_type": "execute_result"
    }
   ],
   "source": [
    "# #skip\n",
    "# mapping_dict = tabobj.mapping([\"race\", \"workclass\", \"gender\"])\n",
    "# mapping_dict"
   ]
  },
  {
   "cell_type": "code",
   "execution_count": null,
   "metadata": {},
   "outputs": [
    {
     "data": {
      "text/markdown": [
       "<h4 id=\"TabTransfer.transfer\" class=\"doc_header\"><code>TabTransfer.transfer</code><a href=\"https://github.com/manikyabard/transfertab/tree/master/transfertab/core.py#L62\" class=\"source_link\" style=\"float:right\">[source]</a></h4>\n",
       "\n",
       "> <code>TabTransfer.transfer</code>(**`cat_names_to_transfer`**, **`layergroup`**, **`mapping_dict`**, **`verbose`**=*`False`*)\n",
       "\n"
      ],
      "text/plain": [
       "<IPython.core.display.Markdown object>"
      ]
     },
     "metadata": {},
     "output_type": "display_data"
    }
   ],
   "source": [
    "# hide_input\n",
    "# skip\n",
    "# show_doc(tabobj.transfer)"
   ]
  },
  {
   "cell_type": "markdown",
   "metadata": {},
   "source": [
    "As we can see, the transfer process will start after running `tabobj.transfer` function."
   ]
  },
  {
   "cell_type": "code",
   "execution_count": null,
   "metadata": {},
   "outputs": [
    {
     "name": "stdout",
     "output_type": "stream",
     "text": [
      "mean is tensor([ 0.0041, -0.0072, -0.0091, -0.0078]) for tensor([[-0.0118, -0.0154, -0.0116, -0.0055],\n",
      "        [ 0.0281, -0.0145, -0.0503, -0.0191],\n",
      "        [-0.0276, -0.0304, -0.0122,  0.0127],\n",
      "        [ 0.0166, -0.0077,  0.0121, -0.0323],\n",
      "        [ 0.0149, -0.0247, -0.0128, -0.0176],\n",
      "        [ 0.0045,  0.0495,  0.0202,  0.0148]])\n",
      "0, <class 'int'>\n",
      "Transferring weights for class #na#, cat race using mean\n",
      "old weight for class is tensor([ 0.0041, -0.0072, -0.0091, -0.0078], grad_fn=<SliceBackward>)\n",
      "new weight for class is tensor([ 0.0041, -0.0072, -0.0091, -0.0078], grad_fn=<SliceBackward>)\n",
      "1, <class 'int'>\n",
      "Transferring weights for class  Amer-Indian-Eskimo, cat race from previous weights\n",
      "old weight for class is tensor([ 0.0149, -0.0247, -0.0128, -0.0176], grad_fn=<SliceBackward>)\n",
      "new weight for class is tensor([ 0.0149, -0.0247, -0.0128, -0.0176], grad_fn=<SliceBackward>)\n",
      "2, <class 'int'>\n",
      "Transferring weights for class  Asian-Pac-Islander, cat race from previous weights\n",
      "old weight for class is tensor([ 0.0166, -0.0077,  0.0121, -0.0323], grad_fn=<SliceBackward>)\n",
      "new weight for class is tensor([ 0.0166, -0.0077,  0.0121, -0.0323], grad_fn=<SliceBackward>)\n",
      "3, <class 'int'>\n",
      "Transferring weights for class  Black, cat race from previous weights\n",
      "old weight for class is tensor([-0.0276, -0.0304, -0.0122,  0.0127], grad_fn=<SliceBackward>)\n",
      "new weight for class is tensor([-0.0276, -0.0304, -0.0122,  0.0127], grad_fn=<SliceBackward>)\n",
      "4, <class 'int'>\n",
      "Transferring weights for class  Other, cat race from previous weights\n",
      "old weight for class is tensor([0.0045, 0.0495, 0.0202, 0.0148], grad_fn=<SliceBackward>)\n",
      "new weight for class is tensor([0.0045, 0.0495, 0.0202, 0.0148], grad_fn=<SliceBackward>)\n",
      "5, <class 'int'>\n",
      "Transferring weights for class  White, cat race from previous weights\n",
      "old weight for class is tensor([ 0.0281, -0.0145, -0.0503, -0.0191], grad_fn=<SliceBackward>)\n",
      "new weight for class is tensor([ 0.0281, -0.0145, -0.0503, -0.0191], grad_fn=<SliceBackward>)\n",
      "mean is tensor([-0.0037, -0.0007,  0.0016,  0.0003,  0.0027, -0.0014]) for tensor([[-0.0125, -0.0019, -0.0070, -0.0017, -0.0015,  0.0143],\n",
      "        [-0.0002, -0.0085, -0.0127, -0.0332, -0.0274, -0.0068],\n",
      "        [-0.0216, -0.0208,  0.0391,  0.0481,  0.0573,  0.0519],\n",
      "        [-0.0125, -0.0039,  0.0062, -0.0273, -0.0273, -0.0192],\n",
      "        [-0.0232,  0.0034, -0.0116,  0.0321,  0.0317, -0.0087],\n",
      "        [ 0.0282, -0.0219,  0.0100,  0.0396,  0.0077,  0.0019],\n",
      "        [-0.0218, -0.0064,  0.0136,  0.0763,  0.0721,  0.0081],\n",
      "        [-0.0052,  0.0014, -0.0276, -0.0481, -0.0369, -0.0343],\n",
      "        [ 0.0011,  0.0267, -0.0077, -0.0506, -0.0237,  0.0001],\n",
      "        [ 0.0309,  0.0252,  0.0137, -0.0322, -0.0247, -0.0210]])\n",
      "0, <class 'int'>\n",
      "Transferring weights for class #na#, cat workclass using mean\n",
      "old weight for class is tensor([-0.0037, -0.0007,  0.0016,  0.0003,  0.0027, -0.0014],\n",
      "       grad_fn=<SliceBackward>)\n",
      "new weight for class is tensor([-0.0037, -0.0007,  0.0016,  0.0003,  0.0027, -0.0014],\n",
      "       grad_fn=<SliceBackward>)\n",
      "1, <class 'int'>\n",
      "Transferring weights for class  ?, cat workclass from previous weights\n",
      "old weight for class is tensor([-0.0052,  0.0014, -0.0276, -0.0481, -0.0369, -0.0343],\n",
      "       grad_fn=<SliceBackward>)\n",
      "new weight for class is tensor([-0.0052,  0.0014, -0.0276, -0.0481, -0.0369, -0.0343],\n",
      "       grad_fn=<SliceBackward>)\n",
      "2, <class 'int'>\n",
      "Transferring weights for class  Federal-gov, cat workclass from previous weights\n",
      "old weight for class is tensor([ 0.0282, -0.0219,  0.0100,  0.0396,  0.0077,  0.0019],\n",
      "       grad_fn=<SliceBackward>)\n",
      "new weight for class is tensor([ 0.0282, -0.0219,  0.0100,  0.0396,  0.0077,  0.0019],\n",
      "       grad_fn=<SliceBackward>)\n",
      "3, <class 'int'>\n",
      "Transferring weights for class  Local-gov, cat workclass from previous weights\n",
      "old weight for class is tensor([-0.0218, -0.0064,  0.0136,  0.0763,  0.0721,  0.0081],\n",
      "       grad_fn=<SliceBackward>)\n",
      "new weight for class is tensor([-0.0218, -0.0064,  0.0136,  0.0763,  0.0721,  0.0081],\n",
      "       grad_fn=<SliceBackward>)\n",
      "4, <class 'int'>\n",
      "Transferring weights for class  Never-worked, cat workclass from previous weights\n",
      "old weight for class is tensor([ 0.0309,  0.0252,  0.0137, -0.0322, -0.0247, -0.0210],\n",
      "       grad_fn=<SliceBackward>)\n",
      "new weight for class is tensor([ 0.0309,  0.0252,  0.0137, -0.0322, -0.0247, -0.0210],\n",
      "       grad_fn=<SliceBackward>)\n",
      "5, <class 'int'>\n",
      "Transferring weights for class  Private, cat workclass from previous weights\n",
      "old weight for class is tensor([-0.0002, -0.0085, -0.0127, -0.0332, -0.0274, -0.0068],\n",
      "       grad_fn=<SliceBackward>)\n",
      "new weight for class is tensor([-0.0002, -0.0085, -0.0127, -0.0332, -0.0274, -0.0068],\n",
      "       grad_fn=<SliceBackward>)\n",
      "6, <class 'int'>\n",
      "Transferring weights for class  Self-emp-inc, cat workclass from previous weights\n",
      "old weight for class is tensor([-0.0216, -0.0208,  0.0391,  0.0481,  0.0573,  0.0519],\n",
      "       grad_fn=<SliceBackward>)\n",
      "new weight for class is tensor([-0.0216, -0.0208,  0.0391,  0.0481,  0.0573,  0.0519],\n",
      "       grad_fn=<SliceBackward>)\n",
      "7, <class 'int'>\n",
      "Transferring weights for class  Self-emp-not-inc, cat workclass from previous weights\n",
      "old weight for class is tensor([-0.0125, -0.0039,  0.0062, -0.0273, -0.0273, -0.0192],\n",
      "       grad_fn=<SliceBackward>)\n",
      "new weight for class is tensor([-0.0125, -0.0039,  0.0062, -0.0273, -0.0273, -0.0192],\n",
      "       grad_fn=<SliceBackward>)\n",
      "8, <class 'int'>\n",
      "Transferring weights for class  State-gov, cat workclass from previous weights\n",
      "old weight for class is tensor([-0.0232,  0.0034, -0.0116,  0.0321,  0.0317, -0.0087],\n",
      "       grad_fn=<SliceBackward>)\n",
      "new weight for class is tensor([-0.0232,  0.0034, -0.0116,  0.0321,  0.0317, -0.0087],\n",
      "       grad_fn=<SliceBackward>)\n",
      "9, <class 'int'>\n",
      "Transferring weights for class  Without-pay, cat workclass from previous weights\n",
      "old weight for class is tensor([ 0.0011,  0.0267, -0.0077, -0.0506, -0.0237,  0.0001],\n",
      "       grad_fn=<SliceBackward>)\n",
      "new weight for class is tensor([ 0.0011,  0.0267, -0.0077, -0.0506, -0.0237,  0.0001],\n",
      "       grad_fn=<SliceBackward>)\n"
     ]
    }
   ],
   "source": [
    "# #skip\n",
    "# tabobj.transfer([\"race\", \"workclass\", \"gender\"], \"embeds\", {\"race\":\"race\", \"workclass\": \"workclass\", \"gender\":\"sex\"}, verbose = True)"
   ]
  }
 ],
 "metadata": {
  "kernelspec": {
   "display_name": "Python 3",
   "language": "python",
   "name": "python3"
  }
 },
 "nbformat": 4,
 "nbformat_minor": 4
}
