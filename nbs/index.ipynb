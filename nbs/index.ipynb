{
 "cells": [
  {
   "cell_type": "markdown",
   "metadata": {},
   "source": [
    "# transfertab\n",
    "\n",
    "> Allow transfer learning using structured data."
   ]
  },
  {
   "cell_type": "code",
   "execution_count": null,
   "metadata": {},
   "outputs": [
    {
     "ename": "ModuleNotFoundError",
     "evalue": "No module named 'transfertab'",
     "output_type": "error",
     "traceback": [
      "\u001b[1;31m---------------------------------------------------------------------------\u001b[0m",
      "\u001b[1;31mModuleNotFoundError\u001b[0m                       Traceback (most recent call last)",
      "\u001b[1;32m<ipython-input-2-9d0cb7664edf>\u001b[0m in \u001b[0;36m<module>\u001b[1;34m\u001b[0m\n\u001b[0;32m      1\u001b[0m \u001b[1;31m#hide\u001b[0m\u001b[1;33m\u001b[0m\u001b[1;33m\u001b[0m\u001b[1;33m\u001b[0m\u001b[0m\n\u001b[1;32m----> 2\u001b[1;33m \u001b[1;32mfrom\u001b[0m \u001b[0mtransfertab\u001b[0m\u001b[1;33m.\u001b[0m\u001b[0mcore\u001b[0m \u001b[1;32mimport\u001b[0m \u001b[1;33m*\u001b[0m\u001b[1;33m\u001b[0m\u001b[1;33m\u001b[0m\u001b[0m\n\u001b[0m\u001b[0;32m      3\u001b[0m \u001b[1;32mfrom\u001b[0m \u001b[0mnbdev\u001b[0m\u001b[1;33m.\u001b[0m\u001b[0mshowdoc\u001b[0m \u001b[1;32mimport\u001b[0m \u001b[1;33m*\u001b[0m\u001b[1;33m\u001b[0m\u001b[1;33m\u001b[0m\u001b[0m\n\u001b[0;32m      4\u001b[0m \u001b[1;32mfrom\u001b[0m \u001b[0mfastai\u001b[0m\u001b[1;33m.\u001b[0m\u001b[0mtabular\u001b[0m\u001b[1;33m.\u001b[0m\u001b[0mall\u001b[0m \u001b[1;32mimport\u001b[0m \u001b[1;33m*\u001b[0m\u001b[1;33m\u001b[0m\u001b[1;33m\u001b[0m\u001b[0m\n",
      "\u001b[1;31mModuleNotFoundError\u001b[0m: No module named 'transfertab'"
     ]
    }
   ],
   "source": [
    "#hide\n",
    "from transfertab.core import *\n",
    "from nbdev.showdoc import *\n",
    "from fastai.tabular.all import *"
   ]
  },
  {
   "cell_type": "markdown",
   "metadata": {},
   "source": [
    "## Install"
   ]
  },
  {
   "cell_type": "markdown",
   "metadata": {},
   "source": [
    "`pip install transfertab`"
   ]
  },
  {
   "cell_type": "markdown",
   "metadata": {},
   "source": [
    "## How to use"
   ]
  },
  {
   "cell_type": "markdown",
   "metadata": {},
   "source": [
    "We have two fastai learners `learn1` and `learn2`  created, with models having embedding layers for their categorical variables."
   ]
  },
  {
   "cell_type": "code",
   "execution_count": null,
   "metadata": {},
   "outputs": [
    {
     "ename": "NameError",
     "evalue": "name 'untar_data' is not defined",
     "output_type": "error",
     "traceback": [
      "\u001b[1;31m---------------------------------------------------------------------------\u001b[0m",
      "\u001b[1;31mNameError\u001b[0m                                 Traceback (most recent call last)",
      "\u001b[1;32m<ipython-input-3-c1f4bd83e33a>\u001b[0m in \u001b[0;36m<module>\u001b[1;34m\u001b[0m\n\u001b[0;32m      1\u001b[0m \u001b[1;31m#hide\u001b[0m\u001b[1;33m\u001b[0m\u001b[1;33m\u001b[0m\u001b[1;33m\u001b[0m\u001b[0m\n\u001b[1;32m----> 2\u001b[1;33m \u001b[0mpath\u001b[0m \u001b[1;33m=\u001b[0m \u001b[0muntar_data\u001b[0m\u001b[1;33m(\u001b[0m\u001b[0mURLs\u001b[0m\u001b[1;33m.\u001b[0m\u001b[0mADULT_SAMPLE\u001b[0m\u001b[1;33m)\u001b[0m\u001b[1;33m\u001b[0m\u001b[1;33m\u001b[0m\u001b[0m\n\u001b[0m\u001b[0;32m      3\u001b[0m \u001b[0mdf1\u001b[0m \u001b[1;33m=\u001b[0m \u001b[0mpd\u001b[0m\u001b[1;33m.\u001b[0m\u001b[0mread_csv\u001b[0m\u001b[1;33m(\u001b[0m\u001b[0mpath\u001b[0m\u001b[1;33m/\u001b[0m\u001b[1;34m'adult.csv'\u001b[0m\u001b[1;33m)\u001b[0m\u001b[1;33m\u001b[0m\u001b[1;33m\u001b[0m\u001b[0m\n\u001b[0;32m      4\u001b[0m \u001b[0msplits1\u001b[0m \u001b[1;33m=\u001b[0m \u001b[0mRandomSplitter\u001b[0m\u001b[1;33m(\u001b[0m\u001b[0mvalid_pct\u001b[0m\u001b[1;33m=\u001b[0m\u001b[1;36m0.2\u001b[0m\u001b[1;33m)\u001b[0m\u001b[1;33m(\u001b[0m\u001b[0mrange_of\u001b[0m\u001b[1;33m(\u001b[0m\u001b[0mdf1\u001b[0m\u001b[1;33m)\u001b[0m\u001b[1;33m)\u001b[0m\u001b[1;33m\u001b[0m\u001b[1;33m\u001b[0m\u001b[0m\n\u001b[0;32m      5\u001b[0m to1 = TabularPandas(df1, procs=[Categorify, FillMissing,Normalize],\n",
      "\u001b[1;31mNameError\u001b[0m: name 'untar_data' is not defined"
     ]
    }
   ],
   "source": [
    "#hide\n",
    "path = untar_data(URLs.ADULT_SAMPLE)\n",
    "df1 = pd.read_csv(path/'adult.csv')\n",
    "splits1 = RandomSplitter(valid_pct=0.2)(range_of(df1))\n",
    "to1 = TabularPandas(df1, procs=[Categorify, FillMissing,Normalize],\n",
    "                   cat_names = ['workclass', 'education', 'marital-status', 'occupation', 'relationship', 'race'],\n",
    "                   cont_names = ['age', 'fnlwgt', 'education-num'],\n",
    "                   y_names='salary',\n",
    "                   splits=splits1)\n",
    "dls1 = to1.dataloaders(bs=64)\n",
    "learn1 = tabular_learner(dls1, metrics=accuracy)\n",
    "\n",
    "#We add robot to our \"race\" column\n",
    "new_rows = pd.DataFrame([[49,'Private',101320,'Assoc-acdm',12.0,'Married-civ-spouse','Exec-managerial','Wife','Robot','Female',0,1902,40,'United-States','>=50k'],\n",
    "                        [18,'Private',182308,'Bachelors',10.0,'Never-married','?','Own-child','Other','Male',0,0,23,'United-States','<50k']],\n",
    "                        columns=df1.columns)\n",
    "df2 = df1.copy()\n",
    "df2 = df2.append(new_rows, ignore_index=True)\n",
    "df2.tail()\n",
    "\n",
    "splits2 = RandomSplitter(valid_pct=0.2)(range_of(df2))\n",
    "to2 = TabularPandas(df2, procs=[Categorify, FillMissing,Normalize],\n",
    "                   cat_names = ['workclass', 'education', 'marital-status', 'occupation', 'relationship', 'race'],\n",
    "                   cont_names = ['age', 'fnlwgt', 'education-num'],\n",
    "                   y_names='salary',\n",
    "                   splits=splits2)\n",
    "dls2 = to2.dataloaders(bs=64)\n",
    "learn2 = tabular_learner(dls2, metrics=accuracy)\n",
    "\n"
   ]
  },
  {
   "cell_type": "code",
   "execution_count": null,
   "metadata": {},
   "outputs": [
    {
     "data": {
      "text/plain": [
       "(<fastai.tabular.learner.TabularLearner at 0x7fa113e953a0>,\n",
       " <fastai.tabular.learner.TabularLearner at 0x7fa113e97160>,\n",
       " TabularModel(\n",
       "   (embeds): ModuleList(\n",
       "     (0): Embedding(10, 6)\n",
       "     (1): Embedding(17, 8)\n",
       "     (2): Embedding(8, 5)\n",
       "     (3): Embedding(16, 8)\n",
       "     (4): Embedding(7, 5)\n",
       "     (5): Embedding(6, 4)\n",
       "     (6): Embedding(3, 3)\n",
       "   )\n",
       "   (emb_drop): Dropout(p=0.0, inplace=False)\n",
       "   (bn_cont): BatchNorm1d(3, eps=1e-05, momentum=0.1, affine=True, track_running_stats=True)\n",
       "   (layers): Sequential(\n",
       "     (0): LinBnDrop(\n",
       "       (0): Linear(in_features=42, out_features=200, bias=False)\n",
       "       (1): ReLU(inplace=True)\n",
       "       (2): BatchNorm1d(200, eps=1e-05, momentum=0.1, affine=True, track_running_stats=True)\n",
       "     )\n",
       "     (1): LinBnDrop(\n",
       "       (0): Linear(in_features=200, out_features=100, bias=False)\n",
       "       (1): ReLU(inplace=True)\n",
       "       (2): BatchNorm1d(100, eps=1e-05, momentum=0.1, affine=True, track_running_stats=True)\n",
       "     )\n",
       "     (2): LinBnDrop(\n",
       "       (0): Linear(in_features=100, out_features=2, bias=True)\n",
       "     )\n",
       "   )\n",
       " ))"
      ]
     },
     "execution_count": null,
     "metadata": {},
     "output_type": "execute_result"
    }
   ],
   "source": [
    "learn1, learn2, learn1.model"
   ]
  },
  {
   "cell_type": "markdown",
   "metadata": {},
   "source": [
    "For transferring the embeddings from `learn1` to `learn2`, we first instantiate the `TabTransfer` class with the learners and the categorical variables to transfer."
   ]
  },
  {
   "cell_type": "code",
   "execution_count": null,
   "metadata": {},
   "outputs": [
    {
     "ename": "NameError",
     "evalue": "name 'TabTransfer' is not defined",
     "output_type": "error",
     "traceback": [
      "\u001b[1;31m---------------------------------------------------------------------------\u001b[0m",
      "\u001b[1;31mNameError\u001b[0m                                 Traceback (most recent call last)",
      "\u001b[1;32m<ipython-input-4-7bae12932fef>\u001b[0m in \u001b[0;36m<module>\u001b[1;34m\u001b[0m\n\u001b[1;32m----> 1\u001b[1;33m \u001b[0mtabobj\u001b[0m \u001b[1;33m=\u001b[0m \u001b[0mTabTransfer\u001b[0m\u001b[1;33m(\u001b[0m\u001b[0mlearn2\u001b[0m\u001b[1;33m)\u001b[0m\u001b[1;33m\u001b[0m\u001b[1;33m\u001b[0m\u001b[0m\n\u001b[0m",
      "\u001b[1;31mNameError\u001b[0m: name 'TabTransfer' is not defined"
     ]
    }
   ],
   "source": [
    "tabobj = TabTransfer(learn2)"
   ]
  },
  {
   "cell_type": "markdown",
   "metadata": {},
   "source": [
    "Now, we can just call the transfer function to start the process."
   ]
  },
  {
   "cell_type": "code",
   "execution_count": null,
   "metadata": {},
   "outputs": [
    {
     "ename": "NameError",
     "evalue": "name 'tabobj' is not defined",
     "output_type": "error",
     "traceback": [
      "\u001b[1;31m---------------------------------------------------------------------------\u001b[0m",
      "\u001b[1;31mNameError\u001b[0m                                 Traceback (most recent call last)",
      "\u001b[1;32m<ipython-input-5-a78738acd2cf>\u001b[0m in \u001b[0;36m<module>\u001b[1;34m\u001b[0m\n\u001b[1;32m----> 1\u001b[1;33m \u001b[0mtabobj\u001b[0m\u001b[1;33m.\u001b[0m\u001b[0minit_from_json\u001b[0m\u001b[1;33m(\u001b[0m\u001b[1;34m\"../data/adults.json\"\u001b[0m\u001b[1;33m)\u001b[0m\u001b[1;33m\u001b[0m\u001b[1;33m\u001b[0m\u001b[0m\n\u001b[0m",
      "\u001b[1;31mNameError\u001b[0m: name 'tabobj' is not defined"
     ]
    }
   ],
   "source": [
    "tabobj.init_from_json(\"../data/adults.json\")"
   ]
  },
  {
   "cell_type": "code",
   "execution_count": null,
   "metadata": {},
   "outputs": [
    {
     "name": "stdout",
     "output_type": "stream",
     "text": [
      "mean is tensor([ 0.0027, -0.0050, -0.0009,  0.0026,  0.0011, -0.0004],\n",
      "       grad_fn=<MeanBackward1>) for Parameter containing:\n",
      "tensor([[-0.0156, -0.0057,  0.0052,  0.0033,  0.0026,  0.0061],\n",
      "        [-0.0070, -0.0103, -0.0070,  0.0056,  0.0013,  0.0010],\n",
      "        [ 0.0118, -0.0094, -0.0015, -0.0127, -0.0066, -0.0163],\n",
      "        [ 0.0042, -0.0039, -0.0106, -0.0068, -0.0124, -0.0183],\n",
      "        [-0.0010, -0.0093, -0.0049,  0.0077,  0.0119, -0.0080],\n",
      "        [-0.0022, -0.0082,  0.0072,  0.0114,  0.0166,  0.0077],\n",
      "        [-0.0007,  0.0102,  0.0074, -0.0060, -0.0025, -0.0020],\n",
      "        [ 0.0077, -0.0047,  0.0007,  0.0156,  0.0053,  0.0077],\n",
      "        [ 0.0181, -0.0021,  0.0005,  0.0061, -0.0098,  0.0119],\n",
      "        [ 0.0113, -0.0067, -0.0055,  0.0019,  0.0041,  0.0066]],\n",
      "       requires_grad=True)\n",
      "0, <class 'int'>\n",
      "Transferring weights for class #na#, cat workclass from previous weights\n",
      "old weight for class is tensor([ 0.0068, -0.0076,  0.0119,  0.0084,  0.0189,  0.0128],\n",
      "       grad_fn=<SliceBackward>)\n",
      "new weight for class is tensor([-0.0156, -0.0057,  0.0052,  0.0033,  0.0026,  0.0061],\n",
      "       grad_fn=<SliceBackward>)\n",
      "1, <class 'int'>\n",
      "Transferring weights for class  ?, cat workclass from previous weights\n",
      "old weight for class is tensor([ 0.0055,  0.0081, -0.0086, -0.0007, -0.0017,  0.0016],\n",
      "       grad_fn=<SliceBackward>)\n",
      "new weight for class is tensor([-0.0070, -0.0103, -0.0070,  0.0056,  0.0013,  0.0010],\n",
      "       grad_fn=<SliceBackward>)\n",
      "2, <class 'int'>\n",
      "Transferring weights for class  Federal-gov, cat workclass from previous weights\n",
      "old weight for class is tensor([-0.0093, -0.0077, -0.0013,  0.0005, -0.0187, -0.0039],\n",
      "       grad_fn=<SliceBackward>)\n",
      "new weight for class is tensor([ 0.0118, -0.0094, -0.0015, -0.0127, -0.0066, -0.0163],\n",
      "       grad_fn=<SliceBackward>)\n",
      "3, <class 'int'>\n",
      "Transferring weights for class  Local-gov, cat workclass from previous weights\n",
      "old weight for class is tensor([ 0.0048, -0.0019, -0.0013, -0.0093,  0.0103, -0.0037],\n",
      "       grad_fn=<SliceBackward>)\n",
      "new weight for class is tensor([ 0.0042, -0.0039, -0.0106, -0.0068, -0.0124, -0.0183],\n",
      "       grad_fn=<SliceBackward>)\n",
      "4, <class 'int'>\n",
      "Transferring weights for class  Never-worked, cat workclass from previous weights\n",
      "old weight for class is tensor([-0.0015,  0.0175,  0.0141,  0.0016, -0.0165,  0.0019],\n",
      "       grad_fn=<SliceBackward>)\n",
      "new weight for class is tensor([-0.0010, -0.0093, -0.0049,  0.0077,  0.0119, -0.0080],\n",
      "       grad_fn=<SliceBackward>)\n",
      "5, <class 'int'>\n",
      "Transferring weights for class  Private, cat workclass from previous weights\n",
      "old weight for class is tensor([-0.0078, -0.0189,  0.0027, -0.0117, -0.0189,  0.0057],\n",
      "       grad_fn=<SliceBackward>)\n",
      "new weight for class is tensor([-0.0022, -0.0082,  0.0072,  0.0114,  0.0166,  0.0077],\n",
      "       grad_fn=<SliceBackward>)\n",
      "6, <class 'int'>\n",
      "Transferring weights for class  Self-emp-inc, cat workclass from previous weights\n",
      "old weight for class is tensor([ 0.0014, -0.0126,  0.0135,  0.0033,  0.0059,  0.0031],\n",
      "       grad_fn=<SliceBackward>)\n",
      "new weight for class is tensor([-0.0007,  0.0102,  0.0074, -0.0060, -0.0025, -0.0020],\n",
      "       grad_fn=<SliceBackward>)\n",
      "7, <class 'int'>\n",
      "Transferring weights for class  Self-emp-not-inc, cat workclass from previous weights\n",
      "old weight for class is tensor([-0.0043, -0.0021, -0.0005, -0.0076, -0.0050, -0.0083],\n",
      "       grad_fn=<SliceBackward>)\n",
      "new weight for class is tensor([ 0.0077, -0.0047,  0.0007,  0.0156,  0.0053,  0.0077],\n",
      "       grad_fn=<SliceBackward>)\n",
      "8, <class 'int'>\n",
      "Transferring weights for class  State-gov, cat workclass from previous weights\n",
      "old weight for class is tensor([ 0.0187, -0.0121,  0.0022, -0.0013,  0.0056, -0.0176],\n",
      "       grad_fn=<SliceBackward>)\n",
      "new weight for class is tensor([ 0.0181, -0.0021,  0.0005,  0.0061, -0.0098,  0.0119],\n",
      "       grad_fn=<SliceBackward>)\n",
      "9, <class 'int'>\n",
      "Transferring weights for class  Without-pay, cat workclass from previous weights\n",
      "old weight for class is tensor([-0.0038,  0.0069,  0.0018, -0.0066, -0.0016, -0.0106],\n",
      "       grad_fn=<SliceBackward>)\n",
      "new weight for class is tensor([ 0.0113, -0.0067, -0.0055,  0.0019,  0.0041,  0.0066],\n",
      "       grad_fn=<SliceBackward>)\n",
      "10, <class 'int'>\n",
      "Transferring weights for class Private, cat workclass using mean\n",
      "old weight for class is tensor([-0.0024,  0.0142, -0.0060, -0.0050, -0.0119, -0.0003],\n",
      "       grad_fn=<SliceBackward>)\n",
      "new weight for class is tensor([ 0.0027, -0.0050, -0.0009,  0.0026,  0.0011, -0.0004],\n",
      "       grad_fn=<SliceBackward>)\n"
     ]
    }
   ],
   "source": [
    "tabobj.transfer(verbose = True)"
   ]
  },
  {
   "cell_type": "code",
   "execution_count": null,
   "metadata": {},
   "outputs": [],
   "source": []
  }
 ],
 "metadata": {
  "kernelspec": {
   "display_name": "Python 3",
   "language": "python",
   "name": "python3"
  }
 },
 "nbformat": 4,
 "nbformat_minor": 4
}
