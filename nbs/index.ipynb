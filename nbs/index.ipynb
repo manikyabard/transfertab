{
 "cells": [
  {
   "cell_type": "markdown",
   "metadata": {},
   "source": [
    "# transfertab\n",
    "\n",
    "> Allow transfer learning using structured data."
   ]
  },
  {
   "cell_type": "code",
   "execution_count": null,
   "metadata": {},
   "outputs": [],
   "source": [
    "# #hide\n",
    "# from transfertab.core import *\n",
    "# from nbdev.showdoc import *\n",
    "# from fastai.tabular.all import *\n",
    "# from transfertab.utils import *"
   ]
  },
  {
   "cell_type": "markdown",
   "metadata": {},
   "source": [
    "## Install"
   ]
  },
  {
   "cell_type": "markdown",
   "metadata": {},
   "source": [
    "```bash\n",
    "git clone www.github.com/manikyabard/transfertab\n",
    "cd transfertab\n",
    "pip install -e .\n",
    "```"
   ]
  },
  {
   "cell_type": "markdown",
   "metadata": {},
   "source": [
    "## How to use"
   ]
  },
  {
   "cell_type": "markdown",
   "metadata": {},
   "source": [
    "TransferTab enables effective transfer learning from models trained on tabular data."
   ]
  },
  {
   "cell_type": "markdown",
   "metadata": {},
   "source": [
    "To make use of `transfertab`, you'll need  \n",
    "\t* A pytorch model which contains some embeddings in a layer group.  \n",
    "\t* Another model to transfer these embeddings to, along with the metadata about the dataset on which this model will be trained."
   ]
  },
  {
   "cell_type": "markdown",
   "metadata": {},
   "source": [
    "Here we'll quickly construct a `ModuleList` with a bunch of `Embedding` layers, and see how to transfer it's embeddings."
   ]
  },
  {
   "cell_type": "code",
   "execution_count": null,
   "metadata": {},
   "outputs": [],
   "source": [
    "# #hide\n",
    "# path = untar_data(URLs.ADULT_SAMPLE)\n",
    "# df1 = pd.read_csv(path/'adult.csv')\n",
    "# splits1 = RandomSplitter(valid_pct=0.2)(range_of(df1))\n",
    "# to1 = TabularPandas(df1, procs=[Categorify, FillMissing,Normalize],\n",
    "#                    cat_names = ['workclass', 'education', 'marital-status', 'occupation', 'relationship', 'race'],\n",
    "#                    cont_names = ['age', 'fnlwgt', 'education-num'],\n",
    "#                    y_names='salary',\n",
    "#                    splits=splits1)\n",
    "# dls1 = to1.dataloaders(bs=64)\n",
    "# learn1 = tabular_learner(dls1, metrics=accuracy)\n",
    "\n",
    "# #We add robot to our \"race\" column\n",
    "# new_rows = pd.DataFrame([[49,'Private',101320,'Assoc-acdm',12.0,'Married-civ-spouse','Exec-managerial','Wife','Robot','Female',0,1902,40,'United-States','>=50k'],\n",
    "#                         [18,'Private',182308,'Bachelors',10.0,'Never-married','?','Own-child','Other','Male',0,0,23,'United-States','<50k']],\n",
    "#                         columns=df1.columns)\n",
    "# df2 = df1.copy()\n",
    "# df2 = df2.append(new_rows, ignore_index=True)\n",
    "# df2.tail()\n",
    "\n",
    "# splits2 = RandomSplitter(valid_pct=0.2)(range_of(df2))\n",
    "# to2 = TabularPandas(df2, procs=[Categorify, FillMissing,Normalize],\n",
    "#                    cat_names = ['workclass', 'education', 'marital-status', 'occupation', 'relationship', 'race'],\n",
    "#                    cont_names = ['age', 'fnlwgt', 'education-num'],\n",
    "#                    y_names='salary',\n",
    "#                    splits=splits2)\n",
    "# dls2 = to2.dataloaders(bs=64)\n",
    "# learn2 = tabular_learner(dls2, metrics=accuracy)\n",
    "\n"
   ]
  },
  {
   "cell_type": "markdown",
   "metadata": {},
   "source": [
    "The model from which we want to extract embeddings is trained on a dataset with 7 categorical variables, and 3 continuous ones. It contains embeddings for each of these categorical variables."
   ]
  },
  {
   "cell_type": "code",
   "execution_count": null,
   "metadata": {},
   "outputs": [],
   "source": [
    "#hide_input\n",
    "# learn1.model"
   ]
  },
  {
   "cell_type": "markdown",
   "metadata": {},
   "source": [
    "The whole process takes place in two main steps-  \n",
    "\t1. Extraction  \n",
    "\t2. Transfer\n"
   ]
  },
  {
   "cell_type": "markdown",
   "metadata": {},
   "source": [
    "### Extraction\n",
    "This involves storing the embeddings present in the model to a `json` structure. This `json` would contain the embeddings related to the categorical variables, and can be later transfered to another model which can also benefit from these categories. It will also be possible to have multiple `json` files constructed from various models with different categorical variables and then use them together."
   ]
  },
  {
   "cell_type": "markdown",
   "metadata": {},
   "source": [
    "To start with the Extraction process, first we need a `metadict` containing information about the dataset on which the initial model was trained on.  \n",
    "For this, we can either contruct it manually, or use one of the helper functions provided in the library."
   ]
  },
  {
   "cell_type": "code",
   "execution_count": null,
   "metadata": {},
   "outputs": [],
   "source": [
    "# df1.head()"
   ]
  },
  {
   "cell_type": "code",
   "execution_count": null,
   "metadata": {},
   "outputs": [],
   "source": [
    "# meta = extract_meta_from_df(df1)\n",
    "# meta.keys(), meta['relationship']"
   ]
  },
  {
   "cell_type": "markdown",
   "metadata": {},
   "source": [
    "If we want to manually define which categories we want to extract, we can do so by defining a meta dict as shown here -"
   ]
  },
  {
   "cell_type": "code",
   "execution_count": null,
   "metadata": {},
   "outputs": [],
   "source": [
    "\n",
    "# meta = {\n",
    "#     \"categories\":['workclass', 'education', 'marital-status', 'occupation', 'relationship', 'race'],\n",
    "#     \"workclass\": {\n",
    "#         \"classes\": ['nan', ' Private', ' Self-emp-inc', ' Self-emp-not-inc', ' State-gov',\n",
    "#            ' Federal-gov', ' Local-gov', ' ?', ' Without-pay',\n",
    "#            ' Never-worked'],\n",
    "#     },\n",
    "#     'education': {\n",
    "#         \"classes\": ['nan', ' Assoc-acdm', ' Masters', ' HS-grad', ' Prof-school', ' 7th-8th',\n",
    "#        ' Some-college', ' 11th', ' Bachelors', ' Assoc-voc', ' 10th',\n",
    "#        ' 9th', ' Doctorate', ' 12th', ' 1st-4th', ' 5th-6th',\n",
    "#        ' Preschool']\n",
    "#     },\n",
    "#     \"marital-status\": {\n",
    "#         \"classes\": ['nan', ' Married-civ-spouse', ' Divorced', ' Never-married', ' Widowed',\n",
    "#        ' Married-spouse-absent', ' Separated', ' Married-AF-spouse']\n",
    "#     },\n",
    "#     \"occupation\": {\n",
    "#         \"classes\": [\"nan\", ' Exec-managerial', ' Prof-specialty', ' Other-service',\n",
    "#        ' Handlers-cleaners', ' Craft-repair', ' Adm-clerical', ' Sales',\n",
    "#        ' Machine-op-inspct', ' Transport-moving', ' ?',\n",
    "#        ' Farming-fishing', ' Tech-support', ' Protective-serv',\n",
    "#        ' Priv-house-serv', ' Armed-Forces']\n",
    "#     },\n",
    "#     \"relationship\": {\n",
    "#         \"classes\": ['nan', ' Wife', ' Not-in-family', ' Unmarried', ' Husband', ' Own-child',\n",
    "#        ' Other-relative']\n",
    "#     },\n",
    "#     \"race\": {\n",
    "#         \"classes\": ['nan', ' White', ' Black', ' Asian-Pac-Islander', ' Amer-Indian-Eskimo',\n",
    "#        ' Other']\n",
    "#     }\n",
    "# }"
   ]
  },
  {
   "cell_type": "markdown",
   "metadata": {},
   "source": [
    "More information about the metadict format can be found in the docs."
   ]
  },
  {
   "cell_type": "markdown",
   "metadata": {},
   "source": [
    "Now that we have out meta dictionary, we can start extracting the embeddings, using `extractembeds`."
   ]
  },
  {
   "cell_type": "code",
   "execution_count": null,
   "metadata": {},
   "outputs": [],
   "source": [
    "#hide_input\n",
    "#skip\n",
    "# show_doc(extractembeds)"
   ]
  },
  {
   "cell_type": "code",
   "execution_count": null,
   "metadata": {},
   "outputs": [],
   "source": [
    "# emb_details = extractembeds(learn1.model, 'embeds', meta, '../data/adult.json')\n",
    "# emb_details['race']"
   ]
  },
  {
   "cell_type": "markdown",
   "metadata": {},
   "source": [
    "The embeddings will be stored in a `json` file in the given `path`. Now this file can be used to transfer these embeddings to another model."
   ]
  },
  {
   "cell_type": "code",
   "execution_count": null,
   "metadata": {},
   "outputs": [],
   "source": [
    "# tabobj = TabTransfer(learn1)"
   ]
  },
  {
   "cell_type": "markdown",
   "metadata": {},
   "source": [
    "Now after creating a `TabTransfer` object, we need to initialize this with either-  \n",
    "1. The path of the `json` which we just constructed.\n",
    "2. The directory which contains multiple `json` files constructed using the same method, but containing various embeddings for different categorical variables needed to be transferred."
   ]
  },
  {
   "cell_type": "code",
   "execution_count": null,
   "metadata": {},
   "outputs": [],
   "source": [
    "# #skip\n",
    "# tabobj.init_from_json(\"../data/adults.json\")"
   ]
  },
  {
   "cell_type": "markdown",
   "metadata": {},
   "source": [
    "There might be a case where the name of the categorical variables present in the `json` might differ from the ones present in the new model's learner. For this we can use a `mapping_dict` which maps old variable names to new ones. This can be created using the `mapping` function of the object and pass it the categorical values to transfer."
   ]
  },
  {
   "cell_type": "code",
   "execution_count": null,
   "metadata": {},
   "outputs": [],
   "source": [
    "# #skip\n",
    "# mapping_dict = tabobj.mapping([\"race\", \"workclass\", \"gender\"])\n",
    "# mapping_dict"
   ]
  },
  {
   "cell_type": "code",
   "execution_count": null,
   "metadata": {},
   "outputs": [],
   "source": [
    "# hide_input\n",
    "# skip\n",
    "# show_doc(tabobj.transfer)"
   ]
  },
  {
   "cell_type": "markdown",
   "metadata": {},
   "source": [
    "As we can see, the transfer process will start after running `tabobj.transfer` function."
   ]
  },
  {
   "cell_type": "code",
   "execution_count": null,
   "metadata": {},
   "outputs": [],
   "source": [
    "# #skip\n",
    "# tabobj.transfer([\"race\", \"workclass\", \"gender\"], \"embeds\", {\"race\":\"race\", \"workclass\": \"workclass\", \"gender\":\"sex\"}, verbose = True)"
   ]
  },
  {
   "cell_type": "code",
   "execution_count": null,
   "metadata": {},
   "outputs": [],
   "source": []
  }
 ],
 "metadata": {
  "kernelspec": {
   "display_name": "Python 3",
   "language": "python",
   "name": "python3"
  }
 },
 "nbformat": 4,
 "nbformat_minor": 4
}
