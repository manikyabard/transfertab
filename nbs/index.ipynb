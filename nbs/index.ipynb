{
 "cells": [
  {
   "cell_type": "markdown",
   "metadata": {},
   "source": [
    "# transfertab\n",
    "\n",
    "> Allow transfer learning using structured data."
   ]
  },
  {
   "cell_type": "code",
   "execution_count": null,
   "metadata": {},
   "outputs": [],
   "source": [
    "#hide\n",
    "from transfertab.core import *\n",
    "from nbdev.showdoc import *\n",
    "from fastai.tabular.all import *"
   ]
  },
  {
   "cell_type": "markdown",
   "metadata": {},
   "source": [
    "## Install"
   ]
  },
  {
   "cell_type": "markdown",
   "metadata": {},
   "source": [
    "`pip install transfertab`"
   ]
  },
  {
   "cell_type": "markdown",
   "metadata": {},
   "source": [
    "## How to use"
   ]
  },
  {
   "cell_type": "markdown",
   "metadata": {},
   "source": [
    "We have two fastai learners `learn1` and `learn2`  created, with models having embedding layers for their categorical variables."
   ]
  },
  {
   "cell_type": "code",
   "execution_count": null,
   "metadata": {},
   "outputs": [],
   "source": [
    "#hide\n",
    "path = untar_data(URLs.ADULT_SAMPLE)\n",
    "df1 = pd.read_csv(path/'adult.csv')\n",
    "splits1 = RandomSplitter(valid_pct=0.2)(range_of(df1))\n",
    "to1 = TabularPandas(df1, procs=[Categorify, FillMissing,Normalize],\n",
    "                   cat_names = ['workclass', 'education', 'marital-status', 'occupation', 'relationship', 'race'],\n",
    "                   cont_names = ['age', 'fnlwgt', 'education-num'],\n",
    "                   y_names='salary',\n",
    "                   splits=splits1)\n",
    "dls1 = to1.dataloaders(bs=64)\n",
    "learn1 = tabular_learner(dls1, metrics=accuracy)\n",
    "\n",
    "#We add robot to our \"race\" column\n",
    "new_rows = pd.DataFrame([[49,'Private',101320,'Assoc-acdm',12.0,'Married-civ-spouse','Exec-managerial','Wife','Robot','Female',0,1902,40,'United-States','>=50k'],\n",
    "                        [18,'Private',182308,'Bachelors',10.0,'Never-married','?','Own-child','Other','Male',0,0,23,'United-States','<50k']],\n",
    "                        columns=df1.columns)\n",
    "df2 = df1.copy()\n",
    "df2 = df2.append(new_rows, ignore_index=True)\n",
    "df2.tail()\n",
    "\n",
    "splits2 = RandomSplitter(valid_pct=0.2)(range_of(df2))\n",
    "to2 = TabularPandas(df2, procs=[Categorify, FillMissing,Normalize],\n",
    "                   cat_names = ['workclass', 'education', 'marital-status', 'occupation', 'relationship', 'race'],\n",
    "                   cont_names = ['age', 'fnlwgt', 'education-num'],\n",
    "                   y_names='salary',\n",
    "                   splits=splits2)\n",
    "dls2 = to2.dataloaders(bs=64)\n",
    "learn2 = tabular_learner(dls2, metrics=accuracy)\n",
    "\n"
   ]
  },
  {
   "cell_type": "code",
   "execution_count": null,
   "metadata": {},
   "outputs": [
    {
     "data": {
      "text/plain": [
       "(<fastai.tabular.learner.TabularLearner at 0x7fa113e953a0>,\n",
       " <fastai.tabular.learner.TabularLearner at 0x7fa113e97160>,\n",
       " TabularModel(\n",
       "   (embeds): ModuleList(\n",
       "     (0): Embedding(10, 6)\n",
       "     (1): Embedding(17, 8)\n",
       "     (2): Embedding(8, 5)\n",
       "     (3): Embedding(16, 8)\n",
       "     (4): Embedding(7, 5)\n",
       "     (5): Embedding(6, 4)\n",
       "     (6): Embedding(3, 3)\n",
       "   )\n",
       "   (emb_drop): Dropout(p=0.0, inplace=False)\n",
       "   (bn_cont): BatchNorm1d(3, eps=1e-05, momentum=0.1, affine=True, track_running_stats=True)\n",
       "   (layers): Sequential(\n",
       "     (0): LinBnDrop(\n",
       "       (0): Linear(in_features=42, out_features=200, bias=False)\n",
       "       (1): ReLU(inplace=True)\n",
       "       (2): BatchNorm1d(200, eps=1e-05, momentum=0.1, affine=True, track_running_stats=True)\n",
       "     )\n",
       "     (1): LinBnDrop(\n",
       "       (0): Linear(in_features=200, out_features=100, bias=False)\n",
       "       (1): ReLU(inplace=True)\n",
       "       (2): BatchNorm1d(100, eps=1e-05, momentum=0.1, affine=True, track_running_stats=True)\n",
       "     )\n",
       "     (2): LinBnDrop(\n",
       "       (0): Linear(in_features=100, out_features=2, bias=True)\n",
       "     )\n",
       "   )\n",
       " ))"
      ]
     },
     "execution_count": null,
     "metadata": {},
     "output_type": "execute_result"
    }
   ],
   "source": [
    "learn1, learn2, learn1.model"
   ]
  },
  {
   "cell_type": "markdown",
   "metadata": {},
   "source": [
    "For transferring the embeddings from `learn1.model` to `learn2`, we first extract the embeddings from the first model, save those to a json, and then use the json to finally to transfer the embeddings."
   ]
  },
  {
   "cell_type": "code",
   "execution_count": null,
   "metadata": {},
   "outputs": [],
   "source": []
  }
 ],
 "metadata": {
  "kernelspec": {
   "display_name": "Python 3",
   "language": "python",
   "name": "python3"
  }
 },
 "nbformat": 4,
 "nbformat_minor": 4
}
