{
 "cells": [
  {
   "cell_type": "code",
   "execution_count": null,
   "metadata": {},
   "outputs": [],
   "source": [
    "#hide\n",
    "from transfertab.core import *\n",
    "from nbdev.showdoc import *\n",
    "from fastai.tabular.all import *"
   ]
  },
  {
   "cell_type": "markdown",
   "metadata": {},
   "source": [
    "# transfertab\n",
    "\n",
    "> Allow transfer learning using structured data."
   ]
  },
  {
   "cell_type": "markdown",
   "metadata": {},
   "source": [
    "## Install"
   ]
  },
  {
   "cell_type": "markdown",
   "metadata": {},
   "source": [
    "`pip install transfertab`"
   ]
  },
  {
   "cell_type": "markdown",
   "metadata": {},
   "source": [
    "## How to use"
   ]
  },
  {
   "cell_type": "markdown",
   "metadata": {},
   "source": [
    "We have two fastai learners `learn1` and `learn2`  created, with models having embedding layers for their categorical variables."
   ]
  },
  {
   "cell_type": "code",
   "execution_count": null,
   "metadata": {
    "tags": []
   },
   "outputs": [],
   "source": [
    "#hide\n",
    "path = untar_data(URLs.ADULT_SAMPLE)\n",
    "df1 = pd.read_csv(path/'adult.csv')\n",
    "splits1 = RandomSplitter(valid_pct=0.2)(range_of(df1))\n",
    "to1 = TabularPandas(df1, procs=[Categorify, FillMissing,Normalize],\n",
    "                   cat_names = ['workclass', 'education', 'marital-status', 'occupation', 'relationship', 'race'],\n",
    "                   cont_names = ['age', 'fnlwgt', 'education-num'],\n",
    "                   y_names='salary',\n",
    "                   splits=splits1)\n",
    "dls1 = to1.dataloaders(bs=64)\n",
    "learn1 = tabular_learner(dls1, metrics=accuracy)\n",
    "\n",
    "#We add robot to our \"race\" column\n",
    "new_rows = pd.DataFrame([[49,'Private',101320,'Assoc-acdm',12.0,'Married-civ-spouse','Exec-managerial','Wife','Robot','Female',0,1902,40,'United-States','>=50k'],\n",
    "                        [18,'Private',182308,'Bachelors',10.0,'Never-married','?','Own-child','Other','Male',0,0,23,'United-States','<50k']],\n",
    "                        columns=df1.columns)\n",
    "df2 = df1.copy()\n",
    "df2 = df2.append(new_rows, ignore_index=True)\n",
    "df2.tail()\n",
    "\n",
    "splits2 = RandomSplitter(valid_pct=0.2)(range_of(df2))\n",
    "to2 = TabularPandas(df2, procs=[Categorify, FillMissing,Normalize],\n",
    "                   cat_names = ['workclass', 'education', 'marital-status', 'occupation', 'relationship', 'race'],\n",
    "                   cont_names = ['age', 'fnlwgt', 'education-num'],\n",
    "                   y_names='salary',\n",
    "                   splits=splits2)\n",
    "dls2 = to2.dataloaders(bs=64)\n",
    "learn2 = tabular_learner(dls2, metrics=accuracy)\n",
    "\n"
   ]
  },
  {
   "cell_type": "code",
   "execution_count": null,
   "metadata": {},
   "outputs": [
    {
     "data": {
      "text/plain": [
       "(<fastai.tabular.learner.TabularLearner at 0x7f85da8855b0>,\n",
       " <fastai.tabular.learner.TabularLearner at 0x7f85da894130>,\n",
       " TabularModel(\n",
       "   (embeds): ModuleList(\n",
       "     (0): Embedding(10, 6)\n",
       "     (1): Embedding(17, 8)\n",
       "     (2): Embedding(8, 5)\n",
       "     (3): Embedding(16, 8)\n",
       "     (4): Embedding(7, 5)\n",
       "     (5): Embedding(6, 4)\n",
       "     (6): Embedding(3, 3)\n",
       "   )\n",
       "   (emb_drop): Dropout(p=0.0, inplace=False)\n",
       "   (bn_cont): BatchNorm1d(3, eps=1e-05, momentum=0.1, affine=True, track_running_stats=True)\n",
       "   (layers): Sequential(\n",
       "     (0): LinBnDrop(\n",
       "       (0): Linear(in_features=42, out_features=200, bias=False)\n",
       "       (1): ReLU(inplace=True)\n",
       "       (2): BatchNorm1d(200, eps=1e-05, momentum=0.1, affine=True, track_running_stats=True)\n",
       "     )\n",
       "     (1): LinBnDrop(\n",
       "       (0): Linear(in_features=200, out_features=100, bias=False)\n",
       "       (1): ReLU(inplace=True)\n",
       "       (2): BatchNorm1d(100, eps=1e-05, momentum=0.1, affine=True, track_running_stats=True)\n",
       "     )\n",
       "     (2): LinBnDrop(\n",
       "       (0): Linear(in_features=100, out_features=2, bias=True)\n",
       "     )\n",
       "   )\n",
       " ))"
      ]
     },
     "execution_count": null,
     "metadata": {},
     "output_type": "execute_result"
    }
   ],
   "source": [
    "learn1, learn2, learn1.model"
   ]
  },
  {
   "cell_type": "markdown",
   "metadata": {},
   "source": [
    "For transferring the embeddings from `learn1` to `learn2`, we first instantiate the `TabTransfer` class with the learners and the categorical variables to transfer."
   ]
  },
  {
   "cell_type": "code",
   "execution_count": null,
   "metadata": {},
   "outputs": [],
   "source": [
    "tabobj = TabTransfer(learn1, learn2)"
   ]
  },
  {
   "cell_type": "markdown",
   "metadata": {},
   "source": [
    "Now, we can just call the transfer function to start the process."
   ]
  },
  {
   "cell_type": "code",
   "execution_count": null,
   "metadata": {},
   "outputs": [
    {
     "name": "stdout",
     "output_type": "stream",
     "text": [
      "mean is tensor([ 0.0015,  0.0052,  0.0007, -0.0013,  0.0016,  0.0003],\n",
      "       grad_fn=<MeanBackward1>) for Parameter containing:\n",
      "tensor([[ 4.0982e-03,  1.0773e-02, -6.1128e-03, -1.2939e-02,  1.3693e-04,\n",
      "          9.5658e-03],\n",
      "        [-7.3064e-04, -9.0744e-03, -4.1995e-05,  3.8860e-03, -1.0992e-03,\n",
      "         -9.0773e-03],\n",
      "        [ 5.7799e-03,  1.1568e-03,  1.1390e-03,  6.0049e-03, -8.6575e-03,\n",
      "          5.0584e-03],\n",
      "        [ 6.2118e-03,  1.6866e-02,  1.3943e-02,  5.0229e-03,  1.2746e-02,\n",
      "         -1.8922e-02],\n",
      "        [-3.2620e-04,  6.3912e-03,  1.3365e-02,  1.4048e-02,  1.0076e-02,\n",
      "          9.1949e-03],\n",
      "        [-9.5517e-03,  7.0458e-03, -5.8635e-03, -5.2392e-03,  2.6704e-03,\n",
      "          5.6363e-03],\n",
      "        [ 4.7074e-03,  8.2458e-03, -1.2580e-02, -4.7994e-03,  3.7497e-03,\n",
      "          7.2982e-04],\n",
      "        [-7.3861e-03,  8.3785e-03, -4.2067e-03, -7.4433e-04, -3.3074e-03,\n",
      "          5.5304e-03],\n",
      "        [ 8.3096e-03,  7.7894e-03,  1.2156e-02, -9.9204e-03, -8.1630e-03,\n",
      "         -1.5793e-02],\n",
      "        [ 3.5186e-03, -5.5515e-03, -4.3965e-03, -8.7286e-03,  8.0000e-03,\n",
      "          1.0594e-02]], requires_grad=True)\n",
      "0, <class 'int'>\n",
      "Transferring weights for class #na#, cat workclass from previous weights\n",
      "old weight for class is tensor([-0.0019,  0.0171, -0.0003, -0.0035, -0.0027, -0.0086],\n",
      "       grad_fn=<SliceBackward>)\n",
      "new weight for class is tensor([ 0.0041,  0.0108, -0.0061, -0.0129,  0.0001,  0.0096],\n",
      "       grad_fn=<SliceBackward>)\n",
      "1, <class 'int'>\n",
      "Transferring weights for class  ?, cat workclass from previous weights\n",
      "old weight for class is tensor([ 0.0045, -0.0049, -0.0006,  0.0003, -0.0065,  0.0051],\n",
      "       grad_fn=<SliceBackward>)\n",
      "new weight for class is tensor([-7.3064e-04, -9.0744e-03, -4.1995e-05,  3.8860e-03, -1.0992e-03,\n",
      "        -9.0773e-03], grad_fn=<SliceBackward>)\n",
      "2, <class 'int'>\n",
      "Transferring weights for class  Federal-gov, cat workclass from previous weights\n",
      "old weight for class is tensor([-0.0011,  0.0095, -0.0118,  0.0087,  0.0055,  0.0135],\n",
      "       grad_fn=<SliceBackward>)\n",
      "new weight for class is tensor([ 0.0058,  0.0012,  0.0011,  0.0060, -0.0087,  0.0051],\n",
      "       grad_fn=<SliceBackward>)\n",
      "3, <class 'int'>\n",
      "Transferring weights for class  Local-gov, cat workclass from previous weights\n",
      "old weight for class is tensor([ 0.0118, -0.0051, -0.0043,  0.0038,  0.0053, -0.0153],\n",
      "       grad_fn=<SliceBackward>)\n",
      "new weight for class is tensor([ 0.0062,  0.0169,  0.0139,  0.0050,  0.0127, -0.0189],\n",
      "       grad_fn=<SliceBackward>)\n",
      "4, <class 'int'>\n",
      "Transferring weights for class  Never-worked, cat workclass from previous weights\n",
      "old weight for class is tensor([ 0.0082,  0.0048, -0.0008, -0.0186, -0.0075,  0.0088],\n",
      "       grad_fn=<SliceBackward>)\n",
      "new weight for class is tensor([-0.0003,  0.0064,  0.0134,  0.0140,  0.0101,  0.0092],\n",
      "       grad_fn=<SliceBackward>)\n",
      "5, <class 'int'>\n",
      "Transferring weights for class  Private, cat workclass from previous weights\n",
      "old weight for class is tensor([-0.0200, -0.0065, -0.0031,  0.0005,  0.0065, -0.0047],\n",
      "       grad_fn=<SliceBackward>)\n",
      "new weight for class is tensor([-0.0096,  0.0070, -0.0059, -0.0052,  0.0027,  0.0056],\n",
      "       grad_fn=<SliceBackward>)\n",
      "6, <class 'int'>\n",
      "Transferring weights for class  Self-emp-inc, cat workclass from previous weights\n",
      "old weight for class is tensor([-0.0037, -0.0036,  0.0070, -0.0162,  0.0028,  0.0102],\n",
      "       grad_fn=<SliceBackward>)\n",
      "new weight for class is tensor([ 0.0047,  0.0082, -0.0126, -0.0048,  0.0037,  0.0007],\n",
      "       grad_fn=<SliceBackward>)\n",
      "7, <class 'int'>\n",
      "Transferring weights for class  Self-emp-not-inc, cat workclass from previous weights\n",
      "old weight for class is tensor([ 0.0197,  0.0070, -0.0086, -0.0099,  0.0142, -0.0012],\n",
      "       grad_fn=<SliceBackward>)\n",
      "new weight for class is tensor([-0.0074,  0.0084, -0.0042, -0.0007, -0.0033,  0.0055],\n",
      "       grad_fn=<SliceBackward>)\n",
      "8, <class 'int'>\n",
      "Transferring weights for class  State-gov, cat workclass from previous weights\n",
      "old weight for class is tensor([ 0.0102, -0.0081, -0.0066, -0.0098,  0.0144, -0.0045],\n",
      "       grad_fn=<SliceBackward>)\n",
      "new weight for class is tensor([ 0.0083,  0.0078,  0.0122, -0.0099, -0.0082, -0.0158],\n",
      "       grad_fn=<SliceBackward>)\n",
      "9, <class 'int'>\n",
      "Transferring weights for class  Without-pay, cat workclass from previous weights\n",
      "old weight for class is tensor([ 0.0078, -0.0126,  0.0058,  0.0002,  0.0016, -0.0054],\n",
      "       grad_fn=<SliceBackward>)\n",
      "new weight for class is tensor([ 0.0035, -0.0056, -0.0044, -0.0087,  0.0080,  0.0106],\n",
      "       grad_fn=<SliceBackward>)\n",
      "10, <class 'int'>\n",
      "Transferring weights for class Private, cat workclass using mean\n",
      "old weight for class is tensor([ 0.0004,  0.0027, -0.0003, -0.0129, -0.0180,  0.0075],\n",
      "       grad_fn=<SliceBackward>)\n",
      "new weight for class is tensor([ 0.0015,  0.0052,  0.0007, -0.0013,  0.0016,  0.0003],\n",
      "       grad_fn=<SliceBackward>)\n"
     ]
    }
   ],
   "source": [
    "tabobj.transfer([\"workclass\"], verbose = True)"
   ]
  },
  {
   "cell_type": "code",
   "execution_count": null,
   "metadata": {},
   "outputs": [],
   "source": []
  }
 ],
 "metadata": {
  "kernelspec": {
   "display_name": "Python 3",
   "language": "python",
   "name": "python3"
  }
 },
 "nbformat": 4,
 "nbformat_minor": 4
}
