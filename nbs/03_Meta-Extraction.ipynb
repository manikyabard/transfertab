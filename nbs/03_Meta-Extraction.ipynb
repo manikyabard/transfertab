{
 "cells": [
  {
   "cell_type": "code",
   "execution_count": null,
   "id": "7e5bfe36",
   "metadata": {},
   "outputs": [],
   "source": [
    "from fastai.tabular.all import *\n",
    "import torch\n",
    "import pandas as pd\n",
    "import numpy as np"
   ]
  },
  {
   "cell_type": "code",
   "execution_count": null,
   "id": "3fff1c3f",
   "metadata": {},
   "outputs": [],
   "source": [
    "path = untar_data(URLs.ADULT_SAMPLE)\n",
    "df1 = pd.read_csv(path/'adult.csv')\n",
    "splits1 = RandomSplitter(valid_pct=0.2)(range_of(df1))\n",
    "to1 = TabularPandas(df1, procs=[Categorify, FillMissing,Normalize],\n",
    "                   cat_names = ['workclass', 'education', 'marital-status', 'occupation', 'relationship', 'race', 'sex'],\n",
    "                   cont_names = ['age', 'fnlwgt', 'education-num'],\n",
    "                   y_names='salary',\n",
    "                   splits=splits1)\n",
    "dls1 = to1.dataloaders(bs=64)\n",
    "learn = tabular_learner(dls1, metrics=accuracy)"
   ]
  },
  {
   "cell_type": "code",
   "execution_count": null,
   "id": "9679c9b4",
   "metadata": {},
   "outputs": [],
   "source": [
    "#Meta Format: {'categories':['cat1','cat2'......],'cat1':{'classes':['class1','class2'......]},'cat2':...........}\n",
    "def extract_meta_from_learner(learner):\n",
    "    cat_list=learn.dls.cat_names\n",
    "    #print(cat_list)\n",
    "    temp_meta=dict.fromkeys(cat_list)\n",
    "    t=learner.dls.classes\n",
    "    meta={'categories':cat_list}\n",
    "    for i in t:\n",
    "        temp_meta[i]={'classes':t[i]}\n",
    "    meta.update(temp_meta)\n",
    "    return meta"
   ]
  },
  {
   "cell_type": "code",
   "execution_count": null,
   "id": "e3dcf65c",
   "metadata": {},
   "outputs": [],
   "source": [
    "dictionary = extract_meta_from_learner(learn)"
   ]
  },
  {
   "cell_type": "code",
   "execution_count": null,
   "id": "1de23dc7-b232-462c-b97c-58ac9f6a6995",
   "metadata": {},
   "outputs": [
    {
     "name": "stdout",
     "output_type": "stream",
     "text": [
      "{'categories': ['workclass', 'education', 'marital-status', 'occupation', 'relationship', 'race', 'sex', 'education-num_na'], 'workclass': {'classes': ['#na#', ' ?', ' Federal-gov', ' Local-gov', ' Never-worked', ' Private', ' Self-emp-inc', ' Self-emp-not-inc', ' State-gov', ' Without-pay']}, 'education': {'classes': ['#na#', ' 10th', ' 11th', ' 12th', ' 1st-4th', ' 5th-6th', ' 7th-8th', ' 9th', ' Assoc-acdm', ' Assoc-voc', ' Bachelors', ' Doctorate', ' HS-grad', ' Masters', ' Preschool', ' Prof-school', ' Some-college']}, 'marital-status': {'classes': ['#na#', ' Divorced', ' Married-AF-spouse', ' Married-civ-spouse', ' Married-spouse-absent', ' Never-married', ' Separated', ' Widowed']}, 'occupation': {'classes': ['#na#', ' ?', ' Adm-clerical', ' Armed-Forces', ' Craft-repair', ' Exec-managerial', ' Farming-fishing', ' Handlers-cleaners', ' Machine-op-inspct', ' Other-service', ' Priv-house-serv', ' Prof-specialty', ' Protective-serv', ' Sales', ' Tech-support', ' Transport-moving']}, 'relationship': {'classes': ['#na#', ' Husband', ' Not-in-family', ' Other-relative', ' Own-child', ' Unmarried', ' Wife']}, 'race': {'classes': ['#na#', ' Amer-Indian-Eskimo', ' Asian-Pac-Islander', ' Black', ' Other', ' White']}, 'sex': {'classes': ['#na#', ' Female', ' Male']}, 'education-num_na': {'classes': ['#na#', False, True]}}\n"
     ]
    }
   ],
   "source": [
    "print(dictionary)"
   ]
  },
  {
   "cell_type": "code",
   "execution_count": null,
   "id": "ad4f1918",
   "metadata": {},
   "outputs": [],
   "source": [
    "df1.to_csv('adult.csv')"
   ]
  },
  {
   "cell_type": "code",
   "execution_count": null,
   "id": "d7a1f102",
   "metadata": {},
   "outputs": [],
   "source": [
    "#Still in progress\n",
    "def extract_meta_from_data(data_path):\n",
    "    df = pd.read_csv(data_path)\n",
    "    columns = [x for x in df.columns]\n",
    "    cat_list = []\n",
    "    for i,j in enumerate(df.dtypes):\n",
    "        if j == 'object':\n",
    "            cat_list.append(columns[i])\n",
    "    cat_dict = dict.fromkeys(cat_list)\n",
    "    meta={'categories':cat_list}\n",
    "    for i in cat_dict:\n",
    "        cat_dict[i] = list(df[i].unique())\n",
    "    meta.update(cat_dict)\n",
    "    return meta"
   ]
  },
  {
   "cell_type": "code",
   "execution_count": null,
   "id": "452e9a7e",
   "metadata": {},
   "outputs": [],
   "source": [
    "a = extract_meta_from_data('adult.csv')"
   ]
  },
  {
   "cell_type": "code",
   "execution_count": null,
   "id": "3d5eaa94",
   "metadata": {},
   "outputs": [
    {
     "data": {
      "text/plain": [
       "{'categories': ['workclass',\n",
       "  'education',\n",
       "  'marital-status',\n",
       "  'occupation',\n",
       "  'relationship',\n",
       "  'race',\n",
       "  'sex',\n",
       "  'native-country',\n",
       "  'salary'],\n",
       " 'workclass': [' Private',\n",
       "  ' Self-emp-inc',\n",
       "  ' Self-emp-not-inc',\n",
       "  ' State-gov',\n",
       "  ' Federal-gov',\n",
       "  ' Local-gov',\n",
       "  ' ?',\n",
       "  ' Without-pay',\n",
       "  ' Never-worked'],\n",
       " 'education': [' Assoc-acdm',\n",
       "  ' Masters',\n",
       "  ' HS-grad',\n",
       "  ' Prof-school',\n",
       "  ' 7th-8th',\n",
       "  ' Some-college',\n",
       "  ' 11th',\n",
       "  ' Bachelors',\n",
       "  ' Assoc-voc',\n",
       "  ' 10th',\n",
       "  ' 9th',\n",
       "  ' Doctorate',\n",
       "  ' 12th',\n",
       "  ' 1st-4th',\n",
       "  ' 5th-6th',\n",
       "  ' Preschool'],\n",
       " 'marital-status': [' Married-civ-spouse',\n",
       "  ' Divorced',\n",
       "  ' Never-married',\n",
       "  ' Widowed',\n",
       "  ' Married-spouse-absent',\n",
       "  ' Separated',\n",
       "  ' Married-AF-spouse'],\n",
       " 'occupation': [nan,\n",
       "  ' Exec-managerial',\n",
       "  ' Prof-specialty',\n",
       "  ' Other-service',\n",
       "  ' Handlers-cleaners',\n",
       "  ' Craft-repair',\n",
       "  ' Adm-clerical',\n",
       "  ' Sales',\n",
       "  ' Machine-op-inspct',\n",
       "  ' Transport-moving',\n",
       "  ' ?',\n",
       "  ' Farming-fishing',\n",
       "  ' Tech-support',\n",
       "  ' Protective-serv',\n",
       "  ' Priv-house-serv',\n",
       "  ' Armed-Forces'],\n",
       " 'relationship': [' Wife',\n",
       "  ' Not-in-family',\n",
       "  ' Unmarried',\n",
       "  ' Husband',\n",
       "  ' Own-child',\n",
       "  ' Other-relative'],\n",
       " 'race': [' White',\n",
       "  ' Black',\n",
       "  ' Asian-Pac-Islander',\n",
       "  ' Amer-Indian-Eskimo',\n",
       "  ' Other'],\n",
       " 'sex': [' Female', ' Male'],\n",
       " 'native-country': [' United-States',\n",
       "  ' ?',\n",
       "  ' Puerto-Rico',\n",
       "  ' Mexico',\n",
       "  ' Canada',\n",
       "  ' Taiwan',\n",
       "  ' Vietnam',\n",
       "  ' Philippines',\n",
       "  ' Germany',\n",
       "  ' India',\n",
       "  ' China',\n",
       "  ' England',\n",
       "  ' Japan',\n",
       "  ' Trinadad&Tobago',\n",
       "  ' Iran',\n",
       "  ' Guatemala',\n",
       "  ' Jamaica',\n",
       "  ' Italy',\n",
       "  ' Greece',\n",
       "  ' Cuba',\n",
       "  ' South',\n",
       "  ' Dominican-Republic',\n",
       "  ' Poland',\n",
       "  ' Hong',\n",
       "  ' Nicaragua',\n",
       "  ' Thailand',\n",
       "  ' Portugal',\n",
       "  ' Peru',\n",
       "  ' El-Salvador',\n",
       "  ' Ecuador',\n",
       "  ' Ireland',\n",
       "  ' France',\n",
       "  ' Yugoslavia',\n",
       "  ' Hungary',\n",
       "  ' Scotland',\n",
       "  ' Holand-Netherlands',\n",
       "  ' Haiti',\n",
       "  ' Honduras',\n",
       "  ' Columbia',\n",
       "  ' Laos',\n",
       "  ' Outlying-US(Guam-USVI-etc)',\n",
       "  ' Cambodia'],\n",
       " 'salary': ['>=50k', '<50k']}"
      ]
     },
     "execution_count": null,
     "metadata": {},
     "output_type": "execute_result"
    }
   ],
   "source": [
    "a"
   ]
  },
  {
   "cell_type": "code",
   "execution_count": null,
   "id": "91a7efc5-808e-4465-a5e4-9da8c0c185c8",
   "metadata": {},
   "outputs": [],
   "source": []
  }
 ],
 "metadata": {
  "kernelspec": {
   "display_name": "Python 3",
   "language": "python",
   "name": "python3"
  }
 },
 "nbformat": 4,
 "nbformat_minor": 5
}
