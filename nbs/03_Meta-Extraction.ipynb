{
 "cells": [
  {
   "cell_type": "code",
   "execution_count": null,
   "id": "7e5bfe36",
   "metadata": {},
   "outputs": [],
   "source": [
    "from fastai.tabular.all import *\n",
    "import torch\n",
    "import pandas as pd\n",
    "import numpy as np"
   ]
  },
  {
   "cell_type": "code",
   "execution_count": null,
   "id": "3fff1c3f",
   "metadata": {},
   "outputs": [],
   "source": [
    "path = untar_data(URLs.ADULT_SAMPLE)\n",
    "df1 = pd.read_csv(path/'adult.csv')\n",
    "splits1 = RandomSplitter(valid_pct=0.2)(range_of(df1))\n",
    "to1 = TabularPandas(df1, procs=[Categorify, FillMissing,Normalize],\n",
    "                   cat_names = ['workclass', 'education', 'marital-status', 'occupation', 'relationship', 'race', 'sex'],\n",
    "                   cont_names = ['age', 'fnlwgt', 'education-num'],\n",
    "                   y_names='salary',\n",
    "                   splits=splits1)\n",
    "dls1 = to1.dataloaders(bs=64)\n",
    "learn = tabular_learner(dls1, metrics=accuracy)"
   ]
  },
  {
   "cell_type": "code",
   "execution_count": null,
   "id": "9679c9b4",
   "metadata": {},
   "outputs": [],
   "source": [
    "def extract_meta_from_learner(learner):\n",
    "    return learner.dls.classes"
   ]
  },
  {
   "cell_type": "code",
   "execution_count": null,
   "id": "e3dcf65c",
   "metadata": {},
   "outputs": [],
   "source": [
    "dictionary = extract_meta_from_learner(learn)"
   ]
  },
  {
   "cell_type": "code",
   "execution_count": null,
   "id": "245a7c17",
   "metadata": {},
   "outputs": [
    {
     "data": {
      "text/plain": [
       "{'workclass': ['#na#', ' ?', ' Federal-gov', ' Local-gov', ' Never-worked', ' Private', ' Self-emp-inc', ' Self-emp-not-inc', ' State-gov', ' Without-pay'],\n",
       " 'education': ['#na#', ' 10th', ' 11th', ' 12th', ' 1st-4th', ' 5th-6th', ' 7th-8th', ' 9th', ' Assoc-acdm', ' Assoc-voc', ' Bachelors', ' Doctorate', ' HS-grad', ' Masters', ' Preschool', ' Prof-school', ' Some-college'],\n",
       " 'marital-status': ['#na#', ' Divorced', ' Married-AF-spouse', ' Married-civ-spouse', ' Married-spouse-absent', ' Never-married', ' Separated', ' Widowed'],\n",
       " 'occupation': ['#na#', ' ?', ' Adm-clerical', ' Armed-Forces', ' Craft-repair', ' Exec-managerial', ' Farming-fishing', ' Handlers-cleaners', ' Machine-op-inspct', ' Other-service', ' Priv-house-serv', ' Prof-specialty', ' Protective-serv', ' Sales', ' Tech-support', ' Transport-moving'],\n",
       " 'relationship': ['#na#', ' Husband', ' Not-in-family', ' Other-relative', ' Own-child', ' Unmarried', ' Wife'],\n",
       " 'race': ['#na#', ' Amer-Indian-Eskimo', ' Asian-Pac-Islander', ' Black', ' Other', ' White'],\n",
       " 'sex': ['#na#', ' Female', ' Male'],\n",
       " 'education-num_na': ['#na#', False, True]}"
      ]
     },
     "execution_count": null,
     "metadata": {},
     "output_type": "execute_result"
    }
   ],
   "source": [
    "dictionary"
   ]
  },
  {
   "cell_type": "code",
   "execution_count": null,
   "id": "ad4f1918",
   "metadata": {},
   "outputs": [],
   "source": [
    "df1.to_csv('adult.csv')"
   ]
  },
  {
   "cell_type": "code",
   "execution_count": null,
   "id": "d7a1f102",
   "metadata": {},
   "outputs": [],
   "source": [
    "def extract_meta_from_data(data_path):\n",
    "    df = pd.read_csv(data_path)\n",
    "    columns = [x for x in df.columns]\n",
    "    cat_list = []\n",
    "    for i,j in enumerate(df.dtypes):\n",
    "        if j == 'object':\n",
    "            cat_list.append(columns[i])\n",
    "    cat_dict = dict.fromkeys(cat_list)\n",
    "    for i in cat_dict:\n",
    "        cat_dict[i] = list(df[i].unique())\n",
    "        \n",
    "    return cat_dict"
   ]
  },
  {
   "cell_type": "code",
   "execution_count": null,
   "id": "452e9a7e",
   "metadata": {},
   "outputs": [],
   "source": [
    "a = extract_meta_from_data('adult.csv')"
   ]
  },
  {
   "cell_type": "code",
   "execution_count": null,
   "id": "3d5eaa94",
   "metadata": {},
   "outputs": [],
   "source": []
  }
 ],
 "metadata": {
  "kernelspec": {
   "display_name": "Python 3",
   "language": "python",
   "name": "python3"
  }
 },
 "nbformat": 4,
 "nbformat_minor": 5
}
