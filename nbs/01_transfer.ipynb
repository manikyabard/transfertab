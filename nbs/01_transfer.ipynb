{
 "cells": [
  {
   "cell_type": "markdown",
   "metadata": {},
   "source": [
    "# Core\n",
    "\n",
    "> Conatains methods for transferring."
   ]
  },
  {
   "cell_type": "code",
   "execution_count": null,
   "metadata": {},
   "outputs": [],
   "source": [
    "# default_exp core"
   ]
  },
  {
   "cell_type": "code",
   "execution_count": null,
   "metadata": {},
   "outputs": [],
   "source": [
    "#hide\n",
    "from nbdev.showdoc import *\n",
    "from fastai.tabular.all import *\n",
    "from transfertab.utils import *\n",
    "import json"
   ]
  },
  {
   "cell_type": "code",
   "execution_count": null,
   "metadata": {},
   "outputs": [],
   "source": [
    "# This will contain the functions for transferring embeddings"
   ]
  },
  {
   "cell_type": "code",
   "execution_count": null,
   "metadata": {},
   "outputs": [],
   "source": [
    "path = untar_data(URLs.ADULT_SAMPLE)\n",
    "df1 = pd.read_csv(path/'adult.csv')\n",
    "splits1 = RandomSplitter(valid_pct=0.2)(range_of(df1))\n",
    "to1 = TabularPandas(df1, procs=[Categorify, FillMissing,Normalize],\n",
    "                   cat_names = ['workclass', 'education', 'marital-status', 'occupation', 'relationship', 'race', 'sex'],\n",
    "                   cont_names = ['age', 'fnlwgt', 'education-num'],\n",
    "                   y_names='salary',\n",
    "                   splits=splits1)\n",
    "dls1 = to1.dataloaders(bs=64)\n",
    "learn1 = tabular_learner(dls1, metrics=accuracy)"
   ]
  },
  {
   "cell_type": "code",
   "execution_count": null,
   "metadata": {},
   "outputs": [
    {
     "data": {
      "text/plain": [
       "ModuleList(\n",
       "  (0): Embedding(10, 6)\n",
       "  (1): Embedding(17, 8)\n",
       "  (2): Embedding(8, 5)\n",
       "  (3): Embedding(16, 8)\n",
       "  (4): Embedding(7, 5)\n",
       "  (5): Embedding(6, 4)\n",
       "  (6): Embedding(3, 3)\n",
       "  (7): Embedding(3, 3)\n",
       ")"
      ]
     },
     "execution_count": null,
     "metadata": {},
     "output_type": "execute_result"
    }
   ],
   "source": [
    "learn1.model.embeds"
   ]
  },
  {
   "cell_type": "markdown",
   "metadata": {},
   "source": [
    "Aim is to take these embeddings and transfer them to other models"
   ]
  },
  {
   "cell_type": "code",
   "execution_count": null,
   "metadata": {},
   "outputs": [
    {
     "data": {
      "text/plain": [
       "(Parameter containing:\n",
       " tensor([[-5.6853e-03,  1.8688e-03,  1.4476e-02,  9.7890e-03,  1.4115e-02,\n",
       "           5.7125e-03],\n",
       "         [-9.1271e-03, -1.5946e-03,  5.6058e-03,  3.0356e-03,  2.5559e-03,\n",
       "          -1.2680e-02],\n",
       "         [-2.1623e-03, -4.1510e-05, -1.0180e-02,  1.3648e-02,  1.5476e-02,\n",
       "          -1.8098e-03],\n",
       "         [ 5.6572e-03,  1.5083e-02,  7.9600e-03, -7.3476e-04, -1.1631e-02,\n",
       "          -7.4402e-03],\n",
       "         [ 3.3497e-03, -3.0329e-03,  2.3689e-03, -3.3820e-03,  1.5509e-02,\n",
       "          -9.7973e-03],\n",
       "         [ 1.2162e-02,  1.0208e-02,  1.4835e-03,  8.3532e-03,  1.1189e-02,\n",
       "           9.2965e-04],\n",
       "         [ 8.5163e-03, -1.2888e-02,  8.2518e-03,  3.5525e-03,  4.3668e-03,\n",
       "           3.4388e-03],\n",
       "         [ 6.6009e-03, -5.5191e-03,  7.2820e-03,  1.3600e-02, -2.4659e-03,\n",
       "          -6.2848e-04],\n",
       "         [ 1.0715e-03, -3.1847e-03, -6.2840e-03, -6.0915e-03,  7.6644e-04,\n",
       "           4.6805e-03],\n",
       "         [ 1.5399e-02, -8.3873e-03, -8.9908e-03,  3.5097e-04, -7.0670e-03,\n",
       "           1.1123e-02]], requires_grad=True),\n",
       " torch.Size([10, 6]))"
      ]
     },
     "execution_count": null,
     "metadata": {},
     "output_type": "execute_result"
    }
   ],
   "source": [
    "learn1.model.embeds[0].weight, learn1.model.embeds[0].weight.shape"
   ]
  },
  {
   "cell_type": "code",
   "execution_count": null,
   "metadata": {},
   "outputs": [
    {
     "data": {
      "text/html": [
       "<table border=\"1\" class=\"dataframe\">\n",
       "  <thead>\n",
       "    <tr style=\"text-align: left;\">\n",
       "      <th>epoch</th>\n",
       "      <th>train_loss</th>\n",
       "      <th>valid_loss</th>\n",
       "      <th>accuracy</th>\n",
       "      <th>time</th>\n",
       "    </tr>\n",
       "  </thead>\n",
       "  <tbody>\n",
       "    <tr>\n",
       "      <td>0</td>\n",
       "      <td>0.371636</td>\n",
       "      <td>0.351842</td>\n",
       "      <td>0.838298</td>\n",
       "      <td>00:04</td>\n",
       "    </tr>\n",
       "  </tbody>\n",
       "</table>"
      ],
      "text/plain": [
       "<IPython.core.display.HTML object>"
      ]
     },
     "metadata": {},
     "output_type": "display_data"
    }
   ],
   "source": [
    "learn1.fit(1)"
   ]
  },
  {
   "cell_type": "code",
   "execution_count": null,
   "metadata": {
    "tags": []
   },
   "outputs": [],
   "source": [
    "#hide\n",
    "meta = {\n",
    "    \"categories\":['workclass', 'education', 'marital-status', 'occupation', 'relationship', 'race', 'sex'],\n",
    "    \"workclass\": {\n",
    "        \"classes\": ['nan', ' Private', ' Self-emp-inc', ' Self-emp-not-inc', ' State-gov',\n",
    "           ' Federal-gov', ' Local-gov', ' ?', ' Without-pay',\n",
    "           ' Never-worked'],\n",
    "    },\n",
    "    'education': {\n",
    "        \"classes\": ['nan', ' Assoc-acdm', ' Masters', ' HS-grad', ' Prof-school', ' 7th-8th',\n",
    "       ' Some-college', ' 11th', ' Bachelors', ' Assoc-voc', ' 10th',\n",
    "       ' 9th', ' Doctorate', ' 12th', ' 1st-4th', ' 5th-6th',\n",
    "       ' Preschool']\n",
    "    },\n",
    "    \"marital-status\": {\n",
    "        \"classes\": ['nan', ' Married-civ-spouse', ' Divorced', ' Never-married', ' Widowed',\n",
    "       ' Married-spouse-absent', ' Separated', ' Married-AF-spouse']\n",
    "    },\n",
    "    \"occupation\": {\n",
    "        \"classes\": [\"nan\", ' Exec-managerial', ' Prof-specialty', ' Other-service',\n",
    "       ' Handlers-cleaners', ' Craft-repair', ' Adm-clerical', ' Sales',\n",
    "       ' Machine-op-inspct', ' Transport-moving', ' ?',\n",
    "       ' Farming-fishing', ' Tech-support', ' Protective-serv',\n",
    "       ' Priv-house-serv', ' Armed-Forces']\n",
    "    },\n",
    "    \"relationship\": {\n",
    "        \"classes\": ['nan', ' Wife', ' Not-in-family', ' Unmarried', ' Husband', ' Own-child',\n",
    "       ' Other-relative']\n",
    "    },\n",
    "    \"race\": {\n",
    "        \"classes\": ['nan', ' White', ' Black', ' Asian-Pac-Islander', ' Amer-Indian-Eskimo',\n",
    "       ' Other']\n",
    "    },\n",
    "    \"sex\": {\n",
    "        \"classes\": [\"Female\", \"Male\", \"nan\"]\n",
    "    }\n",
    "}"
   ]
  },
  {
   "cell_type": "code",
   "execution_count": null,
   "metadata": {
    "tags": []
   },
   "outputs": [
    {
     "name": "stdout",
     "output_type": "stream",
     "text": [
      "done\n"
     ]
    }
   ],
   "source": [
    "#hide\n",
    "extractembeds(learn1.model, \"embeds\", meta, \"../data/adults.json\")\n",
    "print(\"done\")"
   ]
  },
  {
   "cell_type": "code",
   "execution_count": null,
   "metadata": {},
   "outputs": [
    {
     "data": {
      "text/html": [
       "<div>\n",
       "<style scoped>\n",
       "    .dataframe tbody tr th:only-of-type {\n",
       "        vertical-align: middle;\n",
       "    }\n",
       "\n",
       "    .dataframe tbody tr th {\n",
       "        vertical-align: top;\n",
       "    }\n",
       "\n",
       "    .dataframe thead th {\n",
       "        text-align: right;\n",
       "    }\n",
       "</style>\n",
       "<table border=\"1\" class=\"dataframe\">\n",
       "  <thead>\n",
       "    <tr style=\"text-align: right;\">\n",
       "      <th></th>\n",
       "      <th>age</th>\n",
       "      <th>workclass</th>\n",
       "      <th>fnlwgt</th>\n",
       "      <th>education</th>\n",
       "      <th>education-num</th>\n",
       "      <th>marital-status</th>\n",
       "      <th>occupation</th>\n",
       "      <th>relationship</th>\n",
       "      <th>race</th>\n",
       "      <th>sex</th>\n",
       "      <th>capital-gain</th>\n",
       "      <th>capital-loss</th>\n",
       "      <th>hours-per-week</th>\n",
       "      <th>native-country</th>\n",
       "      <th>salary</th>\n",
       "    </tr>\n",
       "  </thead>\n",
       "  <tbody>\n",
       "    <tr>\n",
       "      <th>32558</th>\n",
       "      <td>53</td>\n",
       "      <td>Private</td>\n",
       "      <td>157069</td>\n",
       "      <td>Assoc-acdm</td>\n",
       "      <td>12.0</td>\n",
       "      <td>Married-civ-spouse</td>\n",
       "      <td>Machine-op-inspct</td>\n",
       "      <td>Husband</td>\n",
       "      <td>White</td>\n",
       "      <td>Male</td>\n",
       "      <td>0</td>\n",
       "      <td>0</td>\n",
       "      <td>40</td>\n",
       "      <td>United-States</td>\n",
       "      <td>&gt;=50k</td>\n",
       "    </tr>\n",
       "    <tr>\n",
       "      <th>32559</th>\n",
       "      <td>32</td>\n",
       "      <td>Local-gov</td>\n",
       "      <td>217296</td>\n",
       "      <td>HS-grad</td>\n",
       "      <td>9.0</td>\n",
       "      <td>Married-civ-spouse</td>\n",
       "      <td>Transport-moving</td>\n",
       "      <td>Wife</td>\n",
       "      <td>White</td>\n",
       "      <td>Female</td>\n",
       "      <td>4064</td>\n",
       "      <td>0</td>\n",
       "      <td>22</td>\n",
       "      <td>United-States</td>\n",
       "      <td>&lt;50k</td>\n",
       "    </tr>\n",
       "    <tr>\n",
       "      <th>32560</th>\n",
       "      <td>26</td>\n",
       "      <td>Private</td>\n",
       "      <td>182308</td>\n",
       "      <td>Some-college</td>\n",
       "      <td>10.0</td>\n",
       "      <td>Married-civ-spouse</td>\n",
       "      <td>Prof-specialty</td>\n",
       "      <td>Husband</td>\n",
       "      <td>White</td>\n",
       "      <td>Male</td>\n",
       "      <td>0</td>\n",
       "      <td>0</td>\n",
       "      <td>40</td>\n",
       "      <td>United-States</td>\n",
       "      <td>&lt;50k</td>\n",
       "    </tr>\n",
       "    <tr>\n",
       "      <th>32561</th>\n",
       "      <td>49</td>\n",
       "      <td>Private</td>\n",
       "      <td>101320</td>\n",
       "      <td>Assoc-acdm</td>\n",
       "      <td>12.0</td>\n",
       "      <td>Married-civ-spouse</td>\n",
       "      <td>Exec-managerial</td>\n",
       "      <td>Wife</td>\n",
       "      <td>Robot</td>\n",
       "      <td>Female</td>\n",
       "      <td>0</td>\n",
       "      <td>1902</td>\n",
       "      <td>40</td>\n",
       "      <td>United-States</td>\n",
       "      <td>&gt;=50k</td>\n",
       "    </tr>\n",
       "    <tr>\n",
       "      <th>32562</th>\n",
       "      <td>18</td>\n",
       "      <td>Private</td>\n",
       "      <td>182308</td>\n",
       "      <td>Bachelors</td>\n",
       "      <td>10.0</td>\n",
       "      <td>Never-married</td>\n",
       "      <td>?</td>\n",
       "      <td>Own-child</td>\n",
       "      <td>Other</td>\n",
       "      <td>Male</td>\n",
       "      <td>0</td>\n",
       "      <td>0</td>\n",
       "      <td>23</td>\n",
       "      <td>United-States</td>\n",
       "      <td>&lt;50k</td>\n",
       "    </tr>\n",
       "  </tbody>\n",
       "</table>\n",
       "</div>"
      ],
      "text/plain": [
       "       age   workclass  fnlwgt      education  education-num  \\\n",
       "32558   53     Private  157069     Assoc-acdm           12.0   \n",
       "32559   32   Local-gov  217296        HS-grad            9.0   \n",
       "32560   26     Private  182308   Some-college           10.0   \n",
       "32561   49     Private  101320     Assoc-acdm           12.0   \n",
       "32562   18     Private  182308      Bachelors           10.0   \n",
       "\n",
       "            marital-status          occupation relationship    race      sex  \\\n",
       "32558   Married-civ-spouse   Machine-op-inspct      Husband   White     Male   \n",
       "32559   Married-civ-spouse    Transport-moving         Wife   White   Female   \n",
       "32560   Married-civ-spouse      Prof-specialty      Husband   White     Male   \n",
       "32561   Married-civ-spouse     Exec-managerial         Wife   Robot   Female   \n",
       "32562        Never-married                   ?    Own-child   Other     Male   \n",
       "\n",
       "       capital-gain  capital-loss  hours-per-week  native-country salary  \n",
       "32558             0             0              40   United-States  >=50k  \n",
       "32559          4064             0              22   United-States   <50k  \n",
       "32560             0             0              40   United-States   <50k  \n",
       "32561             0          1902              40   United-States  >=50k  \n",
       "32562             0             0              23   United-States   <50k  "
      ]
     },
     "execution_count": null,
     "metadata": {},
     "output_type": "execute_result"
    }
   ],
   "source": [
    "#We add robot to our \"race\" column\n",
    "new_rows = pd.DataFrame([[49,'Private',101320,'Assoc-acdm',12.0,'Married-civ-spouse','Exec-managerial','Wife','Robot','Female',0,1902,40,'United-States','>=50k'],\n",
    "                        [18,'Private',182308,'Bachelors',10.0,'Never-married','?','Own-child','Other','Male',0,0,23,'United-States','<50k']],\n",
    "                        columns=df1.columns)\n",
    "df2 = df1.copy()\n",
    "df2 = df2.append(new_rows, ignore_index=True)\n",
    "df2.tail()"
   ]
  },
  {
   "cell_type": "code",
   "execution_count": null,
   "metadata": {},
   "outputs": [],
   "source": [
    "splits2 = RandomSplitter(valid_pct=0.2)(range_of(df2))\n",
    "to2 = TabularPandas(df2, procs=[Categorify, FillMissing,Normalize],\n",
    "                   cat_names = ['workclass', 'education', 'marital-status', 'occupation', 'relationship', 'race', 'sex'],\n",
    "                   cont_names = ['age', 'fnlwgt', 'education-num'],\n",
    "                   y_names='salary',\n",
    "                   splits=splits2)\n",
    "dls2 = to2.dataloaders(bs=64)\n",
    "learn2 = tabular_learner(dls2, metrics=accuracy)"
   ]
  },
  {
   "cell_type": "code",
   "execution_count": null,
   "metadata": {},
   "outputs": [
    {
     "data": {
      "text/plain": [
       "ModuleList(\n",
       "  (0): Embedding(11, 6)\n",
       "  (1): Embedding(19, 8)\n",
       "  (2): Embedding(10, 6)\n",
       "  (3): Embedding(18, 8)\n",
       "  (4): Embedding(9, 5)\n",
       "  (5): Embedding(8, 5)\n",
       "  (6): Embedding(5, 4)\n",
       "  (7): Embedding(3, 3)\n",
       ")"
      ]
     },
     "execution_count": null,
     "metadata": {},
     "output_type": "execute_result"
    }
   ],
   "source": [
    "learn2.model.embeds"
   ]
  },
  {
   "cell_type": "code",
   "execution_count": null,
   "metadata": {
    "tags": []
   },
   "outputs": [],
   "source": [
    "#export\n",
    "class TabTransfer:\n",
    "    def __init__(self, new_learner):\n",
    "        self.new_cat_names = new_learner.dls.cat_names\n",
    "        self.new_all_classes = new_learner.dls.classes\n",
    "        self.new_learner = new_learner\n",
    "        \n",
    "    def init_from_json(self, path):\n",
    "        '''\n",
    "        `path` can either a json file or a directory containing multiple json files.\n",
    "        The json should contain \n",
    "            a `categories` key with all the categories in that json, \n",
    "            a key for each category in `categories` inside which there should be\n",
    "                a `classes` key with all classes of that key\n",
    "                an `embeddings` key with the embeddings for that category\n",
    "        '''\n",
    "        path = Path(path)\n",
    "        json_file = {}\n",
    "        if path.is_file(): \n",
    "            f = open(path, 'rb')\n",
    "            json_file = json.load(f)\n",
    "        elif path.is_dir():\n",
    "            json_file = {\"categories\": []}\n",
    "            for json_f in path.glob(\"*.json\"):\n",
    "                f = open(json_f, 'rb')\n",
    "                file = json.load(f)\n",
    "                json_file[\"categories\"] += file[\"categories\"]\n",
    "                del file[\"categories\"]\n",
    "                json_file.update(file)\n",
    "        self.old_cat_names = json_file['categories']\n",
    "        classes_dict = dict.fromkeys(self.old_cat_names)\n",
    "        embed_dict = dict.fromkeys(self.old_cat_names)\n",
    "        \n",
    "        for i in self.old_cat_names:\n",
    "            classes_dict[i] = json_file[i]['classes']\n",
    "            embed_dict[i] = json_file[i]['embeddings']\n",
    "        self.old_all_classes = classes_dict # contains the cat variable with all its classes\n",
    "        self.old_all_embeds = embed_dict # contains the cat variable with all its embeddings\n",
    "        \n",
    "    def mapping(self, cat_names_to_transfer):\n",
    "        self.transfer_list = cat_names_to_transfer\n",
    "        mapping_dict = dict.fromkeys(self.transfer_list)\n",
    "        for curr_cat in self.transfer_list:\n",
    "            if (curr_cat in self.old_cat_names and curr_cat in self.new_cat_names):\n",
    "                mapping_dict[curr_cat] = curr_cat\n",
    "            else:\n",
    "                print(self.new_cat_names)\n",
    "                mapping_cat = input(f\"What do you want to map {curr_cat} to : \")\n",
    "                mapping_dict[curr_cat] = mapping_cat\n",
    "        return mapping_dict\n",
    "                \n",
    "        \n",
    "    def transfer(self, mapping_dict, verbose=False):\n",
    "        self.transfer_list = cat_names_to_transfer\n",
    "        for curr_cat in mapping_dict.values():\n",
    "            if not (curr_cat in self.old_cat_names and curr_cat in self.new_cat_names):\n",
    "                continue\n",
    "            old_cat_idx = self.old_cat_names.index(curr_cat)\n",
    "            new_cat_idx = self.new_cat_names.index(curr_cat)\n",
    "            \n",
    "            # TODO: Make it so that this isn't required by taking care of this.\n",
    "            try: assert (len(tabobj.old_all_embeds[curr_cat][0]) == self.new_learner.model.embeds[new_cat_idx].embedding_dim)\n",
    "            except: \n",
    "                print(f\"Encountered an error for variable {curr_cat}: Make sure embeddings dimensions are same for {self.old_all_embeds[curr_cat]} with size {len(tabobj.old_all_embeds[curr_cat])}, and {self.new_learner.model.embeds[new_cat_idx]} with size {self.new_learner.model.embeds[new_cat_idx].embedding_dim}\")\n",
    "                print(\"Moving on to other cat vars\")\n",
    "                continue\n",
    "            \n",
    "            old_curr_classes = self.old_all_classes[curr_cat]\n",
    "            new_curr_classes = self.new_all_classes[curr_cat]\n",
    "            \n",
    "            torch_embeds = torch.FloatTensor(self.old_all_embeds[curr_cat])\n",
    "            weights_mean = torch_embeds.mean(0)\n",
    "            \n",
    "            if verbose: print(f'mean is {weights_mean} for {torch_embeds}')\n",
    "\n",
    "            # Case where some category in old, but not in new isn't being handled rn.\n",
    "\n",
    "            for new_curr_class in new_curr_classes:\n",
    "                new_curr_class_idx = new_curr_classes.o2i[new_curr_class]\n",
    "                if verbose: print(f\"{new_curr_class_idx}, {type(new_curr_class_idx)}\")\n",
    "                \n",
    "                if new_curr_class in old_curr_classes:\n",
    "                    old_curr_class_idx = old_curr_classes.index(new_curr_class)\n",
    "                    if verbose: print(f'Transferring weights for class {new_curr_class}, cat {curr_cat} from previous weights')\n",
    "                    if verbose: print(f\"old weight for class is {self.new_learner.model.embeds[new_cat_idx].weight[new_curr_class_idx, :]}\")\n",
    "                    tempwgt1 = self.new_learner.model.embeds[new_cat_idx].weight[new_curr_class_idx, :]\n",
    "                    tempwgt2 = torch_embeds[old_curr_class_idx, :]\n",
    "                    \n",
    "                    self.new_learner.model.embeds[new_cat_idx].weight.data[new_curr_class_idx, :] = torch_embeds[old_curr_class_idx, :].detach().clone()\n",
    "                    self.new_learner.model.embeds[new_cat_idx].weight[new_curr_class_idx, :].required_grad = True\n",
    "                    if verbose: print(f\"new weight for class is {self.new_learner.model.embeds[new_cat_idx].weight[new_curr_class_idx, :]}\")\n",
    "                else:\n",
    "                    if verbose: print(f'Transferring weights for class {new_curr_class}, cat {curr_cat} using mean')\n",
    "                    if verbose: print(f\"old weight for class is {self.new_learner.model.embeds[new_cat_idx].weight[new_curr_class_idx, :]}\")\n",
    "                    self.new_learner.model.embeds[new_cat_idx].weight.data[new_curr_class_idx, :] = weights_mean\n",
    "                    self.new_learner.model.embeds[new_cat_idx].weight[new_curr_class_idx, :].required_grad = True\n",
    "                    if verbose: print(f\"new weight for class is {self.new_learner.model.embeds[new_cat_idx].weight[new_curr_class_idx, :]}\")"
   ]
  },
  {
   "cell_type": "code",
   "execution_count": null,
   "metadata": {},
   "outputs": [],
   "source": [
    "tabobj = TabTransfer(learn1)"
   ]
  },
  {
   "cell_type": "code",
   "execution_count": null,
   "metadata": {},
   "outputs": [],
   "source": [
    "tabobj.init_from_json(\"../data/jsons\")"
   ]
  },
  {
   "cell_type": "code",
   "execution_count": null,
   "metadata": {},
   "outputs": [
    {
     "data": {
      "text/plain": [
       "(['cat1', 'cat2', 'cat3', 'cat4', 'cat5', 'cat6'],\n",
       " {'cat1': ['class1', 'class2', 'class3'],\n",
       "  'cat2': ['class1', 'class2', 'class3'],\n",
       "  'cat3': ['class1', 'class2', 'class3'],\n",
       "  'cat4': ['class1', 'class2', 'class3'],\n",
       "  'cat5': ['class1', 'class2', 'class3'],\n",
       "  'cat6': ['class1', 'class2', 'class3']})"
      ]
     },
     "execution_count": null,
     "metadata": {},
     "output_type": "execute_result"
    }
   ],
   "source": [
    "tabobj.old_cat_names, tabobj.old_all_classes"
   ]
  },
  {
   "cell_type": "code",
   "execution_count": null,
   "metadata": {
    "tags": []
   },
   "outputs": [
    {
     "name": "stdout",
     "output_type": "stream",
     "text": [
      "['workclass', 'education', 'marital-status', 'occupation', 'relationship', 'race', 'sex', 'education-num_na']\n",
      "What do you want to map gender to : sex\n"
     ]
    }
   ],
   "source": [
    "mapping_dict = tabobj.mapping([\"race\", \"workclass\", \"gender\"])"
   ]
  },
  {
   "cell_type": "code",
   "execution_count": null,
   "metadata": {
    "tags": []
   },
   "outputs": [
    {
     "name": "stdout",
     "output_type": "stream",
     "text": [
      "Encountered an error for variable race: Make sure embeddings dimensions are same for [[0.01424520742148161, 0.0019113835878670216, -0.011762626469135284, -0.011998647823929787], [0.03481021150946617, -0.03585974872112274, -0.003132576122879982, -0.014373430982232094], [-0.00021668781118933111, -0.02973216213285923, -0.01742439530789852, -0.00618526479229331], [0.05276366323232651, -0.0017447100253775716, -0.008110049180686474, -0.021954387426376343], [0.04621289297938347, -0.05134597048163414, -0.06927426904439926, -0.03336308151483536], [-0.016955429688096046, 0.020483478903770447, 0.028547359630465508, -0.010007286444306374]] with size 6, and Embedding(8, 5) with size 5\n",
      "Moving on to other cat vars\n",
      "mean is tensor([ 0.0036,  0.0035, -0.0027,  0.0065,  0.0021, -0.0059]) for tensor([[-0.0057,  0.0019,  0.0144,  0.0097,  0.0141,  0.0057],\n",
      "        [-0.0317,  0.0007,  0.0077,  0.0139, -0.0221, -0.0226],\n",
      "        [ 0.0533, -0.0063,  0.0469, -0.0314,  0.0574,  0.0322],\n",
      "        [ 0.0165,  0.0365, -0.0122,  0.0023, -0.0144, -0.0079],\n",
      "        [-0.0120,  0.0204,  0.0026, -0.0055,  0.0236, -0.0362],\n",
      "        [-0.0086,  0.0461,  0.0067, -0.0026,  0.0232, -0.0509],\n",
      "        [ 0.0619, -0.0427,  0.0406, -0.0403,  0.0576,  0.0453],\n",
      "        [ 0.0216, -0.0126, -0.0440,  0.0787, -0.0520,  0.0040],\n",
      "        [-0.0349, -0.0240, -0.0491,  0.0039, -0.0234, -0.0003],\n",
      "        [-0.0242,  0.0150, -0.0408,  0.0364, -0.0426, -0.0285]])\n",
      "0, <class 'int'>\n",
      "Transferring weights for class #na#, cat workclass using mean\n",
      "old weight for class is tensor([ 0.0036,  0.0035, -0.0027,  0.0065,  0.0021, -0.0059],\n",
      "       grad_fn=<SliceBackward>)\n",
      "new weight for class is tensor([ 0.0036,  0.0035, -0.0027,  0.0065,  0.0021, -0.0059],\n",
      "       grad_fn=<SliceBackward>)\n",
      "1, <class 'int'>\n",
      "Transferring weights for class  ?, cat workclass from previous weights\n",
      "old weight for class is tensor([ 0.0216, -0.0126, -0.0440,  0.0787, -0.0520,  0.0040],\n",
      "       grad_fn=<SliceBackward>)\n",
      "new weight for class is tensor([ 0.0216, -0.0126, -0.0440,  0.0787, -0.0520,  0.0040],\n",
      "       grad_fn=<SliceBackward>)\n",
      "2, <class 'int'>\n",
      "Transferring weights for class  Federal-gov, cat workclass from previous weights\n",
      "old weight for class is tensor([-0.0086,  0.0461,  0.0067, -0.0026,  0.0232, -0.0509],\n",
      "       grad_fn=<SliceBackward>)\n",
      "new weight for class is tensor([-0.0086,  0.0461,  0.0067, -0.0026,  0.0232, -0.0509],\n",
      "       grad_fn=<SliceBackward>)\n",
      "3, <class 'int'>\n",
      "Transferring weights for class  Local-gov, cat workclass from previous weights\n",
      "old weight for class is tensor([ 0.0619, -0.0427,  0.0406, -0.0403,  0.0576,  0.0453],\n",
      "       grad_fn=<SliceBackward>)\n",
      "new weight for class is tensor([ 0.0619, -0.0427,  0.0406, -0.0403,  0.0576,  0.0453],\n",
      "       grad_fn=<SliceBackward>)\n",
      "4, <class 'int'>\n",
      "Transferring weights for class  Never-worked, cat workclass from previous weights\n",
      "old weight for class is tensor([-0.0242,  0.0150, -0.0408,  0.0364, -0.0426, -0.0285],\n",
      "       grad_fn=<SliceBackward>)\n",
      "new weight for class is tensor([-0.0242,  0.0150, -0.0408,  0.0364, -0.0426, -0.0285],\n",
      "       grad_fn=<SliceBackward>)\n",
      "5, <class 'int'>\n",
      "Transferring weights for class  Private, cat workclass from previous weights\n",
      "old weight for class is tensor([-0.0317,  0.0007,  0.0077,  0.0139, -0.0221, -0.0226],\n",
      "       grad_fn=<SliceBackward>)\n",
      "new weight for class is tensor([-0.0317,  0.0007,  0.0077,  0.0139, -0.0221, -0.0226],\n",
      "       grad_fn=<SliceBackward>)\n",
      "6, <class 'int'>\n",
      "Transferring weights for class  Self-emp-inc, cat workclass from previous weights\n",
      "old weight for class is tensor([ 0.0533, -0.0063,  0.0469, -0.0314,  0.0574,  0.0322],\n",
      "       grad_fn=<SliceBackward>)\n",
      "new weight for class is tensor([ 0.0533, -0.0063,  0.0469, -0.0314,  0.0574,  0.0322],\n",
      "       grad_fn=<SliceBackward>)\n",
      "7, <class 'int'>\n",
      "Transferring weights for class  Self-emp-not-inc, cat workclass from previous weights\n",
      "old weight for class is tensor([ 0.0165,  0.0365, -0.0122,  0.0023, -0.0144, -0.0079],\n",
      "       grad_fn=<SliceBackward>)\n",
      "new weight for class is tensor([ 0.0165,  0.0365, -0.0122,  0.0023, -0.0144, -0.0079],\n",
      "       grad_fn=<SliceBackward>)\n",
      "8, <class 'int'>\n",
      "Transferring weights for class  State-gov, cat workclass from previous weights\n",
      "old weight for class is tensor([-0.0120,  0.0204,  0.0026, -0.0055,  0.0236, -0.0362],\n",
      "       grad_fn=<SliceBackward>)\n",
      "new weight for class is tensor([-0.0120,  0.0204,  0.0026, -0.0055,  0.0236, -0.0362],\n",
      "       grad_fn=<SliceBackward>)\n",
      "9, <class 'int'>\n",
      "Transferring weights for class  Without-pay, cat workclass from previous weights\n",
      "old weight for class is tensor([-0.0349, -0.0240, -0.0491,  0.0039, -0.0234, -0.0003],\n",
      "       grad_fn=<SliceBackward>)\n",
      "new weight for class is tensor([-0.0349, -0.0240, -0.0491,  0.0039, -0.0234, -0.0003],\n",
      "       grad_fn=<SliceBackward>)\n",
      "10, <class 'int'>\n",
      "Transferring weights for class Private, cat workclass using mean\n",
      "old weight for class is tensor([ 0.0036,  0.0035, -0.0027,  0.0065,  0.0021, -0.0059],\n",
      "       grad_fn=<SliceBackward>)\n",
      "new weight for class is tensor([ 0.0036,  0.0035, -0.0027,  0.0065,  0.0021, -0.0059],\n",
      "       grad_fn=<SliceBackward>)\n",
      "Encountered an error for variable sex: Make sure embeddings dimensions are same for [[-0.0017159931594505906, -0.0015294364420697093, 0.007879503071308136], [0.08940519392490387, -0.03518747165799141, -0.045552417635917664], [-0.03289536386728287, 0.02211097814142704, 0.021482935175299644]] with size 3, and Embedding(5, 4) with size 4\n",
      "Moving on to other cat vars\n"
     ]
    }
   ],
   "source": [
    "tabobj.transfer(mapping_dict, verbose = True)"
   ]
  },
  {
   "cell_type": "code",
   "execution_count": null,
   "metadata": {},
   "outputs": [],
   "source": []
  }
 ],
 "metadata": {
  "kernelspec": {
   "display_name": "Python 3",
   "language": "python",
   "name": "python3"
  }
 },
 "nbformat": 4,
 "nbformat_minor": 4
}
