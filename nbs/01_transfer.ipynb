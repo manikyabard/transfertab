{
 "cells": [
  {
   "cell_type": "code",
   "execution_count": null,
   "metadata": {},
   "outputs": [],
   "source": [
    "# default_exp core"
   ]
  },
  {
   "cell_type": "markdown",
   "metadata": {},
   "source": [
    "# Core\n",
    "\n",
    "> Conatains methods for transferring."
   ]
  },
  {
   "cell_type": "code",
   "execution_count": null,
   "metadata": {},
   "outputs": [],
   "source": [
    "#hide\n",
    "from nbdev.showdoc import *\n",
    "from fastai.tabular.all import *"
   ]
  },
  {
   "cell_type": "code",
   "execution_count": null,
   "metadata": {},
   "outputs": [],
   "source": [
    "# This will contain the functions for transferring embeddings"
   ]
  },
  {
   "cell_type": "code",
   "execution_count": null,
   "metadata": {},
   "outputs": [],
   "source": [
    "path = untar_data(URLs.ADULT_SAMPLE)\n",
    "df1 = pd.read_csv(path/'adult.csv')\n",
    "splits1 = RandomSplitter(valid_pct=0.2)(range_of(df1))\n",
    "to1 = TabularPandas(df1, procs=[Categorify, FillMissing,Normalize],\n",
    "                   cat_names = ['workclass', 'education', 'marital-status', 'occupation', 'relationship', 'race'],\n",
    "                   cont_names = ['age', 'fnlwgt', 'education-num'],\n",
    "                   y_names='salary',\n",
    "                   splits=splits1)\n",
    "dls1 = to1.dataloaders(bs=64)\n",
    "learn1 = tabular_learner(dls1, metrics=accuracy)"
   ]
  },
  {
   "cell_type": "code",
   "execution_count": null,
   "metadata": {},
   "outputs": [
    {
     "data": {
      "text/plain": [
       "ModuleList(\n",
       "  (0): Embedding(10, 6)\n",
       "  (1): Embedding(17, 8)\n",
       "  (2): Embedding(8, 5)\n",
       "  (3): Embedding(16, 8)\n",
       "  (4): Embedding(7, 5)\n",
       "  (5): Embedding(6, 4)\n",
       "  (6): Embedding(3, 3)\n",
       ")"
      ]
     },
     "execution_count": null,
     "metadata": {},
     "output_type": "execute_result"
    }
   ],
   "source": [
    "learn1.model.embeds"
   ]
  },
  {
   "cell_type": "markdown",
   "metadata": {},
   "source": [
    "Aim is to take these embeddings and transfer them to other models"
   ]
  },
  {
   "cell_type": "code",
   "execution_count": null,
   "metadata": {},
   "outputs": [
    {
     "data": {
      "text/plain": [
       "(Parameter containing:\n",
       " tensor([[-9.4948e-03, -8.0228e-03, -1.0030e-03,  4.9856e-03,  5.4568e-03,\n",
       "           1.7855e-03],\n",
       "         [-1.6155e-02, -1.9413e-03, -3.9701e-03, -1.2165e-02, -1.2602e-03,\n",
       "          -8.0813e-03],\n",
       "         [ 3.5964e-03,  5.6924e-03,  3.4328e-04, -1.1778e-02, -7.4721e-03,\n",
       "           1.5772e-03],\n",
       "         [-1.0661e-02, -2.9555e-03, -3.1351e-03,  2.2408e-03,  1.4735e-02,\n",
       "          -3.2288e-03],\n",
       "         [ 3.5296e-03, -6.1447e-03,  1.0373e-03, -1.9636e-02,  1.2360e-02,\n",
       "           1.4212e-02],\n",
       "         [-1.0681e-02,  1.3563e-03, -1.7049e-02,  2.7756e-03, -5.3467e-03,\n",
       "           3.4818e-04],\n",
       "         [ 6.8925e-03, -8.6594e-03,  1.2888e-03,  5.7663e-03,  9.4138e-04,\n",
       "           2.8628e-03],\n",
       "         [-1.1746e-02, -1.2486e-02, -1.1488e-04, -6.7977e-04, -8.0588e-03,\n",
       "          -1.2513e-02],\n",
       "         [ 5.6534e-05,  2.1546e-04, -7.2593e-03,  2.8732e-03, -1.3235e-03,\n",
       "           7.4169e-03],\n",
       "         [ 2.8654e-03,  3.2996e-03, -1.4163e-03,  3.0365e-03,  3.4331e-03,\n",
       "          -1.6631e-02]], requires_grad=True),\n",
       " torch.Size([10, 6]))"
      ]
     },
     "execution_count": null,
     "metadata": {},
     "output_type": "execute_result"
    }
   ],
   "source": [
    "learn1.model.embeds[0].weight, learn1.model.embeds[0].weight.shape"
   ]
  },
  {
   "cell_type": "code",
   "execution_count": null,
   "metadata": {},
   "outputs": [
    {
     "data": {
      "text/html": [
       "<div>\n",
       "<style scoped>\n",
       "    .dataframe tbody tr th:only-of-type {\n",
       "        vertical-align: middle;\n",
       "    }\n",
       "\n",
       "    .dataframe tbody tr th {\n",
       "        vertical-align: top;\n",
       "    }\n",
       "\n",
       "    .dataframe thead th {\n",
       "        text-align: right;\n",
       "    }\n",
       "</style>\n",
       "<table border=\"1\" class=\"dataframe\">\n",
       "  <thead>\n",
       "    <tr style=\"text-align: right;\">\n",
       "      <th></th>\n",
       "      <th>age</th>\n",
       "      <th>workclass</th>\n",
       "      <th>fnlwgt</th>\n",
       "      <th>education</th>\n",
       "      <th>education-num</th>\n",
       "      <th>marital-status</th>\n",
       "      <th>occupation</th>\n",
       "      <th>relationship</th>\n",
       "      <th>race</th>\n",
       "      <th>sex</th>\n",
       "      <th>capital-gain</th>\n",
       "      <th>capital-loss</th>\n",
       "      <th>hours-per-week</th>\n",
       "      <th>native-country</th>\n",
       "      <th>salary</th>\n",
       "    </tr>\n",
       "  </thead>\n",
       "  <tbody>\n",
       "    <tr>\n",
       "      <th>32558</th>\n",
       "      <td>53</td>\n",
       "      <td>Private</td>\n",
       "      <td>157069</td>\n",
       "      <td>Assoc-acdm</td>\n",
       "      <td>12.0</td>\n",
       "      <td>Married-civ-spouse</td>\n",
       "      <td>Machine-op-inspct</td>\n",
       "      <td>Husband</td>\n",
       "      <td>White</td>\n",
       "      <td>Male</td>\n",
       "      <td>0</td>\n",
       "      <td>0</td>\n",
       "      <td>40</td>\n",
       "      <td>United-States</td>\n",
       "      <td>&gt;=50k</td>\n",
       "    </tr>\n",
       "    <tr>\n",
       "      <th>32559</th>\n",
       "      <td>32</td>\n",
       "      <td>Local-gov</td>\n",
       "      <td>217296</td>\n",
       "      <td>HS-grad</td>\n",
       "      <td>9.0</td>\n",
       "      <td>Married-civ-spouse</td>\n",
       "      <td>Transport-moving</td>\n",
       "      <td>Wife</td>\n",
       "      <td>White</td>\n",
       "      <td>Female</td>\n",
       "      <td>4064</td>\n",
       "      <td>0</td>\n",
       "      <td>22</td>\n",
       "      <td>United-States</td>\n",
       "      <td>&lt;50k</td>\n",
       "    </tr>\n",
       "    <tr>\n",
       "      <th>32560</th>\n",
       "      <td>26</td>\n",
       "      <td>Private</td>\n",
       "      <td>182308</td>\n",
       "      <td>Some-college</td>\n",
       "      <td>10.0</td>\n",
       "      <td>Married-civ-spouse</td>\n",
       "      <td>Prof-specialty</td>\n",
       "      <td>Husband</td>\n",
       "      <td>White</td>\n",
       "      <td>Male</td>\n",
       "      <td>0</td>\n",
       "      <td>0</td>\n",
       "      <td>40</td>\n",
       "      <td>United-States</td>\n",
       "      <td>&lt;50k</td>\n",
       "    </tr>\n",
       "    <tr>\n",
       "      <th>32561</th>\n",
       "      <td>49</td>\n",
       "      <td>Private</td>\n",
       "      <td>101320</td>\n",
       "      <td>Assoc-acdm</td>\n",
       "      <td>12.0</td>\n",
       "      <td>Married-civ-spouse</td>\n",
       "      <td>Exec-managerial</td>\n",
       "      <td>Wife</td>\n",
       "      <td>Robot</td>\n",
       "      <td>Female</td>\n",
       "      <td>0</td>\n",
       "      <td>1902</td>\n",
       "      <td>40</td>\n",
       "      <td>United-States</td>\n",
       "      <td>&gt;=50k</td>\n",
       "    </tr>\n",
       "    <tr>\n",
       "      <th>32562</th>\n",
       "      <td>18</td>\n",
       "      <td>Private</td>\n",
       "      <td>182308</td>\n",
       "      <td>Bachelors</td>\n",
       "      <td>10.0</td>\n",
       "      <td>Never-married</td>\n",
       "      <td>?</td>\n",
       "      <td>Own-child</td>\n",
       "      <td>Other</td>\n",
       "      <td>Male</td>\n",
       "      <td>0</td>\n",
       "      <td>0</td>\n",
       "      <td>23</td>\n",
       "      <td>United-States</td>\n",
       "      <td>&lt;50k</td>\n",
       "    </tr>\n",
       "  </tbody>\n",
       "</table>\n",
       "</div>"
      ],
      "text/plain": [
       "       age   workclass  fnlwgt      education  education-num  \\\n",
       "32558   53     Private  157069     Assoc-acdm           12.0   \n",
       "32559   32   Local-gov  217296        HS-grad            9.0   \n",
       "32560   26     Private  182308   Some-college           10.0   \n",
       "32561   49     Private  101320     Assoc-acdm           12.0   \n",
       "32562   18     Private  182308      Bachelors           10.0   \n",
       "\n",
       "            marital-status          occupation relationship    race      sex  \\\n",
       "32558   Married-civ-spouse   Machine-op-inspct      Husband   White     Male   \n",
       "32559   Married-civ-spouse    Transport-moving         Wife   White   Female   \n",
       "32560   Married-civ-spouse      Prof-specialty      Husband   White     Male   \n",
       "32561   Married-civ-spouse     Exec-managerial         Wife   Robot   Female   \n",
       "32562        Never-married                   ?    Own-child   Other     Male   \n",
       "\n",
       "       capital-gain  capital-loss  hours-per-week  native-country salary  \n",
       "32558             0             0              40   United-States  >=50k  \n",
       "32559          4064             0              22   United-States   <50k  \n",
       "32560             0             0              40   United-States   <50k  \n",
       "32561             0          1902              40   United-States  >=50k  \n",
       "32562             0             0              23   United-States   <50k  "
      ]
     },
     "execution_count": null,
     "metadata": {},
     "output_type": "execute_result"
    }
   ],
   "source": [
    "#We add robot to our \"race\" column\n",
    "new_rows = pd.DataFrame([[49,'Private',101320,'Assoc-acdm',12.0,'Married-civ-spouse','Exec-managerial','Wife','Robot','Female',0,1902,40,'United-States','>=50k'],\n",
    "                        [18,'Private',182308,'Bachelors',10.0,'Never-married','?','Own-child','Other','Male',0,0,23,'United-States','<50k']],\n",
    "                        columns=df1.columns)\n",
    "df2 = df1.copy()\n",
    "df2 = df2.append(new_rows, ignore_index=True)\n",
    "df2.tail()"
   ]
  },
  {
   "cell_type": "code",
   "execution_count": null,
   "metadata": {},
   "outputs": [],
   "source": [
    "splits2 = RandomSplitter(valid_pct=0.2)(range_of(df2))\n",
    "to2 = TabularPandas(df2, procs=[Categorify, FillMissing,Normalize],\n",
    "                   cat_names = ['workclass', 'education', 'marital-status', 'occupation', 'relationship', 'race'],\n",
    "                   cont_names = ['age', 'fnlwgt', 'education-num'],\n",
    "                   y_names='salary',\n",
    "                   splits=splits2)\n",
    "dls2 = to2.dataloaders(bs=64)\n",
    "learn2 = tabular_learner(dls2, metrics=accuracy)"
   ]
  },
  {
   "cell_type": "code",
   "execution_count": null,
   "metadata": {},
   "outputs": [
    {
     "data": {
      "text/plain": [
       "ModuleList(\n",
       "  (0): Embedding(11, 6)\n",
       "  (1): Embedding(19, 8)\n",
       "  (2): Embedding(10, 6)\n",
       "  (3): Embedding(18, 8)\n",
       "  (4): Embedding(9, 5)\n",
       "  (5): Embedding(8, 5)\n",
       "  (6): Embedding(3, 3)\n",
       ")"
      ]
     },
     "execution_count": null,
     "metadata": {},
     "output_type": "execute_result"
    }
   ],
   "source": [
    "learn2.model.embeds"
   ]
  },
  {
   "cell_type": "code",
   "execution_count": null,
   "metadata": {},
   "outputs": [
    {
     "data": {
      "text/plain": [
       "(#7) ['workclass','education','marital-status','occupation','relationship','race','education-num_na']"
      ]
     },
     "execution_count": null,
     "metadata": {},
     "output_type": "execute_result"
    }
   ],
   "source": [
    "learn1.dls.cat_names"
   ]
  },
  {
   "cell_type": "code",
   "execution_count": null,
   "metadata": {},
   "outputs": [
    {
     "data": {
      "text/plain": [
       "{'workclass': ['#na#', ' ?', ' Federal-gov', ' Local-gov', ' Never-worked', ' Private', ' Self-emp-inc', ' Self-emp-not-inc', ' State-gov', ' Without-pay'],\n",
       " 'education': ['#na#', ' 10th', ' 11th', ' 12th', ' 1st-4th', ' 5th-6th', ' 7th-8th', ' 9th', ' Assoc-acdm', ' Assoc-voc', ' Bachelors', ' Doctorate', ' HS-grad', ' Masters', ' Preschool', ' Prof-school', ' Some-college'],\n",
       " 'marital-status': ['#na#', ' Divorced', ' Married-AF-spouse', ' Married-civ-spouse', ' Married-spouse-absent', ' Never-married', ' Separated', ' Widowed'],\n",
       " 'occupation': ['#na#', ' ?', ' Adm-clerical', ' Armed-Forces', ' Craft-repair', ' Exec-managerial', ' Farming-fishing', ' Handlers-cleaners', ' Machine-op-inspct', ' Other-service', ' Priv-house-serv', ' Prof-specialty', ' Protective-serv', ' Sales', ' Tech-support', ' Transport-moving'],\n",
       " 'relationship': ['#na#', ' Husband', ' Not-in-family', ' Other-relative', ' Own-child', ' Unmarried', ' Wife'],\n",
       " 'race': ['#na#', ' Amer-Indian-Eskimo', ' Asian-Pac-Islander', ' Black', ' Other', ' White'],\n",
       " 'education-num_na': ['#na#', False, True]}"
      ]
     },
     "execution_count": null,
     "metadata": {},
     "output_type": "execute_result"
    }
   ],
   "source": [
    "learn1.dls.classes"
   ]
  },
  {
   "cell_type": "code",
   "execution_count": null,
   "metadata": {},
   "outputs": [
    {
     "name": "stdout",
     "output_type": "stream",
     "text": [
      "epoch     train_loss  valid_loss  accuracy  time    \n",
      "0         0.375889    0.347853    0.838759  00:04     \n"
     ]
    }
   ],
   "source": [
    "learn1.fit(1)"
   ]
  },
  {
   "cell_type": "code",
   "execution_count": null,
   "metadata": {},
   "outputs": [],
   "source": [
    "temp = 1"
   ]
  },
  {
   "cell_type": "code",
   "execution_count": null,
   "metadata": {},
   "outputs": [],
   "source": [
    "#export\n",
    "class TabTransfer:\n",
    "    def __init__(self, old_learner, new_learner):\n",
    "        self.old_cat_names = old_learner.dls.cat_names\n",
    "        self.old_all_classes = old_learner.dls.classes\n",
    "        self.old_learner = old_learner\n",
    "        \n",
    "        self.new_cat_names = new_learner.dls.cat_names\n",
    "        self.new_all_classes = new_learner.dls.classes\n",
    "        self.new_learner = new_learner\n",
    "        \n",
    "        \n",
    "    def transfer(self, cat_names_to_transfer, verbose=False):\n",
    "        self.transfer_list = cat_names_to_transfer\n",
    "        for curr_cat in self.transfer_list:\n",
    "            if not (curr_cat in self.old_cat_names and curr_cat in self.new_cat_names):\n",
    "                continue\n",
    "            old_cat_idx = self.old_cat_names.index(curr_cat)\n",
    "            new_cat_idx = self.new_cat_names.index(curr_cat)\n",
    "            \n",
    "            \n",
    "            \n",
    "            # TODO: Make it so that this isn't required by taking care of this.\n",
    "            try: assert (self.old_learner.model.embeds[old_cat_idx].embedding_dim == self.new_learner.model.embeds[new_cat_idx].embedding_dim)\n",
    "            except: \n",
    "                print(f\"Encountered an error for variable {curr_cat}: Make sure embeddings dimensions are same for {self.old_learner.model.embeds[old_cat_idx]} and {self.new_learner.model.embeds[new_cat_idx]}\")\n",
    "                print(\"Moving on to other cat vars\")\n",
    "                continue\n",
    "            \n",
    "            old_curr_classes = self.old_all_classes[curr_cat]\n",
    "            new_curr_classes = self.new_all_classes[curr_cat]\n",
    "            global temp\n",
    "            temp = new_curr_classes\n",
    "#             if old_curr_classes<new_curr_classes:\n",
    "#                 sitch = 1\n",
    "#             else if old_curr_classes=new_curr_classes:\n",
    "#                 sitch = 2\n",
    "#             else if old_curr_classes<new_curr_classes:\n",
    "#                 sitch = 3\n",
    "            \n",
    "            weights_mean = self.old_learner.model.embeds[old_cat_idx].weight.mean(0)\n",
    "            if verbose: print(f'mean is {weights_mean} for {self.old_learner.model.embeds[old_cat_idx].weight}')\n",
    "                \n",
    "#             switch(sitch):\n",
    "#                 case 1: \n",
    "\n",
    "            # Case where some category in old, but not in new isn't being handled rn.\n",
    "\n",
    "            for new_curr_class in new_curr_classes:\n",
    "                new_curr_class_idx = new_curr_classes.o2i[new_curr_class]\n",
    "                if verbose: print(f\"{new_curr_class_idx}, {type(new_curr_class_idx)}\")\n",
    "                \n",
    "                if new_curr_class in old_curr_classes:\n",
    "                    old_curr_class_idx = old_curr_classes.o2i[new_curr_class]\n",
    "                    if verbose: print(f'Transferring weights for class {new_curr_class}, cat {curr_cat} from previous weights')\n",
    "                    if verbose: print(f\"old weight for class is {self.new_learner.model.embeds[new_cat_idx].weight[new_curr_class_idx, :]}\")\n",
    "                    tempwgt1 = self.new_learner.model.embeds[new_cat_idx].weight[new_curr_class_idx, :]\n",
    "                    tempwgt2 = self.old_learner.model.embeds[old_cat_idx].weight[old_curr_class_idx, :]\n",
    "                    self.new_learner.model.embeds[new_cat_idx].weight.data[new_curr_class_idx, :] = self.old_learner.model.embeds[old_cat_idx].weight[old_curr_class_idx, :].detach().clone()\n",
    "                    self.new_learner.model.embeds[new_cat_idx].weight[new_curr_class_idx, :].required_grad = True\n",
    "                    if verbose: print(f\"new weight for class is {self.new_learner.model.embeds[new_cat_idx].weight[new_curr_class_idx, :]}\")\n",
    "                else:\n",
    "                    if verbose: print(f'Transferring weights for class {new_curr_class}, cat {curr_cat} using mean')\n",
    "                    if verbose: print(f\"old weight for class is {self.new_learner.model.embeds[new_cat_idx].weight[new_curr_class_idx, :]}\")\n",
    "                    self.new_learner.model.embeds[new_cat_idx].weight.data[new_curr_class_idx, :] = weights_mean\n",
    "                    self.new_learner.model.embeds[new_cat_idx].weight[new_curr_class_idx, :].required_grad = True\n",
    "                    if verbose: print(f\"new weight for class is {self.new_learner.model.embeds[new_cat_idx].weight[new_curr_class_idx, :]}\")"
   ]
  },
  {
   "cell_type": "code",
   "execution_count": null,
   "metadata": {},
   "outputs": [
    {
     "data": {
      "text/plain": [
       "6"
      ]
     },
     "execution_count": null,
     "metadata": {},
     "output_type": "execute_result"
    }
   ],
   "source": [
    "learn1.model.embeds[0].embedding_dim"
   ]
  },
  {
   "cell_type": "code",
   "execution_count": null,
   "metadata": {},
   "outputs": [],
   "source": [
    "tabobj = TabTransfer(learn1, learn2)"
   ]
  },
  {
   "cell_type": "code",
   "execution_count": null,
   "metadata": {},
   "outputs": [
    {
     "name": "stdout",
     "output_type": "stream",
     "text": [
      "Encountered an error for variable race: Make sure embeddings dimensions are same for Embedding(6, 4) and Embedding(8, 5)\n",
      "Moving on to other cat vars\n",
      "mean is tensor([-0.0117,  0.0015, -0.0070, -0.0041, -0.0016, -0.0030],\n",
      "       grad_fn=<MeanBackward1>) for Parameter containing:\n",
      "tensor([[-0.0095, -0.0080, -0.0010,  0.0050,  0.0054,  0.0018],\n",
      "        [-0.0257,  0.0145, -0.0246, -0.0116, -0.0239, -0.0175],\n",
      "        [ 0.0356, -0.0378,  0.0255,  0.0302,  0.0010,  0.0535],\n",
      "        [-0.0335, -0.0008, -0.0040, -0.0088,  0.0437, -0.0234],\n",
      "        [-0.0035,  0.0144, -0.0053, -0.0161,  0.0081,  0.0213],\n",
      "        [ 0.0246, -0.0193, -0.0273,  0.0203, -0.0426,  0.0175],\n",
      "        [ 0.0327, -0.0590,  0.0567,  0.0367,  0.0288,  0.0402],\n",
      "        [-0.0485,  0.0436, -0.0329, -0.0606, -0.0063, -0.0495],\n",
      "        [-0.0470,  0.0217, -0.0159,  0.0074,  0.0009, -0.0349],\n",
      "        [-0.0424,  0.0456, -0.0409, -0.0431, -0.0314, -0.0390]],\n",
      "       requires_grad=True)\n",
      "0, <class 'int'>\n",
      "Transferring weights for class #na#, cat workclass from previous weights\n",
      "old weight for class is tensor([-0.0095, -0.0080, -0.0010,  0.0050,  0.0054,  0.0018],\n",
      "       grad_fn=<SliceBackward>)\n",
      "new weight for class is tensor([-0.0095, -0.0080, -0.0010,  0.0050,  0.0054,  0.0018],\n",
      "       grad_fn=<SliceBackward>)\n",
      "1, <class 'int'>\n",
      "Transferring weights for class  ?, cat workclass from previous weights\n",
      "old weight for class is tensor([-0.0257,  0.0145, -0.0246, -0.0116, -0.0239, -0.0175],\n",
      "       grad_fn=<SliceBackward>)\n",
      "new weight for class is tensor([-0.0257,  0.0145, -0.0246, -0.0116, -0.0239, -0.0175],\n",
      "       grad_fn=<SliceBackward>)\n",
      "2, <class 'int'>\n",
      "Transferring weights for class  Federal-gov, cat workclass from previous weights\n",
      "old weight for class is tensor([ 0.0356, -0.0378,  0.0255,  0.0302,  0.0010,  0.0535],\n",
      "       grad_fn=<SliceBackward>)\n",
      "new weight for class is tensor([ 0.0356, -0.0378,  0.0255,  0.0302,  0.0010,  0.0535],\n",
      "       grad_fn=<SliceBackward>)\n",
      "3, <class 'int'>\n",
      "Transferring weights for class  Local-gov, cat workclass from previous weights\n",
      "old weight for class is tensor([-0.0335, -0.0008, -0.0040, -0.0088,  0.0437, -0.0234],\n",
      "       grad_fn=<SliceBackward>)\n",
      "new weight for class is tensor([-0.0335, -0.0008, -0.0040, -0.0088,  0.0437, -0.0234],\n",
      "       grad_fn=<SliceBackward>)\n",
      "4, <class 'int'>\n",
      "Transferring weights for class  Never-worked, cat workclass from previous weights\n",
      "old weight for class is tensor([-0.0035,  0.0144, -0.0053, -0.0161,  0.0081,  0.0213],\n",
      "       grad_fn=<SliceBackward>)\n",
      "new weight for class is tensor([-0.0035,  0.0144, -0.0053, -0.0161,  0.0081,  0.0213],\n",
      "       grad_fn=<SliceBackward>)\n",
      "5, <class 'int'>\n",
      "Transferring weights for class  Private, cat workclass from previous weights\n",
      "old weight for class is tensor([ 0.0246, -0.0193, -0.0273,  0.0203, -0.0426,  0.0175],\n",
      "       grad_fn=<SliceBackward>)\n",
      "new weight for class is tensor([ 0.0246, -0.0193, -0.0273,  0.0203, -0.0426,  0.0175],\n",
      "       grad_fn=<SliceBackward>)\n",
      "6, <class 'int'>\n",
      "Transferring weights for class  Self-emp-inc, cat workclass from previous weights\n",
      "old weight for class is tensor([ 0.0327, -0.0590,  0.0567,  0.0367,  0.0288,  0.0402],\n",
      "       grad_fn=<SliceBackward>)\n",
      "new weight for class is tensor([ 0.0327, -0.0590,  0.0567,  0.0367,  0.0288,  0.0402],\n",
      "       grad_fn=<SliceBackward>)\n",
      "7, <class 'int'>\n",
      "Transferring weights for class  Self-emp-not-inc, cat workclass from previous weights\n",
      "old weight for class is tensor([-0.0485,  0.0436, -0.0329, -0.0606, -0.0063, -0.0495],\n",
      "       grad_fn=<SliceBackward>)\n",
      "new weight for class is tensor([-0.0485,  0.0436, -0.0329, -0.0606, -0.0063, -0.0495],\n",
      "       grad_fn=<SliceBackward>)\n",
      "8, <class 'int'>\n",
      "Transferring weights for class  State-gov, cat workclass from previous weights\n",
      "old weight for class is tensor([-0.0470,  0.0217, -0.0159,  0.0074,  0.0009, -0.0349],\n",
      "       grad_fn=<SliceBackward>)\n",
      "new weight for class is tensor([-0.0470,  0.0217, -0.0159,  0.0074,  0.0009, -0.0349],\n",
      "       grad_fn=<SliceBackward>)\n",
      "9, <class 'int'>\n",
      "Transferring weights for class  Without-pay, cat workclass from previous weights\n",
      "old weight for class is tensor([-0.0424,  0.0456, -0.0409, -0.0431, -0.0314, -0.0390],\n",
      "       grad_fn=<SliceBackward>)\n",
      "new weight for class is tensor([-0.0424,  0.0456, -0.0409, -0.0431, -0.0314, -0.0390],\n",
      "       grad_fn=<SliceBackward>)\n",
      "10, <class 'int'>\n",
      "Transferring weights for class Private, cat workclass using mean\n",
      "old weight for class is tensor([-0.0117,  0.0015, -0.0070, -0.0041, -0.0016, -0.0030],\n",
      "       grad_fn=<SliceBackward>)\n",
      "new weight for class is tensor([-0.0117,  0.0015, -0.0070, -0.0041, -0.0016, -0.0030],\n",
      "       grad_fn=<SliceBackward>)\n"
     ]
    }
   ],
   "source": [
    "tabobj.transfer([\"race\", \"workclass\"], verbose = True)"
   ]
  },
  {
   "cell_type": "code",
   "execution_count": null,
   "metadata": {},
   "outputs": [],
   "source": []
  }
 ],
 "metadata": {
  "kernelspec": {
   "display_name": "Python 3.9 (XPython)",
   "language": "python",
   "name": "xpython"
  }
 },
 "nbformat": 4,
 "nbformat_minor": 4
}
