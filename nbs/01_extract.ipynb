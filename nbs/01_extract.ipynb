{
 "cells": [
  {
   "cell_type": "code",
   "execution_count": null,
   "source": [
    "# default_exp extract"
   ],
   "outputs": [],
   "metadata": {}
  },
  {
   "cell_type": "markdown",
   "source": [
    "# Extraction Utilities\n",
    "> Contains helpful functions for extracting embeddings and preparing data for it."
   ],
   "metadata": {}
  },
  {
   "cell_type": "code",
   "execution_count": null,
   "source": [
    "#export\n",
    "import json\n",
    "import torch.nn as nn\n",
    "import pandas as pd\n",
    "from fastcore.dispatch import *\n",
    "from transfertab.utils import *"
   ],
   "outputs": [],
   "metadata": {}
  },
  {
   "cell_type": "code",
   "execution_count": null,
   "source": [
    "import os"
   ],
   "outputs": [],
   "metadata": {}
  },
  {
   "cell_type": "code",
   "execution_count": 1,
   "source": [
    "from nbdev.test import *\n",
    "test_nb('02_transfer.ipynb')"
   ],
   "outputs": [],
   "metadata": {}
  },
  {
   "cell_type": "code",
   "execution_count": null,
   "source": [
    "emb_szs = ((3, 10), (4, 8))"
   ],
   "outputs": [],
   "metadata": {}
  },
  {
   "cell_type": "code",
   "execution_count": null,
   "source": [
    "embed = nn.ModuleList([nn.Embedding(ni, nf) for ni,nf in emb_szs])\n",
    "embed"
   ],
   "outputs": [
    {
     "output_type": "execute_result",
     "data": {
      "text/plain": [
       "ModuleList(\n",
       "  (0): Embedding(3, 10)\n",
       "  (1): Embedding(4, 8)\n",
       ")"
      ]
     },
     "metadata": {},
     "execution_count": null
    }
   ],
   "metadata": {}
  },
  {
   "cell_type": "code",
   "execution_count": null,
   "source": [
    "#export\n",
    "class JSONizerWithBool(json.JSONEncoder):\n",
    "    def default(self, obj):\n",
    "        return super().encode(bool(obj)) \\\n",
    "            if isinstance(obj, np.bool_) \\\n",
    "            else super().default(obj)"
   ],
   "outputs": [],
   "metadata": {}
  },
  {
   "cell_type": "code",
   "execution_count": null,
   "source": [
    "#export\n",
    "def _catdict2embedsdictstruct(catdict):\n",
    "    embedsdict = {}\n",
    "    for cat, classes in catdict.items():\n",
    "        embedsdict[cat] = {}\n",
    "        embedsdict[cat][\"classes\"] = classes\n",
    "    return embedsdict"
   ],
   "outputs": [],
   "metadata": {}
  },
  {
   "cell_type": "code",
   "execution_count": null,
   "source": [
    "#export\n",
    "@typedispatch\n",
    "def extractembeds(model: nn.Module, df: pd.DataFrame, *, transfercats, allcats, path=None, kind=\"bson\"):\n",
    "    catdict = getcatdict(df, transfercats)\n",
    "    return extractembeds(model, catdict, transfercats=transfercats, allcats=allcats, path=path, kind=kind)\n",
    "\n",
    "\n",
    "@typedispatch\n",
    "def extractembeds(model: nn.Module, catdict: dict, *, transfercats, allcats, path=None, kind=\"bson\"):\n",
    "    '''\n",
    "    Extracts embedding weights from `model`, which can be further transferred to other models.\n",
    "    \n",
    "    model: Any pytorch model, containing the embedding layers.\n",
    "    catdict: A dictionary with category as key, and classes as value.\n",
    "    transfercats: Names of categories to be transferred.\n",
    "    allcats: Names of all categories corresponding to the embedding layers in model.\n",
    "    path: Path for the json to be stored.\n",
    "    '''\n",
    "    embedsdict = _catdict2embedsdictstruct(catdict)\n",
    "    model_dict = list(model.state_dict().items())\n",
    "    for i, cat in enumerate(transfercats):\n",
    "        classes = catdict[cat]\n",
    "        catidx = allcats.index(cat)\n",
    "        assert (model_dict[catidx][1].shape[0] == len(classes)), \\\n",
    "            (f\"embeddings dimension {model_dict[catidx][1].shape[0]} !=\"\n",
    "            f\"num of classes {len(classes)} for vairable {cat}. Embeddings should have\"\n",
    "            f\"same number of classes. Something might have gone wrong.\")\n",
    "        embedsdict[cat][\"embeddings\"] = model_dict[catidx][1].numpy().tolist()\n",
    "    if (path != None):\n",
    "        with open(path, 'w') as fp:\n",
    "            json.dump(embedsdict, fp, cls = JSONizerWithBool) if kind == \"json\" else store_bson(path, embedsdict)\n",
    "    return embedsdict"
   ],
   "outputs": [],
   "metadata": {}
  },
  {
   "cell_type": "code",
   "execution_count": null,
   "source": [
    "df = pd.DataFrame({\"cat1\": [1, 2, 3, 4, 5], \"cat2\": ['a', 'b', 'c', 'b', 'a'], \"cat3\": ['A', 'B', 'C', 'D', 'A']})\n",
    "df"
   ],
   "outputs": [
    {
     "output_type": "execute_result",
     "data": {
      "text/html": [
       "<div>\n",
       "<style scoped>\n",
       "    .dataframe tbody tr th:only-of-type {\n",
       "        vertical-align: middle;\n",
       "    }\n",
       "\n",
       "    .dataframe tbody tr th {\n",
       "        vertical-align: top;\n",
       "    }\n",
       "\n",
       "    .dataframe thead th {\n",
       "        text-align: right;\n",
       "    }\n",
       "</style>\n",
       "<table border=\"1\" class=\"dataframe\">\n",
       "  <thead>\n",
       "    <tr style=\"text-align: right;\">\n",
       "      <th></th>\n",
       "      <th>cat1</th>\n",
       "      <th>cat2</th>\n",
       "      <th>cat3</th>\n",
       "    </tr>\n",
       "  </thead>\n",
       "  <tbody>\n",
       "    <tr>\n",
       "      <th>0</th>\n",
       "      <td>1</td>\n",
       "      <td>a</td>\n",
       "      <td>A</td>\n",
       "    </tr>\n",
       "    <tr>\n",
       "      <th>1</th>\n",
       "      <td>2</td>\n",
       "      <td>b</td>\n",
       "      <td>B</td>\n",
       "    </tr>\n",
       "    <tr>\n",
       "      <th>2</th>\n",
       "      <td>3</td>\n",
       "      <td>c</td>\n",
       "      <td>C</td>\n",
       "    </tr>\n",
       "    <tr>\n",
       "      <th>3</th>\n",
       "      <td>4</td>\n",
       "      <td>b</td>\n",
       "      <td>D</td>\n",
       "    </tr>\n",
       "    <tr>\n",
       "      <th>4</th>\n",
       "      <td>5</td>\n",
       "      <td>a</td>\n",
       "      <td>A</td>\n",
       "    </tr>\n",
       "  </tbody>\n",
       "</table>\n",
       "</div>"
      ],
      "text/plain": [
       "   cat1 cat2 cat3\n",
       "0     1    a    A\n",
       "1     2    b    B\n",
       "2     3    c    C\n",
       "3     4    b    D\n",
       "4     5    a    A"
      ]
     },
     "metadata": {},
     "execution_count": null
    }
   ],
   "metadata": {}
  },
  {
   "cell_type": "code",
   "execution_count": null,
   "source": [
    "catdict = getcatdict(df, (\"cat2\", \"cat3\"))\n",
    "cats = (\"cat2\", \"cat3\")"
   ],
   "outputs": [],
   "metadata": {}
  },
  {
   "cell_type": "code",
   "execution_count": null,
   "source": [
    "embdict = extractembeds(embed, df, transfercats=cats, allcats=cats, path=\"tempwtbson\", kind=\"bson\")\n",
    "embdict"
   ],
   "outputs": [
    {
     "output_type": "execute_result",
     "data": {
      "text/plain": [
       "{'cat2': {'classes': ['a', 'b', 'c'],\n",
       "  'embeddings': [[0.31570491194725037,\n",
       "    -0.07632226496934891,\n",
       "    1.5683248043060303,\n",
       "    -0.417350172996521,\n",
       "    -0.10798821598291397,\n",
       "    1.4268646240234375,\n",
       "    -0.22982962429523468,\n",
       "    -0.16915012896060944,\n",
       "    0.002859442261978984,\n",
       "    -0.4939035475254059],\n",
       "   [0.6530274748802185,\n",
       "    -0.5577511191368103,\n",
       "    -0.9275949001312256,\n",
       "    -0.06805138289928436,\n",
       "    -2.2739336490631104,\n",
       "    0.1566399186849594,\n",
       "    -0.0531904362142086,\n",
       "    -0.43463948369026184,\n",
       "    -0.0794961154460907,\n",
       "    0.4645240008831024],\n",
       "   [1.0870261192321777,\n",
       "    -0.22893156111240387,\n",
       "    -0.253396600484848,\n",
       "    -0.3393022119998932,\n",
       "    -2.0341274738311768,\n",
       "    -0.31127995252609253,\n",
       "    0.3499477803707123,\n",
       "    -1.9891204833984375,\n",
       "    0.674164891242981,\n",
       "    -1.3391718864440918]]},\n",
       " 'cat3': {'classes': ['A', 'B', 'C', 'D'],\n",
       "  'embeddings': [[1.3585036993026733,\n",
       "    0.024397719651460648,\n",
       "    0.4804745614528656,\n",
       "    1.1160022020339966,\n",
       "    0.8734705448150635,\n",
       "    0.784949004650116,\n",
       "    -0.5678505897521973,\n",
       "    0.33350786566734314],\n",
       "   [0.3660596013069153,\n",
       "    -0.9798707962036133,\n",
       "    -0.2037343829870224,\n",
       "    -0.22464202344417572,\n",
       "    -1.0697559118270874,\n",
       "    -0.6113787889480591,\n",
       "    -0.9179865717887878,\n",
       "    -0.8937533497810364],\n",
       "   [1.278954029083252,\n",
       "    0.18886688351631165,\n",
       "    1.2901731729507446,\n",
       "    0.5247588157653809,\n",
       "    1.2530524730682373,\n",
       "    -0.898102343082428,\n",
       "    1.1512700319290161,\n",
       "    1.5226550102233887],\n",
       "   [-0.6129401922225952,\n",
       "    -0.38670244812965393,\n",
       "    0.7002972364425659,\n",
       "    -1.2176426649093628,\n",
       "    0.5013972520828247,\n",
       "    -1.5657707452774048,\n",
       "    -2.1267337799072266,\n",
       "    0.5773623585700989]]}}"
      ]
     },
     "metadata": {},
     "execution_count": null
    }
   ],
   "metadata": {}
  },
  {
   "cell_type": "code",
   "execution_count": null,
   "source": [
    "embdict = extractembeds(embed, df, transfercats=cats, allcats=cats, path=\"tempwtjson\", kind=\"json\")\n",
    "embdict"
   ],
   "outputs": [
    {
     "output_type": "execute_result",
     "data": {
      "text/plain": [
       "{'cat2': {'classes': ['a', 'b', 'c'],\n",
       "  'embeddings': [[0.31570491194725037,\n",
       "    -0.07632226496934891,\n",
       "    1.5683248043060303,\n",
       "    -0.417350172996521,\n",
       "    -0.10798821598291397,\n",
       "    1.4268646240234375,\n",
       "    -0.22982962429523468,\n",
       "    -0.16915012896060944,\n",
       "    0.002859442261978984,\n",
       "    -0.4939035475254059],\n",
       "   [0.6530274748802185,\n",
       "    -0.5577511191368103,\n",
       "    -0.9275949001312256,\n",
       "    -0.06805138289928436,\n",
       "    -2.2739336490631104,\n",
       "    0.1566399186849594,\n",
       "    -0.0531904362142086,\n",
       "    -0.43463948369026184,\n",
       "    -0.0794961154460907,\n",
       "    0.4645240008831024],\n",
       "   [1.0870261192321777,\n",
       "    -0.22893156111240387,\n",
       "    -0.253396600484848,\n",
       "    -0.3393022119998932,\n",
       "    -2.0341274738311768,\n",
       "    -0.31127995252609253,\n",
       "    0.3499477803707123,\n",
       "    -1.9891204833984375,\n",
       "    0.674164891242981,\n",
       "    -1.3391718864440918]]},\n",
       " 'cat3': {'classes': ['A', 'B', 'C', 'D'],\n",
       "  'embeddings': [[1.3585036993026733,\n",
       "    0.024397719651460648,\n",
       "    0.4804745614528656,\n",
       "    1.1160022020339966,\n",
       "    0.8734705448150635,\n",
       "    0.784949004650116,\n",
       "    -0.5678505897521973,\n",
       "    0.33350786566734314],\n",
       "   [0.3660596013069153,\n",
       "    -0.9798707962036133,\n",
       "    -0.2037343829870224,\n",
       "    -0.22464202344417572,\n",
       "    -1.0697559118270874,\n",
       "    -0.6113787889480591,\n",
       "    -0.9179865717887878,\n",
       "    -0.8937533497810364],\n",
       "   [1.278954029083252,\n",
       "    0.18886688351631165,\n",
       "    1.2901731729507446,\n",
       "    0.5247588157653809,\n",
       "    1.2530524730682373,\n",
       "    -0.898102343082428,\n",
       "    1.1512700319290161,\n",
       "    1.5226550102233887],\n",
       "   [-0.6129401922225952,\n",
       "    -0.38670244812965393,\n",
       "    0.7002972364425659,\n",
       "    -1.2176426649093628,\n",
       "    0.5013972520828247,\n",
       "    -1.5657707452774048,\n",
       "    -2.1267337799072266,\n",
       "    0.5773623585700989]]}}"
      ]
     },
     "metadata": {},
     "execution_count": null
    }
   ],
   "metadata": {}
  },
  {
   "cell_type": "code",
   "execution_count": null,
   "source": [
    "load_bson(\"tempwtbson\") == embdict"
   ],
   "outputs": [
    {
     "output_type": "execute_result",
     "data": {
      "text/plain": [
       "True"
      ]
     },
     "metadata": {},
     "execution_count": null
    }
   ],
   "metadata": {}
  },
  {
   "cell_type": "code",
   "execution_count": null,
   "source": [
    "os.remove(\"tempwtbson\")\n",
    "os.remove(\"tempwtjson\")"
   ],
   "outputs": [],
   "metadata": {}
  },
  {
   "cell_type": "markdown",
   "source": [
    "### Export"
   ],
   "metadata": {}
  },
  {
   "cell_type": "code",
   "execution_count": null,
   "source": [
    "#export\n",
    "_all_ = ['extractembeds']"
   ],
   "outputs": [],
   "metadata": {}
  },
  {
   "cell_type": "code",
   "execution_count": null,
   "source": [
    "#hide\n",
    "from nbdev.export import notebook2script\n",
    "notebook2script()"
   ],
   "outputs": [
    {
     "output_type": "stream",
     "name": "stdout",
     "text": [
      "Converted 00_utils.ipynb.\n",
      "Converted 01_extract.ipynb.\n",
      "Converted 02_transfer.ipynb.\n",
      "Converted 03_load_tests.ipynb.\n",
      "Converted index.ipynb.\n"
     ]
    }
   ],
   "metadata": {}
  },
  {
   "cell_type": "code",
   "execution_count": null,
   "source": [],
   "outputs": [],
   "metadata": {}
  }
 ],
 "metadata": {
  "kernelspec": {
   "name": "python3",
   "display_name": "Python 3.8.10 64-bit"
  },
  "language_info": {
   "name": "python",
   "version": "3.8.10",
   "mimetype": "text/x-python",
   "codemirror_mode": {
    "name": "ipython",
    "version": 3
   },
   "pygments_lexer": "ipython3",
   "nbconvert_exporter": "python",
   "file_extension": ".py"
  },
  "interpreter": {
   "hash": "e7370f93d1d0cde622a1f8e1c04877d8463912d04d973331ad4851f04de6915a"
  }
 },
 "nbformat": 4,
 "nbformat_minor": 5
}