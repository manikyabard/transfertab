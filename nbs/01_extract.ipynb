{
 "cells": [
  {
   "cell_type": "code",
   "execution_count": null,
   "id": "46319d43-2418-44d7-bee3-b05fe93e1dfd",
   "metadata": {},
   "outputs": [],
   "source": [
    "# default_exp utils"
   ]
  },
  {
   "cell_type": "markdown",
   "id": "822feb06-53e1-48eb-8e00-55c7f95ccb3f",
   "metadata": {},
   "source": [
    "# Extraction Utilities\n",
    "> Contains helpful functions for extracting embeddings and preparing data for it."
   ]
  },
  {
   "cell_type": "code",
   "execution_count": null,
   "id": "5051e6e9-081e-4bde-9a69-5c8742b5f55f",
   "metadata": {},
   "outputs": [],
   "source": [
    "#export\n",
    "from copy import deepcopy\n",
    "import json\n",
    "import torch\n",
    "import torch.nn as nn\n",
    "import pandas as pd\n",
    "from fastcore.dispatch import *"
   ]
  },
  {
   "cell_type": "code",
   "execution_count": null,
   "id": "7f391671-ad32-4d3e-a83e-2c6cb80e45e6",
   "metadata": {},
   "outputs": [],
   "source": [
    "emb_szs = ((3, 10), (4, 8))"
   ]
  },
  {
   "cell_type": "code",
   "execution_count": null,
   "id": "6fb2d721-3496-4cbc-ad85-53ffcdd0a2ad",
   "metadata": {},
   "outputs": [
    {
     "data": {
      "text/plain": [
       "ModuleList(\n",
       "  (0): Embedding(3, 10)\n",
       "  (1): Embedding(4, 8)\n",
       ")"
      ]
     },
     "execution_count": null,
     "metadata": {},
     "output_type": "execute_result"
    }
   ],
   "source": [
    "embed = nn.ModuleList([nn.Embedding(ni, nf) for ni,nf in emb_szs])\n",
    "embed"
   ]
  },
  {
   "cell_type": "code",
   "execution_count": null,
   "id": "a25600a1-4b89-4a8f-b637-73c3b8503977",
   "metadata": {},
   "outputs": [],
   "source": [
    "#export\n",
    "class JSONizerWithBool(json.JSONEncoder):\n",
    "    def default(self, obj):\n",
    "        return super().encode(bool(obj)) \\\n",
    "            if isinstance(obj, np.bool_) \\\n",
    "            else super().default(obj)"
   ]
  },
  {
   "cell_type": "code",
   "execution_count": null,
   "id": "a3620add-95a3-48b0-a665-6a486c1a1044",
   "metadata": {},
   "outputs": [],
   "source": [
    "#export\n",
    "def getcatdict(df, catcols=None):\n",
    "    if catcols == None:\n",
    "        columns = list(df.columns)\n",
    "        catcols = list(map(lambda arg: columns[arg[0]], filter(lambda arg: arg[1] == 'object', enumerate(df.dtypes))))\n",
    "    catdict = {}\n",
    "    for cat in catcols:\n",
    "        catdict[cat] = list(df[cat].unique())\n",
    "    return catdict\n",
    "\n",
    "def _catdict2embedsdictstruct(catdict):\n",
    "    embedsdict = {}\n",
    "    for cat, classes in catdict.items():\n",
    "        embedsdict[cat] = {}\n",
    "        embedsdict[cat][\"classes\"] = classes\n",
    "    return embedsdict"
   ]
  },
  {
   "cell_type": "code",
   "execution_count": null,
   "id": "98e24fea-3791-4bcf-a9fd-110e43f9bb54",
   "metadata": {},
   "outputs": [
    {
     "data": {
      "text/plain": [
       "True"
      ]
     },
     "execution_count": null,
     "metadata": {},
     "output_type": "execute_result"
    }
   ],
   "source": [
    "#hide\n",
    "issubclass(type(embed), nn.Module)"
   ]
  },
  {
   "cell_type": "code",
   "execution_count": null,
   "id": "09339231-2bed-4079-96f8-34eea858dd94",
   "metadata": {},
   "outputs": [],
   "source": [
    "#export\n",
    "@typedispatch\n",
    "def extractembeds(model: nn.Module, df: pd.DataFrame, *, transfercats, allcats, path=None):\n",
    "    catdict = getcatdict(df, transfercats)\n",
    "    return extractembeds(model, catdict, transfercats=transfercats, allcats=allcats, path=path)\n",
    "\n",
    "\n",
    "@typedispatch\n",
    "def extractembeds(model: nn.Module, catdict: dict, *, transfercats, allcats, path=None):\n",
    "    '''\n",
    "    Extracts embedding weights from `model`, which can be further transferred to other models.\n",
    "    \n",
    "    model: Any pytorch model, containing the embedding layers.\n",
    "    catdict: A dictionary with category as key, and classes as value.\n",
    "    transfercats: Names of categories to be transferred.\n",
    "    allcats: Names of all categories corresponding to the embedding layers in model.\n",
    "    path: Path for the json to be stored.\n",
    "    '''\n",
    "    embedsdict = _catdict2embedsdictstruct(catdict)\n",
    "    model_dict = list(model.state_dict().items())\n",
    "    for i, cat in enumerate(transfercats):\n",
    "        classes = catdict[cat]\n",
    "        catidx = allcats.index(cat)\n",
    "        assert (model_dict[catidx][1].shape[0] == len(classes)), \\\n",
    "            (f\"embeddings dimension {model_dict[catidx][1].shape[0]} !=\"\n",
    "            f\"num of classes {len(classes)} for vairable {cat}. Embeddings should have\"\n",
    "            f\"same number of classes. Something might have gone wrong.\")\n",
    "        embedsdict[cat][\"embeddings\"] = model_dict[catidx][1].numpy().tolist()\n",
    "    if (path != None):\n",
    "        with open(path, 'w') as fp:\n",
    "            json.dump(embedsdict, fp, cls = JSONizerWithBool)\n",
    "    return embedsdict"
   ]
  },
  {
   "cell_type": "code",
   "execution_count": null,
   "id": "5f327474-6ee3-488d-ab2e-490a973639e6",
   "metadata": {},
   "outputs": [],
   "source": []
  },
  {
   "cell_type": "code",
   "execution_count": null,
   "id": "4b83036b-d6f7-47e4-a712-750589cd7c39",
   "metadata": {},
   "outputs": [
    {
     "data": {
      "text/html": [
       "<div>\n",
       "<style scoped>\n",
       "    .dataframe tbody tr th:only-of-type {\n",
       "        vertical-align: middle;\n",
       "    }\n",
       "\n",
       "    .dataframe tbody tr th {\n",
       "        vertical-align: top;\n",
       "    }\n",
       "\n",
       "    .dataframe thead th {\n",
       "        text-align: right;\n",
       "    }\n",
       "</style>\n",
       "<table border=\"1\" class=\"dataframe\">\n",
       "  <thead>\n",
       "    <tr style=\"text-align: right;\">\n",
       "      <th></th>\n",
       "      <th>cat1</th>\n",
       "      <th>cat2</th>\n",
       "      <th>cat3</th>\n",
       "    </tr>\n",
       "  </thead>\n",
       "  <tbody>\n",
       "    <tr>\n",
       "      <th>0</th>\n",
       "      <td>1</td>\n",
       "      <td>a</td>\n",
       "      <td>A</td>\n",
       "    </tr>\n",
       "    <tr>\n",
       "      <th>1</th>\n",
       "      <td>2</td>\n",
       "      <td>b</td>\n",
       "      <td>B</td>\n",
       "    </tr>\n",
       "    <tr>\n",
       "      <th>2</th>\n",
       "      <td>3</td>\n",
       "      <td>c</td>\n",
       "      <td>C</td>\n",
       "    </tr>\n",
       "    <tr>\n",
       "      <th>3</th>\n",
       "      <td>4</td>\n",
       "      <td>b</td>\n",
       "      <td>D</td>\n",
       "    </tr>\n",
       "    <tr>\n",
       "      <th>4</th>\n",
       "      <td>5</td>\n",
       "      <td>a</td>\n",
       "      <td>A</td>\n",
       "    </tr>\n",
       "  </tbody>\n",
       "</table>\n",
       "</div>"
      ],
      "text/plain": [
       "   cat1 cat2 cat3\n",
       "0     1    a    A\n",
       "1     2    b    B\n",
       "2     3    c    C\n",
       "3     4    b    D\n",
       "4     5    a    A"
      ]
     },
     "execution_count": null,
     "metadata": {},
     "output_type": "execute_result"
    }
   ],
   "source": [
    "df = pd.DataFrame({\"cat1\": [1, 2, 3, 4, 5], \"cat2\": ['a', 'b', 'c', 'b', 'a'], \"cat3\": ['A', 'B', 'C', 'D', 'A']})\n",
    "df"
   ]
  },
  {
   "cell_type": "code",
   "execution_count": null,
   "id": "e5c9f54f-9532-426c-b69e-8216c4f8f428",
   "metadata": {},
   "outputs": [
    {
     "data": {
      "text/plain": [
       "{'cat2': ['a', 'b', 'c'], 'cat3': ['A', 'B', 'C', 'D']}"
      ]
     },
     "execution_count": null,
     "metadata": {},
     "output_type": "execute_result"
    }
   ],
   "source": [
    "catdict = getcatdict(df, (\"cat2\", \"cat3\"))\n",
    "catdict"
   ]
  },
  {
   "cell_type": "code",
   "execution_count": null,
   "id": "c40d12c2-624b-4782-9161-0d589332c473",
   "metadata": {},
   "outputs": [],
   "source": [
    "cats = (\"cat2\", \"cat3\")"
   ]
  },
  {
   "cell_type": "code",
   "execution_count": null,
   "id": "1845d9ad-8205-4bf6-abb1-f725de249e09",
   "metadata": {},
   "outputs": [
    {
     "data": {
      "text/plain": [
       "{'cat2': {'classes': ['a', 'b', 'c'],\n",
       "  'embeddings': [[0.6051239371299744,\n",
       "    0.3564712107181549,\n",
       "    -1.5467100143432617,\n",
       "    1.5750962495803833,\n",
       "    -0.42299988865852356,\n",
       "    1.3493329286575317,\n",
       "    1.3607025146484375,\n",
       "    -1.0899522304534912,\n",
       "    -0.553862452507019,\n",
       "    1.3176639080047607],\n",
       "   [-0.07791764289140701,\n",
       "    -1.3256100416183472,\n",
       "    0.8737502098083496,\n",
       "    0.3552184998989105,\n",
       "    0.20756079256534576,\n",
       "    0.7821463942527771,\n",
       "    -0.18401317298412323,\n",
       "    1.9141485691070557,\n",
       "    1.0479087829589844,\n",
       "    0.641265332698822],\n",
       "   [0.24757033586502075,\n",
       "    0.2565772533416748,\n",
       "    1.8610639572143555,\n",
       "    0.40511053800582886,\n",
       "    -0.4214091897010803,\n",
       "    -0.6595247983932495,\n",
       "    0.35093241930007935,\n",
       "    2.0563204288482666,\n",
       "    -0.8007354736328125,\n",
       "    -2.4489898681640625]]},\n",
       " 'cat3': {'classes': ['A', 'B', 'C', 'D'],\n",
       "  'embeddings': [[-1.4485093355178833,\n",
       "    -0.05285371094942093,\n",
       "    0.793982744216919,\n",
       "    0.7271164059638977,\n",
       "    1.482647180557251,\n",
       "    -0.8566319942474365,\n",
       "    0.2708490490913391,\n",
       "    -1.2901047468185425],\n",
       "   [-0.7706741690635681,\n",
       "    0.4668004512786865,\n",
       "    0.7194973230361938,\n",
       "    -0.09762431681156158,\n",
       "    -0.2809370458126068,\n",
       "    1.1799395084381104,\n",
       "    0.7642536759376526,\n",
       "    -0.15710484981536865],\n",
       "   [0.14392489194869995,\n",
       "    -0.1800917088985443,\n",
       "    1.793799638748169,\n",
       "    -0.14753146469593048,\n",
       "    -0.8234655261039734,\n",
       "    1.4736028909683228,\n",
       "    -0.26352882385253906,\n",
       "    0.3392544686794281],\n",
       "   [0.415265828371048,\n",
       "    0.7371843457221985,\n",
       "    -1.0512028932571411,\n",
       "    0.10948514193296432,\n",
       "    0.2053767889738083,\n",
       "    -0.2994846701622009,\n",
       "    -0.06890188157558441,\n",
       "    0.19717757403850555]]}}"
      ]
     },
     "execution_count": null,
     "metadata": {},
     "output_type": "execute_result"
    }
   ],
   "source": [
    "extractembeds(embed, df, transfercats=cats, allcats=cats)"
   ]
  },
  {
   "cell_type": "code",
   "execution_count": null,
   "id": "4c7b0279-1268-4a3f-9e1b-a58d615b216e",
   "metadata": {},
   "outputs": [],
   "source": []
  }
 ],
 "metadata": {
  "kernelspec": {
   "display_name": "Python 3.9 (XPython)",
   "language": "python",
   "name": "xpython"
  }
 },
 "nbformat": 4,
 "nbformat_minor": 5
}
