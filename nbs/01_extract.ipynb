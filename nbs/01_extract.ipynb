{
 "cells": [
  {
   "cell_type": "code",
   "execution_count": null,
   "id": "46319d43-2418-44d7-bee3-b05fe93e1dfd",
   "metadata": {},
   "outputs": [],
   "source": [
    "# default_exp utils"
   ]
  },
  {
   "cell_type": "markdown",
   "id": "822feb06-53e1-48eb-8e00-55c7f95ccb3f",
   "metadata": {},
   "source": [
    "# Extraction Utilities\n",
    "> Contains helpful functions for extracting embeddings and preparing data for it."
   ]
  },
  {
   "cell_type": "code",
   "execution_count": null,
   "id": "5051e6e9-081e-4bde-9a69-5c8742b5f55f",
   "metadata": {},
   "outputs": [],
   "source": [
    "#export\n",
    "from copy import deepcopy\n",
    "import json\n",
    "import bson\n",
    "import torch\n",
    "import torch.nn as nn\n",
    "import pandas as pd\n",
    "from fastcore.dispatch import *"
   ]
  },
  {
   "cell_type": "code",
   "execution_count": null,
   "id": "9a0c9f1b-ae50-439b-abc6-d3ffd1e473b4",
   "metadata": {},
   "outputs": [],
   "source": [
    "import os"
   ]
  },
  {
   "cell_type": "code",
   "execution_count": null,
   "id": "7f391671-ad32-4d3e-a83e-2c6cb80e45e6",
   "metadata": {},
   "outputs": [],
   "source": [
    "emb_szs = ((3, 10), (4, 8))"
   ]
  },
  {
   "cell_type": "code",
   "execution_count": null,
   "id": "6fb2d721-3496-4cbc-ad85-53ffcdd0a2ad",
   "metadata": {},
   "outputs": [
    {
     "data": {
      "text/plain": [
       "ModuleList(\n",
       "  (0): Embedding(3, 10)\n",
       "  (1): Embedding(4, 8)\n",
       ")"
      ]
     },
     "execution_count": null,
     "metadata": {},
     "output_type": "execute_result"
    }
   ],
   "source": [
    "embed = nn.ModuleList([nn.Embedding(ni, nf) for ni,nf in emb_szs])\n",
    "embed"
   ]
  },
  {
   "cell_type": "code",
   "execution_count": null,
   "id": "a25600a1-4b89-4a8f-b637-73c3b8503977",
   "metadata": {},
   "outputs": [],
   "source": [
    "#export\n",
    "class JSONizerWithBool(json.JSONEncoder):\n",
    "    def default(self, obj):\n",
    "        return super().encode(bool(obj)) \\\n",
    "            if isinstance(obj, np.bool_) \\\n",
    "            else super().default(obj)"
   ]
  },
  {
   "cell_type": "code",
   "execution_count": null,
   "id": "a3620add-95a3-48b0-a665-6a486c1a1044",
   "metadata": {},
   "outputs": [],
   "source": [
    "#export\n",
    "def getcatdict(df, catcols=None):\n",
    "    if catcols == None:\n",
    "        columns = list(df.columns)\n",
    "        catcols = list(map(lambda arg: columns[arg[0]], filter(lambda arg: arg[1] == 'object', enumerate(df.dtypes))))\n",
    "    catdict = {}\n",
    "    for cat in catcols:\n",
    "        catdict[cat] = list(df[cat].unique())\n",
    "    return catdict\n",
    "\n",
    "def _catdict2embedsdictstruct(catdict):\n",
    "    embedsdict = {}\n",
    "    for cat, classes in catdict.items():\n",
    "        embedsdict[cat] = {}\n",
    "        embedsdict[cat][\"classes\"] = classes\n",
    "    return embedsdict"
   ]
  },
  {
   "cell_type": "code",
   "execution_count": null,
   "id": "075dab9e-cbb2-4d0c-9eba-07e0ff2d059c",
   "metadata": {},
   "outputs": [],
   "source": [
    "#export\n",
    "def store_bson(path, data):\n",
    "    bdata = bson.dumps(data)\n",
    "    with open(path, \"wb\") as fp:\n",
    "        fp.write(bdata)\n",
    "\n",
    "def load_bson(path):\n",
    "    with open(path, \"rb\") as fp:\n",
    "        bdata = fp.read()\n",
    "    return bson.loads(bdata)"
   ]
  },
  {
   "cell_type": "code",
   "execution_count": null,
   "id": "98e24fea-3791-4bcf-a9fd-110e43f9bb54",
   "metadata": {},
   "outputs": [
    {
     "data": {
      "text/plain": [
       "True"
      ]
     },
     "execution_count": null,
     "metadata": {},
     "output_type": "execute_result"
    }
   ],
   "source": [
    "#hide\n",
    "issubclass(type(embed), nn.Module)"
   ]
  },
  {
   "cell_type": "code",
   "execution_count": null,
   "id": "09339231-2bed-4079-96f8-34eea858dd94",
   "metadata": {},
   "outputs": [],
   "source": [
    "#export\n",
    "@typedispatch\n",
    "def extractembeds(model: nn.Module, df: pd.DataFrame, *, transfercats, allcats, path=None, kind=\"bson\"):\n",
    "    catdict = getcatdict(df, transfercats)\n",
    "    return extractembeds(model, catdict, transfercats=transfercats, allcats=allcats, path=path, kind=kind)\n",
    "\n",
    "\n",
    "@typedispatch\n",
    "def extractembeds(model: nn.Module, catdict: dict, *, transfercats, allcats, path=None, kind=\"bson\"):\n",
    "    '''\n",
    "    Extracts embedding weights from `model`, which can be further transferred to other models.\n",
    "    \n",
    "    model: Any pytorch model, containing the embedding layers.\n",
    "    catdict: A dictionary with category as key, and classes as value.\n",
    "    transfercats: Names of categories to be transferred.\n",
    "    allcats: Names of all categories corresponding to the embedding layers in model.\n",
    "    path: Path for the json to be stored.\n",
    "    '''\n",
    "    embedsdict = _catdict2embedsdictstruct(catdict)\n",
    "    model_dict = list(model.state_dict().items())\n",
    "    for i, cat in enumerate(transfercats):\n",
    "        classes = catdict[cat]\n",
    "        catidx = allcats.index(cat)\n",
    "        assert (model_dict[catidx][1].shape[0] == len(classes)), \\\n",
    "            (f\"embeddings dimension {model_dict[catidx][1].shape[0]} !=\"\n",
    "            f\"num of classes {len(classes)} for vairable {cat}. Embeddings should have\"\n",
    "            f\"same number of classes. Something might have gone wrong.\")\n",
    "        embedsdict[cat][\"embeddings\"] = model_dict[catidx][1].numpy().tolist()\n",
    "    if (path != None):\n",
    "        with open(path, 'w') as fp:\n",
    "            json.dump(embedsdict, fp, cls = JSONizerWithBool) if kind == \"json\" else store_bson(path, embedsdict)\n",
    "    return embedsdict"
   ]
  },
  {
   "cell_type": "code",
   "execution_count": null,
   "id": "4b83036b-d6f7-47e4-a712-750589cd7c39",
   "metadata": {},
   "outputs": [
    {
     "data": {
      "text/html": [
       "<div>\n",
       "<style scoped>\n",
       "    .dataframe tbody tr th:only-of-type {\n",
       "        vertical-align: middle;\n",
       "    }\n",
       "\n",
       "    .dataframe tbody tr th {\n",
       "        vertical-align: top;\n",
       "    }\n",
       "\n",
       "    .dataframe thead th {\n",
       "        text-align: right;\n",
       "    }\n",
       "</style>\n",
       "<table border=\"1\" class=\"dataframe\">\n",
       "  <thead>\n",
       "    <tr style=\"text-align: right;\">\n",
       "      <th></th>\n",
       "      <th>cat1</th>\n",
       "      <th>cat2</th>\n",
       "      <th>cat3</th>\n",
       "    </tr>\n",
       "  </thead>\n",
       "  <tbody>\n",
       "    <tr>\n",
       "      <th>0</th>\n",
       "      <td>1</td>\n",
       "      <td>a</td>\n",
       "      <td>A</td>\n",
       "    </tr>\n",
       "    <tr>\n",
       "      <th>1</th>\n",
       "      <td>2</td>\n",
       "      <td>b</td>\n",
       "      <td>B</td>\n",
       "    </tr>\n",
       "    <tr>\n",
       "      <th>2</th>\n",
       "      <td>3</td>\n",
       "      <td>c</td>\n",
       "      <td>C</td>\n",
       "    </tr>\n",
       "    <tr>\n",
       "      <th>3</th>\n",
       "      <td>4</td>\n",
       "      <td>b</td>\n",
       "      <td>D</td>\n",
       "    </tr>\n",
       "    <tr>\n",
       "      <th>4</th>\n",
       "      <td>5</td>\n",
       "      <td>a</td>\n",
       "      <td>A</td>\n",
       "    </tr>\n",
       "  </tbody>\n",
       "</table>\n",
       "</div>"
      ],
      "text/plain": [
       "   cat1 cat2 cat3\n",
       "0     1    a    A\n",
       "1     2    b    B\n",
       "2     3    c    C\n",
       "3     4    b    D\n",
       "4     5    a    A"
      ]
     },
     "execution_count": null,
     "metadata": {},
     "output_type": "execute_result"
    }
   ],
   "source": [
    "df = pd.DataFrame({\"cat1\": [1, 2, 3, 4, 5], \"cat2\": ['a', 'b', 'c', 'b', 'a'], \"cat3\": ['A', 'B', 'C', 'D', 'A']})\n",
    "df"
   ]
  },
  {
   "cell_type": "code",
   "execution_count": null,
   "id": "e5c9f54f-9532-426c-b69e-8216c4f8f428",
   "metadata": {},
   "outputs": [
    {
     "data": {
      "text/plain": [
       "{'cat2': ['a', 'b', 'c'], 'cat3': ['A', 'B', 'C', 'D']}"
      ]
     },
     "execution_count": null,
     "metadata": {},
     "output_type": "execute_result"
    }
   ],
   "source": [
    "catdict = getcatdict(df, (\"cat2\", \"cat3\"))\n",
    "catdict"
   ]
  },
  {
   "cell_type": "code",
   "execution_count": null,
   "id": "c40d12c2-624b-4782-9161-0d589332c473",
   "metadata": {},
   "outputs": [],
   "source": [
    "cats = (\"cat2\", \"cat3\")"
   ]
  },
  {
   "cell_type": "code",
   "execution_count": null,
   "id": "1845d9ad-8205-4bf6-abb1-f725de249e09",
   "metadata": {},
   "outputs": [
    {
     "data": {
      "text/plain": [
       "{'cat2': {'classes': ['a', 'b', 'c'],\n",
       "  'embeddings': [[0.05603214353322983,\n",
       "    1.3744007349014282,\n",
       "    -0.31262442469596863,\n",
       "    0.37519311904907227,\n",
       "    -1.9234352111816406,\n",
       "    0.6861013770103455,\n",
       "    -1.4775152206420898,\n",
       "    1.109705924987793,\n",
       "    0.10772546380758286,\n",
       "    -1.831138014793396],\n",
       "   [-0.6345962285995483,\n",
       "    -1.946880578994751,\n",
       "    -0.3423684537410736,\n",
       "    0.04363042116165161,\n",
       "    0.2794189751148224,\n",
       "    0.06722379475831985,\n",
       "    -0.28763726353645325,\n",
       "    0.9291570782661438,\n",
       "    0.00894381757825613,\n",
       "    0.7326543927192688],\n",
       "   [0.4946509003639221,\n",
       "    -0.409279465675354,\n",
       "    0.5394951701164246,\n",
       "    0.08757159858942032,\n",
       "    -0.5254548192024231,\n",
       "    0.6215347647666931,\n",
       "    -1.835079550743103,\n",
       "    -1.5779095888137817,\n",
       "    1.0498842000961304,\n",
       "    -0.7102258801460266]]},\n",
       " 'cat3': {'classes': ['A', 'B', 'C', 'D'],\n",
       "  'embeddings': [[-0.7851612567901611,\n",
       "    1.226929783821106,\n",
       "    -0.7716110944747925,\n",
       "    0.1601991206407547,\n",
       "    -0.11754895001649857,\n",
       "    -1.1803913116455078,\n",
       "    -0.4639241397380829,\n",
       "    0.5309280157089233],\n",
       "   [0.2611830532550812,\n",
       "    0.40283119678497314,\n",
       "    0.44922569394111633,\n",
       "    -1.1285836696624756,\n",
       "    -0.016770029440522194,\n",
       "    0.9352428317070007,\n",
       "    -0.7477204203605652,\n",
       "    -0.913521409034729],\n",
       "   [-1.15754234790802,\n",
       "    -0.7661369442939758,\n",
       "    0.7403942346572876,\n",
       "    -0.3353077471256256,\n",
       "    -1.9750518798828125,\n",
       "    -0.9902587532997131,\n",
       "    1.2524845600128174,\n",
       "    -0.32062724232673645],\n",
       "   [2.371568202972412,\n",
       "    -0.7199055552482605,\n",
       "    0.41099539399147034,\n",
       "    0.5439063310623169,\n",
       "    1.0424811840057373,\n",
       "    1.1662890911102295,\n",
       "    0.028144370764493942,\n",
       "    -0.20297423005104065]]}}"
      ]
     },
     "execution_count": null,
     "metadata": {},
     "output_type": "execute_result"
    }
   ],
   "source": [
    "embdict = extractembeds(embed, df, transfercats=cats, allcats=cats, path=\"tempwtbson\", kind=\"bson\")\n",
    "embdict"
   ]
  },
  {
   "cell_type": "code",
   "execution_count": null,
   "id": "36d88362-830c-44c1-a3c5-a7cb4a3da736",
   "metadata": {},
   "outputs": [
    {
     "data": {
      "text/plain": [
       "{'cat2': {'classes': ['a', 'b', 'c'],\n",
       "  'embeddings': [[0.05603214353322983,\n",
       "    1.3744007349014282,\n",
       "    -0.31262442469596863,\n",
       "    0.37519311904907227,\n",
       "    -1.9234352111816406,\n",
       "    0.6861013770103455,\n",
       "    -1.4775152206420898,\n",
       "    1.109705924987793,\n",
       "    0.10772546380758286,\n",
       "    -1.831138014793396],\n",
       "   [-0.6345962285995483,\n",
       "    -1.946880578994751,\n",
       "    -0.3423684537410736,\n",
       "    0.04363042116165161,\n",
       "    0.2794189751148224,\n",
       "    0.06722379475831985,\n",
       "    -0.28763726353645325,\n",
       "    0.9291570782661438,\n",
       "    0.00894381757825613,\n",
       "    0.7326543927192688],\n",
       "   [0.4946509003639221,\n",
       "    -0.409279465675354,\n",
       "    0.5394951701164246,\n",
       "    0.08757159858942032,\n",
       "    -0.5254548192024231,\n",
       "    0.6215347647666931,\n",
       "    -1.835079550743103,\n",
       "    -1.5779095888137817,\n",
       "    1.0498842000961304,\n",
       "    -0.7102258801460266]]},\n",
       " 'cat3': {'classes': ['A', 'B', 'C', 'D'],\n",
       "  'embeddings': [[-0.7851612567901611,\n",
       "    1.226929783821106,\n",
       "    -0.7716110944747925,\n",
       "    0.1601991206407547,\n",
       "    -0.11754895001649857,\n",
       "    -1.1803913116455078,\n",
       "    -0.4639241397380829,\n",
       "    0.5309280157089233],\n",
       "   [0.2611830532550812,\n",
       "    0.40283119678497314,\n",
       "    0.44922569394111633,\n",
       "    -1.1285836696624756,\n",
       "    -0.016770029440522194,\n",
       "    0.9352428317070007,\n",
       "    -0.7477204203605652,\n",
       "    -0.913521409034729],\n",
       "   [-1.15754234790802,\n",
       "    -0.7661369442939758,\n",
       "    0.7403942346572876,\n",
       "    -0.3353077471256256,\n",
       "    -1.9750518798828125,\n",
       "    -0.9902587532997131,\n",
       "    1.2524845600128174,\n",
       "    -0.32062724232673645],\n",
       "   [2.371568202972412,\n",
       "    -0.7199055552482605,\n",
       "    0.41099539399147034,\n",
       "    0.5439063310623169,\n",
       "    1.0424811840057373,\n",
       "    1.1662890911102295,\n",
       "    0.028144370764493942,\n",
       "    -0.20297423005104065]]}}"
      ]
     },
     "execution_count": null,
     "metadata": {},
     "output_type": "execute_result"
    }
   ],
   "source": [
    "embdict = extractembeds(embed, df, transfercats=cats, allcats=cats, path=\"tempwtjson\", kind=\"json\")\n",
    "embdict"
   ]
  },
  {
   "cell_type": "code",
   "execution_count": null,
   "id": "c3daf59c-1dab-400a-97c0-c4379044d8ed",
   "metadata": {},
   "outputs": [
    {
     "data": {
      "text/plain": [
       "True"
      ]
     },
     "execution_count": null,
     "metadata": {},
     "output_type": "execute_result"
    }
   ],
   "source": [
    "load_bson(\"tempwtbson\") == embdict"
   ]
  },
  {
   "cell_type": "code",
   "execution_count": null,
   "id": "4bda7a34-7b2a-4486-b9f0-fd5d2679df5a",
   "metadata": {},
   "outputs": [],
   "source": [
    "os.remove(\"tempwtbson\")\n",
    "os.remove(\"tempwtjson\")"
   ]
  },
  {
   "cell_type": "code",
   "execution_count": null,
   "id": "8726b2d4-1e85-4b72-9bfb-dfe20c6f7d19",
   "metadata": {},
   "outputs": [],
   "source": []
  }
 ],
 "metadata": {
  "kernelspec": {
   "display_name": "Python 3.9 (XPython)",
   "language": "python",
   "name": "xpython"
  }
 },
 "nbformat": 4,
 "nbformat_minor": 5
}
