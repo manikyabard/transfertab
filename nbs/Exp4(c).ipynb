{
 "cells": [
  {
   "cell_type": "code",
   "execution_count": 1,
   "metadata": {},
   "outputs": [],
   "source": [
    "from fastai.tabular.all import *\n",
    "from transfertab.utils import *\n",
    "from transfertab.transfer import *\n",
    "from transfertab.extract import *\n",
    "from fastcore.xtras import *\n",
    "from fastai.learner import *\n",
    "import torch\n",
    "import numpy as np\n",
    "from fastai.interpret import *"
   ]
  },
  {
   "cell_type": "code",
   "execution_count": 4,
   "metadata": {},
   "outputs": [],
   "source": [
    "import pandas as pd\n",
    "df = pd.read_csv(\"bank-additional-full.csv\", delimiter=';')"
   ]
  },
  {
   "cell_type": "code",
   "execution_count": 20,
   "metadata": {},
   "outputs": [],
   "source": [
    "import wandb\n",
    "from fastai.callback.wandb import *"
   ]
  },
  {
   "cell_type": "code",
   "execution_count": 6,
   "metadata": {},
   "outputs": [
    {
     "data": {
      "text/plain": [
       "(41188, 21)"
      ]
     },
     "execution_count": 6,
     "metadata": {},
     "output_type": "execute_result"
    }
   ],
   "source": [
    "df.shape"
   ]
  },
  {
   "cell_type": "code",
   "execution_count": 8,
   "metadata": {},
   "outputs": [
    {
     "data": {
      "text/plain": [
       "28831.6"
      ]
     },
     "execution_count": 8,
     "metadata": {},
     "output_type": "execute_result"
    }
   ],
   "source": [
    "41188 * 0.7"
   ]
  },
  {
   "cell_type": "code",
   "execution_count": 9,
   "metadata": {},
   "outputs": [],
   "source": [
    "dfA = df.iloc[0:28831]\n",
    "dfB = df.iloc[28831:-1]"
   ]
  },
  {
   "cell_type": "code",
   "execution_count": 10,
   "metadata": {},
   "outputs": [
    {
     "data": {
      "text/plain": [
       "Index(['age', 'job', 'marital', 'education', 'default', 'housing', 'loan',\n",
       "       'contact', 'month', 'day_of_week', 'duration', 'campaign', 'pdays',\n",
       "       'previous', 'poutcome', 'emp.var.rate', 'cons.price.idx',\n",
       "       'cons.conf.idx', 'euribor3m', 'nr.employed', 'y'],\n",
       "      dtype='object')"
      ]
     },
     "execution_count": 10,
     "metadata": {},
     "output_type": "execute_result"
    }
   ],
   "source": [
    "dfA.columns"
   ]
  },
  {
   "cell_type": "code",
   "execution_count": 12,
   "metadata": {},
   "outputs": [],
   "source": [
    "contcols = ['age', 'duration', 'campaign', 'pdays',\n",
    "       'previous', 'emp.var.rate', 'cons.price.idx',\n",
    "       'cons.conf.idx', 'euribor3m', 'nr.employed']\n",
    "catcols = ['job', 'marital', 'education', 'default', 'housing', 'loan','contact', \n",
    "\t'month', 'day_of_week','poutcome']\n",
    "target = 'y'"
   ]
  },
  {
   "cell_type": "code",
   "execution_count": 24,
   "metadata": {},
   "outputs": [],
   "source": [
    "splitsA = RandomSplitter(valid_pct=0.2)(range_of(dfA))\n",
    "toA = TabularPandas(dfA, procs=[Categorify, FillMissing, Normalize],\n",
    "                   cat_names=catcols,\n",
    "                   cont_names=contcols,\n",
    "                   y_names=target,\n",
    "                   splits=splitsA)\n",
    "dlsA = toA.dataloaders(bs=512)\n",
    "learnA = tabular_learner(dlsA, metrics=accuracy)"
   ]
  },
  {
   "cell_type": "code",
   "execution_count": 25,
   "metadata": {},
   "outputs": [
    {
     "data": {
      "text/html": [
       "<table border=\"1\" class=\"dataframe\">\n",
       "  <thead>\n",
       "    <tr style=\"text-align: left;\">\n",
       "      <th>epoch</th>\n",
       "      <th>train_loss</th>\n",
       "      <th>valid_loss</th>\n",
       "      <th>accuracy</th>\n",
       "      <th>time</th>\n",
       "    </tr>\n",
       "  </thead>\n",
       "  <tbody>\n",
       "    <tr>\n",
       "      <td>0</td>\n",
       "      <td>0.749303</td>\n",
       "      <td>0.649875</td>\n",
       "      <td>0.763094</td>\n",
       "      <td>00:02</td>\n",
       "    </tr>\n",
       "    <tr>\n",
       "      <td>1</td>\n",
       "      <td>0.718157</td>\n",
       "      <td>0.684830</td>\n",
       "      <td>0.789109</td>\n",
       "      <td>00:06</td>\n",
       "    </tr>\n",
       "    <tr>\n",
       "      <td>2</td>\n",
       "      <td>0.692475</td>\n",
       "      <td>0.654220</td>\n",
       "      <td>0.857614</td>\n",
       "      <td>00:06</td>\n",
       "    </tr>\n",
       "    <tr>\n",
       "      <td>3</td>\n",
       "      <td>0.661029</td>\n",
       "      <td>0.621325</td>\n",
       "      <td>0.871315</td>\n",
       "      <td>00:06</td>\n",
       "    </tr>\n",
       "    <tr>\n",
       "      <td>4</td>\n",
       "      <td>0.612372</td>\n",
       "      <td>0.545851</td>\n",
       "      <td>0.903746</td>\n",
       "      <td>00:06</td>\n",
       "    </tr>\n",
       "    <tr>\n",
       "      <td>5</td>\n",
       "      <td>0.530301</td>\n",
       "      <td>0.415358</td>\n",
       "      <td>0.939473</td>\n",
       "      <td>00:06</td>\n",
       "    </tr>\n",
       "    <tr>\n",
       "      <td>6</td>\n",
       "      <td>0.413513</td>\n",
       "      <td>0.269495</td>\n",
       "      <td>0.944676</td>\n",
       "      <td>00:06</td>\n",
       "    </tr>\n",
       "    <tr>\n",
       "      <td>7</td>\n",
       "      <td>0.294984</td>\n",
       "      <td>0.184901</td>\n",
       "      <td>0.953174</td>\n",
       "      <td>00:06</td>\n",
       "    </tr>\n",
       "    <tr>\n",
       "      <td>8</td>\n",
       "      <td>0.213285</td>\n",
       "      <td>0.155507</td>\n",
       "      <td>0.945890</td>\n",
       "      <td>00:06</td>\n",
       "    </tr>\n",
       "    <tr>\n",
       "      <td>9</td>\n",
       "      <td>0.166619</td>\n",
       "      <td>0.147200</td>\n",
       "      <td>0.942768</td>\n",
       "      <td>00:06</td>\n",
       "    </tr>\n",
       "    <tr>\n",
       "      <td>10</td>\n",
       "      <td>0.141522</td>\n",
       "      <td>0.124731</td>\n",
       "      <td>0.949185</td>\n",
       "      <td>00:06</td>\n",
       "    </tr>\n",
       "    <tr>\n",
       "      <td>11</td>\n",
       "      <td>0.128892</td>\n",
       "      <td>0.122597</td>\n",
       "      <td>0.946757</td>\n",
       "      <td>00:06</td>\n",
       "    </tr>\n",
       "    <tr>\n",
       "      <td>12</td>\n",
       "      <td>0.120098</td>\n",
       "      <td>0.118234</td>\n",
       "      <td>0.952653</td>\n",
       "      <td>00:06</td>\n",
       "    </tr>\n",
       "    <tr>\n",
       "      <td>13</td>\n",
       "      <td>0.114814</td>\n",
       "      <td>0.122743</td>\n",
       "      <td>0.947797</td>\n",
       "      <td>00:06</td>\n",
       "    </tr>\n",
       "    <tr>\n",
       "      <td>14</td>\n",
       "      <td>0.111385</td>\n",
       "      <td>0.115154</td>\n",
       "      <td>0.951266</td>\n",
       "      <td>00:06</td>\n",
       "    </tr>\n",
       "    <tr>\n",
       "      <td>15</td>\n",
       "      <td>0.111779</td>\n",
       "      <td>0.114783</td>\n",
       "      <td>0.950225</td>\n",
       "      <td>00:06</td>\n",
       "    </tr>\n",
       "    <tr>\n",
       "      <td>16</td>\n",
       "      <td>0.108324</td>\n",
       "      <td>0.124333</td>\n",
       "      <td>0.951786</td>\n",
       "      <td>00:06</td>\n",
       "    </tr>\n",
       "    <tr>\n",
       "      <td>17</td>\n",
       "      <td>0.107939</td>\n",
       "      <td>0.114497</td>\n",
       "      <td>0.950572</td>\n",
       "      <td>00:06</td>\n",
       "    </tr>\n",
       "    <tr>\n",
       "      <td>18</td>\n",
       "      <td>0.105842</td>\n",
       "      <td>0.112679</td>\n",
       "      <td>0.954388</td>\n",
       "      <td>00:05</td>\n",
       "    </tr>\n",
       "    <tr>\n",
       "      <td>19</td>\n",
       "      <td>0.102464</td>\n",
       "      <td>0.114770</td>\n",
       "      <td>0.948838</td>\n",
       "      <td>00:06</td>\n",
       "    </tr>\n",
       "    <tr>\n",
       "      <td>20</td>\n",
       "      <td>0.102479</td>\n",
       "      <td>0.124480</td>\n",
       "      <td>0.944329</td>\n",
       "      <td>00:06</td>\n",
       "    </tr>\n",
       "    <tr>\n",
       "      <td>21</td>\n",
       "      <td>0.101976</td>\n",
       "      <td>0.113341</td>\n",
       "      <td>0.950572</td>\n",
       "      <td>00:06</td>\n",
       "    </tr>\n",
       "    <tr>\n",
       "      <td>22</td>\n",
       "      <td>0.099809</td>\n",
       "      <td>0.114025</td>\n",
       "      <td>0.948144</td>\n",
       "      <td>00:06</td>\n",
       "    </tr>\n",
       "    <tr>\n",
       "      <td>23</td>\n",
       "      <td>0.099724</td>\n",
       "      <td>0.121273</td>\n",
       "      <td>0.947624</td>\n",
       "      <td>00:05</td>\n",
       "    </tr>\n",
       "    <tr>\n",
       "      <td>24</td>\n",
       "      <td>0.098597</td>\n",
       "      <td>0.115251</td>\n",
       "      <td>0.949879</td>\n",
       "      <td>00:05</td>\n",
       "    </tr>\n",
       "    <tr>\n",
       "      <td>25</td>\n",
       "      <td>0.097268</td>\n",
       "      <td>0.118731</td>\n",
       "      <td>0.944849</td>\n",
       "      <td>00:06</td>\n",
       "    </tr>\n",
       "    <tr>\n",
       "      <td>26</td>\n",
       "      <td>0.095829</td>\n",
       "      <td>0.115658</td>\n",
       "      <td>0.950225</td>\n",
       "      <td>00:06</td>\n",
       "    </tr>\n",
       "    <tr>\n",
       "      <td>27</td>\n",
       "      <td>0.093311</td>\n",
       "      <td>0.118414</td>\n",
       "      <td>0.949358</td>\n",
       "      <td>00:06</td>\n",
       "    </tr>\n",
       "    <tr>\n",
       "      <td>28</td>\n",
       "      <td>0.092198</td>\n",
       "      <td>0.116839</td>\n",
       "      <td>0.949532</td>\n",
       "      <td>00:06</td>\n",
       "    </tr>\n",
       "    <tr>\n",
       "      <td>29</td>\n",
       "      <td>0.090561</td>\n",
       "      <td>0.118077</td>\n",
       "      <td>0.950052</td>\n",
       "      <td>00:06</td>\n",
       "    </tr>\n",
       "    <tr>\n",
       "      <td>30</td>\n",
       "      <td>0.091132</td>\n",
       "      <td>0.118099</td>\n",
       "      <td>0.949358</td>\n",
       "      <td>00:01</td>\n",
       "    </tr>\n",
       "    <tr>\n",
       "      <td>31</td>\n",
       "      <td>0.089039</td>\n",
       "      <td>0.116878</td>\n",
       "      <td>0.948838</td>\n",
       "      <td>00:06</td>\n",
       "    </tr>\n",
       "    <tr>\n",
       "      <td>32</td>\n",
       "      <td>0.087824</td>\n",
       "      <td>0.116488</td>\n",
       "      <td>0.948838</td>\n",
       "      <td>00:02</td>\n",
       "    </tr>\n",
       "    <tr>\n",
       "      <td>33</td>\n",
       "      <td>0.086161</td>\n",
       "      <td>0.120567</td>\n",
       "      <td>0.949185</td>\n",
       "      <td>00:07</td>\n",
       "    </tr>\n",
       "    <tr>\n",
       "      <td>34</td>\n",
       "      <td>0.086372</td>\n",
       "      <td>0.119583</td>\n",
       "      <td>0.944849</td>\n",
       "      <td>00:02</td>\n",
       "    </tr>\n",
       "    <tr>\n",
       "      <td>35</td>\n",
       "      <td>0.085500</td>\n",
       "      <td>0.121392</td>\n",
       "      <td>0.947104</td>\n",
       "      <td>00:01</td>\n",
       "    </tr>\n",
       "    <tr>\n",
       "      <td>36</td>\n",
       "      <td>0.084033</td>\n",
       "      <td>0.121794</td>\n",
       "      <td>0.947104</td>\n",
       "      <td>00:01</td>\n",
       "    </tr>\n",
       "    <tr>\n",
       "      <td>37</td>\n",
       "      <td>0.082252</td>\n",
       "      <td>0.120998</td>\n",
       "      <td>0.947451</td>\n",
       "      <td>00:02</td>\n",
       "    </tr>\n",
       "    <tr>\n",
       "      <td>38</td>\n",
       "      <td>0.080516</td>\n",
       "      <td>0.120518</td>\n",
       "      <td>0.950052</td>\n",
       "      <td>00:06</td>\n",
       "    </tr>\n",
       "    <tr>\n",
       "      <td>39</td>\n",
       "      <td>0.079751</td>\n",
       "      <td>0.120351</td>\n",
       "      <td>0.947451</td>\n",
       "      <td>00:02</td>\n",
       "    </tr>\n",
       "    <tr>\n",
       "      <td>40</td>\n",
       "      <td>0.079378</td>\n",
       "      <td>0.121048</td>\n",
       "      <td>0.949705</td>\n",
       "      <td>00:02</td>\n",
       "    </tr>\n",
       "    <tr>\n",
       "      <td>41</td>\n",
       "      <td>0.078272</td>\n",
       "      <td>0.120429</td>\n",
       "      <td>0.948838</td>\n",
       "      <td>00:06</td>\n",
       "    </tr>\n",
       "    <tr>\n",
       "      <td>42</td>\n",
       "      <td>0.077412</td>\n",
       "      <td>0.120887</td>\n",
       "      <td>0.947797</td>\n",
       "      <td>00:01</td>\n",
       "    </tr>\n",
       "    <tr>\n",
       "      <td>43</td>\n",
       "      <td>0.077169</td>\n",
       "      <td>0.121356</td>\n",
       "      <td>0.949185</td>\n",
       "      <td>00:06</td>\n",
       "    </tr>\n",
       "    <tr>\n",
       "      <td>44</td>\n",
       "      <td>0.076598</td>\n",
       "      <td>0.121034</td>\n",
       "      <td>0.949185</td>\n",
       "      <td>00:02</td>\n",
       "    </tr>\n",
       "    <tr>\n",
       "      <td>45</td>\n",
       "      <td>0.076073</td>\n",
       "      <td>0.121443</td>\n",
       "      <td>0.948144</td>\n",
       "      <td>00:02</td>\n",
       "    </tr>\n",
       "    <tr>\n",
       "      <td>46</td>\n",
       "      <td>0.075420</td>\n",
       "      <td>0.121875</td>\n",
       "      <td>0.948491</td>\n",
       "      <td>00:06</td>\n",
       "    </tr>\n",
       "    <tr>\n",
       "      <td>47</td>\n",
       "      <td>0.075300</td>\n",
       "      <td>0.121487</td>\n",
       "      <td>0.947971</td>\n",
       "      <td>00:06</td>\n",
       "    </tr>\n",
       "    <tr>\n",
       "      <td>48</td>\n",
       "      <td>0.075302</td>\n",
       "      <td>0.121645</td>\n",
       "      <td>0.947797</td>\n",
       "      <td>00:02</td>\n",
       "    </tr>\n",
       "    <tr>\n",
       "      <td>49</td>\n",
       "      <td>0.075431</td>\n",
       "      <td>0.121659</td>\n",
       "      <td>0.947797</td>\n",
       "      <td>00:01</td>\n",
       "    </tr>\n",
       "  </tbody>\n",
       "</table>"
      ],
      "text/plain": [
       "<IPython.core.display.HTML object>"
      ]
     },
     "metadata": {},
     "output_type": "display_data"
    },
    {
     "name": "stdout",
     "output_type": "stream",
     "text": [
      "Better model found at epoch 0 with valid_loss value: 0.6498745679855347.\n",
      "Better model found at epoch 3 with valid_loss value: 0.6213252544403076.\n",
      "Better model found at epoch 4 with valid_loss value: 0.5458512306213379.\n",
      "Better model found at epoch 5 with valid_loss value: 0.415358304977417.\n",
      "Better model found at epoch 6 with valid_loss value: 0.269494891166687.\n",
      "Better model found at epoch 7 with valid_loss value: 0.1849014014005661.\n",
      "Better model found at epoch 8 with valid_loss value: 0.15550671517848969.\n",
      "Better model found at epoch 9 with valid_loss value: 0.1471996009349823.\n",
      "Better model found at epoch 10 with valid_loss value: 0.12473147362470627.\n",
      "Better model found at epoch 11 with valid_loss value: 0.12259650230407715.\n",
      "Better model found at epoch 12 with valid_loss value: 0.11823393404483795.\n",
      "Better model found at epoch 14 with valid_loss value: 0.11515449732542038.\n",
      "Better model found at epoch 15 with valid_loss value: 0.1147831529378891.\n",
      "Better model found at epoch 17 with valid_loss value: 0.11449667811393738.\n",
      "Better model found at epoch 18 with valid_loss value: 0.11267862468957901.\n"
     ]
    }
   ],
   "source": [
    "cbs=[WandbCallback(log=\"all\", dataset_name=\"bank-additional-full (first .7)\", n_preds=128, seed=1), SaveModelCallback()]\n",
    "learnA.fit_one_cycle(50, cbs=cbs)"
   ]
  },
  {
   "cell_type": "code",
   "execution_count": 21,
   "metadata": {},
   "outputs": [
    {
     "name": "stderr",
     "output_type": "stream",
     "text": [
      "Failed to detect the name of this notebook, you can set it manually with the WANDB_NOTEBOOK_NAME environment variable to enable code saving.\n",
      "\u001b[34m\u001b[1mwandb\u001b[0m: Currently logged in as: \u001b[33mmanikya\u001b[0m (use `wandb login --relogin` to force relogin)\n",
      "\u001b[34m\u001b[1mwandb\u001b[0m: wandb version 0.12.5 is available!  To upgrade, please run:\n",
      "\u001b[34m\u001b[1mwandb\u001b[0m:  $ pip install wandb --upgrade\n"
     ]
    },
    {
     "data": {
      "text/html": [
       "\n",
       "                Tracking run with wandb version 0.10.32<br/>\n",
       "                Syncing run <strong style=\"color:#cdcd00\">modelA training</strong> to <a href=\"https://wandb.ai\" target=\"_blank\">Weights & Biases</a> <a href=\"https://docs.wandb.com/integrations/jupyter.html\" target=\"_blank\">(Documentation)</a>.<br/>\n",
       "                Project page: <a href=\"https://wandb.ai/manikya/transfertab\" target=\"_blank\">https://wandb.ai/manikya/transfertab</a><br/>\n",
       "                Run page: <a href=\"https://wandb.ai/manikya/transfertab/runs/2679zttn\" target=\"_blank\">https://wandb.ai/manikya/transfertab/runs/2679zttn</a><br/>\n",
       "                Run data is saved locally in <code>/Users/manikyabardhan/Downloads/bank-additional/wandb/run-20211020_181232-2679zttn</code><br/><br/>\n",
       "            "
      ],
      "text/plain": [
       "<IPython.core.display.HTML object>"
      ]
     },
     "metadata": {},
     "output_type": "display_data"
    },
    {
     "data": {
      "text/html": [
       "<h1>Run(2679zttn)</h1><iframe src=\"https://wandb.ai/manikya/transfertab/runs/2679zttn\" style=\"border:none;width:100%;height:400px\"></iframe>"
      ],
      "text/plain": [
       "<wandb.sdk.wandb_run.Run at 0x7fe6ab518c40>"
      ]
     },
     "execution_count": 21,
     "metadata": {},
     "output_type": "execute_result"
    }
   ],
   "source": [
    "wandb.init(\n",
    "    project='transfertab', \n",
    "    save_code=True, \n",
    "    group='Exp4c', \n",
    "    job_type='basetrain', \n",
    "    tags=['base', 'bank'], \n",
    "    name='modelA training',\n",
    "    notes=\"Training modelA from which we'll take embeddings\",\n",
    "    reinit=True\n",
    ")"
   ]
  },
  {
   "cell_type": "code",
   "execution_count": 26,
   "metadata": {},
   "outputs": [
    {
     "data": {
      "image/png": "[encoded data removed]",
      "text/plain": [
       "<Figure size 432x288 with 1 Axes>"
      ]
     },
     "metadata": {
      "needs_background": "light"
     },
     "output_type": "display_data"
    }
   ],
   "source": [
    "learnA.recorder.plot_loss()"
   ]
  },
  {
   "cell_type": "code",
   "execution_count": 27,
   "metadata": {},
   "outputs": [],
   "source": [
    "torch.save(learnA.model.state_dict(),\"modelA_state_dict\")"
   ]
  },
  {
   "cell_type": "code",
   "execution_count": 28,
   "metadata": {},
   "outputs": [],
   "source": [
    "catdict = {col:list(learnA.dls.categorify.classes[col]) for col in catcols}"
   ]
  },
  {
   "cell_type": "code",
   "execution_count": 33,
   "metadata": {},
   "outputs": [],
   "source": [
    "embeds = extractembeds(learnA.model, catdict, transfercats=catcols, allcats=catcols, path=\"learnA_extracts\", kind=\"json\")"
   ]
  },
  {
   "cell_type": "code",
   "execution_count": 30,
   "metadata": {},
   "outputs": [
    {
     "data": {
      "text/html": [
       "<br/>Waiting for W&B process to finish, PID 40947<br/>Program ended successfully."
      ],
      "text/plain": [
       "<IPython.core.display.HTML object>"
      ]
     },
     "metadata": {},
     "output_type": "display_data"
    },
    {
     "data": {
      "application/vnd.jupyter.widget-view+json": {
       "model_id": "fa3f8297b27348739c3bc29d5b59faab",
       "version_major": 2,
       "version_minor": 0
      },
      "text/plain": [
       "VBox(children=(Label(value=' 2.51MB of 2.51MB uploaded (0.00MB deduped)\\r'), FloatProgress(value=1.0, max=1.0)…"
      ]
     },
     "metadata": {},
     "output_type": "display_data"
    },
    {
     "data": {
      "text/html": [
       "Find user logs for this run at: <code>/Users/manikyabardhan/Downloads/bank-additional/wandb/run-20211020_181232-2679zttn/logs/debug.log</code>"
      ],
      "text/plain": [
       "<IPython.core.display.HTML object>"
      ]
     },
     "metadata": {},
     "output_type": "display_data"
    },
    {
     "data": {
      "text/html": [
       "Find internal logs for this run at: <code>/Users/manikyabardhan/Downloads/bank-additional/wandb/run-20211020_181232-2679zttn/logs/debug-internal.log</code>"
      ],
      "text/plain": [
       "<IPython.core.display.HTML object>"
      ]
     },
     "metadata": {},
     "output_type": "display_data"
    },
    {
     "data": {
      "text/html": [
       "<h3>Run summary:</h3><br/><style>\n",
       "    table.wandb td:nth-child(1) { padding: 0 10px; text-align: right }\n",
       "    </style><table class=\"wandb\">\n",
       "<tr><td>epoch</td><td>50</td></tr><tr><td>train_loss</td><td>0.07543</td></tr><tr><td>raw_loss</td><td>0.09526</td></tr><tr><td>wd_0</td><td>0.01</td></tr><tr><td>sqr_mom_0</td><td>0.99</td></tr><tr><td>lr_0</td><td>0.0</td></tr><tr><td>mom_0</td><td>0.95</td></tr><tr><td>eps_0</td><td>1e-05</td></tr><tr><td>_runtime</td><td>358</td></tr><tr><td>_timestamp</td><td>1634734110</td></tr><tr><td>_step</td><td>2249</td></tr><tr><td>valid_loss</td><td>0.12166</td></tr><tr><td>accuracy</td><td>0.9478</td></tr></table>"
      ],
      "text/plain": [
       "<IPython.core.display.HTML object>"
      ]
     },
     "metadata": {},
     "output_type": "display_data"
    },
    {
     "data": {
      "text/html": [
       "<h3>Run history:</h3><br/><style>\n",
       "    table.wandb td:nth-child(1) { padding: 0 10px; text-align: right }\n",
       "    </style><table class=\"wandb\">\n",
       "<tr><td>epoch</td><td>▁▁▁▂▂▂▂▂▂▃▃▃▃▃▃▄▄▄▄▄▅▅▅▅▅▅▆▆▆▆▆▆▇▇▇▇▇███</td></tr><tr><td>train_loss</td><td>██▇▇▆▅▃▂▂▂▁▁▁▁▁▁▁▁▁▁▁▁▁▁▁▁▁▁▁▁▁▁▁▁▁▁▁▁▁▁</td></tr><tr><td>raw_loss</td><td>█▇█▇▅▄▂▂▂▂▂▂▁▁▂▁▁▁▂▁▁▂▁▂▂▁▁▁▁▁▁▁▁▁▁▁▁▁▁▁</td></tr><tr><td>wd_0</td><td>▁▁▁▁▁▁▁▁▁▁▁▁▁▁▁▁▁▁▁▁▁▁▁▁▁▁▁▁▁▁▁▁▁▁▁▁▁▁▁▁</td></tr><tr><td>sqr_mom_0</td><td>▁▁▁▁▁▁▁▁▁▁▁▁▁▁▁▁▁▁▁▁▁▁▁▁▁▁▁▁▁▁▁▁▁▁▁▁▁▁▁▁</td></tr><tr><td>lr_0</td><td>▁▁▂▃▄▅▆▇███████▇▇▇▇▆▆▆▆▅▅▄▄▄▃▃▃▂▂▂▂▁▁▁▁▁</td></tr><tr><td>mom_0</td><td>██▇▆▅▄▃▂▁▁▁▁▁▁▁▂▂▂▂▃▃▃▃▄▄▅▅▅▆▆▆▇▇▇▇█████</td></tr><tr><td>eps_0</td><td>▁▁▁▁▁▁▁▁▁▁▁▁▁▁▁▁▁▁▁▁▁▁▁▁▁▁▁▁▁▁▁▁▁▁▁▁▁▁▁▁</td></tr><tr><td>_runtime</td><td>▁▁▁▂▂▂▂▃▃▃▃▃▄▄▄▄▄▅▅▅▅▆▆▆▆▆▆▇▇▇▇▇▇▇▇▇████</td></tr><tr><td>_timestamp</td><td>▁▁▁▂▂▂▂▃▃▃▃▃▄▄▄▄▄▅▅▅▅▆▆▆▆▆▆▇▇▇▇▇▇▇▇▇████</td></tr><tr><td>_step</td><td>▁▁▁▂▂▂▂▂▂▃▃▃▃▃▃▄▄▄▄▄▅▅▅▅▅▅▆▆▆▆▆▆▇▇▇▇▇███</td></tr><tr><td>valid_loss</td><td>███▇▅▃▂▂▁▁▁▁▁▁▁▁▁▁▁▁▁▁▁▁▁▁▁▁▁▁▁▁▁▁▁▁▁▁▁▁</td></tr><tr><td>accuracy</td><td>▁▂▄▅▇███████████████████████████████████</td></tr></table><br/>"
      ],
      "text/plain": [
       "<IPython.core.display.HTML object>"
      ]
     },
     "metadata": {},
     "output_type": "display_data"
    },
    {
     "data": {
      "text/html": [
       "Synced 6 W&B file(s), 51 media file(s), 21 artifact file(s) and 1 other file(s)"
      ],
      "text/plain": [
       "<IPython.core.display.HTML object>"
      ]
     },
     "metadata": {},
     "output_type": "display_data"
    },
    {
     "data": {
      "text/html": [
       "\n",
       "                    <br/>Synced <strong style=\"color:#cdcd00\">modelA training</strong>: <a href=\"https://wandb.ai/manikya/transfertab/runs/2679zttn\" target=\"_blank\">https://wandb.ai/manikya/transfertab/runs/2679zttn</a><br/>\n",
       "                "
      ],
      "text/plain": [
       "<IPython.core.display.HTML object>"
      ]
     },
     "metadata": {},
     "output_type": "display_data"
    }
   ],
   "source": [
    "wandb.finish()"
   ]
  },
  {
   "cell_type": "code",
   "execution_count": 31,
   "metadata": {},
   "outputs": [],
   "source": [
    "splitsB = RandomSplitter(valid_pct=0.2)(range_of(dfB))\n",
    "toB = TabularPandas(dfB, procs=[Categorify, FillMissing, Normalize],\n",
    "                   cat_names = catcols,\n",
    "                   cont_names = contcols,\n",
    "                   y_names=target,\n",
    "                   splits=splitsB)\n",
    "dlsB = toB.dataloaders(bs=256)"
   ]
  },
  {
   "cell_type": "code",
   "execution_count": 32,
   "metadata": {},
   "outputs": [],
   "source": [
    "learnB = tabular_learner(dlsB, metrics=accuracy, emb_szs={'default':4, 'month':12})"
   ]
  },
  {
   "cell_type": "code",
   "execution_count": 36,
   "metadata": {},
   "outputs": [],
   "source": [
    "# catdict = getcatdict(df, catcols)\n",
    "metadict = {}\n",
    "for (cat, classes) in catdict.items():\n",
    "\tmetadict[cat] = {'mapped_cat': cat, 'classes_info': {clas: clas for clas in classes}}\n",
    "with open('bank_meta.json', 'w') as fp:\n",
    "\tjson.dump(metadict, fp)"
   ]
  },
  {
   "cell_type": "code",
   "execution_count": 50,
   "metadata": {},
   "outputs": [],
   "source": [
    "metadict={\"job\": {\"mapped_cat\": \"job\", \"classes_info\": {\"#na#\": \"#na#\", \"admin.\": \"admin.\", \"blue-collar\": \"blue-collar\", \"entrepreneur\": \"entrepreneur\", \"housemaid\": \"housemaid\", \"management\": \"management\", \"retired\": \"retired\", \"self-employed\": \"self-employed\", \"services\": \"services\", \"student\": \"student\", \"technician\": \"technician\", \"unemployed\": \"unemployed\", \"unknown\": \"unknown\"}}, \"marital\": {\"mapped_cat\": \"marital\", \"classes_info\": {\"#na#\": \"#na#\", \"divorced\": \"divorced\", \"married\": \"married\", \"single\": \"single\", \"unknown\": \"unknown\"}}, \"education\": {\"mapped_cat\": \"education\", \"classes_info\": {\"#na#\": \"#na#\", \"basic.4y\": \"basic.4y\", \"basic.6y\": \"basic.6y\", \"basic.9y\": \"basic.9y\", \"high.school\": \"high.school\", \"illiterate\": \"illiterate\", \"professional.course\": \"professional.course\", \"university.degree\": \"university.degree\", \"unknown\": \"unknown\"}}, \"default\": {\"mapped_cat\": \"default\", \"classes_info\": {\"#na#\": \"#na#\", \"no\": \"no\", \"unknown\": \"unknown\"}}, \"housing\": {\"mapped_cat\": \"housing\", \"classes_info\": {\"#na#\": \"#na#\", \"no\": \"no\", \"unknown\": \"unknown\", \"yes\": \"yes\"}}, \"loan\": {\"mapped_cat\": \"loan\", \"classes_info\": {\"#na#\": \"#na#\", \"no\": \"no\", \"unknown\": \"unknown\", \"yes\": \"yes\"}}, \"contact\": {\"mapped_cat\": \"contact\", \"classes_info\": {\"#na#\": \"#na#\", \"cellular\": \"cellular\", \"telephone\": \"telephone\"}}, \"month\": {\"mapped_cat\": \"month\", \"classes_info\": {\"#na#\": \"#na#\", \"apr\": \"apr\", \"aug\": \"aug\", \"dec\": \"dec\", \"jul\": \"jul\", \"jun\": \"jun\", \"mar\": \"mar\", \"may\": \"may\", \"nov\": \"nov\", \"oct\": \"oct\", \"sep\":[]}}, \"day_of_week\": {\"mapped_cat\": \"day_of_week\", \"classes_info\": {\"#na#\": \"#na#\", \"fri\": \"fri\", \"mon\": \"mon\", \"thu\": \"thu\", \"tue\": \"tue\", \"wed\": \"wed\"}}, \"poutcome\": {\"mapped_cat\": \"poutcome\", \"classes_info\": {\"#na#\": \"#na#\", \"failure\": \"failure\", \"nonexistent\": \"nonexistent\", \"success\": \"success\"}}}"
   ]
  },
  {
   "cell_type": "code",
   "execution_count": 46,
   "metadata": {},
   "outputs": [
    {
     "data": {
      "text/plain": [
       "['#na#', 'apr', 'aug', 'dec', 'jul', 'jun', 'mar', 'may', 'nov', 'oct', 'sep']"
      ]
     },
     "execution_count": 46,
     "metadata": {},
     "output_type": "execute_result"
    }
   ],
   "source": [
    "learnB.dls.categorify['month']"
   ]
  },
  {
   "cell_type": "code",
   "execution_count": 47,
   "metadata": {},
   "outputs": [
    {
     "data": {
      "text/plain": [
       "['#na#', 'apr', 'aug', 'dec', 'jul', 'jun', 'mar', 'may', 'nov', 'oct']"
      ]
     },
     "execution_count": 47,
     "metadata": {},
     "output_type": "execute_result"
    }
   ],
   "source": [
    "learnA.dls.categorify['month']"
   ]
  },
  {
   "cell_type": "code",
   "execution_count": 39,
   "metadata": {},
   "outputs": [
    {
     "data": {
      "text/plain": [
       "ModuleList(\n",
       "  (0): Embedding(13, 7)\n",
       "  (1): Embedding(5, 4)\n",
       "  (2): Embedding(9, 5)\n",
       "  (3): Embedding(4, 3)\n",
       "  (4): Embedding(4, 3)\n",
       "  (5): Embedding(4, 3)\n",
       "  (6): Embedding(3, 3)\n",
       "  (7): Embedding(10, 6)\n",
       "  (8): Embedding(6, 4)\n",
       "  (9): Embedding(4, 3)\n",
       ")"
      ]
     },
     "execution_count": 39,
     "metadata": {},
     "output_type": "execute_result"
    }
   ],
   "source": [
    "learnA.model.embeds"
   ]
  },
  {
   "cell_type": "code",
   "execution_count": null,
   "metadata": {},
   "outputs": [],
   "source": []
  },
  {
   "cell_type": "code",
   "execution_count": 40,
   "metadata": {},
   "outputs": [
    {
     "data": {
      "text/plain": [
       "ModuleList(\n",
       "  (0): Embedding(13, 7)\n",
       "  (1): Embedding(5, 4)\n",
       "  (2): Embedding(9, 5)\n",
       "  (3): Embedding(3, 3)\n",
       "  (4): Embedding(4, 3)\n",
       "  (5): Embedding(4, 3)\n",
       "  (6): Embedding(3, 3)\n",
       "  (7): Embedding(11, 6)\n",
       "  (8): Embedding(6, 4)\n",
       "  (9): Embedding(4, 3)\n",
       ")"
      ]
     },
     "execution_count": 40,
     "metadata": {},
     "output_type": "execute_result"
    }
   ],
   "source": [
    "learnB.model.embeds"
   ]
  },
  {
   "cell_type": "code",
   "execution_count": 41,
   "metadata": {},
   "outputs": [
    {
     "data": {
      "text/plain": [
       "(#10) ['job','marital','education','default','housing','loan','contact','month','day_of_week','poutcome']"
      ]
     },
     "execution_count": 41,
     "metadata": {},
     "output_type": "execute_result"
    }
   ],
   "source": [
    "learnB.dls.cat_names"
   ]
  },
  {
   "cell_type": "code",
   "execution_count": 52,
   "metadata": {},
   "outputs": [
    {
     "data": {
      "text/plain": [
       "['job',\n",
       " 'marital',\n",
       " 'education',\n",
       " 'default',\n",
       " 'housing',\n",
       " 'loan',\n",
       " 'contact',\n",
       " 'month',\n",
       " 'day_of_week',\n",
       " 'poutcome']"
      ]
     },
     "execution_count": 52,
     "metadata": {},
     "output_type": "execute_result"
    }
   ],
   "source": [
    "catcols"
   ]
  },
  {
   "cell_type": "code",
   "execution_count": 55,
   "metadata": {},
   "outputs": [],
   "source": [
    "transfercats = ['job',\n",
    " 'marital',\n",
    " 'education',\n",
    "#  'default',\n",
    " 'housing',\n",
    " 'loan',\n",
    " 'contact',\n",
    "#  'month',\n",
    " 'day_of_week',\n",
    " 'poutcome']"
   ]
  },
  {
   "cell_type": "code",
   "execution_count": 68,
   "metadata": {},
   "outputs": [],
   "source": [
    "# transfer_cats = (\" workclass\", \" marital_status\", \" race\", \" relationship\", \" education\")\n",
    "# catcolsB = tuple(learnB.dls.cat_names)\n",
    "# catdictB = {col:list(learnB.dls.categorify.classes[col]) for col in catcolsB}\n",
    "transferembeds_(\n",
    "    learnB.model.embeds, \n",
    "    learnA.model.embeds, \n",
    "    metadict, \n",
    "    transfercats, \n",
    "    newcatcols=catcols, \n",
    "    oldcatcols=catcols, \n",
    "    oldcatdict=catdict, \n",
    "    newcatdict=catdict)"
   ]
  },
  {
   "cell_type": "code",
   "execution_count": 69,
   "metadata": {},
   "outputs": [
    {
     "data": {
      "text/plain": [
       "Parameter containing:\n",
       "tensor([[-0.0062, -0.0045,  0.0040,  0.0023],\n",
       "        [ 0.0453, -0.0868, -0.0149, -0.1187],\n",
       "        [-0.0988,  0.0682, -0.0179,  0.0305],\n",
       "        [ 0.0457, -0.0005,  0.0830,  0.0363],\n",
       "        [ 0.0554, -0.0514,  0.0081,  0.0404]], requires_grad=True)"
      ]
     },
     "execution_count": 69,
     "metadata": {},
     "output_type": "execute_result"
    }
   ],
   "source": [
    "learnA.model.embeds[catcols.index('marital')].weight"
   ]
  },
  {
   "cell_type": "code",
   "execution_count": 70,
   "metadata": {},
   "outputs": [
    {
     "data": {
      "text/plain": [
       "Parameter containing:\n",
       "tensor([[-0.0062, -0.0045,  0.0040,  0.0023],\n",
       "        [ 0.0453, -0.0868, -0.0149, -0.1187],\n",
       "        [-0.0988,  0.0682, -0.0179,  0.0305],\n",
       "        [ 0.0457, -0.0005,  0.0830,  0.0363],\n",
       "        [ 0.0554, -0.0514,  0.0081,  0.0404]])"
      ]
     },
     "execution_count": 70,
     "metadata": {},
     "output_type": "execute_result"
    }
   ],
   "source": [
    "learnB.model.embeds[catcols.index('marital')].weight"
   ]
  },
  {
   "cell_type": "code",
   "execution_count": 71,
   "metadata": {},
   "outputs": [],
   "source": [
    "dlsC = deepcopy(dlsB)\n",
    "learnC = tabular_learner(dlsC, metrics=accuracy)"
   ]
  },
  {
   "cell_type": "code",
   "execution_count": 72,
   "metadata": {},
   "outputs": [
    {
     "data": {
      "text/plain": [
       "<All keys matched successfully>"
      ]
     },
     "execution_count": 72,
     "metadata": {},
     "output_type": "execute_result"
    }
   ],
   "source": [
    "learnC.model.layers.load_state_dict(learnB.model.layers.state_dict())"
   ]
  },
  {
   "cell_type": "code",
   "execution_count": 67,
   "metadata": {},
   "outputs": [
    {
     "name": "stderr",
     "output_type": "stream",
     "text": [
      "\u001b[34m\u001b[1mwandb\u001b[0m: wandb version 0.12.5 is available!  To upgrade, please run:\n",
      "\u001b[34m\u001b[1mwandb\u001b[0m:  $ pip install wandb --upgrade\n"
     ]
    },
    {
     "data": {
      "text/html": [
       "\n",
       "                Tracking run with wandb version 0.10.32<br/>\n",
       "                Syncing run <strong style=\"color:#cdcd00\">modelB training v2</strong> to <a href=\"https://wandb.ai\" target=\"_blank\">Weights & Biases</a> <a href=\"https://docs.wandb.com/integrations/jupyter.html\" target=\"_blank\">(Documentation)</a>.<br/>\n",
       "                Project page: <a href=\"https://wandb.ai/manikya/transfertab\" target=\"_blank\">https://wandb.ai/manikya/transfertab</a><br/>\n",
       "                Run page: <a href=\"https://wandb.ai/manikya/transfertab/runs/1nv8nkh3\" target=\"_blank\">https://wandb.ai/manikya/transfertab/runs/1nv8nkh3</a><br/>\n",
       "                Run data is saved locally in <code>/Users/manikyabardhan/Downloads/bank-additional/wandb/run-20211020_184640-1nv8nkh3</code><br/><br/>\n",
       "            "
      ],
      "text/plain": [
       "<IPython.core.display.HTML object>"
      ]
     },
     "metadata": {},
     "output_type": "display_data"
    },
    {
     "data": {
      "text/html": [
       "<h1>Run(1nv8nkh3)</h1><iframe src=\"https://wandb.ai/manikya/transfertab/runs/1nv8nkh3\" style=\"border:none;width:100%;height:400px\"></iframe>"
      ],
      "text/plain": [
       "<wandb.sdk.wandb_run.Run at 0x7fe6aec1adf0>"
      ]
     },
     "execution_count": 67,
     "metadata": {},
     "output_type": "execute_result"
    }
   ],
   "source": [
    "wandb.init(\n",
    "    project='transfertab', \n",
    "    save_code=True, \n",
    "    group='Exp4c', \n",
    "    job_type='finetune', \n",
    "    tags=['transfer', 'bank'], \n",
    "    name='modelB training v2',\n",
    "    notes='Training modelB which contains transferred embeddings',\n",
    "    reinit=True\n",
    ")"
   ]
  },
  {
   "cell_type": "code",
   "execution_count": 73,
   "metadata": {},
   "outputs": [],
   "source": [
    "for i in range(len(catcols)):\n",
    "    learnB.model.embeds[i].weight.requires_grad = False\n",
    "learnB.create_opt()"
   ]
  },
  {
   "cell_type": "code",
   "execution_count": 74,
   "metadata": {},
   "outputs": [
    {
     "data": {
      "text/plain": [
       "Parameter containing:\n",
       "tensor([[-0.0033,  0.0035,  0.0032],\n",
       "        [-0.0743, -0.0636, -0.0740],\n",
       "        [ 0.0381, -0.0166, -0.0233],\n",
       "        [ 0.0215,  0.1490,  0.0855]])"
      ]
     },
     "execution_count": 74,
     "metadata": {},
     "output_type": "execute_result"
    }
   ],
   "source": [
    "learnB.embeds[5].weight"
   ]
  },
  {
   "cell_type": "code",
   "execution_count": 75,
   "metadata": {},
   "outputs": [
    {
     "data": {
      "text/html": [
       "<table border=\"1\" class=\"dataframe\">\n",
       "  <thead>\n",
       "    <tr style=\"text-align: left;\">\n",
       "      <th>epoch</th>\n",
       "      <th>train_loss</th>\n",
       "      <th>valid_loss</th>\n",
       "      <th>accuracy</th>\n",
       "      <th>time</th>\n",
       "    </tr>\n",
       "  </thead>\n",
       "  <tbody>\n",
       "    <tr>\n",
       "      <td>0</td>\n",
       "      <td>0.328638</td>\n",
       "      <td>0.355238</td>\n",
       "      <td>0.825172</td>\n",
       "      <td>00:00</td>\n",
       "    </tr>\n",
       "    <tr>\n",
       "      <td>1</td>\n",
       "      <td>0.328883</td>\n",
       "      <td>0.344652</td>\n",
       "      <td>0.830028</td>\n",
       "      <td>00:07</td>\n",
       "    </tr>\n",
       "    <tr>\n",
       "      <td>2</td>\n",
       "      <td>0.321108</td>\n",
       "      <td>0.342023</td>\n",
       "      <td>0.831647</td>\n",
       "      <td>00:09</td>\n",
       "    </tr>\n",
       "  </tbody>\n",
       "</table>"
      ],
      "text/plain": [
       "<IPython.core.display.HTML object>"
      ]
     },
     "metadata": {},
     "output_type": "display_data"
    },
    {
     "name": "stdout",
     "output_type": "stream",
     "text": [
      "Better model found at epoch 0 with valid_loss value: 0.35523781180381775.\n",
      "Better model found at epoch 1 with valid_loss value: 0.3446517884731293.\n",
      "Better model found at epoch 2 with valid_loss value: 0.3420228660106659.\n"
     ]
    }
   ],
   "source": [
    "cbsB=[WandbCallback(log=\"all\", dataset_name=\"bank 0.3%\", n_preds=128, seed=1), SaveModelCallback()]\n",
    "learnB.fit_one_cycle(3, cbs=cbsB)"
   ]
  },
  {
   "cell_type": "code",
   "execution_count": 76,
   "metadata": {},
   "outputs": [],
   "source": [
    "for i in range(len(catcols)):\n",
    "    learnB.model.embeds[i].weight.requires_grad = True\n",
    "learnB.create_opt()"
   ]
  },
  {
   "cell_type": "code",
   "execution_count": 77,
   "metadata": {},
   "outputs": [
    {
     "data": {
      "text/html": [
       "<table border=\"1\" class=\"dataframe\">\n",
       "  <thead>\n",
       "    <tr style=\"text-align: left;\">\n",
       "      <th>epoch</th>\n",
       "      <th>train_loss</th>\n",
       "      <th>valid_loss</th>\n",
       "      <th>accuracy</th>\n",
       "      <th>time</th>\n",
       "    </tr>\n",
       "  </thead>\n",
       "  <tbody>\n",
       "    <tr>\n",
       "      <td>0</td>\n",
       "      <td>0.315563</td>\n",
       "      <td>0.343439</td>\n",
       "      <td>0.830028</td>\n",
       "      <td>00:00</td>\n",
       "    </tr>\n",
       "    <tr>\n",
       "      <td>1</td>\n",
       "      <td>0.323050</td>\n",
       "      <td>0.350047</td>\n",
       "      <td>0.830433</td>\n",
       "      <td>00:06</td>\n",
       "    </tr>\n",
       "    <tr>\n",
       "      <td>2</td>\n",
       "      <td>0.317710</td>\n",
       "      <td>0.346990</td>\n",
       "      <td>0.828410</td>\n",
       "      <td>00:06</td>\n",
       "    </tr>\n",
       "    <tr>\n",
       "      <td>3</td>\n",
       "      <td>0.311835</td>\n",
       "      <td>0.347382</td>\n",
       "      <td>0.828814</td>\n",
       "      <td>00:06</td>\n",
       "    </tr>\n",
       "    <tr>\n",
       "      <td>4</td>\n",
       "      <td>0.303627</td>\n",
       "      <td>0.345026</td>\n",
       "      <td>0.826791</td>\n",
       "      <td>00:07</td>\n",
       "    </tr>\n",
       "  </tbody>\n",
       "</table>"
      ],
      "text/plain": [
       "<IPython.core.display.HTML object>"
      ]
     },
     "metadata": {},
     "output_type": "display_data"
    },
    {
     "name": "stdout",
     "output_type": "stream",
     "text": [
      "Better model found at epoch 0 with valid_loss value: 0.3434385359287262.\n"
     ]
    }
   ],
   "source": [
    "learnB.fit_one_cycle(5, cbs=cbsB)"
   ]
  },
  {
   "cell_type": "code",
   "execution_count": 78,
   "metadata": {},
   "outputs": [
    {
     "data": {
      "image/png": "[encoded data removed]",
      "text/plain": [
       "<Figure size 432x288 with 1 Axes>"
      ]
     },
     "metadata": {
      "needs_background": "light"
     },
     "output_type": "display_data"
    }
   ],
   "source": [
    "learnB.recorder.plot_loss()"
   ]
  },
  {
   "cell_type": "code",
   "execution_count": 79,
   "metadata": {},
   "outputs": [
    {
     "data": {
      "text/html": [
       "<br/>Waiting for W&B process to finish, PID 41207<br/>Program ended successfully."
      ],
      "text/plain": [
       "<IPython.core.display.HTML object>"
      ]
     },
     "metadata": {},
     "output_type": "display_data"
    },
    {
     "data": {
      "application/vnd.jupyter.widget-view+json": {
       "model_id": "47a3727c197e4d10b0bba81ac8d3996f",
       "version_major": 2,
       "version_minor": 0
      },
      "text/plain": [
       "VBox(children=(Label(value=' 0.77MB of 0.77MB uploaded (0.00MB deduped)\\r'), FloatProgress(value=1.0, max=1.0)…"
      ]
     },
     "metadata": {},
     "output_type": "display_data"
    },
    {
     "data": {
      "text/html": [
       "Find user logs for this run at: <code>/Users/manikyabardhan/Downloads/bank-additional/wandb/run-20211020_184640-1nv8nkh3/logs/debug.log</code>"
      ],
      "text/plain": [
       "<IPython.core.display.HTML object>"
      ]
     },
     "metadata": {},
     "output_type": "display_data"
    },
    {
     "data": {
      "text/html": [
       "Find internal logs for this run at: <code>/Users/manikyabardhan/Downloads/bank-additional/wandb/run-20211020_184640-1nv8nkh3/logs/debug-internal.log</code>"
      ],
      "text/plain": [
       "<IPython.core.display.HTML object>"
      ]
     },
     "metadata": {},
     "output_type": "display_data"
    },
    {
     "data": {
      "text/html": [
       "<h3>Run summary:</h3><br/><style>\n",
       "    table.wandb td:nth-child(1) { padding: 0 10px; text-align: right }\n",
       "    </style><table class=\"wandb\">\n",
       "<tr><td>epoch</td><td>8</td></tr><tr><td>train_loss</td><td>0.30363</td></tr><tr><td>raw_loss</td><td>0.31384</td></tr><tr><td>wd_0</td><td>0.01</td></tr><tr><td>sqr_mom_0</td><td>0.99</td></tr><tr><td>lr_0</td><td>0.0</td></tr><tr><td>mom_0</td><td>0.94999</td></tr><tr><td>eps_0</td><td>1e-05</td></tr><tr><td>_runtime</td><td>147</td></tr><tr><td>_timestamp</td><td>1634735947</td></tr><tr><td>_step</td><td>304</td></tr><tr><td>valid_loss</td><td>0.34503</td></tr><tr><td>accuracy</td><td>0.82679</td></tr></table>"
      ],
      "text/plain": [
       "<IPython.core.display.HTML object>"
      ]
     },
     "metadata": {},
     "output_type": "display_data"
    },
    {
     "data": {
      "text/html": [
       "<h3>Run history:</h3><br/><style>\n",
       "    table.wandb td:nth-child(1) { padding: 0 10px; text-align: right }\n",
       "    </style><table class=\"wandb\">\n",
       "<tr><td>epoch</td><td>▁▁▁▁▂▂▂▂▂▃▃▃▃▃▃▄▄▄▄▄▅▅▅▅▅▅▆▆▆▆▆▇▇▇▇▇▇███</td></tr><tr><td>train_loss</td><td>▅▅█▆▅▅▅▅▅▅▅▅▄▄▄▂▃▄▂▄▃▃▄▄▄▄▄▄▄▄▃▃▂▂▂▂▂▁▁▁</td></tr><tr><td>raw_loss</td><td>▆▅▃▅▆▆▆▅▅▄▅█▄▂▅▄▆▆▆▇▃▆▃▄▄▄▄▃▆▅▇▄▆▂▅▄▄▁▆▅</td></tr><tr><td>wd_0</td><td>▁▁▁▁▁▁▁▁▁▁▁▁▁▁▁▁▁▁▁▁▁▁▁▁▁▁▁▁▁▁▁▁▁▁▁▁▁▁▁▁</td></tr><tr><td>sqr_mom_0</td><td>▁▁▁▁▁▁▁▁▁▁▁▁▁▁▁▁▁▁▁▁▁▁▁▁▁▁▁▁▁▁▁▁▁▁▁▁▁▁▁▁</td></tr><tr><td>lr_0</td><td>▁▂▅▇██▇▆▆▅▄▃▂▁▁▁▂▃▅▇████▇▇▇▆▆▅▅▄▃▃▂▂▂▁▁▁</td></tr><tr><td>mom_0</td><td>█▇▄▂▁▁▂▃▃▄▅▆▇███▇▆▄▂▁▁▁▁▂▂▂▃▃▄▄▅▆▆▇▇▇███</td></tr><tr><td>eps_0</td><td>▁▁▁▁▁▁▁▁▁▁▁▁▁▁▁▁▁▁▁▁▁▁▁▁▁▁▁▁▁▁▁▁▁▁▁▁▁▁▁▁</td></tr><tr><td>_runtime</td><td>▁▁▁▁▁▂▂▂▂▂▂▂▂▂▂▆▆▆▆▆▆▆▆▆▆▇▇▇▇▇▇▇▇▇▇█████</td></tr><tr><td>_timestamp</td><td>▁▁▁▁▁▂▂▂▂▂▂▂▂▂▂▆▆▆▆▆▆▆▆▆▆▇▇▇▇▇▇▇▇▇▇█████</td></tr><tr><td>_step</td><td>▁▁▁▁▂▂▂▂▂▃▃▃▃▃▃▄▄▄▄▄▅▅▅▅▅▅▆▆▆▆▆▇▇▇▇▇▇███</td></tr><tr><td>valid_loss</td><td>█▂▁▂▅▄▄▃</td></tr><tr><td>accuracy</td><td>▁▆█▆▇▅▅▃</td></tr></table><br/>"
      ],
      "text/plain": [
       "<IPython.core.display.HTML object>"
      ]
     },
     "metadata": {},
     "output_type": "display_data"
    },
    {
     "data": {
      "text/html": [
       "Synced 6 W&B file(s), 8 media file(s), 9 artifact file(s) and 1 other file(s)"
      ],
      "text/plain": [
       "<IPython.core.display.HTML object>"
      ]
     },
     "metadata": {},
     "output_type": "display_data"
    },
    {
     "data": {
      "text/html": [
       "\n",
       "                    <br/>Synced <strong style=\"color:#cdcd00\">modelB training v2</strong>: <a href=\"https://wandb.ai/manikya/transfertab/runs/1nv8nkh3\" target=\"_blank\">https://wandb.ai/manikya/transfertab/runs/1nv8nkh3</a><br/>\n",
       "                "
      ],
      "text/plain": [
       "<IPython.core.display.HTML object>"
      ]
     },
     "metadata": {},
     "output_type": "display_data"
    }
   ],
   "source": [
    "wandb.finish()"
   ]
  },
  {
   "cell_type": "code",
   "execution_count": null,
   "metadata": {},
   "outputs": [],
   "source": []
  },
  {
   "cell_type": "code",
   "execution_count": 80,
   "metadata": {},
   "outputs": [
    {
     "name": "stderr",
     "output_type": "stream",
     "text": [
      "\u001b[34m\u001b[1mwandb\u001b[0m: wandb version 0.12.5 is available!  To upgrade, please run:\n",
      "\u001b[34m\u001b[1mwandb\u001b[0m:  $ pip install wandb --upgrade\n"
     ]
    },
    {
     "data": {
      "text/html": [
       "\n",
       "                Tracking run with wandb version 0.10.32<br/>\n",
       "                Syncing run <strong style=\"color:#cdcd00\">modelC training</strong> to <a href=\"https://wandb.ai\" target=\"_blank\">Weights & Biases</a> <a href=\"https://docs.wandb.com/integrations/jupyter.html\" target=\"_blank\">(Documentation)</a>.<br/>\n",
       "                Project page: <a href=\"https://wandb.ai/manikya/transfertab\" target=\"_blank\">https://wandb.ai/manikya/transfertab</a><br/>\n",
       "                Run page: <a href=\"https://wandb.ai/manikya/transfertab/runs/1y1u1gjt\" target=\"_blank\">https://wandb.ai/manikya/transfertab/runs/1y1u1gjt</a><br/>\n",
       "                Run data is saved locally in <code>/Users/manikyabardhan/Downloads/bank-additional/wandb/run-20211020_184924-1y1u1gjt</code><br/><br/>\n",
       "            "
      ],
      "text/plain": [
       "<IPython.core.display.HTML object>"
      ]
     },
     "metadata": {},
     "output_type": "display_data"
    },
    {
     "data": {
      "text/html": [
       "<h1>Run(1y1u1gjt)</h1><iframe src=\"https://wandb.ai/manikya/transfertab/runs/1y1u1gjt\" style=\"border:none;width:100%;height:400px\"></iframe>"
      ],
      "text/plain": [
       "<wandb.sdk.wandb_run.Run at 0x7fe6ae73feb0>"
      ]
     },
     "execution_count": 80,
     "metadata": {},
     "output_type": "execute_result"
    }
   ],
   "source": [
    "wandb.init(\n",
    "    project='transfertab', \n",
    "    save_code=True, \n",
    "    group='Exp4c', \n",
    "    job_type='controlgrp', \n",
    "    tags=['base', 'bank'], \n",
    "    name='modelC training',\n",
    "    notes='Training modelC which contains randomly initialized weights and same classifier weights as modelB',\n",
    "    reinit=True\n",
    ")"
   ]
  },
  {
   "cell_type": "code",
   "execution_count": 81,
   "metadata": {},
   "outputs": [
    {
     "data": {
      "text/html": [
       "<table border=\"1\" class=\"dataframe\">\n",
       "  <thead>\n",
       "    <tr style=\"text-align: left;\">\n",
       "      <th>epoch</th>\n",
       "      <th>train_loss</th>\n",
       "      <th>valid_loss</th>\n",
       "      <th>accuracy</th>\n",
       "      <th>time</th>\n",
       "    </tr>\n",
       "  </thead>\n",
       "  <tbody>\n",
       "    <tr>\n",
       "      <td>0</td>\n",
       "      <td>0.340277</td>\n",
       "      <td>0.344428</td>\n",
       "      <td>0.828005</td>\n",
       "      <td>00:00</td>\n",
       "    </tr>\n",
       "    <tr>\n",
       "      <td>1</td>\n",
       "      <td>0.340781</td>\n",
       "      <td>0.344436</td>\n",
       "      <td>0.834480</td>\n",
       "      <td>00:06</td>\n",
       "    </tr>\n",
       "    <tr>\n",
       "      <td>2</td>\n",
       "      <td>0.339190</td>\n",
       "      <td>0.340990</td>\n",
       "      <td>0.834075</td>\n",
       "      <td>00:06</td>\n",
       "    </tr>\n",
       "    <tr>\n",
       "      <td>3</td>\n",
       "      <td>0.332897</td>\n",
       "      <td>0.343881</td>\n",
       "      <td>0.830028</td>\n",
       "      <td>00:06</td>\n",
       "    </tr>\n",
       "    <tr>\n",
       "      <td>4</td>\n",
       "      <td>0.325089</td>\n",
       "      <td>0.339312</td>\n",
       "      <td>0.826386</td>\n",
       "      <td>00:06</td>\n",
       "    </tr>\n",
       "    <tr>\n",
       "      <td>5</td>\n",
       "      <td>0.319079</td>\n",
       "      <td>0.338450</td>\n",
       "      <td>0.829624</td>\n",
       "      <td>00:06</td>\n",
       "    </tr>\n",
       "    <tr>\n",
       "      <td>6</td>\n",
       "      <td>0.310707</td>\n",
       "      <td>0.338733</td>\n",
       "      <td>0.831242</td>\n",
       "      <td>00:06</td>\n",
       "    </tr>\n",
       "    <tr>\n",
       "      <td>7</td>\n",
       "      <td>0.307590</td>\n",
       "      <td>0.339051</td>\n",
       "      <td>0.832456</td>\n",
       "      <td>00:06</td>\n",
       "    </tr>\n",
       "  </tbody>\n",
       "</table>"
      ],
      "text/plain": [
       "<IPython.core.display.HTML object>"
      ]
     },
     "metadata": {},
     "output_type": "display_data"
    },
    {
     "name": "stdout",
     "output_type": "stream",
     "text": [
      "Better model found at epoch 0 with valid_loss value: 0.3444281816482544.\n",
      "Better model found at epoch 2 with valid_loss value: 0.34098973870277405.\n",
      "Better model found at epoch 4 with valid_loss value: 0.3393116891384125.\n",
      "Better model found at epoch 5 with valid_loss value: 0.33844953775405884.\n"
     ]
    }
   ],
   "source": [
    "cbsC=[WandbCallback(log=\"all\", dataset_name=\"bank 0.3%\", n_preds=128, seed=1), SaveModelCallback()]\n",
    "learnC.fit_one_cycle(8, cbs=cbsC)"
   ]
  },
  {
   "cell_type": "code",
   "execution_count": 82,
   "metadata": {},
   "outputs": [
    {
     "data": {
      "image/png": "[encoded data removed]",
      "text/plain": [
       "<Figure size 432x288 with 1 Axes>"
      ]
     },
     "metadata": {
      "needs_background": "light"
     },
     "output_type": "display_data"
    }
   ],
   "source": [
    "learnC.recorder.plot_loss()"
   ]
  },
  {
   "cell_type": "code",
   "execution_count": 83,
   "metadata": {},
   "outputs": [
    {
     "data": {
      "text/html": [
       "<br/>Waiting for W&B process to finish, PID 41232<br/>Program ended successfully."
      ],
      "text/plain": [
       "<IPython.core.display.HTML object>"
      ]
     },
     "metadata": {},
     "output_type": "display_data"
    },
    {
     "data": {
      "application/vnd.jupyter.widget-view+json": {
       "model_id": "0b338d048ad2484dab9a8075b72282ae",
       "version_major": 2,
       "version_minor": 0
      },
      "text/plain": [
       "VBox(children=(Label(value=' 0.60MB of 0.60MB uploaded (0.00MB deduped)\\r'), FloatProgress(value=1.0, max=1.0)…"
      ]
     },
     "metadata": {},
     "output_type": "display_data"
    },
    {
     "data": {
      "text/html": [
       "Find user logs for this run at: <code>/Users/manikyabardhan/Downloads/bank-additional/wandb/run-20211020_184924-1y1u1gjt/logs/debug.log</code>"
      ],
      "text/plain": [
       "<IPython.core.display.HTML object>"
      ]
     },
     "metadata": {},
     "output_type": "display_data"
    },
    {
     "data": {
      "text/html": [
       "Find internal logs for this run at: <code>/Users/manikyabardhan/Downloads/bank-additional/wandb/run-20211020_184924-1y1u1gjt/logs/debug-internal.log</code>"
      ],
      "text/plain": [
       "<IPython.core.display.HTML object>"
      ]
     },
     "metadata": {},
     "output_type": "display_data"
    },
    {
     "data": {
      "text/html": [
       "<h3>Run summary:</h3><br/><style>\n",
       "    table.wandb td:nth-child(1) { padding: 0 10px; text-align: right }\n",
       "    </style><table class=\"wandb\">\n",
       "<tr><td>epoch</td><td>8</td></tr><tr><td>train_loss</td><td>0.30759</td></tr><tr><td>raw_loss</td><td>0.31709</td></tr><tr><td>wd_0</td><td>0.01</td></tr><tr><td>sqr_mom_0</td><td>0.99</td></tr><tr><td>lr_0</td><td>0.0</td></tr><tr><td>mom_0</td><td>0.95</td></tr><tr><td>eps_0</td><td>1e-05</td></tr><tr><td>_runtime</td><td>102</td></tr><tr><td>_timestamp</td><td>1634736066</td></tr><tr><td>_step</td><td>303</td></tr><tr><td>valid_loss</td><td>0.33905</td></tr><tr><td>accuracy</td><td>0.83246</td></tr></table>"
      ],
      "text/plain": [
       "<IPython.core.display.HTML object>"
      ]
     },
     "metadata": {},
     "output_type": "display_data"
    },
    {
     "data": {
      "text/html": [
       "<h3>Run history:</h3><br/><style>\n",
       "    table.wandb td:nth-child(1) { padding: 0 10px; text-align: right }\n",
       "    </style><table class=\"wandb\">\n",
       "<tr><td>epoch</td><td>▁▁▁▁▂▂▂▂▂▃▃▃▃▃▃▄▄▄▄▄▅▅▅▅▅▅▆▆▆▆▆▇▇▇▇▇▇███</td></tr><tr><td>train_loss</td><td>▆▆█▆▅▅▅▅▅▅▅▅▅▅▅▅▅▄▄▄▄▄▄▄▃▃▃▃▃▃▂▂▂▂▂▂▁▁▁▁</td></tr><tr><td>raw_loss</td><td>▇▅▄▄▆▆▆▅▅▅▄█▅▃▇▆▅▄▄▃▄▆▂▇▁▃▃▅▂▂▁▂▃▄▄▂▃▅▃▄</td></tr><tr><td>wd_0</td><td>▁▁▁▁▁▁▁▁▁▁▁▁▁▁▁▁▁▁▁▁▁▁▁▁▁▁▁▁▁▁▁▁▁▁▁▁▁▁▁▁</td></tr><tr><td>sqr_mom_0</td><td>▁▁▁▁▁▁▁▁▁▁▁▁▁▁▁▁▁▁▁▁▁▁▁▁▁▁▁▁▁▁▁▁▁▁▁▁▁▁▁▁</td></tr><tr><td>lr_0</td><td>▁▁▂▃▄▅▆▇████████▇▇▇▆▆▆▅▅▅▄▄▄▃▃▃▂▂▂▂▁▁▁▁▁</td></tr><tr><td>mom_0</td><td>██▇▇▅▄▃▂▁▁▁▁▁▁▁▁▂▂▂▃▃▃▄▄▄▅▅▅▆▆▆▇▇▇▇█████</td></tr><tr><td>eps_0</td><td>▁▁▁▁▁▁▁▁▁▁▁▁▁▁▁▁▁▁▁▁▁▁▁▁▁▁▁▁▁▁▁▁▁▁▁▁▁▁▁▁</td></tr><tr><td>_runtime</td><td>▁▁▁▁▁▂▂▂▂▂▃▃▃▃▃▄▄▄▄▄▅▅▅▅▅▆▆▆▆▆▇▇▇▇▇█████</td></tr><tr><td>_timestamp</td><td>▁▁▁▁▁▂▂▂▂▂▃▃▃▃▃▄▄▄▄▄▅▅▅▅▅▆▆▆▆▆▇▇▇▇▇█████</td></tr><tr><td>_step</td><td>▁▁▁▁▂▂▂▂▂▃▃▃▃▃▃▄▄▄▄▄▅▅▅▅▅▅▆▆▆▆▆▇▇▇▇▇▇███</td></tr><tr><td>valid_loss</td><td>██▄▇▂▁▁▂</td></tr><tr><td>accuracy</td><td>▂██▄▁▄▅▆</td></tr></table><br/>"
      ],
      "text/plain": [
       "<IPython.core.display.HTML object>"
      ]
     },
     "metadata": {},
     "output_type": "display_data"
    },
    {
     "data": {
      "text/html": [
       "Synced 6 W&B file(s), 8 media file(s), 7 artifact file(s) and 1 other file(s)"
      ],
      "text/plain": [
       "<IPython.core.display.HTML object>"
      ]
     },
     "metadata": {},
     "output_type": "display_data"
    },
    {
     "data": {
      "text/html": [
       "\n",
       "                    <br/>Synced <strong style=\"color:#cdcd00\">modelC training</strong>: <a href=\"https://wandb.ai/manikya/transfertab/runs/1y1u1gjt\" target=\"_blank\">https://wandb.ai/manikya/transfertab/runs/1y1u1gjt</a><br/>\n",
       "                "
      ],
      "text/plain": [
       "<IPython.core.display.HTML object>"
      ]
     },
     "metadata": {},
     "output_type": "display_data"
    }
   ],
   "source": [
    "wandb.finish()"
   ]
  },
  {
   "cell_type": "code",
   "execution_count": null,
   "metadata": {},
   "outputs": [],
   "source": []
  }
 ],
 "metadata": {
  "interpreter": {
   "hash": "f5eb95d6a783051f7e4f7c764ada467adc5d084fb79225f5dbfbb6f693fbec43"
  },
  "kernelspec": {
   "display_name": "Python 3.9.4 64-bit ('fastenv': conda)",
   "name": "python3"
  },
  "language_info": {
   "codemirror_mode": {
    "name": "ipython",
    "version": 3
   },
   "file_extension": ".py",
   "mimetype": "text/x-python",
   "name": "python",
   "nbconvert_exporter": "python",
   "pygments_lexer": "ipython3",
   "version": "3.9.4"
  },
  "orig_nbformat": 4
 },
 "nbformat": 4,
 "nbformat_minor": 2
}
