{
 "cells": [
  {
   "cell_type": "code",
   "execution_count": null,
   "id": "da2f8446-522a-4d87-9a85-99fe90b4c14d",
   "metadata": {},
   "outputs": [],
   "source": [
    "# default_exp core"
   ]
  },
  {
   "cell_type": "markdown",
   "id": "b14fb51a-684d-4853-b6e9-93ddf1658c24",
   "metadata": {},
   "source": [
    "# Transfer\n",
    "> Contains methods for transferring."
   ]
  },
  {
   "cell_type": "code",
   "execution_count": null,
   "id": "efc2e585-a5df-4f3c-8c73-4a165215c045",
   "metadata": {},
   "outputs": [],
   "source": [
    "#export\n",
    "from nbdev.showdoc import *\n",
    "from transfertab.utils import *\n",
    "import torch\n",
    "import torch.nn as nn\n",
    "import json\n",
    "from functools import partial\n",
    "from fastcore.foundation import *\n",
    "from fastcore.dispatch import *"
   ]
  },
  {
   "cell_type": "markdown",
   "id": "26712686-a512-4ac4-b0e6-66751164358c",
   "metadata": {},
   "source": [
    "We'll create collections of Embedding layers, which will be used to test our transfer methods."
   ]
  },
  {
   "cell_type": "code",
   "execution_count": null,
   "id": "017a10fc-eb67-4f66-9dc0-24d5e0736081",
   "metadata": {},
   "outputs": [],
   "source": [
    "emb_szs1 = ((3, 10), (2, 8))\n",
    "emb_szs2 = ((2, 10), (2, 8))"
   ]
  },
  {
   "cell_type": "code",
   "execution_count": null,
   "id": "c5ec091e-44c4-467b-826c-2d13ad3737c0",
   "metadata": {},
   "outputs": [],
   "source": [
    "embed1 = nn.ModuleList([nn.Embedding(ni, nf) for ni,nf in emb_szs1])\n",
    "embed2 = nn.ModuleList([nn.Embedding(ni, nf) for ni,nf in emb_szs2])"
   ]
  },
  {
   "cell_type": "code",
   "execution_count": null,
   "id": "15f79323-fac8-49f8-8efd-70133a629107",
   "metadata": {},
   "outputs": [
    {
     "data": {
      "text/plain": [
       "ModuleList(\n",
       "  (0): Embedding(3, 10)\n",
       "  (1): Embedding(2, 8)\n",
       ")"
      ]
     },
     "execution_count": null,
     "metadata": {},
     "output_type": "execute_result"
    }
   ],
   "source": [
    "embed1"
   ]
  },
  {
   "cell_type": "markdown",
   "id": "2d671a7d-72e7-4b83-a3c5-6b93c381db9a",
   "metadata": {},
   "source": [
    "Now, we'll create collections containing required metadata."
   ]
  },
  {
   "cell_type": "code",
   "execution_count": null,
   "id": "acd0fb62-b4d9-4c20-80be-a94caa6bd051",
   "metadata": {},
   "outputs": [],
   "source": [
    "newcatcols = (\"new_cat1\", \"new_cat2\")\n",
    "oldcatcols = (\"old_cat1\", \"old_cat2\")\n",
    "\n",
    "newcatdict = {\"new_cat1\" : [\"new_class1\", \"new_class2\", \"new_class3\"], \"new_cat2\" : [\"new_class1\", \"new_class2\"]}\n",
    "oldcatdict = {\"old_cat1\" : [\"old_class1\", \"old_class2\"], \"old_cat2\" : [\"old_class1\", \"old_class2\"]}"
   ]
  },
  {
   "cell_type": "code",
   "execution_count": null,
   "id": "670978e3-e867-4850-9141-a1bcce8dcd2c",
   "metadata": {},
   "outputs": [],
   "source": [
    "json_file_path = \"../data/jsons/metadict.json\"\n",
    "\n",
    "with open(json_file_path, 'r') as j:\n",
    "     metadict = json.loads(j.read())"
   ]
  },
  {
   "cell_type": "markdown",
   "id": "fcc5e27a-d87c-448e-a2e0-bc07131e4f4b",
   "metadata": {},
   "source": [
    "`metadict` is a `Dict` with the keys as the classes in dest. model's data, and value is another `Dict` where `mapped_cat` corresponds to the class in src model's data, along with information about how the classes map from dest. data to src data."
   ]
  },
  {
   "cell_type": "code",
   "execution_count": null,
   "id": "023c090b-bd3a-4c3a-89f2-c3022ae94211",
   "metadata": {},
   "outputs": [
    {
     "data": {
      "text/plain": [
       "{'new_cat1': {'mapped_cat': 'old_cat1',\n",
       "  'classes_info': {'new_class1': ['old_class1', 'old_class2'],\n",
       "   'new_class2': ['old_class2'],\n",
       "   'new_class3': []}},\n",
       " 'new_cat2': {'mapped_cat': 'old_cat2',\n",
       "  'classes_info': {'new_class1': ['old_class2'], 'new_class2': []}}}"
      ]
     },
     "execution_count": null,
     "metadata": {},
     "output_type": "execute_result"
    }
   ],
   "source": [
    "metadict"
   ]
  },
  {
   "cell_type": "code",
   "execution_count": null,
   "id": "f2a31c66-a20a-418c-a7e6-8f00edfcba54",
   "metadata": {},
   "outputs": [],
   "source": [
    "#export\n",
    "@typedispatch\n",
    "def transferembeds_(\n",
    "        dest_model: nn.Module, \n",
    "        src_model: nn.Module,\n",
    "        /,\n",
    "        metatransfer,\n",
    "        transfer_cats,\n",
    "        *,\n",
    "        newcatcols, \n",
    "        oldcatcols, \n",
    "        oldcatdict, \n",
    "        newcatdict, \n",
    "        aggfn = partial(torch.mean, dim=0)):\n",
    "    '''\n",
    "        Transfers embeddings from `src_model` to `dest_model`, \n",
    "        with the help of collections containing various metadata.\n",
    "    '''\n",
    "    src_state_dict = L(src_model.state_dict().items())\n",
    "    dest_state_dict = L(dest_model.state_dict().items())\n",
    "    for newcat in transfer_cats:\n",
    "        newidx = newcatcols.index(newcat)\n",
    "        oldidx = oldcatcols.index(metatransfer[newcat][\"mapped_cat\"])\n",
    "        new_ps = torch.zeros(src_state_dict[oldidx][1].shape[1], 0)\n",
    "        for newclass in newcatdict[newcat]:\n",
    "            classidxs = L(oldcatdict[oldcatcols[oldidx]]).argwhere(lambda x: x in metatransfer[newcat][\"classes_info\"][newclass])\n",
    "            if len(classidxs) == 0:\n",
    "                classidxs =  list(range(len(oldcatdict[oldcatcols[oldidx]])))\n",
    "            ps = torch.unsqueeze(aggfn(torch.index_select(src_state_dict[oldidx][1], 0, torch.LongTensor(classidxs))), -1)\n",
    "            new_ps = torch.cat((new_ps, ps), dim=1)\n",
    "        print(f\"new param size: {new_ps.shape}\\nold param size: {dest_model.state_dict()[dest_state_dict[newidx][0]].shape}\\n\")\n",
    "        dest_model.state_dict()[dest_state_dict[newidx][0]].copy_(new_ps.T)\n",
    "        \n",
    "# @typedispatch\n",
    "# def transferembeds_(\n",
    "#         dest_model: nn.Module, \n",
    "#         src_embed_json: dict,\n",
    "#\n",
    "#         metatransfer,\n",
    "#         transfer_cats,\n",
    "#         *,\n",
    "#         newcatcols, \n",
    "#         oldcatcols, \n",
    "#         oldcatdict, \n",
    "#         newcatdict, \n",
    "#         aggfn = partial(torch.mean, dim=0)):\n",
    "\n",
    "# @typedispatch\n",
    "# def transferembeds_(\n",
    "#         dest_model: nn.Module, \n",
    "#         src_embed_json: pathlib.PosixPath, \n",
    "#         metatransfer,\n",
    "#         transfer_cats,\n",
    "#         *,\n",
    "#         newcatcols, \n",
    "#         oldcatcols, \n",
    "#         oldcatdict, \n",
    "#         newcatdict, \n",
    "#         aggfn = partial(torch.mean, dim=0)):"
   ]
  },
  {
   "cell_type": "code",
   "execution_count": null,
   "id": "f448ea6a-d6e3-46e2-9105-0333feca9a9e",
   "metadata": {},
   "outputs": [],
   "source": [
    "from pathlib import Path"
   ]
  },
  {
   "cell_type": "code",
   "execution_count": null,
   "id": "98474ab9-1d6e-4bb2-ba6f-50cb68ee59ee",
   "metadata": {},
   "outputs": [
    {
     "data": {
      "text/plain": [
       "pathlib.PosixPath"
      ]
     },
     "execution_count": null,
     "metadata": {},
     "output_type": "execute_result"
    }
   ],
   "source": [
    "type(Path(\"a\"))"
   ]
  },
  {
   "cell_type": "markdown",
   "id": "b8779dbf-0d4c-4bb5-b6ac-3f58c82baf3a",
   "metadata": {},
   "source": [
    "Embeddings before transfer:"
   ]
  },
  {
   "cell_type": "code",
   "execution_count": null,
   "id": "8ea4f393-1bc9-44be-a8ff-13d7cdbcfa77",
   "metadata": {},
   "outputs": [
    {
     "data": {
      "text/plain": [
       "OrderedDict([('0.weight',\n",
       "              tensor([[-0.8785, -1.3125, -1.7447, -0.0523,  0.2181, -0.4410, -0.2545, -0.7003,\n",
       "                        0.8835,  0.1169],\n",
       "                      [-0.2754,  1.6872, -1.4758, -0.6321, -0.8176, -0.5889, -0.7625,  1.1944,\n",
       "                       -0.8908,  0.4763],\n",
       "                      [ 0.8055,  1.6962,  0.7415, -0.9416, -0.4558,  0.3970,  1.4989, -0.2572,\n",
       "                       -0.4770,  0.9706]])),\n",
       "             ('1.weight',\n",
       "              tensor([[ 0.5748, -2.2568, -0.1955,  0.1461,  0.8718,  1.2307, -0.3835, -1.2792],\n",
       "                      [ 0.5399, -0.0471, -0.5947,  0.3210, -0.7245, -0.3612, -1.4094, -0.8337]]))])"
      ]
     },
     "execution_count": null,
     "metadata": {},
     "output_type": "execute_result"
    }
   ],
   "source": [
    "embed1.state_dict()"
   ]
  },
  {
   "cell_type": "code",
   "execution_count": null,
   "id": "f84b31d4-27ac-40b3-ac1c-7de228f7bac0",
   "metadata": {},
   "outputs": [
    {
     "data": {
      "text/plain": [
       "OrderedDict([('0.weight',\n",
       "              tensor([[-0.8082,  0.0527, -0.4755, -0.2601, -1.5288, -1.4793, -1.2562,  1.7078,\n",
       "                        1.3433,  0.1644],\n",
       "                      [ 1.3142, -0.0689,  0.1832,  0.2934,  0.7709,  1.2324, -0.8176, -0.2325,\n",
       "                        1.6991, -1.1931]])),\n",
       "             ('1.weight',\n",
       "              tensor([[-0.3152,  1.4867, -2.0957, -1.1404,  1.4763,  0.9344, -0.2639, -1.7845],\n",
       "                      [ 1.3346,  1.3075, -0.7350,  0.4069, -1.7279, -1.3855,  0.3464,  0.1231]]))])"
      ]
     },
     "execution_count": null,
     "metadata": {},
     "output_type": "execute_result"
    }
   ],
   "source": [
    "embed2.state_dict()"
   ]
  },
  {
   "cell_type": "code",
   "execution_count": null,
   "id": "2aca6f6b-403c-4a8d-8677-7416930e7c40",
   "metadata": {},
   "outputs": [
    {
     "name": "stdout",
     "output_type": "stream",
     "text": [
      "new param size: torch.Size([10, 3])\n",
      "old param size: torch.Size([3, 10])\n",
      "\n",
      "new param size: torch.Size([8, 2])\n",
      "old param size: torch.Size([2, 8])\n",
      "\n"
     ]
    }
   ],
   "source": [
    "transfer_cats = (\"new_cat1\", \"new_cat2\")\n",
    "transferembeds_(embed1, embed2, metadict, transfer_cats, newcatcols, oldcatcols, oldcatdict, newcatdict)"
   ]
  },
  {
   "cell_type": "markdown",
   "id": "70161b13-30a6-4203-ac29-86fdf31547e9",
   "metadata": {},
   "source": [
    "Embeddings after transfer:"
   ]
  },
  {
   "cell_type": "code",
   "execution_count": null,
   "id": "8476fe3c-7457-4420-9df4-36e41647920a",
   "metadata": {},
   "outputs": [
    {
     "data": {
      "text/plain": [
       "OrderedDict([('0.weight',\n",
       "              tensor([[ 0.2530, -0.0081, -0.1462,  0.0167, -0.3789, -0.1234, -1.0369,  0.7377,\n",
       "                        1.5212, -0.5143],\n",
       "                      [ 1.3142, -0.0689,  0.1832,  0.2934,  0.7709,  1.2324, -0.8176, -0.2325,\n",
       "                        1.6991, -1.1931],\n",
       "                      [ 0.2530, -0.0081, -0.1462,  0.0167, -0.3789, -0.1234, -1.0369,  0.7377,\n",
       "                        1.5212, -0.5143]])),\n",
       "             ('1.weight',\n",
       "              tensor([[ 1.3346,  1.3075, -0.7350,  0.4069, -1.7279, -1.3855,  0.3464,  0.1231],\n",
       "                      [ 0.5097,  1.3971, -1.4153, -0.3668, -0.1258, -0.2256,  0.0412, -0.8307]]))])"
      ]
     },
     "execution_count": null,
     "metadata": {},
     "output_type": "execute_result"
    }
   ],
   "source": [
    "embed1.state_dict()"
   ]
  },
  {
   "cell_type": "code",
   "execution_count": null,
   "id": "9dbbd775-198b-4587-83b8-a7d89250c565",
   "metadata": {},
   "outputs": [
    {
     "data": {
      "text/plain": [
       "OrderedDict([('0.weight',\n",
       "              tensor([[-0.8082,  0.0527, -0.4755, -0.2601, -1.5288, -1.4793, -1.2562,  1.7078,\n",
       "                        1.3433,  0.1644],\n",
       "                      [ 1.3142, -0.0689,  0.1832,  0.2934,  0.7709,  1.2324, -0.8176, -0.2325,\n",
       "                        1.6991, -1.1931]])),\n",
       "             ('1.weight',\n",
       "              tensor([[-0.3152,  1.4867, -2.0957, -1.1404,  1.4763,  0.9344, -0.2639, -1.7845],\n",
       "                      [ 1.3346,  1.3075, -0.7350,  0.4069, -1.7279, -1.3855,  0.3464,  0.1231]]))])"
      ]
     },
     "execution_count": null,
     "metadata": {},
     "output_type": "execute_result"
    }
   ],
   "source": [
    "embed2.state_dict()"
   ]
  },
  {
   "cell_type": "code",
   "execution_count": null,
   "id": "8c598486-2f98-4320-bcca-c9b5a7359043",
   "metadata": {},
   "outputs": [],
   "source": []
  }
 ],
 "metadata": {
  "kernelspec": {
   "display_name": "Python 3.9 (XPython)",
   "language": "python",
   "name": "xpython"
  }
 },
 "nbformat": 4,
 "nbformat_minor": 5
}
