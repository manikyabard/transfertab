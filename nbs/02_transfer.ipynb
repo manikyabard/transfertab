{
 "cells": [
  {
   "cell_type": "code",
   "execution_count": null,
   "id": "da2f8446-522a-4d87-9a85-99fe90b4c14d",
   "metadata": {},
   "outputs": [],
   "source": [
    "# default_exp transfer"
   ]
  },
  {
   "cell_type": "markdown",
   "id": "b14fb51a-684d-4853-b6e9-93ddf1658c24",
   "metadata": {},
   "source": [
    "# Transfer\n",
    "> Contains methods for transferring."
   ]
  },
  {
   "cell_type": "code",
   "execution_count": null,
   "id": "efc2e585-a5df-4f3c-8c73-4a165215c045",
   "metadata": {},
   "outputs": [],
   "source": [
    "#export\n",
    "import pathlib\n",
    "import torch\n",
    "import torch.nn as nn\n",
    "import json\n",
    "import pandas as pd\n",
    "from functools import partial\n",
    "from fastcore.foundation import *\n",
    "from fastcore.dispatch import *\n",
    "from transfertab.utils import *\n",
    "from transfertab.extract import *"
   ]
  },
  {
   "cell_type": "code",
   "execution_count": null,
   "id": "7c7169a3-a5a7-406b-9658-f3044e80bac8",
   "metadata": {},
   "outputs": [],
   "source": [
    "#skip\n",
    "#hide\n",
    "from nbdev.showdoc import *"
   ]
  },
  {
   "cell_type": "code",
   "execution_count": null,
   "id": "e7c80681-ee4d-4ced-b948-0f66e27c58fe",
   "metadata": {},
   "outputs": [],
   "source": [
    "import os"
   ]
  },
  {
   "cell_type": "markdown",
   "id": "26712686-a512-4ac4-b0e6-66751164358c",
   "metadata": {},
   "source": [
    "We'll create collections of Embedding layers, which will be used to test our transfer methods."
   ]
  },
  {
   "cell_type": "code",
   "execution_count": null,
   "id": "017a10fc-eb67-4f66-9dc0-24d5e0736081",
   "metadata": {},
   "outputs": [],
   "source": [
    "emb_szs1 = ((3, 10), (2, 8))\n",
    "emb_szs2 = ((2, 10), (2, 8))"
   ]
  },
  {
   "cell_type": "code",
   "execution_count": null,
   "id": "c5ec091e-44c4-467b-826c-2d13ad3737c0",
   "metadata": {},
   "outputs": [],
   "source": [
    "embed1 = nn.ModuleList([nn.Embedding(ni, nf) for ni,nf in emb_szs1])\n",
    "embed2 = nn.ModuleList([nn.Embedding(ni, nf) for ni,nf in emb_szs2])"
   ]
  },
  {
   "cell_type": "code",
   "execution_count": null,
   "id": "15f79323-fac8-49f8-8efd-70133a629107",
   "metadata": {},
   "outputs": [
    {
     "data": {
      "text/plain": [
       "ModuleList(\n",
       "  (0): Embedding(3, 10)\n",
       "  (1): Embedding(2, 8)\n",
       ")"
      ]
     },
     "execution_count": null,
     "metadata": {},
     "output_type": "execute_result"
    }
   ],
   "source": [
    "embed1"
   ]
  },
  {
   "cell_type": "markdown",
   "id": "2d671a7d-72e7-4b83-a3c5-6b93c381db9a",
   "metadata": {},
   "source": [
    "Now, we'll create collections containing required metadata."
   ]
  },
  {
   "cell_type": "code",
   "execution_count": null,
   "id": "acd0fb62-b4d9-4c20-80be-a94caa6bd051",
   "metadata": {},
   "outputs": [],
   "source": [
    "newcatcols = (\"new_cat1\", \"new_cat2\")\n",
    "oldcatcols = (\"old_cat2\", \"old_cat3\")\n",
    "\n",
    "newcatdict = {\"new_cat1\" : [\"new_class1\", \"new_class2\", \"new_class3\"], \"new_cat2\" : [\"new_class1\", \"new_class2\"]}\n",
    "oldcatdict = {\"old_cat2\" : [\"a\", \"b\"], \"old_cat3\" : [\"A\", \"B\"]}"
   ]
  },
  {
   "cell_type": "code",
   "execution_count": null,
   "id": "670978e3-e867-4850-9141-a1bcce8dcd2c",
   "metadata": {},
   "outputs": [],
   "source": [
    "json_file_path = \"../data/jsons/metadict.json\"\n",
    "\n",
    "with open(json_file_path, 'r') as j:\n",
    "     metadict = json.loads(j.read())"
   ]
  },
  {
   "cell_type": "markdown",
   "id": "fcc5e27a-d87c-448e-a2e0-bc07131e4f4b",
   "metadata": {},
   "source": [
    "`metadict` is a `Dict` with the keys as the classes in dest. model's data, and value is another `Dict` where `mapped_cat` corresponds to the class in src model's data, along with information about how the classes map from dest. data to src data."
   ]
  },
  {
   "cell_type": "code",
   "execution_count": null,
   "id": "023c090b-bd3a-4c3a-89f2-c3022ae94211",
   "metadata": {},
   "outputs": [
    {
     "data": {
      "text/plain": [
       "{'new_cat1': {'mapped_cat': 'old_cat2',\n",
       "  'classes_info': {'new_class1': ['a', 'b'],\n",
       "   'new_class2': ['b'],\n",
       "   'new_class3': []}},\n",
       " 'new_cat2': {'mapped_cat': 'old_cat3',\n",
       "  'classes_info': {'new_class1': ['A'], 'new_class2': []}}}"
      ]
     },
     "execution_count": null,
     "metadata": {},
     "output_type": "execute_result"
    }
   ],
   "source": [
    "metadict"
   ]
  },
  {
   "cell_type": "code",
   "execution_count": null,
   "id": "a2841423-e5f5-41b3-844c-a77ffa997e27",
   "metadata": {},
   "outputs": [],
   "source": [
    "df = pd.DataFrame({\"old_cat1\": [1, 2, 3, 4, 5], \"old_cat2\": ['a', 'b', 'b', 'b', 'a'], \"old_cat3\": ['A', 'B', 'B', 'B', 'A']})\n",
    "cats = (\"old_cat2\", \"old_cat3\")\n",
    "embdict = extractembeds(embed2, df, transfercats=cats, allcats=cats, path=\"tempwtbson\")"
   ]
  },
  {
   "cell_type": "code",
   "execution_count": null,
   "id": "5bd9931b-df4e-4f50-b2b8-d080af436c65",
   "metadata": {},
   "outputs": [],
   "source": [
    "#export\n",
    "def get_metadict_skeleton(df: pd.DataFrame, *, catcols=None, path=None):\n",
    "    catdict = getcatdict(df, catcols)\n",
    "    metadict = {}\n",
    "    for (cat, classes) in catdict.items():\n",
    "        metadict[cat] = {'mapped_cat': '', 'classes_info': {clas: [] for clas in classes}}\n",
    "    if path != None:\n",
    "        with open(path, 'w') as fp:\n",
    "            json.dump(metadict, fp)\n",
    "    return metadict"
   ]
  },
  {
   "cell_type": "code",
   "execution_count": null,
   "id": "ebaf18fe-de10-4107-8a5a-a81db8242b30",
   "metadata": {},
   "outputs": [
    {
     "data": {
      "text/plain": [
       "{'old_cat2': {'mapped_cat': '', 'classes_info': {'a': [], 'b': []}},\n",
       " 'old_cat3': {'mapped_cat': '', 'classes_info': {'A': [], 'B': []}}}"
      ]
     },
     "execution_count": null,
     "metadata": {},
     "output_type": "execute_result"
    }
   ],
   "source": [
    "get_metadict_skeleton(df)"
   ]
  },
  {
   "cell_type": "code",
   "execution_count": null,
   "id": "f2a31c66-a20a-418c-a7e6-8f00edfcba54",
   "metadata": {},
   "outputs": [],
   "source": [
    "#export\n",
    "@typedispatch\n",
    "def transferembeds_(\n",
    "        dest_embeds: nn.Module, \n",
    "        src_embeds: nn.Module,\n",
    "        /,\n",
    "        metatransfer,\n",
    "        transfer_cats,\n",
    "        *,\n",
    "        newcatcols, \n",
    "        oldcatcols, \n",
    "        oldcatdict, \n",
    "        newcatdict, \n",
    "        aggfn = partial(torch.mean, dim=0)):\n",
    "    '''\n",
    "        Transfers embeddings from `src_embeds` to `dest_embeds`, \n",
    "        with the help of collections containing various metadata.\n",
    "    '''\n",
    "    src_state_dict = L(src_embeds.state_dict().items())\n",
    "    dest_state_dict = L(dest_embeds.state_dict().items())\n",
    "    for newcat in transfer_cats:\n",
    "        newidx = newcatcols.index(newcat)\n",
    "        oldidx = oldcatcols.index(metatransfer[newcat][\"mapped_cat\"])\n",
    "        new_ps = torch.zeros(src_state_dict[oldidx][1].shape[1], 0)\n",
    "        for newclass in newcatdict[newcat]:\n",
    "            classidxs = L(oldcatdict[oldcatcols[oldidx]]).argwhere(lambda x: x in metatransfer[newcat][\"classes_info\"][newclass])\n",
    "            if len(classidxs) == 0:\n",
    "                classidxs =  list(range(len(oldcatdict[oldcatcols[oldidx]])))\n",
    "            ps = torch.unsqueeze(aggfn(torch.index_select(src_state_dict[oldidx][1], 0, torch.LongTensor(classidxs))), -1)\n",
    "            new_ps = torch.cat((new_ps, ps), dim=1)\n",
    "        dest_embeds.state_dict()[dest_state_dict[newidx][0]].copy_(new_ps.T)\n",
    "        \n",
    "@typedispatch\n",
    "def transferembeds_(\n",
    "        dest_embeds: nn.Module, \n",
    "        src_embeds: dict,\n",
    "        metatransfer,\n",
    "        transfer_cats,\n",
    "        *,\n",
    "        newcatcols, \n",
    "        oldcatcols,  \n",
    "        newcatdict, \n",
    "        aggfn = partial(torch.mean, dim=0)):\n",
    "    dest_state_dict = L(dest_embeds.state_dict().items())\n",
    "    for newcat in transfer_cats:\n",
    "        newidx = newcatcols.index(newcat)\n",
    "        oldcatname = metatransfer[newcat]['mapped_cat']\n",
    "        new_ps = torch.zeros(torch.tensor(src_embeds[oldcatname]['embeddings']).shape[1], 0)\n",
    "        for newclass in newcatdict[newcat]:\n",
    "            classidxs = L(src_embeds[oldcatname]['classes']).argwhere(lambda x: x in metatransfer[newcat][\"classes_info\"][newclass])\n",
    "            if len(classidxs) == 0:\n",
    "                classidxs = list(range(len(src_embeds[oldcatname]['classes'])))\n",
    "            ps = torch.unsqueeze(aggfn(torch.index_select(torch.tensor(src_embeds[oldcatname]['embeddings']), 0, torch.LongTensor(classidxs))), -1)\n",
    "            new_ps = torch.cat((new_ps, ps), dim=1)\n",
    "        dest_embeds.state_dict()[dest_state_dict[newidx][0]].copy_(new_ps.T)\n",
    "            \n",
    "            \n",
    "@typedispatch\n",
    "def transferembeds_(\n",
    "        dest_embeds: nn.Module, \n",
    "        src_embeds: (pathlib.PosixPath, str), \n",
    "        metatransfer,\n",
    "        transfer_cats,\n",
    "        *,\n",
    "        kind = \"bson\",\n",
    "        **kwargs):\n",
    "    if kind == \"json\":\n",
    "        with open(src_embeds, 'r') as fp:\n",
    "            src_embeds = json.loads(fp.read())\n",
    "    else:\n",
    "        src_embeds = load_bson(src_embeds)\n",
    "    transferembeds_(dest_embeds, src_embeds, metatransfer, transfer_cats, **kwargs);\n",
    "    "
   ]
  },
  {
   "cell_type": "code",
   "execution_count": null,
   "id": "9fc4853d-a64c-40fa-8663-b3f37cc538d1",
   "metadata": {},
   "outputs": [
    {
     "data": {
      "text/plain": [
       "(Module,Module) -> transferembeds_\n",
       "(Module,dict) -> transferembeds_\n",
       "(Module,PosixPath) -> transferembeds_\n",
       "(Module,str) -> transferembeds_"
      ]
     },
     "execution_count": null,
     "metadata": {},
     "output_type": "execute_result"
    }
   ],
   "source": [
    "transferembeds_"
   ]
  },
  {
   "cell_type": "markdown",
   "id": "b8779dbf-0d4c-4bb5-b6ac-3f58c82baf3a",
   "metadata": {},
   "source": [
    "Embeddings before transfer:"
   ]
  },
  {
   "cell_type": "code",
   "execution_count": null,
   "id": "8ea4f393-1bc9-44be-a8ff-13d7cdbcfa77",
   "metadata": {},
   "outputs": [
    {
     "data": {
      "text/plain": [
       "OrderedDict([('0.weight',\n",
       "              tensor([[ 0.1291,  0.9989, -0.1258,  0.4697, -1.8180, -0.4062,  0.7807, -2.4058,\n",
       "                        2.2032,  1.8388],\n",
       "                      [ 0.1456,  0.2293,  0.2135,  0.4504, -1.4981, -0.2788,  0.9045,  0.1295,\n",
       "                       -0.9927, -0.0125],\n",
       "                      [-1.6132,  0.8939, -0.2192, -0.7470, -0.5318, -2.4357, -0.0404, -0.8680,\n",
       "                        0.2412,  1.8898]])),\n",
       "             ('1.weight',\n",
       "              tensor([[-0.0732, -1.5366,  0.6748,  1.9617, -0.7229,  1.9168, -0.2036, -0.5741],\n",
       "                      [ 0.6987, -1.2535, -0.2394, -0.3216,  0.9821,  1.1238,  2.2877, -0.7127]]))])"
      ]
     },
     "execution_count": null,
     "metadata": {},
     "output_type": "execute_result"
    }
   ],
   "source": [
    "embed1.state_dict()"
   ]
  },
  {
   "cell_type": "code",
   "execution_count": null,
   "id": "f84b31d4-27ac-40b3-ac1c-7de228f7bac0",
   "metadata": {},
   "outputs": [
    {
     "data": {
      "text/plain": [
       "OrderedDict([('0.weight',\n",
       "              tensor([[-1.7019, -0.6068,  1.3590,  3.2759,  1.5049,  1.1870,  0.5087,  0.6172,\n",
       "                        0.0863, -0.5930],\n",
       "                      [-1.8109, -0.6033,  1.1796,  0.6103,  0.6482,  1.4825, -1.3552,  1.0069,\n",
       "                        0.1493, -1.3304]])),\n",
       "             ('1.weight',\n",
       "              tensor([[ 2.3631,  0.1950, -1.3559,  0.0663,  0.1289,  0.5940, -0.0549,  0.2415],\n",
       "                      [ 0.6715, -1.1929, -0.2372, -1.3345, -1.2651, -0.0468, -0.0934, -2.2118]]))])"
      ]
     },
     "execution_count": null,
     "metadata": {},
     "output_type": "execute_result"
    }
   ],
   "source": [
    "embed2.state_dict()"
   ]
  },
  {
   "cell_type": "code",
   "execution_count": null,
   "id": "e190ab37-a330-41ed-addc-2091f598c0b2",
   "metadata": {},
   "outputs": [],
   "source": [
    "transfer_cats = (\"new_cat1\", \"new_cat2\")\n",
    "transferembeds_(embed1, embdict, metadict, transfer_cats, newcatcols=newcatcols, oldcatcols=oldcatcols, newcatdict=newcatdict)"
   ]
  },
  {
   "cell_type": "code",
   "execution_count": null,
   "id": "2aca6f6b-403c-4a8d-8677-7416930e7c40",
   "metadata": {},
   "outputs": [],
   "source": [
    "transfer_cats = (\"new_cat1\", \"new_cat2\")\n",
    "transferembeds_(embed1, embed2, metadict, transfer_cats, newcatcols=newcatcols, oldcatcols=oldcatcols, oldcatdict=oldcatdict, newcatdict=newcatdict)"
   ]
  },
  {
   "cell_type": "code",
   "execution_count": null,
   "id": "a0a779c7-93ec-426f-bdbf-73c79fb00c50",
   "metadata": {},
   "outputs": [],
   "source": [
    "transfer_cats = (\"new_cat1\", \"new_cat2\")\n",
    "transferembeds_(embed1, pathlib.Path(\"tempwtbson\"), metadict, transfer_cats, newcatcols=newcatcols, oldcatcols=oldcatcols, newcatdict=newcatdict)"
   ]
  },
  {
   "cell_type": "markdown",
   "id": "70161b13-30a6-4203-ac29-86fdf31547e9",
   "metadata": {},
   "source": [
    "Embeddings after transfer:"
   ]
  },
  {
   "cell_type": "code",
   "execution_count": null,
   "id": "8476fe3c-7457-4420-9df4-36e41647920a",
   "metadata": {},
   "outputs": [
    {
     "data": {
      "text/plain": [
       "OrderedDict([('0.weight',\n",
       "              tensor([[-1.7564, -0.6051,  1.2693,  1.9431,  1.0765,  1.3347, -0.4232,  0.8120,\n",
       "                        0.1178, -0.9617],\n",
       "                      [-1.8109, -0.6033,  1.1796,  0.6103,  0.6482,  1.4825, -1.3552,  1.0069,\n",
       "                        0.1493, -1.3304],\n",
       "                      [-1.7564, -0.6051,  1.2693,  1.9431,  1.0765,  1.3347, -0.4232,  0.8120,\n",
       "                        0.1178, -0.9617]])),\n",
       "             ('1.weight',\n",
       "              tensor([[ 2.3631,  0.1950, -1.3559,  0.0663,  0.1289,  0.5940, -0.0549,  0.2415],\n",
       "                      [ 1.5173, -0.4990, -0.7966, -0.6341, -0.5681,  0.2736, -0.0741, -0.9852]]))])"
      ]
     },
     "execution_count": null,
     "metadata": {},
     "output_type": "execute_result"
    }
   ],
   "source": [
    "embed1.state_dict()"
   ]
  },
  {
   "cell_type": "code",
   "execution_count": null,
   "id": "9dbbd775-198b-4587-83b8-a7d89250c565",
   "metadata": {},
   "outputs": [
    {
     "data": {
      "text/plain": [
       "OrderedDict([('0.weight',\n",
       "              tensor([[-1.7019, -0.6068,  1.3590,  3.2759,  1.5049,  1.1870,  0.5087,  0.6172,\n",
       "                        0.0863, -0.5930],\n",
       "                      [-1.8109, -0.6033,  1.1796,  0.6103,  0.6482,  1.4825, -1.3552,  1.0069,\n",
       "                        0.1493, -1.3304]])),\n",
       "             ('1.weight',\n",
       "              tensor([[ 2.3631,  0.1950, -1.3559,  0.0663,  0.1289,  0.5940, -0.0549,  0.2415],\n",
       "                      [ 0.6715, -1.1929, -0.2372, -1.3345, -1.2651, -0.0468, -0.0934, -2.2118]]))])"
      ]
     },
     "execution_count": null,
     "metadata": {},
     "output_type": "execute_result"
    }
   ],
   "source": [
    "embed2.state_dict()"
   ]
  },
  {
   "cell_type": "code",
   "execution_count": null,
   "id": "8c598486-2f98-4320-bcca-c9b5a7359043",
   "metadata": {},
   "outputs": [],
   "source": [
    "os.remove(\"tempwtbson\")"
   ]
  },
  {
   "cell_type": "markdown",
   "id": "fb97f51b-d21f-4b2b-a4e6-6e9c0338955f",
   "metadata": {},
   "source": [
    "### Export"
   ]
  },
  {
   "cell_type": "code",
   "execution_count": null,
   "id": "13845f50-4dd5-4d83-82cc-9b09b0d21fc4",
   "metadata": {},
   "outputs": [],
   "source": [
    "#export\n",
    "_all_ = ['transferembeds_']"
   ]
  },
  {
   "cell_type": "code",
   "execution_count": null,
   "id": "3b9b2f0c-a583-4314-bb07-4149400d85f3",
   "metadata": {},
   "outputs": [
    {
     "name": "stdout",
     "output_type": "stream",
     "text": [
      "Converted 00_utils.ipynb.\n",
      "Converted 01_extract.ipynb.\n",
      "Converted 02_transfer.ipynb.\n",
      "Converted 03_load_tests.ipynb.\n",
      "Converted index.ipynb.\n"
     ]
    }
   ],
   "source": [
    "#hide\n",
    "from nbdev.export import notebook2script\n",
    "notebook2script()"
   ]
  },
  {
   "cell_type": "code",
   "execution_count": null,
   "id": "982c3112-d164-409a-a0cd-5a51dcbcd8e0",
   "metadata": {},
   "outputs": [],
   "source": []
  }
 ],
 "metadata": {
  "kernelspec": {
   "display_name": "Python 3",
   "language": "python",
   "name": "python3"
  }
 },
 "nbformat": 4,
 "nbformat_minor": 5
}
