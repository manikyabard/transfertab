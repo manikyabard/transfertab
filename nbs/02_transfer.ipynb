{
 "cells": [
  {
   "cell_type": "code",
   "execution_count": null,
   "id": "da2f8446-522a-4d87-9a85-99fe90b4c14d",
   "metadata": {},
   "outputs": [],
   "source": [
    "# default_exp transfer"
   ]
  },
  {
   "cell_type": "markdown",
   "id": "b14fb51a-684d-4853-b6e9-93ddf1658c24",
   "metadata": {},
   "source": [
    "# Transfer\n",
    "> Contains methods for transferring."
   ]
  },
  {
   "cell_type": "code",
   "execution_count": null,
   "id": "efc2e585-a5df-4f3c-8c73-4a165215c045",
   "metadata": {},
   "outputs": [],
   "source": [
    "#export\n",
    "import pathlib\n",
    "import torch\n",
    "import torch.nn as nn\n",
    "import json\n",
    "import pandas as pd\n",
    "from functools import partial\n",
    "from fastcore.foundation import *\n",
    "from fastcore.dispatch import *\n",
    "from transfertab.utils import *\n",
    "from transfertab.extract import *"
   ]
  },
  {
   "cell_type": "code",
   "execution_count": null,
   "id": "7c7169a3-a5a7-406b-9658-f3044e80bac8",
   "metadata": {},
   "outputs": [],
   "source": [
    "#skip\n",
    "#hide\n",
    "from nbdev.showdoc import *"
   ]
  },
  {
   "cell_type": "code",
   "execution_count": null,
   "id": "e7c80681-ee4d-4ced-b948-0f66e27c58fe",
   "metadata": {},
   "outputs": [],
   "source": [
    "import os"
   ]
  },
  {
   "cell_type": "markdown",
   "id": "26712686-a512-4ac4-b0e6-66751164358c",
   "metadata": {},
   "source": [
    "We'll create collections of Embedding layers, which will be used to test our transfer methods."
   ]
  },
  {
   "cell_type": "code",
   "execution_count": null,
   "id": "017a10fc-eb67-4f66-9dc0-24d5e0736081",
   "metadata": {},
   "outputs": [],
   "source": [
    "emb_szs1 = ((3, 10), (2, 8))\n",
    "emb_szs2 = ((2, 10), (2, 8))"
   ]
  },
  {
   "cell_type": "code",
   "execution_count": null,
   "id": "c5ec091e-44c4-467b-826c-2d13ad3737c0",
   "metadata": {},
   "outputs": [],
   "source": [
    "embed1 = nn.ModuleList([nn.Embedding(ni, nf) for ni,nf in emb_szs1])\n",
    "embed2 = nn.ModuleList([nn.Embedding(ni, nf) for ni,nf in emb_szs2])"
   ]
  },
  {
   "cell_type": "code",
   "execution_count": null,
   "id": "15f79323-fac8-49f8-8efd-70133a629107",
   "metadata": {},
   "outputs": [
    {
     "data": {
      "text/plain": [
       "ModuleList(\n",
       "  (0): Embedding(3, 10)\n",
       "  (1): Embedding(2, 8)\n",
       ")"
      ]
     },
     "execution_count": null,
     "metadata": {},
     "output_type": "execute_result"
    }
   ],
   "source": [
    "embed1"
   ]
  },
  {
   "cell_type": "markdown",
   "id": "2d671a7d-72e7-4b83-a3c5-6b93c381db9a",
   "metadata": {},
   "source": [
    "Now, we'll create collections containing required metadata."
   ]
  },
  {
   "cell_type": "code",
   "execution_count": null,
   "id": "acd0fb62-b4d9-4c20-80be-a94caa6bd051",
   "metadata": {},
   "outputs": [],
   "source": [
    "newcatcols = (\"new_cat1\", \"new_cat2\")\n",
    "oldcatcols = (\"old_cat2\", \"old_cat3\")\n",
    "\n",
    "newcatdict = {\"new_cat1\" : [\"new_class1\", \"new_class2\", \"new_class3\"], \"new_cat2\" : [\"new_class1\", \"new_class2\"]}\n",
    "oldcatdict = {\"old_cat2\" : [\"a\", \"b\"], \"old_cat3\" : [\"A\", \"B\"]}"
   ]
  },
  {
   "cell_type": "code",
   "execution_count": null,
   "id": "670978e3-e867-4850-9141-a1bcce8dcd2c",
   "metadata": {},
   "outputs": [],
   "source": [
    "json_file_path = \"../data/jsons/metadict.json\"\n",
    "\n",
    "with open(json_file_path, 'r') as j:\n",
    "     metadict = json.loads(j.read())"
   ]
  },
  {
   "cell_type": "markdown",
   "id": "fcc5e27a-d87c-448e-a2e0-bc07131e4f4b",
   "metadata": {},
   "source": [
    "`metadict` is a `Dict` with the keys as the classes in dest. model's data, and value is another `Dict` where `mapped_cat` corresponds to the class in src model's data, along with information about how the classes map from dest. data to src data."
   ]
  },
  {
   "cell_type": "code",
   "execution_count": null,
   "id": "023c090b-bd3a-4c3a-89f2-c3022ae94211",
   "metadata": {},
   "outputs": [
    {
     "data": {
      "text/plain": [
       "{'new_cat1': {'mapped_cat': 'old_cat2',\n",
       "  'classes_info': {'new_class1': ['a', 'b'],\n",
       "   'new_class2': ['b'],\n",
       "   'new_class3': []}},\n",
       " 'new_cat2': {'mapped_cat': 'old_cat3',\n",
       "  'classes_info': {'new_class1': ['A'], 'new_class2': []}}}"
      ]
     },
     "execution_count": null,
     "metadata": {},
     "output_type": "execute_result"
    }
   ],
   "source": [
    "metadict"
   ]
  },
  {
   "cell_type": "code",
   "execution_count": null,
   "id": "a2841423-e5f5-41b3-844c-a77ffa997e27",
   "metadata": {},
   "outputs": [],
   "source": [
    "df = pd.DataFrame({\"old_cat1\": [1, 2, 3, 4, 5], \"old_cat2\": ['a', 'b', 'b', 'b', 'a'], \"old_cat3\": ['A', 'B', 'B', 'B', 'A']})\n",
    "cats = (\"old_cat2\", \"old_cat3\")"
   ]
  },
  {
   "cell_type": "code",
   "execution_count": null,
   "id": "7ac5eb21-5b2c-4ad3-ad88-53264155b156",
   "metadata": {},
   "outputs": [],
   "source": [
    "#skip\n",
    "embdict = extractembeds(embed2, df, transfercats=cats, allcats=cats, path=\"tempwtbson\")"
   ]
  },
  {
   "cell_type": "code",
   "execution_count": null,
   "id": "ef799ddc-0d67-43aa-90f3-a753fe1f4f50",
   "metadata": {},
   "outputs": [],
   "source": [
    "embdict = extractembeds(embed2, df, transfercats=cats, allcats=cats)"
   ]
  },
  {
   "cell_type": "code",
   "execution_count": null,
   "id": "5bd9931b-df4e-4f50-b2b8-d080af436c65",
   "metadata": {},
   "outputs": [],
   "source": [
    "#export\n",
    "def get_metadict_skeleton(df: pd.DataFrame, *, catcols=None, path=None):\n",
    "    catdict = getcatdict(df, catcols)\n",
    "    metadict = {}\n",
    "    for (cat, classes) in catdict.items():\n",
    "        metadict[cat] = {'mapped_cat': '', 'classes_info': {clas: [] for clas in classes}}\n",
    "    if path != None:\n",
    "        with open(path, 'w') as fp:\n",
    "            json.dump(metadict, fp)\n",
    "    return metadict"
   ]
  },
  {
   "cell_type": "code",
   "execution_count": null,
   "id": "ebaf18fe-de10-4107-8a5a-a81db8242b30",
   "metadata": {},
   "outputs": [
    {
     "data": {
      "text/plain": [
       "{'old_cat2': {'mapped_cat': '', 'classes_info': {'a': [], 'b': []}},\n",
       " 'old_cat3': {'mapped_cat': '', 'classes_info': {'A': [], 'B': []}}}"
      ]
     },
     "execution_count": null,
     "metadata": {},
     "output_type": "execute_result"
    }
   ],
   "source": [
    "get_metadict_skeleton(df)"
   ]
  },
  {
   "cell_type": "code",
   "execution_count": null,
   "id": "f2a31c66-a20a-418c-a7e6-8f00edfcba54",
   "metadata": {},
   "outputs": [],
   "source": [
    "#export\n",
    "@typedispatch\n",
    "def transferembeds_(\n",
    "        dest_embeds: nn.Module, \n",
    "        src_embeds: nn.Module,\n",
    "        /,\n",
    "        metatransfer,\n",
    "        transfer_cats,\n",
    "        *,\n",
    "        newcatcols, \n",
    "        oldcatcols, \n",
    "        oldcatdict, \n",
    "        newcatdict, \n",
    "        aggfn = partial(torch.mean, dim=0)):\n",
    "    '''\n",
    "        Transfers embeddings from `src_embeds` to `dest_embeds`, \n",
    "        with the help of collections containing various metadata.\n",
    "    '''\n",
    "    src_state_dict = L(src_embeds.state_dict().items())\n",
    "    dest_state_dict = L(dest_embeds.state_dict().items())\n",
    "    for newcat in transfer_cats:\n",
    "        newidx = newcatcols.index(newcat)\n",
    "        oldidx = oldcatcols.index(metatransfer[newcat][\"mapped_cat\"])\n",
    "        new_ps = torch.zeros(src_state_dict[oldidx][1].shape[1], 0)\n",
    "        for newclass in newcatdict[newcat]:\n",
    "            classidxs = L(oldcatdict[oldcatcols[oldidx]]).argwhere(lambda x: x in metatransfer[newcat][\"classes_info\"][newclass])\n",
    "            if len(classidxs) == 0:\n",
    "                classidxs =  list(range(len(oldcatdict[oldcatcols[oldidx]])))\n",
    "            ps = torch.unsqueeze(aggfn(torch.index_select(src_state_dict[oldidx][1], 0, torch.LongTensor(classidxs))), -1)\n",
    "            new_ps = torch.cat((new_ps, ps), dim=1)\n",
    "        dest_embeds.state_dict()[dest_state_dict[newidx][0]].copy_(new_ps.T)\n",
    "        \n",
    "@typedispatch\n",
    "def transferembeds_(\n",
    "        dest_embeds: nn.Module, \n",
    "        src_embeds: dict,\n",
    "        metatransfer,\n",
    "        transfer_cats,\n",
    "        *,\n",
    "        newcatcols, \n",
    "        oldcatcols,  \n",
    "        newcatdict, \n",
    "        aggfn = partial(torch.mean, dim=0)):\n",
    "    dest_state_dict = L(dest_embeds.state_dict().items())\n",
    "    for newcat in transfer_cats:\n",
    "        newidx = newcatcols.index(newcat)\n",
    "        oldcatname = metatransfer[newcat]['mapped_cat']\n",
    "        new_ps = torch.zeros(torch.tensor(src_embeds[oldcatname]['embeddings']).shape[1], 0)\n",
    "        for newclass in newcatdict[newcat]:\n",
    "            classidxs = L(src_embeds[oldcatname]['classes']).argwhere(lambda x: x in metatransfer[newcat][\"classes_info\"][newclass])\n",
    "            if len(classidxs) == 0:\n",
    "                classidxs = list(range(len(src_embeds[oldcatname]['classes'])))\n",
    "            ps = torch.unsqueeze(aggfn(torch.index_select(torch.tensor(src_embeds[oldcatname]['embeddings']), 0, torch.LongTensor(classidxs))), -1)\n",
    "            new_ps = torch.cat((new_ps, ps), dim=1)\n",
    "        dest_embeds.state_dict()[dest_state_dict[newidx][0]].copy_(new_ps.T)\n",
    "            \n",
    "            \n",
    "@typedispatch\n",
    "def transferembeds_(\n",
    "        dest_embeds: nn.Module, \n",
    "        src_embeds: (pathlib.PosixPath, str), \n",
    "        metatransfer,\n",
    "        transfer_cats,\n",
    "        *,\n",
    "        kind = \"bson\",\n",
    "        **kwargs):\n",
    "    if kind == \"json\":\n",
    "        with open(src_embeds, 'r') as fp:\n",
    "            src_embeds = json.loads(fp.read())\n",
    "    else:\n",
    "        src_embeds = load_bson(src_embeds)\n",
    "    transferembeds_(dest_embeds, src_embeds, metatransfer, transfer_cats, **kwargs);\n",
    "    "
   ]
  },
  {
   "cell_type": "code",
   "execution_count": null,
   "id": "9fc4853d-a64c-40fa-8663-b3f37cc538d1",
   "metadata": {},
   "outputs": [
    {
     "data": {
      "text/plain": [
       "(Module,Module) -> transferembeds_\n",
       "(Module,dict) -> transferembeds_\n",
       "(Module,PosixPath) -> transferembeds_\n",
       "(Module,str) -> transferembeds_"
      ]
     },
     "execution_count": null,
     "metadata": {},
     "output_type": "execute_result"
    }
   ],
   "source": [
    "transferembeds_"
   ]
  },
  {
   "cell_type": "markdown",
   "id": "b8779dbf-0d4c-4bb5-b6ac-3f58c82baf3a",
   "metadata": {},
   "source": [
    "Embeddings before transfer:"
   ]
  },
  {
   "cell_type": "code",
   "execution_count": null,
   "id": "8ea4f393-1bc9-44be-a8ff-13d7cdbcfa77",
   "metadata": {},
   "outputs": [
    {
     "data": {
      "text/plain": [
       "OrderedDict([('0.weight',\n",
       "              tensor([[-2.1244e+00, -1.2137e+00,  5.0160e-01,  1.1785e+00, -1.1206e+00,\n",
       "                        1.2005e+00, -4.1906e-02,  1.6484e+00, -1.8413e-01, -7.3832e-01],\n",
       "                      [-1.5847e+00, -1.2023e+00,  1.0965e+00,  3.5035e-01, -1.1027e-01,\n",
       "                       -5.2887e-02,  9.9228e-01,  7.0271e-01,  1.6446e-04, -1.3017e+00],\n",
       "                      [-7.9990e-01,  2.3920e-01, -1.6605e+00,  4.5783e-01, -9.4039e-01,\n",
       "                       -1.0398e+00, -9.1239e-01, -6.1318e-01, -6.4078e-01,  8.1879e-01]])),\n",
       "             ('1.weight',\n",
       "              tensor([[-1.4255, -1.2286,  0.6272, -0.4778, -0.6330, -2.6385,  1.2995,  1.3089],\n",
       "                      [ 0.2308, -0.2324,  1.3043,  0.3647, -0.9237, -0.0981,  0.4950, -0.7677]]))])"
      ]
     },
     "execution_count": null,
     "metadata": {},
     "output_type": "execute_result"
    }
   ],
   "source": [
    "embed1.state_dict()"
   ]
  },
  {
   "cell_type": "code",
   "execution_count": null,
   "id": "f84b31d4-27ac-40b3-ac1c-7de228f7bac0",
   "metadata": {},
   "outputs": [
    {
     "data": {
      "text/plain": [
       "OrderedDict([('0.weight',\n",
       "              tensor([[ 0.0999,  0.9369, -2.1694,  0.9061, -0.0143, -2.5886,  0.4395,  0.3534,\n",
       "                       -0.8270, -0.6671],\n",
       "                      [-0.8343,  1.6814, -0.5556, -1.7140, -0.0165, -1.1426, -1.1122, -0.0464,\n",
       "                        1.4701, -1.0296]])),\n",
       "             ('1.weight',\n",
       "              tensor([[-0.6503, -1.0543,  1.4842, -1.9728, -2.0252, -0.1327,  0.6693,  0.2248],\n",
       "                      [-0.6789,  1.6921, -0.4586,  0.2002,  0.5933,  0.6757,  1.1067, -0.2443]]))])"
      ]
     },
     "execution_count": null,
     "metadata": {},
     "output_type": "execute_result"
    }
   ],
   "source": [
    "embed2.state_dict()"
   ]
  },
  {
   "cell_type": "code",
   "execution_count": null,
   "id": "e190ab37-a330-41ed-addc-2091f598c0b2",
   "metadata": {},
   "outputs": [],
   "source": [
    "transfer_cats = (\"new_cat1\", \"new_cat2\")\n",
    "transferembeds_(embed1, embdict, metadict, transfer_cats, newcatcols=newcatcols, oldcatcols=oldcatcols, newcatdict=newcatdict)"
   ]
  },
  {
   "cell_type": "code",
   "execution_count": null,
   "id": "2aca6f6b-403c-4a8d-8677-7416930e7c40",
   "metadata": {},
   "outputs": [],
   "source": [
    "transfer_cats = (\"new_cat1\", \"new_cat2\")\n",
    "transferembeds_(embed1, embed2, metadict, transfer_cats, newcatcols=newcatcols, oldcatcols=oldcatcols, oldcatdict=oldcatdict, newcatdict=newcatdict)"
   ]
  },
  {
   "cell_type": "code",
   "execution_count": null,
   "id": "a0a779c7-93ec-426f-bdbf-73c79fb00c50",
   "metadata": {},
   "outputs": [],
   "source": [
    "#skip\n",
    "transfer_cats = (\"new_cat1\", \"new_cat2\")\n",
    "transferembeds_(embed1, pathlib.Path(\"tempwtbson\"), metadict, transfer_cats, newcatcols=newcatcols, oldcatcols=oldcatcols, newcatdict=newcatdict)"
   ]
  },
  {
   "cell_type": "markdown",
   "id": "70161b13-30a6-4203-ac29-86fdf31547e9",
   "metadata": {},
   "source": [
    "Embeddings after transfer:"
   ]
  },
  {
   "cell_type": "code",
   "execution_count": null,
   "id": "8476fe3c-7457-4420-9df4-36e41647920a",
   "metadata": {},
   "outputs": [
    {
     "data": {
      "text/plain": [
       "OrderedDict([('0.weight',\n",
       "              tensor([[-0.3672,  1.3092, -1.3625, -0.4039, -0.0154, -1.8656, -0.3363,  0.1535,\n",
       "                        0.3215, -0.8483],\n",
       "                      [-0.8343,  1.6814, -0.5556, -1.7140, -0.0165, -1.1426, -1.1122, -0.0464,\n",
       "                        1.4701, -1.0296],\n",
       "                      [-0.3672,  1.3092, -1.3625, -0.4039, -0.0154, -1.8656, -0.3363,  0.1535,\n",
       "                        0.3215, -0.8483]])),\n",
       "             ('1.weight',\n",
       "              tensor([[-0.6503, -1.0543,  1.4842, -1.9728, -2.0252, -0.1327,  0.6693,  0.2248],\n",
       "                      [-0.6646,  0.3189,  0.5128, -0.8863, -0.7160,  0.2715,  0.8880, -0.0097]]))])"
      ]
     },
     "execution_count": null,
     "metadata": {},
     "output_type": "execute_result"
    }
   ],
   "source": [
    "embed1.state_dict()"
   ]
  },
  {
   "cell_type": "code",
   "execution_count": null,
   "id": "9dbbd775-198b-4587-83b8-a7d89250c565",
   "metadata": {},
   "outputs": [
    {
     "data": {
      "text/plain": [
       "OrderedDict([('0.weight',\n",
       "              tensor([[ 0.0999,  0.9369, -2.1694,  0.9061, -0.0143, -2.5886,  0.4395,  0.3534,\n",
       "                       -0.8270, -0.6671],\n",
       "                      [-0.8343,  1.6814, -0.5556, -1.7140, -0.0165, -1.1426, -1.1122, -0.0464,\n",
       "                        1.4701, -1.0296]])),\n",
       "             ('1.weight',\n",
       "              tensor([[-0.6503, -1.0543,  1.4842, -1.9728, -2.0252, -0.1327,  0.6693,  0.2248],\n",
       "                      [-0.6789,  1.6921, -0.4586,  0.2002,  0.5933,  0.6757,  1.1067, -0.2443]]))])"
      ]
     },
     "execution_count": null,
     "metadata": {},
     "output_type": "execute_result"
    }
   ],
   "source": [
    "embed2.state_dict()"
   ]
  },
  {
   "cell_type": "code",
   "execution_count": null,
   "id": "8c598486-2f98-4320-bcca-c9b5a7359043",
   "metadata": {},
   "outputs": [],
   "source": [
    "#hide\n",
    "#skip\n",
    "os.remove(\"tempwtbson\")"
   ]
  },
  {
   "cell_type": "markdown",
   "id": "fb97f51b-d21f-4b2b-a4e6-6e9c0338955f",
   "metadata": {},
   "source": [
    "### Export"
   ]
  },
  {
   "cell_type": "code",
   "execution_count": null,
   "id": "13845f50-4dd5-4d83-82cc-9b09b0d21fc4",
   "metadata": {},
   "outputs": [],
   "source": [
    "#export\n",
    "_all_ = ['transferembeds_']"
   ]
  },
  {
   "cell_type": "code",
   "execution_count": null,
   "id": "3b9b2f0c-a583-4314-bb07-4149400d85f3",
   "metadata": {},
   "outputs": [
    {
     "name": "stdout",
     "output_type": "stream",
     "text": [
      "Converted 00_utils.ipynb.\n",
      "Converted 01_extract.ipynb.\n",
      "Converted 02_transfer.ipynb.\n",
      "Converted 03_load_tests.ipynb.\n",
      "Converted index.ipynb.\n"
     ]
    }
   ],
   "source": [
    "#hide\n",
    "from nbdev.export import notebook2script\n",
    "notebook2script()"
   ]
  },
  {
   "cell_type": "code",
   "execution_count": null,
   "id": "982c3112-d164-409a-a0cd-5a51dcbcd8e0",
   "metadata": {},
   "outputs": [],
   "source": []
  }
 ],
 "metadata": {
  "kernelspec": {
   "display_name": "Python 3",
   "language": "python",
   "name": "python3"
  }
 },
 "nbformat": 4,
 "nbformat_minor": 5
}
