{
 "cells": [
  {
   "cell_type": "code",
   "execution_count": null,
   "id": "da2f8446-522a-4d87-9a85-99fe90b4c14d",
   "metadata": {},
   "outputs": [],
   "source": [
    "# default_exp core"
   ]
  },
  {
   "cell_type": "markdown",
   "id": "b14fb51a-684d-4853-b6e9-93ddf1658c24",
   "metadata": {},
   "source": [
    "# Transfer\n",
    "> Contains methods for transferring."
   ]
  },
  {
   "cell_type": "code",
   "execution_count": null,
   "id": "efc2e585-a5df-4f3c-8c73-4a165215c045",
   "metadata": {},
   "outputs": [],
   "source": [
    "#export\n",
    "from nbdev.showdoc import *\n",
    "from transfertab.utils import *\n",
    "import torch\n",
    "import torch.nn as nn\n",
    "import json\n",
    "from functools import partial\n",
    "from fastcore.foundation import *\n",
    "from fastcore.dispatch import *\n",
    "from transfertab.utils import *\n",
    "import transfertab\n",
    "import pandas as pd\n",
    "import pathlib\n",
    "from typing import Union"
   ]
  },
  {
   "cell_type": "code",
   "execution_count": null,
   "id": "e7c80681-ee4d-4ced-b948-0f66e27c58fe",
   "metadata": {},
   "outputs": [],
   "source": [
    "import os"
   ]
  },
  {
   "cell_type": "markdown",
   "id": "26712686-a512-4ac4-b0e6-66751164358c",
   "metadata": {},
   "source": [
    "We'll create collections of Embedding layers, which will be used to test our transfer methods."
   ]
  },
  {
   "cell_type": "code",
   "execution_count": null,
   "id": "017a10fc-eb67-4f66-9dc0-24d5e0736081",
   "metadata": {},
   "outputs": [],
   "source": [
    "emb_szs1 = ((3, 10), (2, 8))\n",
    "emb_szs2 = ((2, 10), (2, 8))"
   ]
  },
  {
   "cell_type": "code",
   "execution_count": null,
   "id": "c5ec091e-44c4-467b-826c-2d13ad3737c0",
   "metadata": {},
   "outputs": [],
   "source": [
    "embed1 = nn.ModuleList([nn.Embedding(ni, nf) for ni,nf in emb_szs1])\n",
    "embed2 = nn.ModuleList([nn.Embedding(ni, nf) for ni,nf in emb_szs2])"
   ]
  },
  {
   "cell_type": "code",
   "execution_count": null,
   "id": "15f79323-fac8-49f8-8efd-70133a629107",
   "metadata": {},
   "outputs": [
    {
     "data": {
      "text/plain": [
       "ModuleList(\n",
       "  (0): Embedding(3, 10)\n",
       "  (1): Embedding(2, 8)\n",
       ")"
      ]
     },
     "execution_count": null,
     "metadata": {},
     "output_type": "execute_result"
    }
   ],
   "source": [
    "embed1"
   ]
  },
  {
   "cell_type": "markdown",
   "id": "2d671a7d-72e7-4b83-a3c5-6b93c381db9a",
   "metadata": {},
   "source": [
    "Now, we'll create collections containing required metadata."
   ]
  },
  {
   "cell_type": "code",
   "execution_count": null,
   "id": "acd0fb62-b4d9-4c20-80be-a94caa6bd051",
   "metadata": {},
   "outputs": [],
   "source": [
    "newcatcols = (\"new_cat1\", \"new_cat2\")\n",
    "oldcatcols = (\"old_cat2\", \"old_cat3\")\n",
    "\n",
    "newcatdict = {\"new_cat1\" : [\"new_class1\", \"new_class2\", \"new_class3\"], \"new_cat2\" : [\"new_class1\", \"new_class2\"]}\n",
    "oldcatdict = {\"old_cat2\" : [\"a\", \"b\"], \"old_cat3\" : [\"A\", \"B\"]}"
   ]
  },
  {
   "cell_type": "code",
   "execution_count": null,
   "id": "670978e3-e867-4850-9141-a1bcce8dcd2c",
   "metadata": {},
   "outputs": [],
   "source": [
    "json_file_path = \"../data/jsons/metadict.json\"\n",
    "\n",
    "with open(json_file_path, 'r') as j:\n",
    "     metadict = json.loads(j.read())"
   ]
  },
  {
   "cell_type": "markdown",
   "id": "fcc5e27a-d87c-448e-a2e0-bc07131e4f4b",
   "metadata": {},
   "source": [
    "`metadict` is a `Dict` with the keys as the classes in dest. model's data, and value is another `Dict` where `mapped_cat` corresponds to the class in src model's data, along with information about how the classes map from dest. data to src data."
   ]
  },
  {
   "cell_type": "code",
   "execution_count": null,
   "id": "023c090b-bd3a-4c3a-89f2-c3022ae94211",
   "metadata": {},
   "outputs": [
    {
     "data": {
      "text/plain": [
       "{'new_cat1': {'mapped_cat': 'old_cat2',\n",
       "  'classes_info': {'new_class1': ['a', 'b'],\n",
       "   'new_class2': ['b'],\n",
       "   'new_class3': []}},\n",
       " 'new_cat2': {'mapped_cat': 'old_cat3',\n",
       "  'classes_info': {'new_class1': ['A'], 'new_class2': []}}}"
      ]
     },
     "execution_count": null,
     "metadata": {},
     "output_type": "execute_result"
    }
   ],
   "source": [
    "metadict"
   ]
  },
  {
   "cell_type": "code",
   "execution_count": null,
   "id": "faee978f-80ab-4167-9f87-5f19bb444d84",
   "metadata": {},
   "outputs": [
    {
     "data": {
      "text/plain": [
       "ModuleList(\n",
       "  (0): Embedding(2, 10)\n",
       "  (1): Embedding(2, 8)\n",
       ")"
      ]
     },
     "execution_count": null,
     "metadata": {},
     "output_type": "execute_result"
    }
   ],
   "source": [
    "embed2"
   ]
  },
  {
   "cell_type": "code",
   "execution_count": null,
   "id": "a2841423-e5f5-41b3-844c-a77ffa997e27",
   "metadata": {},
   "outputs": [
    {
     "data": {
      "text/plain": [
       "{'old_cat2': {'classes': ['a', 'b'],\n",
       "  'embeddings': [[0.4175843298435211,\n",
       "    -1.0199278593063354,\n",
       "    -0.6709107756614685,\n",
       "    -0.500321090221405,\n",
       "    -0.13969416916370392,\n",
       "    -0.5671979188919067,\n",
       "    1.4760546684265137,\n",
       "    -0.7525286674499512,\n",
       "    0.43304163217544556,\n",
       "    -2.7244691848754883],\n",
       "   [-1.2662526369094849,\n",
       "    0.39920574426651,\n",
       "    0.1494867205619812,\n",
       "    -2.012317419052124,\n",
       "    0.7739086747169495,\n",
       "    1.636749267578125,\n",
       "    0.8324260711669922,\n",
       "    1.0281352996826172,\n",
       "    0.9744652509689331,\n",
       "    0.520490288734436]]},\n",
       " 'old_cat3': {'classes': ['A', 'B'],\n",
       "  'embeddings': [[1.4979701042175293,\n",
       "    -1.1346012353897095,\n",
       "    0.05064915120601654,\n",
       "    -0.2791922688484192,\n",
       "    0.9253252148628235,\n",
       "    -0.9470803141593933,\n",
       "    0.13601328432559967,\n",
       "    0.7067786455154419],\n",
       "   [0.5263708233833313,\n",
       "    1.1203124523162842,\n",
       "    0.8524508476257324,\n",
       "    -0.8725061416625977,\n",
       "    -0.4161680340766907,\n",
       "    0.08518705517053604,\n",
       "    -1.741043210029602,\n",
       "    -0.3950035274028778]]}}"
      ]
     },
     "execution_count": null,
     "metadata": {},
     "output_type": "execute_result"
    }
   ],
   "source": [
    "df = pd.DataFrame({\"old_cat1\": [1, 2, 3, 4, 5], \"old_cat2\": ['a', 'b', 'b', 'b', 'a'], \"old_cat3\": ['A', 'B', 'B', 'B', 'A']})\n",
    "cats = (\"old_cat2\", \"old_cat3\")\n",
    "embdict = transfertab.utils.extractembeds(embed2, df, transfercats=cats, allcats=cats, path=\"tempwtbson\")\n",
    "embdict"
   ]
  },
  {
   "cell_type": "code",
   "execution_count": null,
   "id": "f2a31c66-a20a-418c-a7e6-8f00edfcba54",
   "metadata": {},
   "outputs": [],
   "source": [
    "#export\n",
    "@typedispatch\n",
    "def transferembeds_(\n",
    "        dest_embeds: nn.Module, \n",
    "        src_embeds: nn.Module,\n",
    "        /,\n",
    "        metatransfer,\n",
    "        transfer_cats,\n",
    "        *,\n",
    "        newcatcols, \n",
    "        oldcatcols, \n",
    "        oldcatdict, \n",
    "        newcatdict, \n",
    "        aggfn = partial(torch.mean, dim=0)):\n",
    "    '''\n",
    "        Transfers embeddings from `src_embeds` to `dest_embeds`, \n",
    "        with the help of collections containing various metadata.\n",
    "    '''\n",
    "    src_state_dict = L(src_embeds.state_dict().items())\n",
    "    dest_state_dict = L(dest_embeds.state_dict().items())\n",
    "    for newcat in transfer_cats:\n",
    "        newidx = newcatcols.index(newcat)\n",
    "        oldidx = oldcatcols.index(metatransfer[newcat][\"mapped_cat\"])\n",
    "        new_ps = torch.zeros(src_state_dict[oldidx][1].shape[1], 0)\n",
    "        for newclass in newcatdict[newcat]:\n",
    "            classidxs = L(oldcatdict[oldcatcols[oldidx]]).argwhere(lambda x: x in metatransfer[newcat][\"classes_info\"][newclass])\n",
    "            if len(classidxs) == 0:\n",
    "                classidxs =  list(range(len(oldcatdict[oldcatcols[oldidx]])))\n",
    "            ps = torch.unsqueeze(aggfn(torch.index_select(src_state_dict[oldidx][1], 0, torch.LongTensor(classidxs))), -1)\n",
    "            new_ps = torch.cat((new_ps, ps), dim=1)\n",
    "        dest_embeds.state_dict()[dest_state_dict[newidx][0]].copy_(new_ps.T)\n",
    "        \n",
    "@typedispatch\n",
    "def transferembeds_(\n",
    "        dest_embeds: nn.Module, \n",
    "        src_embeds: dict,\n",
    "        metatransfer,\n",
    "        transfer_cats,\n",
    "        *,\n",
    "        newcatcols, \n",
    "        oldcatcols,  \n",
    "        newcatdict, \n",
    "        aggfn = partial(torch.mean, dim=0)):\n",
    "    dest_state_dict = L(dest_embeds.state_dict().items())\n",
    "    for newcat in transfer_cats:\n",
    "        newidx = newcatcols.index(newcat)\n",
    "        oldcatname = metatransfer[newcat]['mapped_cat']\n",
    "        new_ps = torch.zeros(torch.tensor(src_embeds[oldcatname]['embeddings']).shape[1], 0)\n",
    "        for newclass in newcatdict[newcat]:\n",
    "            classidxs = L(src_embeds[oldcatname]['classes']).argwhere(lambda x: x in metatransfer[newcat][\"classes_info\"][newclass])\n",
    "            if len(classidxs) == 0:\n",
    "                classidxs = list(range(len(src_embeds[oldcatname]['classes'])))\n",
    "            ps = torch.unsqueeze(aggfn(torch.index_select(torch.tensor(src_embeds[oldcatname]['embeddings']), 0, torch.LongTensor(classidxs))), -1)\n",
    "            new_ps = torch.cat((new_ps, ps), dim=1)\n",
    "        dest_embeds.state_dict()[dest_state_dict[newidx][0]].copy_(new_ps.T)\n",
    "            \n",
    "            \n",
    "@typedispatch\n",
    "def transferembeds_(\n",
    "        dest_embeds: nn.Module, \n",
    "        src_embeds: (pathlib.PosixPath, str), \n",
    "        metatransfer,\n",
    "        transfer_cats,\n",
    "        *,\n",
    "        kind = \"bson\",\n",
    "        **kwargs):\n",
    "    if kind == \"json\":\n",
    "        with open(src_embeds, 'r') as fp:\n",
    "            src_embeds = json.loads(fp.read())\n",
    "    else:\n",
    "        src_embeds = load_bson(src_embeds)\n",
    "    transferembeds_(dest_embeds, src_embeds, metatransfer, transfer_cats, **kwargs);\n",
    "    "
   ]
  },
  {
   "cell_type": "code",
   "execution_count": null,
   "id": "9fc4853d-a64c-40fa-8663-b3f37cc538d1",
   "metadata": {},
   "outputs": [
    {
     "data": {
      "text/plain": [
       "(Module,dict) -> transferembeds_\n",
       "(Module,PosixPath) -> transferembeds_\n",
       "(Module,str) -> transferembeds_\n",
       "(Module,Module) -> transferembeds_"
      ]
     },
     "execution_count": null,
     "metadata": {},
     "output_type": "execute_result"
    }
   ],
   "source": [
    "transferembeds_"
   ]
  },
  {
   "cell_type": "markdown",
   "id": "b8779dbf-0d4c-4bb5-b6ac-3f58c82baf3a",
   "metadata": {},
   "source": [
    "Embeddings before transfer:"
   ]
  },
  {
   "cell_type": "code",
   "execution_count": null,
   "id": "8ea4f393-1bc9-44be-a8ff-13d7cdbcfa77",
   "metadata": {},
   "outputs": [
    {
     "data": {
      "text/plain": [
       "OrderedDict([('0.weight',\n",
       "              tensor([[-0.4243, -0.3104, -0.2607, -1.2563,  0.3171,  0.5348,  1.1542,  0.1378,\n",
       "                        0.7038, -1.1020],\n",
       "                      [-1.2663,  0.3992,  0.1495, -2.0123,  0.7739,  1.6367,  0.8324,  1.0281,\n",
       "                        0.9745,  0.5205],\n",
       "                      [-0.4243, -0.3104, -0.2607, -1.2563,  0.3171,  0.5348,  1.1542,  0.1378,\n",
       "                        0.7038, -1.1020]])),\n",
       "             ('1.weight',\n",
       "              tensor([[ 1.4980, -1.1346,  0.0506, -0.2792,  0.9253, -0.9471,  0.1360,  0.7068],\n",
       "                      [ 1.0122, -0.0071,  0.4516, -0.5758,  0.2546, -0.4309, -0.8025,  0.1559]]))])"
      ]
     },
     "execution_count": null,
     "metadata": {},
     "output_type": "execute_result"
    }
   ],
   "source": [
    "embed1.state_dict()"
   ]
  },
  {
   "cell_type": "code",
   "execution_count": null,
   "id": "f84b31d4-27ac-40b3-ac1c-7de228f7bac0",
   "metadata": {},
   "outputs": [
    {
     "data": {
      "text/plain": [
       "OrderedDict([('0.weight',\n",
       "              tensor([[ 0.4176, -1.0199, -0.6709, -0.5003, -0.1397, -0.5672,  1.4761, -0.7525,\n",
       "                        0.4330, -2.7245],\n",
       "                      [-1.2663,  0.3992,  0.1495, -2.0123,  0.7739,  1.6367,  0.8324,  1.0281,\n",
       "                        0.9745,  0.5205]])),\n",
       "             ('1.weight',\n",
       "              tensor([[ 1.4980, -1.1346,  0.0506, -0.2792,  0.9253, -0.9471,  0.1360,  0.7068],\n",
       "                      [ 0.5264,  1.1203,  0.8525, -0.8725, -0.4162,  0.0852, -1.7410, -0.3950]]))])"
      ]
     },
     "execution_count": null,
     "metadata": {},
     "output_type": "execute_result"
    }
   ],
   "source": [
    "embed2.state_dict()"
   ]
  },
  {
   "cell_type": "code",
   "execution_count": null,
   "id": "e190ab37-a330-41ed-addc-2091f598c0b2",
   "metadata": {},
   "outputs": [],
   "source": [
    "transfer_cats = (\"new_cat1\", \"new_cat2\")\n",
    "transferembeds_(embed1, embdict, metadict, transfer_cats, newcatcols=newcatcols, oldcatcols=oldcatcols, newcatdict=newcatdict)"
   ]
  },
  {
   "cell_type": "code",
   "execution_count": null,
   "id": "2aca6f6b-403c-4a8d-8677-7416930e7c40",
   "metadata": {},
   "outputs": [],
   "source": [
    "transfer_cats = (\"new_cat1\", \"new_cat2\")\n",
    "transferembeds_(embed1, embed2, metadict, transfer_cats, newcatcols=newcatcols, oldcatcols=oldcatcols, oldcatdict=oldcatdict, newcatdict=newcatdict)"
   ]
  },
  {
   "cell_type": "code",
   "execution_count": null,
   "id": "a0a779c7-93ec-426f-bdbf-73c79fb00c50",
   "metadata": {},
   "outputs": [],
   "source": [
    "transfer_cats = (\"new_cat1\", \"new_cat2\")\n",
    "transferembeds_(embed1, pathlib.Path(\"tempwtbson\"), metadict, transfer_cats, newcatcols=newcatcols, oldcatcols=oldcatcols, newcatdict=newcatdict)"
   ]
  },
  {
   "cell_type": "markdown",
   "id": "70161b13-30a6-4203-ac29-86fdf31547e9",
   "metadata": {},
   "source": [
    "Embeddings after transfer:"
   ]
  },
  {
   "cell_type": "code",
   "execution_count": null,
   "id": "8476fe3c-7457-4420-9df4-36e41647920a",
   "metadata": {},
   "outputs": [
    {
     "data": {
      "text/plain": [
       "OrderedDict([('0.weight',\n",
       "              tensor([[-0.4243, -0.3104, -0.2607, -1.2563,  0.3171,  0.5348,  1.1542,  0.1378,\n",
       "                        0.7038, -1.1020],\n",
       "                      [-1.2663,  0.3992,  0.1495, -2.0123,  0.7739,  1.6367,  0.8324,  1.0281,\n",
       "                        0.9745,  0.5205],\n",
       "                      [-0.4243, -0.3104, -0.2607, -1.2563,  0.3171,  0.5348,  1.1542,  0.1378,\n",
       "                        0.7038, -1.1020]])),\n",
       "             ('1.weight',\n",
       "              tensor([[ 1.4980, -1.1346,  0.0506, -0.2792,  0.9253, -0.9471,  0.1360,  0.7068],\n",
       "                      [ 1.0122, -0.0071,  0.4516, -0.5758,  0.2546, -0.4309, -0.8025,  0.1559]]))])"
      ]
     },
     "execution_count": null,
     "metadata": {},
     "output_type": "execute_result"
    }
   ],
   "source": [
    "embed1.state_dict()"
   ]
  },
  {
   "cell_type": "code",
   "execution_count": null,
   "id": "9dbbd775-198b-4587-83b8-a7d89250c565",
   "metadata": {},
   "outputs": [
    {
     "data": {
      "text/plain": [
       "OrderedDict([('0.weight',\n",
       "              tensor([[ 0.4176, -1.0199, -0.6709, -0.5003, -0.1397, -0.5672,  1.4761, -0.7525,\n",
       "                        0.4330, -2.7245],\n",
       "                      [-1.2663,  0.3992,  0.1495, -2.0123,  0.7739,  1.6367,  0.8324,  1.0281,\n",
       "                        0.9745,  0.5205]])),\n",
       "             ('1.weight',\n",
       "              tensor([[ 1.4980, -1.1346,  0.0506, -0.2792,  0.9253, -0.9471,  0.1360,  0.7068],\n",
       "                      [ 0.5264,  1.1203,  0.8525, -0.8725, -0.4162,  0.0852, -1.7410, -0.3950]]))])"
      ]
     },
     "execution_count": null,
     "metadata": {},
     "output_type": "execute_result"
    }
   ],
   "source": [
    "embed2.state_dict()"
   ]
  },
  {
   "cell_type": "code",
   "execution_count": null,
   "id": "8c598486-2f98-4320-bcca-c9b5a7359043",
   "metadata": {},
   "outputs": [],
   "source": [
    "os.remove(\"tempwtbson\")"
   ]
  },
  {
   "cell_type": "code",
   "execution_count": null,
   "id": "633e553d-28ab-4340-8444-6d68927f3e7b",
   "metadata": {},
   "outputs": [],
   "source": []
  }
 ],
 "metadata": {
  "kernelspec": {
   "display_name": "Python 3.9 (XPython)",
   "language": "python",
   "name": "xpython"
  }
 },
 "nbformat": 4,
 "nbformat_minor": 5
}
