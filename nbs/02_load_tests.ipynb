{
 "cells": [
  {
   "cell_type": "markdown",
   "id": "d471f460-1add-4088-a0b5-2f448bcb63cc",
   "metadata": {},
   "source": [
    "# Experiments with loading 01\n",
    "> Contains some experiments with implemented functions"
   ]
  },
  {
   "cell_type": "code",
   "execution_count": null,
   "id": "9276dfa7",
   "metadata": {},
   "outputs": [],
   "source": [
    "from fastai.tabular.all import *\n",
    "import json\n",
    "import torch\n",
    "from torch.autograd import Variable\n",
    "\n",
    "from transfertab.utils import *\n",
    "from transfertab.core import *"
   ]
  },
  {
   "cell_type": "code",
   "execution_count": null,
   "id": "cc46233d",
   "metadata": {},
   "outputs": [],
   "source": [
    "df2 = pd.read_csv('../data/toy_dataset.csv')\n",
    "splits2 = RandomSplitter(valid_pct=0.2)(range_of(df2))\n",
    "to2 = TabularPandas(df2, procs=[Categorify, FillMissing,Normalize],\n",
    "                   cat_names = ['City','sex'],\n",
    "                   cont_names = ['Number', 'Income', 'Age'],\n",
    "                   y_names='Illness',\n",
    "                   splits=splits2)\n",
    "dls2 = to2.dataloaders(bs=64)\n",
    "learn2 = tabular_learner(dls2, metrics=accuracy)"
   ]
  },
  {
   "cell_type": "code",
   "execution_count": null,
   "id": "1f7b79db",
   "metadata": {},
   "outputs": [
    {
     "data": {
      "text/html": [
       "<table border=\"1\" class=\"dataframe\">\n",
       "  <thead>\n",
       "    <tr style=\"text-align: left;\">\n",
       "      <th>epoch</th>\n",
       "      <th>train_loss</th>\n",
       "      <th>valid_loss</th>\n",
       "      <th>accuracy</th>\n",
       "      <th>time</th>\n",
       "    </tr>\n",
       "  </thead>\n",
       "  <tbody>\n",
       "    <tr>\n",
       "      <td>0</td>\n",
       "      <td>0.287621</td>\n",
       "      <td>0.289123</td>\n",
       "      <td>0.917300</td>\n",
       "      <td>00:15</td>\n",
       "    </tr>\n",
       "  </tbody>\n",
       "</table>"
      ],
      "text/plain": [
       "<IPython.core.display.HTML object>"
      ]
     },
     "metadata": {},
     "output_type": "display_data"
    }
   ],
   "source": [
    "learn2.fit(1)"
   ]
  },
  {
   "cell_type": "code",
   "execution_count": null,
   "id": "ee310af5",
   "metadata": {},
   "outputs": [
    {
     "data": {
      "text/html": [],
      "text/plain": [
       "<IPython.core.display.HTML object>"
      ]
     },
     "metadata": {},
     "output_type": "display_data"
    },
    {
     "data": {
      "text/plain": [
       "(   City  sex    Number    Income       Age  Illness\n",
       " 0   1.0  1.0  1.730331 -0.159314 -0.684358      0.0,\n",
       " tensor(0),\n",
       " tensor([0.9196, 0.0804]))"
      ]
     },
     "execution_count": null,
     "metadata": {},
     "output_type": "execute_result"
    }
   ],
   "source": [
    "row, clas, probs = learn2.predict(df2.iloc[-1])\n",
    "row, clas, probs"
   ]
  },
  {
   "cell_type": "code",
   "execution_count": null,
   "id": "f54f44f5",
   "metadata": {},
   "outputs": [],
   "source": [
    "tab_obj = TabTransfer(learn2)"
   ]
  },
  {
   "cell_type": "code",
   "execution_count": null,
   "id": "9ed0796a",
   "metadata": {},
   "outputs": [],
   "source": [
    "# tab_obj.read_json(\"toy_dataset.json\")"
   ]
  },
  {
   "cell_type": "code",
   "execution_count": null,
   "id": "6e0910d7",
   "metadata": {},
   "outputs": [
    {
     "name": "stdout",
     "output_type": "stream",
     "text": [
      "tensor([[ 0.0078, -0.0057,  0.0079],\n",
      "        [ 0.0084, -0.0047,  0.0006],\n",
      "        [-0.0068, -0.0055,  0.0075]])\n",
      "mean is tensor([ 0.0031, -0.0053,  0.0053]) for tensor([[ 0.0078, -0.0057,  0.0079],\n",
      "        [ 0.0084, -0.0047,  0.0006],\n",
      "        [-0.0068, -0.0055,  0.0075]])\n",
      "0, <class 'int'>\n",
      "Transferring weights for class #na#, cat sex using mean\n",
      "old weight for class is tensor([ 0.0031, -0.0053,  0.0053], grad_fn=<SliceBackward>)\n",
      "new weight for class is tensor([ 0.0031, -0.0053,  0.0053], grad_fn=<SliceBackward>)\n",
      "1, <class 'int'>\n",
      "Transferring weights for class Female, cat sex from previous weights\n",
      "old weight for class is tensor([ 0.0078, -0.0057,  0.0079], grad_fn=<SliceBackward>)\n",
      "new weight for class is tensor([ 0.0078, -0.0057,  0.0079], grad_fn=<SliceBackward>)\n",
      "2, <class 'int'>\n",
      "Transferring weights for class Male, cat sex from previous weights\n",
      "old weight for class is tensor([ 0.0084, -0.0047,  0.0006], grad_fn=<SliceBackward>)\n",
      "new weight for class is tensor([ 0.0084, -0.0047,  0.0006], grad_fn=<SliceBackward>)\n"
     ]
    }
   ],
   "source": [
    "# tab_obj.transfer([\"sex\"], verbose = True)"
   ]
  },
  {
   "cell_type": "code",
   "execution_count": null,
   "id": "79f5da22",
   "metadata": {},
   "outputs": [],
   "source": [
    "# tab_obj.save_pickle('test_pickle')"
   ]
  },
  {
   "cell_type": "code",
   "execution_count": null,
   "id": "836b7f7f",
   "metadata": {},
   "outputs": [],
   "source": [
    "# new_model = tab_obj.load_pickle('test_pickle')"
   ]
  },
  {
   "cell_type": "code",
   "execution_count": null,
   "id": "294cc75f",
   "metadata": {},
   "outputs": [
    {
     "data": {
      "text/html": [],
      "text/plain": [
       "<IPython.core.display.HTML object>"
      ]
     },
     "metadata": {},
     "output_type": "display_data"
    }
   ],
   "source": [
    "# row_new_model, clas_new_model, probs_new_model = new_model.predict(df2.iloc[-1])"
   ]
  },
  {
   "cell_type": "code",
   "execution_count": null,
   "id": "b84c4922",
   "metadata": {},
   "outputs": [
    {
     "data": {
      "text/html": [
       "<table border=\"1\" class=\"dataframe\">\n",
       "  <thead>\n",
       "    <tr style=\"text-align: right;\">\n",
       "      <th></th>\n",
       "      <th>City</th>\n",
       "      <th>sex</th>\n",
       "      <th>Number</th>\n",
       "      <th>Income</th>\n",
       "      <th>Age</th>\n",
       "      <th>Illness</th>\n",
       "    </tr>\n",
       "  </thead>\n",
       "  <tbody>\n",
       "    <tr>\n",
       "      <th>0</th>\n",
       "      <td>Austin</td>\n",
       "      <td>Female</td>\n",
       "      <td>150000.001614</td>\n",
       "      <td>87251.00002</td>\n",
       "      <td>37.0</td>\n",
       "      <td>No</td>\n",
       "    </tr>\n",
       "  </tbody>\n",
       "</table>"
      ],
      "text/plain": [
       "<IPython.core.display.HTML object>"
      ]
     },
     "metadata": {},
     "output_type": "display_data"
    }
   ],
   "source": [
    "# row_new_model.show()"
   ]
  },
  {
   "cell_type": "code",
   "execution_count": null,
   "id": "8e1b5692",
   "metadata": {},
   "outputs": [
    {
     "data": {
      "text/plain": [
       "(tensor(0), tensor([0.9316, 0.0684]))"
      ]
     },
     "execution_count": null,
     "metadata": {},
     "output_type": "execute_result"
    }
   ],
   "source": [
    "# clas_new_model, probs_new_model"
   ]
  },
  {
   "cell_type": "markdown",
   "id": "a8a11aec",
   "metadata": {},
   "source": [
    "##### =============================== #####"
   ]
  },
  {
   "cell_type": "code",
   "execution_count": null,
   "id": "ad49b210",
   "metadata": {},
   "outputs": [
    {
     "data": {
      "text/html": [],
      "text/plain": [
       "<IPython.core.display.HTML object>"
      ]
     },
     "metadata": {},
     "output_type": "display_data"
    }
   ],
   "source": [
    "# row, clas, probs = learn2.predict(df2.iloc[-1])"
   ]
  },
  {
   "cell_type": "code",
   "execution_count": null,
   "id": "90e43576",
   "metadata": {},
   "outputs": [
    {
     "data": {
      "text/html": [
       "<table border=\"1\" class=\"dataframe\">\n",
       "  <thead>\n",
       "    <tr style=\"text-align: right;\">\n",
       "      <th></th>\n",
       "      <th>City</th>\n",
       "      <th>sex</th>\n",
       "      <th>Number</th>\n",
       "      <th>Income</th>\n",
       "      <th>Age</th>\n",
       "      <th>Illness</th>\n",
       "    </tr>\n",
       "  </thead>\n",
       "  <tbody>\n",
       "    <tr>\n",
       "      <th>0</th>\n",
       "      <td>Austin</td>\n",
       "      <td>Female</td>\n",
       "      <td>150000.001614</td>\n",
       "      <td>87251.00002</td>\n",
       "      <td>37.0</td>\n",
       "      <td>No</td>\n",
       "    </tr>\n",
       "  </tbody>\n",
       "</table>"
      ],
      "text/plain": [
       "<IPython.core.display.HTML object>"
      ]
     },
     "metadata": {},
     "output_type": "display_data"
    }
   ],
   "source": [
    "# row.show()"
   ]
  },
  {
   "cell_type": "code",
   "execution_count": null,
   "id": "6f44df4d",
   "metadata": {},
   "outputs": [
    {
     "data": {
      "text/plain": [
       "(tensor(0), tensor([0.9018, 0.0982]))"
      ]
     },
     "execution_count": null,
     "metadata": {},
     "output_type": "execute_result"
    }
   ],
   "source": [
    "# clas, probs"
   ]
  },
  {
   "cell_type": "code",
   "execution_count": null,
   "id": "d263282a",
   "metadata": {},
   "outputs": [
    {
     "data": {
      "text/html": [],
      "text/plain": [
       "<IPython.core.display.HTML object>"
      ]
     },
     "metadata": {},
     "output_type": "display_data"
    }
   ],
   "source": [
    "# learner_row, learner_clas, learner_probs = new_model.predict(df2.iloc[-1])"
   ]
  },
  {
   "cell_type": "code",
   "execution_count": null,
   "id": "e74c200c",
   "metadata": {},
   "outputs": [
    {
     "data": {
      "text/html": [
       "<table border=\"1\" class=\"dataframe\">\n",
       "  <thead>\n",
       "    <tr style=\"text-align: right;\">\n",
       "      <th></th>\n",
       "      <th>City</th>\n",
       "      <th>sex</th>\n",
       "      <th>Number</th>\n",
       "      <th>Income</th>\n",
       "      <th>Age</th>\n",
       "      <th>Illness</th>\n",
       "    </tr>\n",
       "  </thead>\n",
       "  <tbody>\n",
       "    <tr>\n",
       "      <th>0</th>\n",
       "      <td>Austin</td>\n",
       "      <td>Female</td>\n",
       "      <td>150000.001614</td>\n",
       "      <td>87251.00002</td>\n",
       "      <td>37.0</td>\n",
       "      <td>No</td>\n",
       "    </tr>\n",
       "  </tbody>\n",
       "</table>"
      ],
      "text/plain": [
       "<IPython.core.display.HTML object>"
      ]
     },
     "metadata": {},
     "output_type": "display_data"
    }
   ],
   "source": [
    "# learner_row.show()"
   ]
  },
  {
   "cell_type": "code",
   "execution_count": null,
   "id": "c7485717",
   "metadata": {},
   "outputs": [
    {
     "data": {
      "text/plain": [
       "tensor([0.9316, 0.0684])"
      ]
     },
     "execution_count": null,
     "metadata": {},
     "output_type": "execute_result"
    }
   ],
   "source": [
    "# learner_probs"
   ]
  }
 ],
 "metadata": {
  "kernelspec": {
   "display_name": "Python 3",
   "language": "python",
   "name": "python3"
  }
 },
 "nbformat": 4,
 "nbformat_minor": 5
}
