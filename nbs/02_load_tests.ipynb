{
 "cells": [
  {
   "cell_type": "markdown",
   "id": "d471f460-1add-4088-a0b5-2f448bcb63cc",
   "metadata": {},
   "source": [
    "# Experiments with loading 01\n",
    "> Contains some experiments with implemented functions"
   ]
  },
  {
   "cell_type": "code",
   "execution_count": null,
   "id": "9276dfa7",
   "metadata": {},
   "outputs": [
    {
     "name": "stderr",
     "output_type": "stream",
     "text": [
      "wandb: wandb version 0.10.32 is available!  To upgrade, please run:\n",
      "wandb:  $ pip install wandb --upgrade\n"
     ]
    },
    {
     "data": {
      "text/html": [
       "\n",
       "                Tracking run with wandb version 0.10.24<br/>\n",
       "                Syncing run <strong style=\"color:#cdcd00\">kind-snow-1</strong> to <a href=\"https://wandb.ai\" target=\"_blank\">Weights & Biases</a> <a href=\"https://docs.wandb.com/integrations/jupyter.html\" target=\"_blank\">(Documentation)</a>.<br/>\n",
       "                Project page: <a href=\"https://wandb.ai/ishitadatta/transfertab-nbs\" target=\"_blank\">https://wandb.ai/ishitadatta/transfertab-nbs</a><br/>\n",
       "                Run page: <a href=\"https://wandb.ai/ishitadatta/transfertab-nbs/runs/29wlpmae\" target=\"_blank\">https://wandb.ai/ishitadatta/transfertab-nbs/runs/29wlpmae</a><br/>\n",
       "                Run data is saved locally in <code>C:\\Users\\HP\\transfertab\\nbs\\wandb\\run-20210617_153338-29wlpmae</code><br/><br/>\n",
       "            "
      ],
      "text/plain": [
       "<IPython.core.display.HTML object>"
      ]
     },
     "metadata": {},
     "output_type": "display_data"
    },
    {
     "data": {
      "text/html": [
       "<h1>Run(29wlpmae)</h1><iframe src=\"https://wandb.ai/ishitadatta/transfertab-nbs/runs/29wlpmae\" style=\"border:none;width:100%;height:400px\"></iframe>"
      ],
      "text/plain": [
       "<wandb.sdk.wandb_run.Run at 0x29b50939b50>"
      ]
     },
     "execution_count": null,
     "metadata": {},
     "output_type": "execute_result"
    }
   ],
   "source": [
    "from fastai.tabular.all import *\n",
    "import json\n",
    "import torch\n",
    "from torch.autograd import Variable\n",
    "\n",
    "from transfertab.utils import *\n",
    "from transfertab.core import *\n",
    "from srsly import ujson\n",
    "\n",
    "import wandb\n",
    "from fastai.callback.wandb import WandbCallback\n",
    "\n",
    "\n",
    "wandb.init(settings=wandb.Settings(start_method=\"thread\"))"
   ]
  },
  {
   "cell_type": "code",
   "execution_count": null,
   "id": "cc46233d",
   "metadata": {},
   "outputs": [],
   "source": [
    "df2 = pd.read_csv('../data/toy_dataset.csv')\n",
    "splits2 = RandomSplitter(valid_pct=0.2)(range_of(df2))\n",
    "to2 = TabularPandas(df2, procs=[Categorify, FillMissing,Normalize],\n",
    "                   cat_names = ['City','sex'],\n",
    "                   cont_names = ['Number', 'Income', 'Age'],\n",
    "                   y_names='Illness',\n",
    "                   splits=splits2)\n",
    "dls2 = to2.dataloaders(bs=64)\n",
    "learn2 = tabular_learner(dls2, metrics=accuracy, cbs=WandbCallback(log_dataset=True, log_model=True))"
   ]
  },
  {
   "cell_type": "code",
   "execution_count": null,
   "id": "1f7b79db",
   "metadata": {},
   "outputs": [
    {
     "name": "stdout",
     "output_type": "stream",
     "text": [
      "WandbCallback could not retrieve the dataset path, please provide it explicitly to \"log_dataset\"\n",
      "WandbCallback requires use of \"SaveModelCallback\" to log best model\n"
     ]
    },
    {
     "data": {
      "text/html": [
       "<table border=\"1\" class=\"dataframe\">\n",
       "  <thead>\n",
       "    <tr style=\"text-align: left;\">\n",
       "      <th>epoch</th>\n",
       "      <th>train_loss</th>\n",
       "      <th>valid_loss</th>\n",
       "      <th>accuracy</th>\n",
       "      <th>time</th>\n",
       "    </tr>\n",
       "  </thead>\n",
       "  <tbody>\n",
       "    <tr>\n",
       "      <td>0</td>\n",
       "      <td>0.265406</td>\n",
       "      <td>0.287556</td>\n",
       "      <td>0.918533</td>\n",
       "      <td>00:33</td>\n",
       "    </tr>\n",
       "  </tbody>\n",
       "</table>"
      ],
      "text/plain": [
       "<IPython.core.display.HTML object>"
      ]
     },
     "metadata": {},
     "output_type": "display_data"
    },
    {
     "name": "stderr",
     "output_type": "stream",
     "text": [
      "D:\\Anaconda\\lib\\site-packages\\torch\\nn\\modules\\module.py:795: UserWarning: Using a non-full backward hook when the forward contains multiple autograd Nodes is deprecated and will be removed in future versions. This hook will be missing some grad_input. Please use register_full_backward_hook to get the documented behavior.\n",
      "  warnings.warn(\"Using a non-full backward hook when the forward contains multiple autograd Nodes \"\n"
     ]
    }
   ],
   "source": [
    "learn2.fit(1)"
   ]
  },
  {
   "cell_type": "code",
   "execution_count": null,
   "id": "ee310af5",
   "metadata": {},
   "outputs": [
    {
     "data": {
      "text/html": [],
      "text/plain": [
       "<IPython.core.display.HTML object>"
      ]
     },
     "metadata": {},
     "output_type": "display_data"
    },
    {
     "data": {
      "text/plain": [
       "(   City  sex    Number    Income       Age  Illness\n",
       " 0   1.0  1.0  1.730422 -0.160174 -0.687693      0.0,\n",
       " tensor(0),\n",
       " tensor([0.9303, 0.0697]))"
      ]
     },
     "execution_count": null,
     "metadata": {},
     "output_type": "execute_result"
    }
   ],
   "source": [
    "row, clas, probs = learn2.predict(df2.iloc[-1])\n",
    "row, clas, probs"
   ]
  },
  {
   "cell_type": "code",
   "execution_count": null,
   "id": "f54f44f5",
   "metadata": {},
   "outputs": [],
   "source": [
    "tab_obj = TabTransfer(learn2)"
   ]
  },
  {
   "cell_type": "code",
   "execution_count": null,
   "id": "9ed0796a",
   "metadata": {},
   "outputs": [],
   "source": [
    "# tab_obj.read_json(\"toy_dataset.json\")"
   ]
  },
  {
   "cell_type": "code",
   "execution_count": null,
   "id": "6e0910d7",
   "metadata": {},
   "outputs": [
    {
     "name": "stdout",
     "output_type": "stream",
     "text": [
      "tensor([[ 0.0078, -0.0057,  0.0079],\n",
      "        [ 0.0084, -0.0047,  0.0006],\n",
      "        [-0.0068, -0.0055,  0.0075]])\n",
      "mean is tensor([ 0.0031, -0.0053,  0.0053]) for tensor([[ 0.0078, -0.0057,  0.0079],\n",
      "        [ 0.0084, -0.0047,  0.0006],\n",
      "        [-0.0068, -0.0055,  0.0075]])\n",
      "0, <class 'int'>\n",
      "Transferring weights for class #na#, cat sex using mean\n",
      "old weight for class is tensor([ 0.0031, -0.0053,  0.0053], grad_fn=<SliceBackward>)\n",
      "new weight for class is tensor([ 0.0031, -0.0053,  0.0053], grad_fn=<SliceBackward>)\n",
      "1, <class 'int'>\n",
      "Transferring weights for class Female, cat sex from previous weights\n",
      "old weight for class is tensor([ 0.0078, -0.0057,  0.0079], grad_fn=<SliceBackward>)\n",
      "new weight for class is tensor([ 0.0078, -0.0057,  0.0079], grad_fn=<SliceBackward>)\n",
      "2, <class 'int'>\n",
      "Transferring weights for class Male, cat sex from previous weights\n",
      "old weight for class is tensor([ 0.0084, -0.0047,  0.0006], grad_fn=<SliceBackward>)\n",
      "new weight for class is tensor([ 0.0084, -0.0047,  0.0006], grad_fn=<SliceBackward>)\n"
     ]
    }
   ],
   "source": [
    "# tab_obj.transfer([\"sex\"], verbose = True)"
   ]
  },
  {
   "cell_type": "code",
   "execution_count": null,
   "id": "79f5da22",
   "metadata": {},
   "outputs": [],
   "source": [
    "# tab_obj.save_pickle('test_pickle')"
   ]
  },
  {
   "cell_type": "code",
   "execution_count": null,
   "id": "836b7f7f",
   "metadata": {},
   "outputs": [],
   "source": [
    "# new_model = tab_obj.load_pickle('test_pickle')"
   ]
  },
  {
   "cell_type": "code",
   "execution_count": null,
   "id": "294cc75f",
   "metadata": {},
   "outputs": [
    {
     "data": {
      "text/html": [],
      "text/plain": [
       "<IPython.core.display.HTML object>"
      ]
     },
     "metadata": {},
     "output_type": "display_data"
    }
   ],
   "source": [
    "# row_new_model, clas_new_model, probs_new_model = new_model.predict(df2.iloc[-1])"
   ]
  },
  {
   "cell_type": "code",
   "execution_count": null,
   "id": "b84c4922",
   "metadata": {},
   "outputs": [
    {
     "data": {
      "text/html": [
       "<table border=\"1\" class=\"dataframe\">\n",
       "  <thead>\n",
       "    <tr style=\"text-align: right;\">\n",
       "      <th></th>\n",
       "      <th>City</th>\n",
       "      <th>sex</th>\n",
       "      <th>Number</th>\n",
       "      <th>Income</th>\n",
       "      <th>Age</th>\n",
       "      <th>Illness</th>\n",
       "    </tr>\n",
       "  </thead>\n",
       "  <tbody>\n",
       "    <tr>\n",
       "      <th>0</th>\n",
       "      <td>Austin</td>\n",
       "      <td>Female</td>\n",
       "      <td>150000.001614</td>\n",
       "      <td>87251.00002</td>\n",
       "      <td>37.0</td>\n",
       "      <td>No</td>\n",
       "    </tr>\n",
       "  </tbody>\n",
       "</table>"
      ],
      "text/plain": [
       "<IPython.core.display.HTML object>"
      ]
     },
     "metadata": {},
     "output_type": "display_data"
    }
   ],
   "source": [
    "# row_new_model.show()"
   ]
  },
  {
   "cell_type": "code",
   "execution_count": null,
   "id": "8e1b5692",
   "metadata": {},
   "outputs": [
    {
     "data": {
      "text/plain": [
       "(tensor(0), tensor([0.9316, 0.0684]))"
      ]
     },
     "execution_count": null,
     "metadata": {},
     "output_type": "execute_result"
    }
   ],
   "source": [
    "# clas_new_model, probs_new_model"
   ]
  },
  {
   "cell_type": "markdown",
   "id": "a8a11aec",
   "metadata": {},
   "source": [
    "##### =============================== #####"
   ]
  },
  {
   "cell_type": "code",
   "execution_count": null,
   "id": "ad49b210",
   "metadata": {},
   "outputs": [
    {
     "data": {
      "text/html": [],
      "text/plain": [
       "<IPython.core.display.HTML object>"
      ]
     },
     "metadata": {},
     "output_type": "display_data"
    }
   ],
   "source": [
    "# row, clas, probs = learn2.predict(df2.iloc[-1])"
   ]
  },
  {
   "cell_type": "code",
   "execution_count": null,
   "id": "90e43576",
   "metadata": {},
   "outputs": [
    {
     "data": {
      "text/html": [
       "<table border=\"1\" class=\"dataframe\">\n",
       "  <thead>\n",
       "    <tr style=\"text-align: right;\">\n",
       "      <th></th>\n",
       "      <th>City</th>\n",
       "      <th>sex</th>\n",
       "      <th>Number</th>\n",
       "      <th>Income</th>\n",
       "      <th>Age</th>\n",
       "      <th>Illness</th>\n",
       "    </tr>\n",
       "  </thead>\n",
       "  <tbody>\n",
       "    <tr>\n",
       "      <th>0</th>\n",
       "      <td>Austin</td>\n",
       "      <td>Female</td>\n",
       "      <td>150000.001614</td>\n",
       "      <td>87251.00002</td>\n",
       "      <td>37.0</td>\n",
       "      <td>No</td>\n",
       "    </tr>\n",
       "  </tbody>\n",
       "</table>"
      ],
      "text/plain": [
       "<IPython.core.display.HTML object>"
      ]
     },
     "metadata": {},
     "output_type": "display_data"
    }
   ],
   "source": [
    "# row.show()"
   ]
  },
  {
   "cell_type": "code",
   "execution_count": null,
   "id": "6f44df4d",
   "metadata": {},
   "outputs": [
    {
     "data": {
      "text/plain": [
       "(tensor(0), tensor([0.9018, 0.0982]))"
      ]
     },
     "execution_count": null,
     "metadata": {},
     "output_type": "execute_result"
    }
   ],
   "source": [
    "# clas, probs"
   ]
  },
  {
   "cell_type": "code",
   "execution_count": null,
   "id": "d263282a",
   "metadata": {},
   "outputs": [
    {
     "data": {
      "text/html": [],
      "text/plain": [
       "<IPython.core.display.HTML object>"
      ]
     },
     "metadata": {},
     "output_type": "display_data"
    }
   ],
   "source": [
    "# learner_row, learner_clas, learner_probs = new_model.predict(df2.iloc[-1])"
   ]
  },
  {
   "cell_type": "code",
   "execution_count": null,
   "id": "e74c200c",
   "metadata": {},
   "outputs": [
    {
     "data": {
      "text/html": [
       "<table border=\"1\" class=\"dataframe\">\n",
       "  <thead>\n",
       "    <tr style=\"text-align: right;\">\n",
       "      <th></th>\n",
       "      <th>City</th>\n",
       "      <th>sex</th>\n",
       "      <th>Number</th>\n",
       "      <th>Income</th>\n",
       "      <th>Age</th>\n",
       "      <th>Illness</th>\n",
       "    </tr>\n",
       "  </thead>\n",
       "  <tbody>\n",
       "    <tr>\n",
       "      <th>0</th>\n",
       "      <td>Austin</td>\n",
       "      <td>Female</td>\n",
       "      <td>150000.001614</td>\n",
       "      <td>87251.00002</td>\n",
       "      <td>37.0</td>\n",
       "      <td>No</td>\n",
       "    </tr>\n",
       "  </tbody>\n",
       "</table>"
      ],
      "text/plain": [
       "<IPython.core.display.HTML object>"
      ]
     },
     "metadata": {},
     "output_type": "display_data"
    }
   ],
   "source": [
    "# learner_row.show()"
   ]
  },
  {
   "cell_type": "code",
   "execution_count": null,
   "id": "c7485717",
   "metadata": {},
   "outputs": [
    {
     "data": {
      "text/plain": [
       "tensor([0.9316, 0.0684])"
      ]
     },
     "execution_count": null,
     "metadata": {},
     "output_type": "execute_result"
    }
   ],
   "source": [
    "# learner_probs"
   ]
  },
  {
   "cell_type": "code",
   "execution_count": null,
   "id": "dfb7e3d2",
   "metadata": {},
   "outputs": [
    {
     "data": {
      "text/html": [
       "<br/>Waiting for W&B process to finish, PID 0<br/>Program ended successfully."
      ],
      "text/plain": [
       "<IPython.core.display.HTML object>"
      ]
     },
     "metadata": {},
     "output_type": "display_data"
    },
    {
     "data": {
      "application/vnd.jupyter.widget-view+json": {
       "model_id": "",
       "version_major": 2,
       "version_minor": 0
      },
      "text/plain": [
       "VBox(children=(Label(value=' 0.01MB of 0.01MB uploaded (0.00MB deduped)\\r'), FloatProgress(value=1.0, max=1.0)…"
      ]
     },
     "metadata": {},
     "output_type": "display_data"
    },
    {
     "data": {
      "text/html": [
       "Find user logs for this run at: <code>C:\\Users\\HP\\transfertab\\nbs\\wandb\\run-20210617_153338-29wlpmae\\logs\\debug.log</code>"
      ],
      "text/plain": [
       "<IPython.core.display.HTML object>"
      ]
     },
     "metadata": {},
     "output_type": "display_data"
    },
    {
     "data": {
      "text/html": [
       "Find internal logs for this run at: <code>C:\\Users\\HP\\transfertab\\nbs\\wandb\\run-20210617_153338-29wlpmae\\logs\\debug-internal.log</code>"
      ],
      "text/plain": [
       "<IPython.core.display.HTML object>"
      ]
     },
     "metadata": {},
     "output_type": "display_data"
    },
    {
     "data": {
      "text/html": [
       "<h3>Run summary:</h3><br/><style>\n",
       "    table.wandb td:nth-child(1) { padding: 0 10px; text-align: right }\n",
       "    </style><table class=\"wandb\">\n",
       "<tr><td>epoch</td><td>1</td></tr><tr><td>train_loss</td><td>0.26541</td></tr><tr><td>raw_loss</td><td>0.28508</td></tr><tr><td>wd_0</td><td>0.01</td></tr><tr><td>sqr_mom_0</td><td>0.99</td></tr><tr><td>lr_0</td><td>0.001</td></tr><tr><td>mom_0</td><td>0.9</td></tr><tr><td>eps_0</td><td>1e-05</td></tr><tr><td>_runtime</td><td>415</td></tr><tr><td>_timestamp</td><td>1623924633</td></tr><tr><td>_step</td><td>1874</td></tr><tr><td>valid_loss</td><td>0.28756</td></tr><tr><td>accuracy</td><td>0.91853</td></tr></table>"
      ],
      "text/plain": [
       "<IPython.core.display.HTML object>"
      ]
     },
     "metadata": {},
     "output_type": "display_data"
    },
    {
     "data": {
      "text/html": [
       "<h3>Run history:</h3><br/><style>\n",
       "    table.wandb td:nth-child(1) { padding: 0 10px; text-align: right }\n",
       "    </style><table class=\"wandb\">\n",
       "<tr><td>epoch</td><td>▁▁▁▁▂▂▂▂▂▃▃▃▃▃▃▄▄▄▄▄▅▅▅▅▅▅▆▆▆▆▆▇▇▇▇▇▇███</td></tr><tr><td>train_loss</td><td>█▇▅▃▂▂▁▂▁▁▁▂▁▂▁▁▁▂▁▁▁▂▂▁▁▂▂▁▁▁▁▁▁▁▁▁▁▁▁▁</td></tr><tr><td>raw_loss</td><td>█▇▆▅▃▃▄▄▆▂▃▅▂▄▃▂▅▂▅▃▅▂▃▃▁▅▄▅▄▆▅▂▂▄▅▃▅▂▄▂</td></tr><tr><td>wd_0</td><td>▁▁▁▁▁▁▁▁▁▁▁▁▁▁▁▁▁▁▁▁▁▁▁▁▁▁▁▁▁▁▁▁▁▁▁▁▁▁▁▁</td></tr><tr><td>sqr_mom_0</td><td>▁▁▁▁▁▁▁▁▁▁▁▁▁▁▁▁▁▁▁▁▁▁▁▁▁▁▁▁▁▁▁▁▁▁▁▁▁▁▁▁</td></tr><tr><td>lr_0</td><td>▁▁▁▁▁▁▁▁▁▁▁▁▁▁▁▁▁▁▁▁▁▁▁▁▁▁▁▁▁▁▁▁▁▁▁▁▁▁▁▁</td></tr><tr><td>mom_0</td><td>▁▁▁▁▁▁▁▁▁▁▁▁▁▁▁▁▁▁▁▁▁▁▁▁▁▁▁▁▁▁▁▁▁▁▁▁▁▁▁▁</td></tr><tr><td>eps_0</td><td>▁▁▁▁▁▁▁▁▁▁▁▁▁▁▁▁▁▁▁▁▁▁▁▁▁▁▁▁▁▁▁▁▁▁▁▁▁▁▁▁</td></tr><tr><td>_runtime</td><td>▁▁▁▁▂▂▂▂▂▂▃▃▃▃▃▄▄▄▄▄▄▅▅▅▅▅▅▆▆▆▆▆▇▇▇▇████</td></tr><tr><td>_timestamp</td><td>▁▁▁▁▂▂▂▂▂▂▃▃▃▃▃▄▄▄▄▄▄▅▅▅▅▅▅▆▆▆▆▆▇▇▇▇████</td></tr><tr><td>_step</td><td>▁▁▁▁▂▂▂▂▂▃▃▃▃▃▃▄▄▄▄▄▅▅▅▅▅▅▆▆▆▆▆▇▇▇▇▇▇███</td></tr><tr><td>valid_loss</td><td>▁</td></tr><tr><td>accuracy</td><td>▁</td></tr></table><br/>"
      ],
      "text/plain": [
       "<IPython.core.display.HTML object>"
      ]
     },
     "metadata": {},
     "output_type": "display_data"
    },
    {
     "data": {
      "text/html": [
       "Synced 5 W&B file(s), 2 media file(s), 1 artifact file(s) and 0 other file(s)"
      ],
      "text/plain": [
       "<IPython.core.display.HTML object>"
      ]
     },
     "metadata": {},
     "output_type": "display_data"
    },
    {
     "data": {
      "text/html": [
       "\n",
       "                    <br/>Synced <strong style=\"color:#cdcd00\">kind-snow-1</strong>: <a href=\"https://wandb.ai/ishitadatta/transfertab-nbs/runs/29wlpmae\" target=\"_blank\">https://wandb.ai/ishitadatta/transfertab-nbs/runs/29wlpmae</a><br/>\n",
       "                "
      ],
      "text/plain": [
       "<IPython.core.display.HTML object>"
      ]
     },
     "metadata": {},
     "output_type": "display_data"
    }
   ],
   "source": [
    "wandb.finish()"
   ]
  }
 ],
 "metadata": {
  "kernelspec": {
   "display_name": "Python 3",
   "language": "python",
   "name": "python3"
  }
 },
 "nbformat": 4,
 "nbformat_minor": 5
}
