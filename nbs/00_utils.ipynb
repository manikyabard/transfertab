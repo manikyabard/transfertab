{
 "cells": [
  {
   "cell_type": "code",
   "execution_count": null,
   "id": "63d5ff7d-046d-44c9-9146-b76166057dab",
   "metadata": {},
   "outputs": [],
   "source": [
    "# default_exp utils"
   ]
  },
  {
   "cell_type": "markdown",
   "id": "94e7d310-174f-4a87-8300-92f6f97b1704",
   "metadata": {},
   "source": [
    "# Utilities\n",
    "> Contains helpful functions used throughout `transfertab`."
   ]
  },
  {
   "cell_type": "code",
   "execution_count": null,
   "id": "570f2721-4311-47af-8467-3f354123687b",
   "metadata": {},
   "outputs": [],
   "source": [
    "#export\n",
    "import bson"
   ]
  },
  {
   "cell_type": "code",
   "execution_count": null,
   "id": "bd19711a-909d-45d1-a9b7-38df805097a7",
   "metadata": {},
   "outputs": [],
   "source": [
    "import pandas as pd"
   ]
  },
  {
   "cell_type": "code",
   "execution_count": null,
   "id": "acb9f3ca-0016-40e8-abe8-2b45e8236b13",
   "metadata": {},
   "outputs": [],
   "source": [
    "#export\n",
    "def getcatdict(df, catcols=None, add_na=False):\n",
    "    if catcols == None:\n",
    "        columns = list(df.columns)\n",
    "        catcols = list(map(lambda arg: columns[arg[0]], filter(lambda arg: arg[1] == 'object', enumerate(df.dtypes))))\n",
    "    catdict = {}\n",
    "    for cat in catcols:\n",
    "        catdict[cat] = [\"nan\"] + list(df[cat].unique()) if add_na else list(df[cat].unique())\n",
    "    return catdict"
   ]
  },
  {
   "cell_type": "code",
   "execution_count": null,
   "id": "6d0e0122-fbd9-45e3-98da-49b3f9d8f1af",
   "metadata": {},
   "outputs": [
    {
     "data": {
      "text/html": [
       "<div>\n",
       "<style scoped>\n",
       "    .dataframe tbody tr th:only-of-type {\n",
       "        vertical-align: middle;\n",
       "    }\n",
       "\n",
       "    .dataframe tbody tr th {\n",
       "        vertical-align: top;\n",
       "    }\n",
       "\n",
       "    .dataframe thead th {\n",
       "        text-align: right;\n",
       "    }\n",
       "</style>\n",
       "<table border=\"1\" class=\"dataframe\">\n",
       "  <thead>\n",
       "    <tr style=\"text-align: right;\">\n",
       "      <th></th>\n",
       "      <th>cat1</th>\n",
       "      <th>cat2</th>\n",
       "      <th>cat3</th>\n",
       "    </tr>\n",
       "  </thead>\n",
       "  <tbody>\n",
       "    <tr>\n",
       "      <th>0</th>\n",
       "      <td>1</td>\n",
       "      <td>a</td>\n",
       "      <td>A</td>\n",
       "    </tr>\n",
       "    <tr>\n",
       "      <th>1</th>\n",
       "      <td>2</td>\n",
       "      <td>b</td>\n",
       "      <td>B</td>\n",
       "    </tr>\n",
       "    <tr>\n",
       "      <th>2</th>\n",
       "      <td>3</td>\n",
       "      <td>c</td>\n",
       "      <td>C</td>\n",
       "    </tr>\n",
       "    <tr>\n",
       "      <th>3</th>\n",
       "      <td>4</td>\n",
       "      <td>b</td>\n",
       "      <td>D</td>\n",
       "    </tr>\n",
       "    <tr>\n",
       "      <th>4</th>\n",
       "      <td>5</td>\n",
       "      <td>a</td>\n",
       "      <td>A</td>\n",
       "    </tr>\n",
       "  </tbody>\n",
       "</table>\n",
       "</div>"
      ],
      "text/plain": [
       "   cat1 cat2 cat3\n",
       "0     1    a    A\n",
       "1     2    b    B\n",
       "2     3    c    C\n",
       "3     4    b    D\n",
       "4     5    a    A"
      ]
     },
     "execution_count": null,
     "metadata": {},
     "output_type": "execute_result"
    }
   ],
   "source": [
    "df = pd.DataFrame({\"cat1\": [1, 2, 3, 4, 5], \"cat2\": ['a', 'b', 'c', 'b', 'a'], \"cat3\": ['A', 'B', 'C', 'D', 'A']})\n",
    "df"
   ]
  },
  {
   "cell_type": "code",
   "execution_count": null,
   "id": "3164dae1-b64d-4560-beef-d7a581bf0929",
   "metadata": {},
   "outputs": [
    {
     "data": {
      "text/plain": [
       "True"
      ]
     },
     "execution_count": null,
     "metadata": {},
     "output_type": "execute_result"
    }
   ],
   "source": [
    "catdict = getcatdict(df)\n",
    "catdict['cat2'] == ['a', 'b', 'c']"
   ]
  },
  {
   "cell_type": "code",
   "execution_count": null,
   "id": "fae5ce1e-5e2b-43ab-b190-14dbfb5e4964",
   "metadata": {},
   "outputs": [],
   "source": [
    "#export\n",
    "def store_bson(path, data):\n",
    "    bdata = bson.dumps(data)\n",
    "    with open(path, \"wb\") as fp:\n",
    "        fp.write(bdata)\n",
    "\n",
    "def load_bson(path):\n",
    "    with open(path, \"rb\") as fp:\n",
    "        bdata = fp.read()\n",
    "    return bson.loads(bdata)"
   ]
  },
  {
   "cell_type": "markdown",
   "id": "032bd7aa-5db6-4ee9-aef8-e8aa00787fa5",
   "metadata": {},
   "source": [
    "## Export"
   ]
  },
  {
   "cell_type": "code",
   "execution_count": null,
   "id": "f826c170-e3d1-414a-81dc-23cd2352911a",
   "metadata": {},
   "outputs": [
    {
     "name": "stdout",
     "output_type": "stream",
     "text": [
      "Converted 00_utils.ipynb.\n",
      "Converted 01_extract.ipynb.\n",
      "Converted 02_transfer.ipynb.\n",
      "Converted 03_load_tests.ipynb.\n",
      "Converted index.ipynb.\n"
     ]
    }
   ],
   "source": [
    "#hide\n",
    "from nbdev.export import notebook2script\n",
    "notebook2script()"
   ]
  },
  {
   "cell_type": "code",
   "execution_count": null,
   "id": "43fa8283-3cd5-455f-9ad1-ee2c7284fe84",
   "metadata": {},
   "outputs": [],
   "source": []
  }
 ],
 "metadata": {
  "kernelspec": {
   "display_name": "Python 3",
   "language": "python",
   "name": "python3"
  }
 },
 "nbformat": 4,
 "nbformat_minor": 5
}
