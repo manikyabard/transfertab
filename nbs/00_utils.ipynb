{
 "cells": [
  {
   "cell_type": "code",
   "execution_count": null,
   "metadata": {},
   "outputs": [],
   "source": [
    "# default_exp utils"
   ]
  },
  {
   "cell_type": "markdown",
   "metadata": {},
   "source": [
    "# Utilities\n",
    "> Contains helpful functions used throughout `transfertab`."
   ]
  },
  {
   "cell_type": "code",
   "execution_count": null,
   "metadata": {},
   "outputs": [],
   "source": [
    "#export\n",
    "import bson\n",
    "import json\n",
    "from pathlib import Path"
   ]
  },
  {
   "cell_type": "code",
   "execution_count": null,
   "metadata": {},
   "outputs": [],
   "source": [
    "import pandas as pd"
   ]
  },
  {
   "cell_type": "code",
   "execution_count": null,
   "metadata": {},
   "outputs": [],
   "source": [
    "#export\n",
    "def getcatdict(df, catcols=None, add_na=False):\n",
    "    if catcols == None:\n",
    "        columns = list(df.columns)\n",
    "        catcols = list(map(lambda arg: columns[arg[0]], filter(lambda arg: arg[1] == 'object', enumerate(df.dtypes))))\n",
    "    catdict = {}\n",
    "    for cat in catcols:\n",
    "        catdict[cat] = [\"nan\"] + list(df[cat].unique()) if add_na else list(df[cat].unique())\n",
    "    return catdict"
   ]
  },
  {
   "cell_type": "code",
   "execution_count": null,
   "metadata": {},
   "outputs": [
    {
     "data": {
      "text/html": [
       "<div>\n",
       "<style scoped>\n",
       "    .dataframe tbody tr th:only-of-type {\n",
       "        vertical-align: middle;\n",
       "    }\n",
       "\n",
       "    .dataframe tbody tr th {\n",
       "        vertical-align: top;\n",
       "    }\n",
       "\n",
       "    .dataframe thead th {\n",
       "        text-align: right;\n",
       "    }\n",
       "</style>\n",
       "<table border=\"1\" class=\"dataframe\">\n",
       "  <thead>\n",
       "    <tr style=\"text-align: right;\">\n",
       "      <th></th>\n",
       "      <th>cat1</th>\n",
       "      <th>cat2</th>\n",
       "      <th>cat3</th>\n",
       "    </tr>\n",
       "  </thead>\n",
       "  <tbody>\n",
       "    <tr>\n",
       "      <th>0</th>\n",
       "      <td>1</td>\n",
       "      <td>a</td>\n",
       "      <td>A</td>\n",
       "    </tr>\n",
       "    <tr>\n",
       "      <th>1</th>\n",
       "      <td>2</td>\n",
       "      <td>b</td>\n",
       "      <td>B</td>\n",
       "    </tr>\n",
       "    <tr>\n",
       "      <th>2</th>\n",
       "      <td>3</td>\n",
       "      <td>c</td>\n",
       "      <td>C</td>\n",
       "    </tr>\n",
       "    <tr>\n",
       "      <th>3</th>\n",
       "      <td>4</td>\n",
       "      <td>b</td>\n",
       "      <td>D</td>\n",
       "    </tr>\n",
       "    <tr>\n",
       "      <th>4</th>\n",
       "      <td>5</td>\n",
       "      <td>a</td>\n",
       "      <td>A</td>\n",
       "    </tr>\n",
       "  </tbody>\n",
       "</table>\n",
       "</div>"
      ],
      "text/plain": [
       "   cat1 cat2 cat3\n",
       "0     1    a    A\n",
       "1     2    b    B\n",
       "2     3    c    C\n",
       "3     4    b    D\n",
       "4     5    a    A"
      ]
     },
     "execution_count": null,
     "metadata": {},
     "output_type": "execute_result"
    }
   ],
   "source": [
    "df = pd.DataFrame({\"cat1\": [1, 2, 3, 4, 5], \"cat2\": ['a', 'b', 'c', 'b', 'a'], \"cat3\": ['A', 'B', 'C', 'D', 'A']})\n",
    "df"
   ]
  },
  {
   "cell_type": "code",
   "execution_count": null,
   "metadata": {},
   "outputs": [
    {
     "data": {
      "text/plain": [
       "True"
      ]
     },
     "execution_count": null,
     "metadata": {},
     "output_type": "execute_result"
    }
   ],
   "source": [
    "catdict = getcatdict(df)\n",
    "catdict['cat2'] == ['a', 'b', 'c']"
   ]
  },
  {
   "cell_type": "code",
   "execution_count": null,
   "metadata": {},
   "outputs": [],
   "source": [
    "#export\n",
    "def store_bson(path, data):\n",
    "    bdata = bson.dumps(data)\n",
    "    with open(path, \"wb\") as fp:\n",
    "        fp.write(bdata)\n",
    "\n",
    "def load_bson(path):\n",
    "    with open(path, \"rb\") as fp:\n",
    "        bdata = fp.read()\n",
    "    return bson.loads(bdata)"
   ]
  },
  {
   "cell_type": "code",
   "execution_count": null,
   "metadata": {},
   "outputs": [],
   "source": [
    "#export\n",
    "def _load_extractembeds_from_dir(path):\n",
    "    path = Path(path)\n",
    "    json_file = {}\n",
    "    if path.is_dir():\n",
    "        for json_f in path.glob(\"*.json\"):\n",
    "            f = open(json_f, 'rb')\n",
    "            file = json.load(f)\n",
    "            for i in file.keys():\n",
    "                json_file[i] = file[i]\n",
    "        for bson_f in path.glob(\"*.bson\"):\n",
    "            file = load_bson(bson_f)\n",
    "            for i in file.keys():\n",
    "                json_file[i] = file[i]\n",
    "    return json_file"
   ]
  },
  {
   "cell_type": "code",
   "execution_count": null,
   "metadata": {},
   "outputs": [],
   "source": [
    "#export\n",
    "def _check_embdict_validity(embdict):\n",
    "    for catcol, info in embdict.items():\n",
    "        if set(list(info.keys())) == set(('classes', 'embeddings')) :\n",
    "            class_len = len(info['classes'])\n",
    "            embedding_len =  len(info['embeddings'])\n",
    "            assert class_len == embedding_len, f\"Class Size of {class_len} and Embedding size of {embedding_len} does not match for {catcol}\""
   ]
  },
  {
   "cell_type": "code",
   "execution_count": null,
   "metadata": {},
   "outputs": [],
   "source": [
    "#export\n",
    "def generate_files_embedprojector_for_comparision(model1_path, model2_path, dir_path):\n",
    "    model1_embedsdict = load_bson(model1_path)\n",
    "    model2_embedsdict = load_bson(model2_path)\n",
    "    for ((catcol, info1), (_, info2)) in zip(model1_embedsdict.items(), model2_embedsdict.items()):\n",
    "        model1_data = [[clas + '_Model1'] for clas in info1['classes']]\n",
    "        model2_data = [[clas + '_Model2'] for clas in info2['classes']]\n",
    "        with open(dir_path + '/' + catcol + '_meta.tsv', 'w') as tsvfile:\n",
    "            writer = csv.writer(tsvfile, delimiter='\\n')\n",
    "            writer.writerows(model1_data)\n",
    "            writer.writerows(model2_data)\n",
    "        with open(dir_path + '/' + catcol + '_embeds.tsv', 'w') as tsvfile:\n",
    "            writer = csv.writer(tsvfile, delimiter='\\t')\n",
    "            writer.writerows(info1['embeddings'])\n",
    "            writer.writerows(info2['embeddings'])"
   ]
  },
  {
   "cell_type": "markdown",
   "metadata": {},
   "source": [
    "## Export"
   ]
  },
  {
   "cell_type": "code",
   "execution_count": null,
   "metadata": {},
   "outputs": [
    {
     "name": "stdout",
     "output_type": "stream",
     "text": [
      "Converted 00_utils.ipynb.\n",
      "Converted 01_extract.ipynb.\n",
      "Converted 02_transfer.ipynb.\n",
      "Converted 03_load_tests.ipynb.\n",
      "Converted index.ipynb.\n"
     ]
    }
   ],
   "source": [
    "#hide\n",
    "from nbdev.export import notebook2script\n",
    "notebook2script()"
   ]
  },
  {
   "cell_type": "code",
   "execution_count": null,
   "metadata": {},
   "outputs": [],
   "source": []
  }
 ],
 "metadata": {
  "kernelspec": {
   "display_name": "Python 3",
   "language": "python",
   "name": "python3"
  }
 },
 "nbformat": 4,
 "nbformat_minor": 5
}
