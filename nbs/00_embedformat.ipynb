{
 "cells": [
  {
   "cell_type": "code",
   "execution_count": null,
   "id": "f05a2fc8-636f-40b5-a225-c27778807294",
   "metadata": {},
   "outputs": [],
   "source": [
    "# Create a format for saving the embeddings and loading it back in."
   ]
  }
 ],
 "metadata": {
  "kernelspec": {
   "display_name": "Python 3",
   "language": "python",
   "name": "python3"
  }
 },
 "nbformat": 4,
 "nbformat_minor": 5
}
