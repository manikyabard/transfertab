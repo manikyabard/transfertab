{
 "cells": [
  {
   "cell_type": "markdown",
   "metadata": {},
   "source": [
    "# Extraction Utilities\n",
    "> Contains helpful functions for extracting embeddings and preparing data for it."
   ]
  },
  {
   "cell_type": "code",
   "execution_count": null,
   "metadata": {},
   "outputs": [],
   "source": [
    "# default_exp utils"
   ]
  },
  {
   "cell_type": "code",
   "execution_count": null,
   "metadata": {},
   "outputs": [],
   "source": [
    "# Create a format for saving the embeddings and loading it back in."
   ]
  },
  {
   "cell_type": "code",
   "execution_count": null,
   "metadata": {},
   "outputs": [],
   "source": [
    "#export\n",
    "from fastai.tabular.all import *\n",
    "from copy import deepcopy\n",
    "import json"
   ]
  },
  {
   "cell_type": "markdown",
   "metadata": {},
   "source": [
    "We'll create a fastai learner, and extract embeddings from it. But it will be possible to do so for any pytorch model."
   ]
  },
  {
   "cell_type": "code",
   "execution_count": null,
   "metadata": {},
   "outputs": [],
   "source": [
    "path = untar_data(URLs.ADULT_SAMPLE)\n",
    "df = pd.read_csv(path/'adult.csv')\n",
    "dls = TabularDataLoaders.from_csv(path/'adult.csv', path=path, y_names=\"salary\",\n",
    "    cat_names = ['workclass', 'education', 'marital-status', 'occupation', 'relationship', 'race'],\n",
    "    cont_names = ['age', 'fnlwgt', 'education-num'],\n",
    "    procs = [Categorify, FillMissing, Normalize])"
   ]
  },
  {
   "cell_type": "code",
   "execution_count": null,
   "metadata": {},
   "outputs": [],
   "source": [
    "learn = tabular_learner(dls, metrics=accuracy)"
   ]
  },
  {
   "cell_type": "markdown",
   "metadata": {},
   "source": [
    "We'll need to create a metadata dictionary for the source data which contains all the categories, and the classes for each category in the given format."
   ]
  },
  {
   "cell_type": "code",
   "execution_count": null,
   "metadata": {},
   "outputs": [],
   "source": [
    "meta = {\n",
    "    \"categories\":['workclass', 'education', 'marital-status', 'occupation', 'relationship', 'race'],\n",
    "    \"workclass\": {\n",
    "        \"classes\": ['nan', ' Private', ' Self-emp-inc', ' Self-emp-not-inc', ' State-gov',\n",
    "           ' Federal-gov', ' Local-gov', ' ?', ' Without-pay',\n",
    "           ' Never-worked'],\n",
    "    },\n",
    "    'education': {\n",
    "        \"classes\": ['nan', ' Assoc-acdm', ' Masters', ' HS-grad', ' Prof-school', ' 7th-8th',\n",
    "       ' Some-college', ' 11th', ' Bachelors', ' Assoc-voc', ' 10th',\n",
    "       ' 9th', ' Doctorate', ' 12th', ' 1st-4th', ' 5th-6th',\n",
    "       ' Preschool']\n",
    "    },\n",
    "    \"marital-status\": {\n",
    "        \"classes\": ['nan', ' Married-civ-spouse', ' Divorced', ' Never-married', ' Widowed',\n",
    "       ' Married-spouse-absent', ' Separated', ' Married-AF-spouse']\n",
    "    },\n",
    "    \"occupation\": {\n",
    "        \"classes\": [\"nan\", ' Exec-managerial', ' Prof-specialty', ' Other-service',\n",
    "       ' Handlers-cleaners', ' Craft-repair', ' Adm-clerical', ' Sales',\n",
    "       ' Machine-op-inspct', ' Transport-moving', ' ?',\n",
    "       ' Farming-fishing', ' Tech-support', ' Protective-serv',\n",
    "       ' Priv-house-serv', ' Armed-Forces']\n",
    "    },\n",
    "    \"relationship\": {\n",
    "        \"classes\": ['nan', ' Wife', ' Not-in-family', ' Unmarried', ' Husband', ' Own-child',\n",
    "       ' Other-relative']\n",
    "    },\n",
    "    \"race\": {\n",
    "        \"classes\": ['nan', ' White', ' Black', ' Asian-Pac-Islander', ' Amer-Indian-Eskimo',\n",
    "       ' Other']\n",
    "    }\n",
    "}"
   ]
  },
  {
   "cell_type": "code",
   "execution_count": null,
   "metadata": {},
   "outputs": [],
   "source": [
    "#export\n",
    "\n",
    "#Meta Format: {'categories':['cat1','cat2'......],'cat1':{'classes':['class1','class2'......]},'cat2':...........}\n",
    "def extract_meta_from_learner(learner):\n",
    "    cat_list = learner.dls.cat_names\n",
    "    temp_meta = dict.fromkeys(cat_list)\n",
    "    t = learner.dls.classes\n",
    "    meta = {'categories':cat_list}\n",
    "    for i in t:\n",
    "        temp_meta[i] = {'classes':t[i]}\n",
    "    meta.update(temp_meta)\n",
    "    return meta\n",
    "\n",
    "def extract_meta_from_df(df: pd.DataFrame):\n",
    "    columns = [x for x in df.columns]\n",
    "    cat_list = []\n",
    "    for i,j in enumerate(df.dtypes):\n",
    "        if j == 'object':\n",
    "            cat_list.append(columns[i])\n",
    "    cat_dict = dict.fromkeys(cat_list)\n",
    "    meta={'categories':cat_list}\n",
    "    for i in cat_dict:\n",
    "        cat_dict[i] = {}\n",
    "        cat_dict[i][\"classes\"] = list(df[i].unique())\n",
    "    meta.update(cat_dict)\n",
    "    return meta"
   ]
  },
  {
   "cell_type": "code",
   "execution_count": null,
   "metadata": {},
   "outputs": [],
   "source": [
    "#export\n",
    "def extractembeds(model, embeddinglg: str, metadict, path):\n",
    "    '''\n",
    "    model: Any pytorch model, containing a layergroup with all the embedding layers.\n",
    "    embeddinglg: Name of the layer group containing the embedding layers.\n",
    "    metadict: A dictionary containing relevant metadata. Check the format given in docs for further details.\n",
    "    path: Path of the json \n",
    "    '''\n",
    "    embedsdict = deepcopy(metadict)\n",
    "    for i, cat in enumerate(metadict[\"categories\"]):\n",
    "        try:\n",
    "            classes = metadict[cat][\"classes\"]\n",
    "            layer = getattr(model, embeddinglg)[i]\n",
    "            assert (layer.num_embeddings == len(classes)), f\"embeddings dimension {layer.num_embeddings} !=  num of classes {len(classes)} for vairable {cat}. Embeddings should have same number of classes. Something might have gone wrong.\"\n",
    "            embedsdict[cat][\"embeddings\"] = layer.weight.cpu().detach().numpy().tolist()\n",
    "        except KeyError:\n",
    "            pass\n",
    "    with open(path, 'w') as fp:\n",
    "        json.dump(embedsdict, fp)\n",
    "    return embedsdict"
   ]
  },
  {
   "cell_type": "code",
   "execution_count": null,
   "metadata": {},
   "outputs": [],
   "source": [
    "embeddict = extractembeds(learn.model, \"embeds\", meta, \"test\")"
   ]
  },
  {
   "cell_type": "code",
   "execution_count": null,
   "metadata": {},
   "outputs": [
    {
     "data": {
      "text/plain": [
       "[[0.011566209606826305,\n",
       "  -0.009608260355889797,\n",
       "  -0.005055208690464497,\n",
       "  0.012445224449038506,\n",
       "  -0.003585385624319315,\n",
       "  0.0029318814631551504]]"
      ]
     },
     "execution_count": null,
     "metadata": {},
     "output_type": "execute_result"
    }
   ],
   "source": [
    "embeddict[\"workclass\"][\"embeddings\"][:1]"
   ]
  },
  {
   "cell_type": "code",
   "execution_count": null,
   "metadata": {},
   "outputs": [],
   "source": []
  }
 ],
 "metadata": {
  "kernelspec": {
   "display_name": "Python 3",
   "language": "python",
   "name": "python3"
  },
  "language_info": {}
 },
 "nbformat": 4,
 "nbformat_minor": 5
}