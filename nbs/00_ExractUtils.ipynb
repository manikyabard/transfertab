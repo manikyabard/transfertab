{
 "cells": [
  {
   "cell_type": "markdown",
   "metadata": {},
   "source": [
    "# Extraction Utilities\n",
    "> Contains helpful functions for extracting embeddings and preparing data for it."
   ]
  },
  {
   "cell_type": "code",
   "execution_count": null,
   "metadata": {},
   "outputs": [],
   "source": [
    "# default_exp utils"
   ]
  },
  {
   "cell_type": "code",
   "execution_count": null,
   "metadata": {},
   "outputs": [],
   "source": [
    "# Create a format for saving the embeddings and loading it back in."
   ]
  },
  {
   "cell_type": "code",
   "execution_count": null,
   "metadata": {},
   "outputs": [],
   "source": [
    "#export\n",
    "from fastai.tabular.all import *\n",
    "from copy import deepcopy\n",
    "import json\n",
    "import ast"
   ]
  },
  {
   "cell_type": "markdown",
   "metadata": {},
   "source": [
    "We'll create a fastai learner, and extract embeddings from it. But it will be possible to do so for any pytorch model."
   ]
  },
  {
   "cell_type": "code",
   "execution_count": null,
   "metadata": {},
   "outputs": [],
   "source": [
    "path = untar_data(URLs.ADULT_SAMPLE)\n",
    "df = pd.read_csv(path/'adult.csv')\n",
    "dls = TabularDataLoaders.from_csv(path/'adult.csv', path=path, y_names=\"salary\",\n",
    "    cat_names = ['workclass', 'education', 'marital-status', 'occupation', 'relationship', 'race','sex'],\n",
    "    cont_names = ['age', 'fnlwgt', 'education-num'],\n",
    "    procs = [Categorify, FillMissing, Normalize])"
   ]
  },
  {
   "cell_type": "code",
   "execution_count": null,
   "metadata": {},
   "outputs": [],
   "source": [
    "learn = tabular_learner(dls, metrics=accuracy)"
   ]
  },
  {
   "cell_type": "markdown",
   "metadata": {},
   "source": [
    "We'll need to create a metadata dictionary for the source data which contains all the categories, and the classes for each category in the given format."
   ]
  },
  {
   "cell_type": "code",
   "execution_count": null,
   "metadata": {},
   "outputs": [],
   "source": [
    "meta = {\n",
    "    \"categories\":['workclass', 'education', 'marital-status', 'occupation', 'relationship', 'race'],\n",
    "    \"workclass\": {\n",
    "        \"classes\": ['nan', ' Private', ' Self-emp-inc', ' Self-emp-not-inc', ' State-gov',\n",
    "           ' Federal-gov', ' Local-gov', ' ?', ' Without-pay',\n",
    "           ' Never-worked'],\n",
    "    },\n",
    "    'education': {\n",
    "        \"classes\": ['nan', ' Assoc-acdm', ' Masters', ' HS-grad', ' Prof-school', ' 7th-8th',\n",
    "       ' Some-college', ' 11th', ' Bachelors', ' Assoc-voc', ' 10th',\n",
    "       ' 9th', ' Doctorate', ' 12th', ' 1st-4th', ' 5th-6th',\n",
    "       ' Preschool']\n",
    "    },\n",
    "    \"marital-status\": {\n",
    "        \"classes\": ['nan', ' Married-civ-spouse', ' Divorced', ' Never-married', ' Widowed',\n",
    "       ' Married-spouse-absent', ' Separated', ' Married-AF-spouse']\n",
    "    },\n",
    "    \"occupation\": {\n",
    "        \"classes\": [\"nan\", ' Exec-managerial', ' Prof-specialty', ' Other-service',\n",
    "       ' Handlers-cleaners', ' Craft-repair', ' Adm-clerical', ' Sales',\n",
    "       ' Machine-op-inspct', ' Transport-moving', ' ?',\n",
    "       ' Farming-fishing', ' Tech-support', ' Protective-serv',\n",
    "       ' Priv-house-serv', ' Armed-Forces']\n",
    "    },\n",
    "    \"relationship\": {\n",
    "        \"classes\": ['nan', ' Wife', ' Not-in-family', ' Unmarried', ' Husband', ' Own-child',\n",
    "       ' Other-relative']\n",
    "    },\n",
    "    \"race\": {\n",
    "        \"classes\": ['nan', ' White', ' Black', ' Asian-Pac-Islander', ' Amer-Indian-Eskimo',\n",
    "       ' Other']\n",
    "    }\n",
    "}"
   ]
  },
  {
   "cell_type": "code",
   "execution_count": null,
   "metadata": {},
   "outputs": [],
   "source": [
    "#export\n",
    "\n",
    "#Meta Format: {'categories':['cat1','cat2'......],'cat1':{'classes':['class1','class2'......]},'cat2':...........}\n",
    "def extract_meta_from_learner(learner):\n",
    "    cat_list=[]\n",
    "    for i in learner.dls.categorify.classes:\n",
    "        cat_list.append(i)\n",
    "    temp_meta=dict.fromkeys(cat_list)\n",
    "    t=learner.dls.categorify.classes\n",
    "    meta={\"categories\":cat_list}\n",
    "    for i in t:\n",
    "        temp_meta[i]={\"classes\":list(t[i])}\n",
    "    meta.update(temp_meta)\n",
    "    return meta\n",
    "\n",
    "def extract_meta_from_df(df: pd.DataFrame):\n",
    "    columns = [x for x in df.columns]\n",
    "    cat_list = []\n",
    "    for i,j in enumerate(df.dtypes):\n",
    "        if j == 'object':\n",
    "            cat_list.append(columns[i])\n",
    "    cat_dict = dict.fromkeys(cat_list)\n",
    "    meta={'categories':cat_list}\n",
    "    for i in cat_dict:\n",
    "        cat_dict[i] = {}\n",
    "        cat_dict[i][\"classes\"] = list(df[i].unique())\n",
    "    meta.update(cat_dict)\n",
    "    return meta"
   ]
  },
  {
   "cell_type": "code",
   "execution_count": null,
   "metadata": {},
   "outputs": [],
   "source": [
    "#export\n",
    "class CustomJSONizer(json.JSONEncoder):\n",
    "    def default(self, obj):\n",
    "        return super().encode(bool(obj)) \\\n",
    "            if isinstance(obj, np.bool_) \\\n",
    "            else super().default(obj)"
   ]
  },
  {
   "cell_type": "code",
   "execution_count": null,
   "metadata": {},
   "outputs": [],
   "source": [
    "#export\n",
    "def extractembeds(model, embeddinglg: str, metadict, path):\n",
    "    '''\n",
    "    model: Any pytorch model, containing a layergroup with all the embedding layers.\n",
    "    embeddinglg: Name of the layer group containing the embedding layers.\n",
    "    metadict: A dictionary containing relevant metadata. Check the format given in docs for further details.\n",
    "    path: Path of the json \n",
    "    '''\n",
    "    embedsdict = deepcopy(metadict)\n",
    "    for i, cat in enumerate(metadict['categories']):\n",
    "        try:\n",
    "            classes = metadict[cat]['classes']\n",
    "            layer = getattr(model, embeddinglg)[i]\n",
    "            assert (layer.num_embeddings == len(classes)), f\"embeddings dimension {layer.num_embeddings} !=  num of classes {len(classes)} for vairable {cat}. Embeddings should have same number of classes. Something might have gone wrong.\"\n",
    "            embedsdict[cat][\"embeddings\"] = layer.weight.cpu().detach().numpy().tolist()\n",
    "        except KeyError:\n",
    "            pass\n",
    "    with open(path, 'w') as fp:\n",
    "        json.dump(embedsdict, fp,cls=CustomJSONizer)\n",
    "    return embedsdict"
   ]
  },
  {
   "cell_type": "code",
   "execution_count": null,
   "metadata": {},
   "outputs": [],
   "source": [
    "meta_new=extract_meta_from_learner(learn)\n",
    "embeddict = extractembeds(learn.model, \"embeds\", meta_new, \"test.json\")"
   ]
  },
  {
   "cell_type": "code",
   "execution_count": null,
   "metadata": {},
   "outputs": [
    {
     "data": {
      "text/plain": [
       "['workclass',\n",
       " 'education',\n",
       " 'marital-status',\n",
       " 'occupation',\n",
       " 'relationship',\n",
       " 'race',\n",
       " 'sex',\n",
       " 'education-num_na']"
      ]
     },
     "execution_count": null,
     "metadata": {},
     "output_type": "execute_result"
    }
   ],
   "source": [
    "embeddict['categories']"
   ]
  },
  {
   "cell_type": "code",
   "execution_count": null,
   "metadata": {},
   "outputs": [],
   "source": [
    "#hide\n",
    "assert len(embeddict['education-num_na']['classes']) == 3, \"The number of classes are incorrect\"\n",
    "assert embeddict['categories'] == ['workclass',\n",
    "\t\t\t\t   'education',\n",
    "\t\t\t\t   'marital-status',\n",
    "\t\t\t\t   'occupation',\n",
    "\t\t\t\t   'relationship',\n",
    "\t\t\t\t   'race',\n",
    "\t\t\t\t   'sex',\n",
    "\t\t\t\t   'education-num_na'], \"The number of categories in incorrect\"\n",
    "assert np.shape(embeddict['education-num_na']['embeddings']) == (3, 3), \"Incorrect shape of embeddings\""
   ]
  },
  {
   "cell_type": "code",
   "execution_count": null,
   "metadata": {},
   "outputs": [
    {
     "name": "stdout",
     "output_type": "stream",
     "text": [
      "Converted 00_ExractUtils.ipynb.\n",
      "Converted 01_transfer.ipynb.\n",
      "Converted 02_load_tests.ipynb.\n",
      "Converted index.ipynb.\n"
     ]
    }
   ],
   "source": [
    "#hide\n",
    "from nbdev.export import notebook2script\n",
    "notebook2script()"
   ]
  },
  {
   "cell_type": "code",
   "execution_count": null,
   "metadata": {},
   "outputs": [],
   "source": []
  }
 ],
 "metadata": {
  "kernelspec": {
   "display_name": "Python 3.9.4 64-bit ('fastenv': conda)",
   "name": "python3"
  }
 },
 "nbformat": 4,
 "nbformat_minor": 5
}
