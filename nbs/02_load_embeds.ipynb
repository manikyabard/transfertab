{
 "cells": [
  {
   "cell_type": "code",
   "execution_count": null,
   "id": "9276dfa7",
   "metadata": {},
   "outputs": [],
   "source": [
    "from fastai.tabular.all import *\n",
    "import json\n",
    "import torch\n",
    "from torch.autograd import Variable"
   ]
  },
  {
   "cell_type": "code",
   "execution_count": null,
   "id": "cc46233d",
   "metadata": {},
   "outputs": [],
   "source": [
    "# new_rows = pd.DataFrame([[49,'Private',101320,'Assoc-acdm',12.0,'Married-civ-spouse','Exec-managerial','Wife','Robot','Female',0,1902,40,'United-States','>=50k'],\n",
    "#                         [18,'Private',182308,'Bachelors',10.0,'Never-married','?','Own-child','Other','Male',0,0,23,'United-States','<50k']],\n",
    "#                         columns=df1.columns)\n",
    "df2 = pd.read_csv('../data/toy_dataset.csv')\n",
    "# df2 = df2.append(new_rows, ignore_index=True)\n",
    "\n",
    "splits2 = RandomSplitter(valid_pct=0.2)(range_of(df2))\n",
    "to2 = TabularPandas(df2, procs=[Categorify, FillMissing,Normalize],\n",
    "                   cat_names = ['City','sex'],\n",
    "                   cont_names = ['Number', 'Income', 'Age'],\n",
    "                   y_names='Illness',\n",
    "                   splits=splits2)\n",
    "dls2 = to2.dataloaders(bs=64)\n",
    "learn2 = tabular_learner(dls2, metrics=accuracy)"
   ]
  },
  {
   "cell_type": "code",
   "execution_count": null,
   "id": "7123249b",
   "metadata": {},
   "outputs": [],
   "source": [
    "# learn2.save(\"learn2\")"
   ]
  },
  {
   "cell_type": "code",
   "execution_count": null,
   "id": "8814af48",
   "metadata": {},
   "outputs": [],
   "source": [
    "# learn2.model.embeds"
   ]
  },
  {
   "cell_type": "code",
   "execution_count": null,
   "id": "1f7b79db",
   "metadata": {},
   "outputs": [
    {
     "data": {
      "text/html": [
       "<table border=\"1\" class=\"dataframe\">\n",
       "  <thead>\n",
       "    <tr style=\"text-align: left;\">\n",
       "      <th>epoch</th>\n",
       "      <th>train_loss</th>\n",
       "      <th>valid_loss</th>\n",
       "      <th>accuracy</th>\n",
       "      <th>time</th>\n",
       "    </tr>\n",
       "  </thead>\n",
       "  <tbody>\n",
       "    <tr>\n",
       "      <td>0</td>\n",
       "      <td>0.292761</td>\n",
       "      <td>0.285474</td>\n",
       "      <td>0.919667</td>\n",
       "      <td>00:17</td>\n",
       "    </tr>\n",
       "  </tbody>\n",
       "</table>"
      ],
      "text/plain": [
       "<IPython.core.display.HTML object>"
      ]
     },
     "metadata": {},
     "output_type": "display_data"
    }
   ],
   "source": [
    "learn2.fit(1)"
   ]
  },
  {
   "cell_type": "code",
   "execution_count": null,
   "id": "ee310af5",
   "metadata": {},
   "outputs": [
    {
     "data": {
      "text/html": [],
      "text/plain": [
       "<IPython.core.display.HTML object>"
      ]
     },
     "metadata": {},
     "output_type": "display_data"
    }
   ],
   "source": [
    "row, clas, probs = learn2.predict(df2.iloc[-1])"
   ]
  },
  {
   "cell_type": "code",
   "execution_count": null,
   "id": "97dcd4f2",
   "metadata": {},
   "outputs": [
    {
     "data": {
      "text/html": [
       "<table border=\"1\" class=\"dataframe\">\n",
       "  <thead>\n",
       "    <tr style=\"text-align: right;\">\n",
       "      <th></th>\n",
       "      <th>City</th>\n",
       "      <th>sex</th>\n",
       "      <th>Number</th>\n",
       "      <th>Income</th>\n",
       "      <th>Age</th>\n",
       "      <th>Illness</th>\n",
       "    </tr>\n",
       "  </thead>\n",
       "  <tbody>\n",
       "    <tr>\n",
       "      <th>0</th>\n",
       "      <td>Austin</td>\n",
       "      <td>Female</td>\n",
       "      <td>150000.001614</td>\n",
       "      <td>87251.00002</td>\n",
       "      <td>37.0</td>\n",
       "      <td>No</td>\n",
       "    </tr>\n",
       "  </tbody>\n",
       "</table>"
      ],
      "text/plain": [
       "<IPython.core.display.HTML object>"
      ]
     },
     "metadata": {},
     "output_type": "display_data"
    }
   ],
   "source": [
    "row.show()"
   ]
  },
  {
   "cell_type": "code",
   "execution_count": null,
   "id": "0b1974d3",
   "metadata": {},
   "outputs": [
    {
     "data": {
      "text/plain": [
       "(tensor(0), tensor([0.9314, 0.0686]))"
      ]
     },
     "execution_count": null,
     "metadata": {},
     "output_type": "execute_result"
    }
   ],
   "source": [
    "clas, probs"
   ]
  },
  {
   "cell_type": "code",
   "execution_count": null,
   "id": "46f8cc9f",
   "metadata": {},
   "outputs": [],
   "source": [
    "class TabTransfer:\n",
    "    def __init__(self, json_path, new_learner, data_dir):\n",
    "        self.data_dir = data_dir ## for storing models\n",
    "        \n",
    "        self.new_cat_names = new_learner.dls.cat_names\n",
    "        self.new_all_classes = new_learner.dls.classes\n",
    "        self.new_learner = new_learner\n",
    "        \n",
    "        self.json_path = json_path\n",
    "        \n",
    "#     def pickle_(self, )\n",
    "    \n",
    "    def read_json(self):\n",
    "        f = open(self.json_path, 'rb')\n",
    "        json_file = json.load(f)\n",
    "        self.old_cat_names = json_file['categories']\n",
    "        classes_dict = dict.fromkeys(self.old_cat_names)\n",
    "        embed_dict = dict.fromkeys(self.old_cat_names)\n",
    "        \n",
    "        for i in self.old_cat_names:\n",
    "            classes_dict[i] = json_file[i]['classes']\n",
    "            embed_dict[i] = json_file[i]['embeddings']\n",
    "        self.old_all_classes = classes_dict # contains the cat variable with all its classes\n",
    "        self.old_all_embeds = embed_dict # contains the cat variable with all its embeddings\n",
    "        \n",
    "    def transfer(self, cat_names_to_transfer, verbose=False):\n",
    "        self.transfer_list = cat_names_to_transfer\n",
    "        \n",
    "        for curr_cat in self.transfer_list:\n",
    "            if not (curr_cat in self.old_cat_names and curr_cat in self.new_cat_names):\n",
    "                continue\n",
    "            old_cat_idx = self.old_cat_names.index(curr_cat)\n",
    "            new_cat_idx = self.new_cat_names.index(curr_cat)\n",
    "            \n",
    "            \n",
    "            try: assert (len(self.old_all_embeds[curr_cat][0]) == self.new_learner.model.embeds[new_cat_idx].embedding_dim)\n",
    "            except: \n",
    "                print(f\"Encountered an error for variable {curr_cat}: Make sure embeddings dimensions are same for {self.old_all_embeds[curr_cat]} and {self.new_learner.model.embeds[new_cat_idx]}\")\n",
    "                print(\"Moving on to other cat vars\")\n",
    "                continue\n",
    "                \n",
    "            \n",
    "            old_curr_classes = self.old_all_classes[curr_cat]\n",
    "            new_curr_classes = self.new_all_classes[curr_cat]\n",
    "            global temp\n",
    "            temp = new_curr_classes\n",
    "            \n",
    "            torch_embeds = torch.FloatTensor(self.old_all_embeds[curr_cat])\n",
    "            print(torch_embeds)\n",
    "            weights_mean = torch_embeds.mean(0)\n",
    "            \n",
    "            if verbose: print(f'mean is {weights_mean} for {torch_embeds}')\n",
    "\n",
    "            for new_curr_class in new_curr_classes:\n",
    "                new_curr_class_idx = new_curr_classes.o2i[new_curr_class]\n",
    "                if verbose: print(f\"{new_curr_class_idx}, {type(new_curr_class_idx)}\")\n",
    "                \n",
    "                if new_curr_class in old_curr_classes:\n",
    "                    old_curr_class_idx = old_curr_classes.index(new_curr_class)\n",
    "                    if verbose: print(f'Transferring weights for class {new_curr_class}, cat {curr_cat} from previous weights')\n",
    "                    if verbose: print(f\"old weight for class is {self.new_learner.model.embeds[new_cat_idx].weight[new_curr_class_idx, :]}\")\n",
    "                    tempwgt1 = self.new_learner.model.embeds[new_cat_idx].weight[new_curr_class_idx, :]\n",
    "                    tempwgt2 = torch_embeds[old_curr_class_idx, :]\n",
    "                    self.new_learner.model.embeds[new_cat_idx].weight.data[new_curr_class_idx, :] = torch_embeds[old_curr_class_idx, :].detach().clone()\n",
    "                    self.new_learner.model.embeds[new_cat_idx].weight[new_curr_class_idx, :].required_grad = True\n",
    "                    if verbose: print(f\"new weight for class is {self.new_learner.model.embeds[new_cat_idx].weight[new_curr_class_idx, :]}\")\n",
    "                else:\n",
    "                    if verbose: print(f'Transferring weights for class {new_curr_class}, cat {curr_cat} using mean')\n",
    "                    if verbose: print(f\"old weight for class is {self.new_learner.model.embeds[new_cat_idx].weight[new_curr_class_idx, :]}\")\n",
    "                    self.new_learner.model.embeds[new_cat_idx].weight.data[new_curr_class_idx, :] = weights_mean\n",
    "                    self.new_learner.model.embeds[new_cat_idx].weight[new_curr_class_idx, :].required_grad = True\n",
    "                    if verbose: print(f\"new weight for class is {self.new_learner.model.embeds[new_cat_idx].weight[new_curr_class_idx, :]}\")\n",
    "                        \n",
    "    def save_pickle(self, pickle_name):\n",
    "        self.new_learner.export(self.data_dir +'/'+ f'{pickle_name}.pkl')\n",
    "#             self.new_model = load_learner(data_dir +'/'+ '{pickle_name}.pkl')\n",
    "\n",
    "    def load_pickle(self, pickle_name):\n",
    "        return load_learner(self.data_dir +'/'+ f'{pickle_name}.pkl')\n",
    "            \n",
    "            "
   ]
  },
  {
   "cell_type": "code",
   "execution_count": null,
   "id": "f54f44f5",
   "metadata": {},
   "outputs": [],
   "source": [
    "tab_obj = TabTransfer('../data/test.json', learn2, '/Users/rakshithacharya/Desktop/Jupyter-Notebooks')"
   ]
  },
  {
   "cell_type": "code",
   "execution_count": null,
   "id": "9ed0796a",
   "metadata": {},
   "outputs": [],
   "source": [
    "tab_obj.read_json()"
   ]
  },
  {
   "cell_type": "code",
   "execution_count": null,
   "id": "6e0910d7",
   "metadata": {},
   "outputs": [
    {
     "name": "stdout",
     "output_type": "stream",
     "text": [
      "tensor([[ 0.0078, -0.0057,  0.0079],\n",
      "        [ 0.0084, -0.0047,  0.0006],\n",
      "        [-0.0068, -0.0055,  0.0075]])\n",
      "mean is tensor([ 0.0031, -0.0053,  0.0053]) for tensor([[ 0.0078, -0.0057,  0.0079],\n",
      "        [ 0.0084, -0.0047,  0.0006],\n",
      "        [-0.0068, -0.0055,  0.0075]])\n",
      "0, <class 'int'>\n",
      "Transferring weights for class #na#, cat sex using mean\n",
      "old weight for class is tensor([ 0.0031, -0.0053,  0.0053], grad_fn=<SliceBackward>)\n",
      "new weight for class is tensor([ 0.0031, -0.0053,  0.0053], grad_fn=<SliceBackward>)\n",
      "1, <class 'int'>\n",
      "Transferring weights for class Female, cat sex from previous weights\n",
      "old weight for class is tensor([ 0.0078, -0.0057,  0.0079], grad_fn=<SliceBackward>)\n",
      "new weight for class is tensor([ 0.0078, -0.0057,  0.0079], grad_fn=<SliceBackward>)\n",
      "2, <class 'int'>\n",
      "Transferring weights for class Male, cat sex from previous weights\n",
      "old weight for class is tensor([ 0.0084, -0.0047,  0.0006], grad_fn=<SliceBackward>)\n",
      "new weight for class is tensor([ 0.0084, -0.0047,  0.0006], grad_fn=<SliceBackward>)\n"
     ]
    }
   ],
   "source": [
    "tab_obj.transfer([\"sex\"], verbose = True)"
   ]
  },
  {
   "cell_type": "code",
   "execution_count": null,
   "id": "79f5da22",
   "metadata": {},
   "outputs": [],
   "source": [
    "tab_obj.save_pickle('test_pickle')"
   ]
  },
  {
   "cell_type": "code",
   "execution_count": null,
   "id": "836b7f7f",
   "metadata": {},
   "outputs": [],
   "source": [
    "new_model = tab_obj.load_pickle('test_pickle')"
   ]
  },
  {
   "cell_type": "code",
   "execution_count": null,
   "id": "7f20cfd0",
   "metadata": {},
   "outputs": [],
   "source": [
    "# tensor([0.9160, 0.0840])"
   ]
  },
  {
   "cell_type": "code",
   "execution_count": null,
   "id": "294cc75f",
   "metadata": {},
   "outputs": [
    {
     "data": {
      "text/html": [],
      "text/plain": [
       "<IPython.core.display.HTML object>"
      ]
     },
     "metadata": {},
     "output_type": "display_data"
    }
   ],
   "source": [
    "row_new_model, clas_new_model, probs_new_model = new_model.predict(df2.iloc[-1])"
   ]
  },
  {
   "cell_type": "code",
   "execution_count": null,
   "id": "b84c4922",
   "metadata": {},
   "outputs": [
    {
     "data": {
      "text/html": [
       "<table border=\"1\" class=\"dataframe\">\n",
       "  <thead>\n",
       "    <tr style=\"text-align: right;\">\n",
       "      <th></th>\n",
       "      <th>City</th>\n",
       "      <th>sex</th>\n",
       "      <th>Number</th>\n",
       "      <th>Income</th>\n",
       "      <th>Age</th>\n",
       "      <th>Illness</th>\n",
       "    </tr>\n",
       "  </thead>\n",
       "  <tbody>\n",
       "    <tr>\n",
       "      <th>0</th>\n",
       "      <td>Austin</td>\n",
       "      <td>Female</td>\n",
       "      <td>150000.001614</td>\n",
       "      <td>87251.00002</td>\n",
       "      <td>37.0</td>\n",
       "      <td>No</td>\n",
       "    </tr>\n",
       "  </tbody>\n",
       "</table>"
      ],
      "text/plain": [
       "<IPython.core.display.HTML object>"
      ]
     },
     "metadata": {},
     "output_type": "display_data"
    }
   ],
   "source": [
    "row_new_model.show()"
   ]
  },
  {
   "cell_type": "code",
   "execution_count": null,
   "id": "8e1b5692",
   "metadata": {},
   "outputs": [
    {
     "data": {
      "text/plain": [
       "(tensor(0), tensor([0.9316, 0.0684]))"
      ]
     },
     "execution_count": null,
     "metadata": {},
     "output_type": "execute_result"
    }
   ],
   "source": [
    "clas_new_model, probs_new_model"
   ]
  },
  {
   "cell_type": "markdown",
   "id": "a8a11aec",
   "metadata": {},
   "source": [
    "##### =============================== #####"
   ]
  },
  {
   "cell_type": "code",
   "execution_count": null,
   "id": "5a4aaf07",
   "metadata": {},
   "outputs": [
    {
     "data": {
      "text/html": [
       "<table border=\"1\" class=\"dataframe\">\n",
       "  <thead>\n",
       "    <tr style=\"text-align: left;\">\n",
       "      <th>epoch</th>\n",
       "      <th>train_loss</th>\n",
       "      <th>valid_loss</th>\n",
       "      <th>accuracy</th>\n",
       "      <th>time</th>\n",
       "    </tr>\n",
       "  </thead>\n",
       "  <tbody>\n",
       "    <tr>\n",
       "      <td>0</td>\n",
       "      <td>0.289169</td>\n",
       "      <td>0.282669</td>\n",
       "      <td>0.919667</td>\n",
       "      <td>00:16</td>\n",
       "    </tr>\n",
       "    <tr>\n",
       "      <td>1</td>\n",
       "      <td>0.283433</td>\n",
       "      <td>0.279983</td>\n",
       "      <td>0.919667</td>\n",
       "      <td>00:16</td>\n",
       "    </tr>\n",
       "  </tbody>\n",
       "</table>"
      ],
      "text/plain": [
       "<IPython.core.display.HTML object>"
      ]
     },
     "metadata": {},
     "output_type": "display_data"
    }
   ],
   "source": [
    "learn2.fit(2)"
   ]
  },
  {
   "cell_type": "code",
   "execution_count": null,
   "id": "ad49b210",
   "metadata": {},
   "outputs": [
    {
     "data": {
      "text/html": [],
      "text/plain": [
       "<IPython.core.display.HTML object>"
      ]
     },
     "metadata": {},
     "output_type": "display_data"
    }
   ],
   "source": [
    "row, clas, probs = learn2.predict(df2.iloc[-1])"
   ]
  },
  {
   "cell_type": "code",
   "execution_count": null,
   "id": "90e43576",
   "metadata": {},
   "outputs": [
    {
     "data": {
      "text/html": [
       "<table border=\"1\" class=\"dataframe\">\n",
       "  <thead>\n",
       "    <tr style=\"text-align: right;\">\n",
       "      <th></th>\n",
       "      <th>City</th>\n",
       "      <th>sex</th>\n",
       "      <th>Number</th>\n",
       "      <th>Income</th>\n",
       "      <th>Age</th>\n",
       "      <th>Illness</th>\n",
       "    </tr>\n",
       "  </thead>\n",
       "  <tbody>\n",
       "    <tr>\n",
       "      <th>0</th>\n",
       "      <td>Austin</td>\n",
       "      <td>Female</td>\n",
       "      <td>150000.001614</td>\n",
       "      <td>87251.00002</td>\n",
       "      <td>37.0</td>\n",
       "      <td>No</td>\n",
       "    </tr>\n",
       "  </tbody>\n",
       "</table>"
      ],
      "text/plain": [
       "<IPython.core.display.HTML object>"
      ]
     },
     "metadata": {},
     "output_type": "display_data"
    }
   ],
   "source": [
    "row.show()"
   ]
  },
  {
   "cell_type": "code",
   "execution_count": null,
   "id": "6f44df4d",
   "metadata": {},
   "outputs": [
    {
     "data": {
      "text/plain": [
       "(tensor(0), tensor([0.9018, 0.0982]))"
      ]
     },
     "execution_count": null,
     "metadata": {},
     "output_type": "execute_result"
    }
   ],
   "source": [
    "clas, probs"
   ]
  },
  {
   "cell_type": "code",
   "execution_count": null,
   "id": "d263282a",
   "metadata": {},
   "outputs": [
    {
     "data": {
      "text/html": [],
      "text/plain": [
       "<IPython.core.display.HTML object>"
      ]
     },
     "metadata": {},
     "output_type": "display_data"
    }
   ],
   "source": [
    "learner_row, learner_clas, learner_probs = new_model.predict(df2.iloc[-1])"
   ]
  },
  {
   "cell_type": "code",
   "execution_count": null,
   "id": "e74c200c",
   "metadata": {},
   "outputs": [
    {
     "data": {
      "text/html": [
       "<table border=\"1\" class=\"dataframe\">\n",
       "  <thead>\n",
       "    <tr style=\"text-align: right;\">\n",
       "      <th></th>\n",
       "      <th>City</th>\n",
       "      <th>sex</th>\n",
       "      <th>Number</th>\n",
       "      <th>Income</th>\n",
       "      <th>Age</th>\n",
       "      <th>Illness</th>\n",
       "    </tr>\n",
       "  </thead>\n",
       "  <tbody>\n",
       "    <tr>\n",
       "      <th>0</th>\n",
       "      <td>Austin</td>\n",
       "      <td>Female</td>\n",
       "      <td>150000.001614</td>\n",
       "      <td>87251.00002</td>\n",
       "      <td>37.0</td>\n",
       "      <td>No</td>\n",
       "    </tr>\n",
       "  </tbody>\n",
       "</table>"
      ],
      "text/plain": [
       "<IPython.core.display.HTML object>"
      ]
     },
     "metadata": {},
     "output_type": "display_data"
    }
   ],
   "source": [
    "learner_row.show()"
   ]
  },
  {
   "cell_type": "code",
   "execution_count": null,
   "id": "c7485717",
   "metadata": {},
   "outputs": [
    {
     "data": {
      "text/plain": [
       "tensor([0.9316, 0.0684])"
      ]
     },
     "execution_count": null,
     "metadata": {},
     "output_type": "execute_result"
    }
   ],
   "source": [
    "learner_probs"
   ]
  },
  {
   "cell_type": "code",
   "execution_count": null,
   "id": "3bfa005c",
   "metadata": {},
   "outputs": [],
   "source": []
  }
 ],
 "metadata": {
  "kernelspec": {
   "display_name": "Python 3",
   "language": "python",
   "name": "python3"
  }
 },
 "nbformat": 4,
 "nbformat_minor": 5
}
